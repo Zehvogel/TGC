{
 "cells": [
  {
   "cell_type": "code",
   "execution_count": 1,
   "id": "51aaafc4",
   "metadata": {},
   "outputs": [
    {
     "name": "stdout",
     "output_type": "stream",
     "text": [
      "OBJ: TStyle\tildStyle\tILD Style : 0 at: 0x8e64390\n"
     ]
    }
   ],
   "source": [
    "import ROOT"
   ]
  },
  {
   "cell_type": "code",
   "execution_count": 2,
   "id": "b9e640c1",
   "metadata": {},
   "outputs": [],
   "source": [
    "run_toy_diagnostics = False"
   ]
  },
  {
   "cell_type": "code",
   "execution_count": 3,
   "id": "84613503",
   "metadata": {},
   "outputs": [],
   "source": [
    "# TODO: make it possible to fit multiple runs simultaneously\n",
    "run = {\n",
    "    \"lumi\": 5000,\n",
    "    \"e_pol\": 0.,\n",
    "    \"p_pol\": 0.,\n",
    "}\n",
    "n_bins = 65"
   ]
  },
  {
   "cell_type": "code",
   "execution_count": 4,
   "id": "28058a8d",
   "metadata": {},
   "outputs": [],
   "source": [
    "parameters = {\n",
    "    \"g1z\": 0.0,\n",
    "    \"ka\": 0.0,\n",
    "    \"la\": 0.0,\n",
    "}\n",
    "obs_names = [\n",
    "    \"O_g1z_pos_1em05\",\n",
    "    \"O_ka_pos_1em05\",\n",
    "    \"O_la_pos_1em05\",\n",
    "]\n",
    "input_path = \"data/histograms/full/raw_histograms.root\"\n",
    "signal_cat = \"4f_sw_sl_signal\"\n",
    "signal_processes = [\n",
    "    \"4f_sw_sl_eLpL_signal\",\n",
    "    \"4f_sw_sl_eLpR_signal\",\n",
    "    \"4f_sw_sl_eRpL_signal\",\n",
    "    \"4f_sw_sl_eRpR_signal\",\n",
    "    ]\n",
    "background_processes = []"
   ]
  },
  {
   "cell_type": "code",
   "execution_count": 5,
   "id": "6635b901",
   "metadata": {},
   "outputs": [
    {
     "name": "stdout",
     "output_type": "stream",
     "text": [
      "{'4f_sw_sl_eLpL_signal': <cppyy.gbl.THnT<double> object at 0xabfc520>, '4f_sw_sl_eLpR_signal': <cppyy.gbl.THnT<double> object at 0xab83d40>, '4f_sw_sl_eRpL_signal': <cppyy.gbl.THnT<double> object at 0xace66e0>, '4f_sw_sl_eRpR_signal': <cppyy.gbl.THnT<double> object at 0xabbdc20>}\n",
      "{'4f_sw_sl_eLpL_signal': {'lumi': <cppyy.gbl.TParameter<float> object at 0xad48160>, 'e_pol': <cppyy.gbl.TParameter<float> object at 0xad29160>, 'p_pol': <cppyy.gbl.TParameter<float> object at 0xad0d310>}, '4f_sw_sl_eLpR_signal': {'lumi': <cppyy.gbl.TParameter<float> object at 0xad41ec0>, 'e_pol': <cppyy.gbl.TParameter<float> object at 0xad63db0>, 'p_pol': <cppyy.gbl.TParameter<float> object at 0xad9da00>}, '4f_sw_sl_eRpL_signal': {'lumi': <cppyy.gbl.TParameter<float> object at 0xad09270>, 'e_pol': <cppyy.gbl.TParameter<float> object at 0xad7e290>, 'p_pol': <cppyy.gbl.TParameter<float> object at 0xad7e310>}, '4f_sw_sl_eRpR_signal': {'lumi': <cppyy.gbl.TParameter<float> object at 0xacebad0>, 'e_pol': <cppyy.gbl.TParameter<float> object at 0xad9cf80>, 'p_pol': <cppyy.gbl.TParameter<float> object at 0xad9d000>}}\n",
      "{'4f_sw_sl_eLpL_signal': <cppyy.gbl.ROOT.Math.SVector<double,6> object at 0xabf66e0>, '4f_sw_sl_eLpR_signal': <cppyy.gbl.ROOT.Math.SVector<double,6> object at 0xacd06f0>, '4f_sw_sl_eRpL_signal': <cppyy.gbl.ROOT.Math.SVector<double,6> object at 0xad7e250>, '4f_sw_sl_eRpR_signal': <cppyy.gbl.ROOT.Math.SVector<double,6> object at 0xacebb50>}\n",
      "{'O_g1z_pos_1em05': {'4f_sw_sl_eLpL_signal': {'g1z': <cppyy.gbl.TH1D object at 0x8014750>, 'ka': <cppyy.gbl.TH1D object at 0xae198e0>, 'la': <cppyy.gbl.TH1D object at 0x9db8fe0>}, '4f_sw_sl_eLpR_signal': {'g1z': <cppyy.gbl.TH1D object at 0x56f4ba0>, 'ka': <cppyy.gbl.TH1D object at 0x568ace0>, 'la': <cppyy.gbl.TH1D object at 0x4af72c0>}, '4f_sw_sl_eRpL_signal': {'g1z': <cppyy.gbl.TH1D object at 0x2dc6bd0>, 'ka': <cppyy.gbl.TH1D object at 0x2291760>, 'la': <cppyy.gbl.TH1D object at 0xae7d660>}, '4f_sw_sl_eRpR_signal': {'g1z': <cppyy.gbl.TH1D object at 0xae24c70>, 'ka': <cppyy.gbl.TH1D object at 0xaeba2a0>, 'la': <cppyy.gbl.TH1D object at 0xae7d1e0>}}, 'O_ka_pos_1em05': {'4f_sw_sl_eLpL_signal': {'g1z': <cppyy.gbl.TH1D object at 0xaeaa420>, 'ka': <cppyy.gbl.TH1D object at 0xaec0b20>, 'la': <cppyy.gbl.TH1D object at 0xae8cdf0>}, '4f_sw_sl_eLpR_signal': {'g1z': <cppyy.gbl.TH1D object at 0xae58ce0>, 'ka': <cppyy.gbl.TH1D object at 0xae550d0>, 'la': <cppyy.gbl.TH1D object at 0xae987c0>}, '4f_sw_sl_eRpL_signal': {'g1z': <cppyy.gbl.TH1D object at 0xaeaac70>, 'ka': <cppyy.gbl.TH1D object at 0x8e5eb90>, 'la': <cppyy.gbl.TH1D object at 0x8e5ef80>}, '4f_sw_sl_eRpR_signal': {'g1z': <cppyy.gbl.TH1D object at 0xae87f80>, 'ka': <cppyy.gbl.TH1D object at 0xaeab5a0>, 'la': <cppyy.gbl.TH1D object at 0xaeab990>}}, 'O_la_pos_1em05': {'4f_sw_sl_eLpL_signal': {'g1z': <cppyy.gbl.TH1D object at 0xae68e90>, 'ka': <cppyy.gbl.TH1D object at 0xaea9960>, 'la': <cppyy.gbl.TH1D object at 0xae256d0>}, '4f_sw_sl_eLpR_signal': {'g1z': <cppyy.gbl.TH1D object at 0xaebb470>, 'ka': <cppyy.gbl.TH1D object at 0xae37510>, 'la': <cppyy.gbl.TH1D object at 0xae37b90>}, '4f_sw_sl_eRpL_signal': {'g1z': <cppyy.gbl.TH1D object at 0xae55ce0>, 'ka': <cppyy.gbl.TH1D object at 0xae56140>, 'la': <cppyy.gbl.TH1D object at 0xaeb1760>}, '4f_sw_sl_eRpR_signal': {'g1z': <cppyy.gbl.TH1D object at 0xaebfdf0>, 'ka': <cppyy.gbl.TH1D object at 0xaec05a0>, 'la': <cppyy.gbl.TH1D object at 0xae88dc0>}}}\n"
     ]
    }
   ],
   "source": [
    "signal_histograms = {}\n",
    "signal_meta = {}\n",
    "oo_matrix = {}\n",
    "template_parameters = {}\n",
    "with ROOT.TFile(input_path) as input_file:\n",
    "    # take care of signals first\n",
    "    signal_dir = input_file[signal_cat]\n",
    "    for process_name in signal_processes:\n",
    "        signal_histos = {}\n",
    "        p_dir = signal_dir[process_name]\n",
    "        obs = \"obs_ND\"\n",
    "        # very consistent ownership model of root requires us to do this\n",
    "        histo = p_dir[obs]\n",
    "        # not needed on nD???\n",
    "        # histo.SetDirectory(ROOT.nullptr)\n",
    "        signal_histo = histo\n",
    "        meta_dir = p_dir[\"meta\"]\n",
    "        obs_meta = {}\n",
    "        for key in meta_dir.GetListOfKeys():\n",
    "            key_name = key.GetName()\n",
    "            obs_meta[key_name] = meta_dir[key_name]\n",
    "        signal_histograms[process_name] = signal_histo\n",
    "        signal_meta[process_name] = obs_meta\n",
    "        # get OO matrix\n",
    "        mat_dir = input_file[\"oo_matrix\"]\n",
    "        oo_matrix[process_name] = mat_dir[process_name]\n",
    "    # get template parameters\n",
    "    # unfortunately here we have the loops the other way around\n",
    "    template_dir = input_file[\"template_parametrisations\"]\n",
    "    for obs in obs_names:\n",
    "        obs_dir = template_dir[obs]\n",
    "        p_pars = {}\n",
    "        for process_name in signal_processes:\n",
    "            p_dir = obs_dir[process_name]\n",
    "            pars = {}\n",
    "            for par in parameters.keys():\n",
    "            # very consistent ownership model of root requires us to do\n",
    "                par_hist = p_dir[par]\n",
    "                par_hist.SetDirectory(ROOT.nullptr)\n",
    "                pars[par] = par_hist\n",
    "            p_pars[process_name] = pars\n",
    "        template_parameters[obs] = p_pars\n",
    "\n",
    "\n",
    "    # TODO: implement background handling\n",
    "\n",
    "print(signal_histograms)\n",
    "print(signal_meta)\n",
    "print(oo_matrix)\n",
    "print(template_parameters)"
   ]
  },
  {
   "cell_type": "code",
   "execution_count": 6,
   "id": "03267b88",
   "metadata": {},
   "outputs": [
    {
     "name": "stdout",
     "output_type": "stream",
     "text": [
      "{ @0x7ffe8c8d9520, @0x7ffe8c8d9520, @0x7ffe8c8d9520 } 3\n"
     ]
    }
   ],
   "source": [
    "from fit_utils import make_observed_histogram, hist_to_np, make_asimov_np, make_asimov_fast, make_1D_projections, make_observables, make_new_asimov_observables_np\n",
    "h_obs = make_observed_histogram(signal_histograms, signal_meta, run)\n",
    "h_obs_np = hist_to_np(h_obs)\n",
    "h_asimov_np = make_asimov_np(h_obs_np)\n",
    "h_asimov = make_asimov_fast(h_obs, 1234)"
   ]
  },
  {
   "cell_type": "code",
   "execution_count": 7,
   "id": "d3a0227b",
   "metadata": {},
   "outputs": [],
   "source": [
    "import numpy as np\n",
    "h_example = make_1D_projections(h_obs)[0]\n",
    "bin_centers = np.asarray([h_example.GetBinCenter(i+1) for i in range(h_example.GetNbinsX())])"
   ]
  },
  {
   "cell_type": "code",
   "execution_count": 8,
   "id": "0b06ba0f",
   "metadata": {},
   "outputs": [
    {
     "name": "stdout",
     "output_type": "stream",
     "text": [
      "[[<cppyy.gbl.TH1D object at 0xd4977e0>, <cppyy.gbl.TH1D object at 0xd2fcc30>, <cppyy.gbl.TH1D object at 0xd62ee10>, <cppyy.gbl.TH1D object at 0xd88d920>], [<cppyy.gbl.TH1D object at 0xd42de60>, <cppyy.gbl.TH1D object at 0xd30c0f0>, <cppyy.gbl.TH1D object at 0xd433c10>, <cppyy.gbl.TH1D object at 0xd4b7a10>], [<cppyy.gbl.TH1D object at 0xd353220>, <cppyy.gbl.TH1D object at 0xd41da30>, <cppyy.gbl.TH1D object at 0xd4b1a90>, <cppyy.gbl.TH1D object at 0xd415270>]]\n",
      "[598.3264770507812, 100.83772277832031, 4009.4052734375, 696.610107421875]\n",
      "[<cppyy.gbl.ROOT.Math.SVector<double,6> object at 0xabf66e0>, <cppyy.gbl.ROOT.Math.SVector<double,6> object at 0xacd06f0>, <cppyy.gbl.ROOT.Math.SVector<double,6> object at 0xad7e250>, <cppyy.gbl.ROOT.Math.SVector<double,6> object at 0xacebb50>]\n",
      "[[[<cppyy.gbl.TH1D object at 0x8014750>, <cppyy.gbl.TH1D object at 0xae198e0>, <cppyy.gbl.TH1D object at 0x9db8fe0>], [<cppyy.gbl.TH1D object at 0x56f4ba0>, <cppyy.gbl.TH1D object at 0x568ace0>, <cppyy.gbl.TH1D object at 0x4af72c0>], [<cppyy.gbl.TH1D object at 0x2dc6bd0>, <cppyy.gbl.TH1D object at 0x2291760>, <cppyy.gbl.TH1D object at 0xae7d660>], [<cppyy.gbl.TH1D object at 0xae24c70>, <cppyy.gbl.TH1D object at 0xaeba2a0>, <cppyy.gbl.TH1D object at 0xae7d1e0>]], [[<cppyy.gbl.TH1D object at 0xaeaa420>, <cppyy.gbl.TH1D object at 0xaec0b20>, <cppyy.gbl.TH1D object at 0xae8cdf0>], [<cppyy.gbl.TH1D object at 0xae58ce0>, <cppyy.gbl.TH1D object at 0xae550d0>, <cppyy.gbl.TH1D object at 0xae987c0>], [<cppyy.gbl.TH1D object at 0xaeaac70>, <cppyy.gbl.TH1D object at 0x8e5eb90>, <cppyy.gbl.TH1D object at 0x8e5ef80>], [<cppyy.gbl.TH1D object at 0xae87f80>, <cppyy.gbl.TH1D object at 0xaeab5a0>, <cppyy.gbl.TH1D object at 0xaeab990>]], [[<cppyy.gbl.TH1D object at 0xae68e90>, <cppyy.gbl.TH1D object at 0xaea9960>, <cppyy.gbl.TH1D object at 0xae256d0>], [<cppyy.gbl.TH1D object at 0xaebb470>, <cppyy.gbl.TH1D object at 0xae37510>, <cppyy.gbl.TH1D object at 0xae37b90>], [<cppyy.gbl.TH1D object at 0xae55ce0>, <cppyy.gbl.TH1D object at 0xae56140>, <cppyy.gbl.TH1D object at 0xaeb1760>], [<cppyy.gbl.TH1D object at 0xaebfdf0>, <cppyy.gbl.TH1D object at 0xaec05a0>, <cppyy.gbl.TH1D object at 0xae88dc0>]]]\n"
     ]
    }
   ],
   "source": [
    "signal_1d_histograms = [make_1D_projections(h) for h in signal_histograms.values()]\n",
    "# ugly hack to \"transpose\" that list[list]\n",
    "signal_1d_histograms = list(map(list, zip(*signal_1d_histograms)))\n",
    "print(signal_1d_histograms)\n",
    "signal_lumi = [par[\"lumi\"].GetVal() for par in signal_meta.values()]\n",
    "print(signal_lumi)\n",
    "oo_matrices = list(oo_matrix.values())\n",
    "print(oo_matrices)\n",
    "template_param = [[[ph for ph in cpl_h.values()] for cpl_h in hel_h.values()] for hel_h in template_parameters.values()]\n",
    "print(template_param)"
   ]
  },
  {
   "cell_type": "code",
   "execution_count": 9,
   "id": "37a41c5d",
   "metadata": {},
   "outputs": [
    {
     "data": {
      "text/plain": [
       "True"
      ]
     },
     "execution_count": 9,
     "metadata": {},
     "output_type": "execute_result"
    }
   ],
   "source": [
    "ROOT.gInterpreter.Declare(\"#include \\\"fit.h\\\"\")"
   ]
  },
  {
   "cell_type": "code",
   "execution_count": 10,
   "id": "785832a8",
   "metadata": {},
   "outputs": [
    {
     "name": "stdout",
     "output_type": "stream",
     "text": [
      "start constructor\n",
      "finished constructor\n"
     ]
    }
   ],
   "source": [
    "fun2 = ROOT.fit_fun2[f\"3, {n_bins}, 3\"](signal_1d_histograms, signal_lumi, oo_matrices, template_param)"
   ]
  },
  {
   "cell_type": "code",
   "execution_count": 11,
   "id": "ae511241",
   "metadata": {},
   "outputs": [],
   "source": [
    "if run_toy_diagnostics:\n",
    "    n_obs = 3\n",
    "    n_toys = 250000\n",
    "    # h_chi2 = ROOT.TH1D(\"\", \";#chi^{2}\", 100, -10., 10.)\n",
    "    h_chi2 = ROOT.TH1D(\"\", \";#chi^{2}\", 50, 0., 10.)\n",
    "    h_prob = ROOT.TH1D(\"\", \";probability\", 50, 0., 1.)\n",
    "    h_diff0 = ROOT.TH1D(\"\", \";obs_asimov - obs [0]\", 100, -10000., 10000.)\n",
    "    h_diff1 = ROOT.TH1D(\"\", \";obs_asimov - obs [1]\", 100, -10000., 10000.)\n",
    "    h_diff2 = ROOT.TH1D(\"\", \";obs_asimov - obs [2]\", 100, -10000., 10000.)\n",
    "    obs_initial = make_observables(make_1D_projections(h_obs))\n",
    "    C = np.zeros((n_obs, n_obs))\n",
    "    v = np.zeros(n_obs)\n",
    "    for seed in range(n_toys):\n",
    "        # obs = make_new_asimov_observables(h_obs, seed)\n",
    "        obs = make_new_asimov_observables_np(h_obs_np, bin_centers)\n",
    "        pars = list(run.values()) + [0., 0., 0.] + [1.]\n",
    "        chi2 = fun2(obs, pars)\n",
    "        prob = ROOT.Math.chisquared_cdf(chi2, 3)\n",
    "        h_chi2.Fill(chi2)\n",
    "        h_prob.Fill(prob)\n",
    "        diff = [0.] * n_obs\n",
    "        for i in range(n_obs):\n",
    "            diff[i] = obs[i] - obs_initial[i]\n",
    "            v[i] += diff[i]\n",
    "        for i in range(n_obs):\n",
    "            for j in range(n_obs):\n",
    "                C[i,j] += diff[i] * diff[j]\n",
    "        h_diff0.Fill(diff[0])\n",
    "        h_diff1.Fill(diff[1])\n",
    "        h_diff2.Fill(diff[2])\n",
    "    C /= n_toys\n",
    "    v /= n_toys"
   ]
  },
  {
   "cell_type": "code",
   "execution_count": null,
   "id": "7d039d55",
   "metadata": {},
   "outputs": [],
   "source": [
    "if run_toy_diagnostics:\n",
    "    c_chi2 = ROOT.TCanvas()\n",
    "    f = ROOT.TF1(\"chi2\", \"[0] * ROOT::Math::chisquared_pdf(x, [1])\", 0., 10.)\n",
    "    f.SetParameters(10000/5., 3.)\n",
    "    # f.FixParameter(1, 3.)\n",
    "    h_chi2.Fit(f)\n",
    "    h_chi2.Draw()\n",
    "    # f.Draw(\"same\")\n",
    "    c_chi2.Draw()\n",
    "    # c_chi2.SaveAs(\"plots/fit/diagnostics/chi2.pdf\")\n",
    "\n",
    "    c_prob = ROOT.TCanvas()\n",
    "    h_prob.SetMinimum(0)\n",
    "    h_prob.Draw()\n",
    "    c_prob.Draw()\n",
    "    # c_prob.SaveAs(\"plots/fit/diagnostics/prob.pdf\")\n",
    "\n",
    "    c_diff0 = ROOT.TCanvas()\n",
    "    h_diff0.Fit(\"gaus\")\n",
    "    h_diff0.Draw()\n",
    "    c_diff0.Draw()\n",
    "    # c_diff0.SaveAs(\"plots/fit/diagnostics/diff0.pdf\")\n",
    "\n",
    "    c_diff1 = ROOT.TCanvas()\n",
    "    h_diff1.Fit(\"gaus\")\n",
    "    h_diff1.Draw()\n",
    "    c_diff1.Draw()\n",
    "    # c_diff1.SaveAs(\"plots/fit/diagnostics/diff1.pdf\")\n",
    "\n",
    "    c_diff2 = ROOT.TCanvas()\n",
    "    h_diff2.Fit(\"gaus\")\n",
    "    h_diff2.Draw()\n",
    "    c_diff2.Draw()\n",
    "    # c_diff2.SaveAs(\"plots/fit/diagnostics/diff2.pdf\")"
   ]
  },
  {
   "cell_type": "code",
   "execution_count": 13,
   "id": "7fad5c5c",
   "metadata": {},
   "outputs": [],
   "source": [
    "# build all the RooFit stuff\n",
    "# take one asimov obs and make it a RooDataset"
   ]
  }
 ],
 "metadata": {
  "kernelspec": {
   "display_name": "Python 3",
   "language": "python",
   "name": "python3"
  },
  "language_info": {
   "codemirror_mode": {
    "name": "ipython",
    "version": 3
   },
   "file_extension": ".py",
   "mimetype": "text/x-python",
   "name": "python",
   "nbconvert_exporter": "python",
   "pygments_lexer": "ipython3",
   "version": "3.13.2"
  }
 },
 "nbformat": 4,
 "nbformat_minor": 5
}
