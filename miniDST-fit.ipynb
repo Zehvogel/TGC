{
 "cells": [
  {
   "cell_type": "code",
   "execution_count": 1,
   "id": "51aaafc4",
   "metadata": {},
   "outputs": [
    {
     "name": "stdout",
     "output_type": "stream",
     "text": [
      "OBJ: TStyle\tildStyle\tILD Style : 0 at: 0x9714240\n"
     ]
    }
   ],
   "source": [
    "import ROOT\n",
    "from fitter import FitHandler"
   ]
  },
  {
   "cell_type": "code",
   "execution_count": 2,
   "id": "84613503",
   "metadata": {},
   "outputs": [],
   "source": [
    "# TODO: make it possible to fit multiple runs simultaneously\n",
    "run = {\n",
    "    \"lumi\": 2000,\n",
    "    # \"lumi\": 25000,\n",
    "    \"e_pol\": 0.,\n",
    "    \"p_pol\": 0.,\n",
    "}\n",
    "\n",
    "# https://arxiv.org/pdf/1506.07830\n",
    "# However, https://arxiv.org/pdf/2503.19983 cites the above but assigns 0.45 to both mixed pols\n",
    "# LCVision scenario uses 3 ab_inv instead of 2\n",
    "ilc_250_h20_lumi = 2000\n",
    "ilc_250_h20 = [\n",
    "    {\n",
    "        \"lumi\": ilc_250_h20_lumi * 0.675,\n",
    "        \"e_pol\": -0.8,\n",
    "        \"p_pol\": 0.3,\n",
    "    },\n",
    "    {\n",
    "        \"lumi\": ilc_250_h20_lumi * 0.225,\n",
    "        \"e_pol\": 0.8,\n",
    "        \"p_pol\": -0.3,\n",
    "    },\n",
    "    {\n",
    "        \"lumi\": ilc_250_h20_lumi * 0.05,\n",
    "        \"e_pol\": -0.8,\n",
    "        \"p_pol\": -0.3,\n",
    "    },\n",
    "    {\n",
    "        \"lumi\": ilc_250_h20_lumi * 0.05,\n",
    "        \"e_pol\": 0.8,\n",
    "        \"p_pol\": 0.3,\n",
    "    },\n",
    "]\n",
    "\n",
    "# run = ilc_250_h20[0]"
   ]
  },
  {
   "cell_type": "code",
   "execution_count": 3,
   "id": "28058a8d",
   "metadata": {},
   "outputs": [],
   "source": [
    "conf = {\n",
    "    \"parameters\": {\n",
    "        \"g1z\": 0.0,\n",
    "        \"ka\": 0.0,\n",
    "        \"la\": 0.0,\n",
    "    },\n",
    "    \"obs_names\": [\n",
    "        \"O_g1z_pos_1em05\",\n",
    "        \"O_ka_pos_1em05\",\n",
    "        \"O_la_pos_1em05\",\n",
    "    ],\n",
    "    \"signal_cat\": \"4f_sw_sl_signal\",\n",
    "    \"signal_processes\": [\n",
    "        \"4f_sw_sl_eLpL_signal\",\n",
    "        \"4f_sw_sl_eLpR_signal\",\n",
    "        \"4f_sw_sl_eRpL_signal\",\n",
    "        \"4f_sw_sl_eRpR_signal\",\n",
    "    ],\n",
    "    \"backgrounds\": [\n",
    "        \"4f_sl_bkg\",\n",
    "        \"4f_not_sl\",\n",
    "        \"2f\",\n",
    "        \"3f\",\n",
    "        \"5f\",\n",
    "        \"6f\",\n",
    "        \"higgs\",\n",
    "    ],\n",
    "    \"n_bins\": 65,\n",
    "}\n",
    "input_path = \"data/histograms/full/raw_histograms.root\""
   ]
  },
  {
   "cell_type": "code",
   "execution_count": 4,
   "id": "2f8f7eaf",
   "metadata": {},
   "outputs": [],
   "source": [
    "fit_handler = FitHandler(input_path, conf)"
   ]
  },
  {
   "cell_type": "code",
   "execution_count": 5,
   "id": "1d53c866",
   "metadata": {},
   "outputs": [
    {
     "name": "stdout",
     "output_type": "stream",
     "text": [
      "{'lumi': 1350.0, 'e_pol': -0.8, 'p_pol': 0.3}\n",
      "hello\n",
      "{'lumi': 450.0, 'e_pol': 0.8, 'p_pol': -0.3}\n",
      "hello\n",
      "{'lumi': 100.0, 'e_pol': -0.8, 'p_pol': -0.3}\n",
      "hello\n",
      "{'lumi': 100.0, 'e_pol': 0.8, 'p_pol': 0.3}\n",
      "hello\n",
      "[[<cppyy.gbl.RooRealVar object at 0x219d0bf0>, <cppyy.gbl.RooRealVar object at 0x21869850>, <cppyy.gbl.RooRealVar object at 0x21869f50>, <cppyy.gbl.RooRealVar object at 0x217e80c0>, <cppyy.gbl.RooRealVar object at 0x1997c6c0>, <cppyy.gbl.RooRealVar object at 0x20df04c0>, <cppyy.gbl.RooFunctorBinding object at 0x22bf9300>, <cppyy.gbl.RooFunctorBinding object at 0x23178ed0>, <cppyy.gbl.RooFunctorBinding object at 0x23181050>], [<cppyy.gbl.RooRealVar object at 0x231faca0>, <cppyy.gbl.RooRealVar object at 0x22ae3d00>, <cppyy.gbl.RooRealVar object at 0x23258a00>, <cppyy.gbl.RooRealVar object at 0x231675a0>, <cppyy.gbl.RooRealVar object at 0x228f6c50>, <cppyy.gbl.RooRealVar object at 0x51fe4c0>, <cppyy.gbl.RooFunctorBinding object at 0x2330e940>, <cppyy.gbl.RooFunctorBinding object at 0x2331bd40>, <cppyy.gbl.RooFunctorBinding object at 0x233877e0>], [<cppyy.gbl.RooRealVar object at 0x23386f00>, <cppyy.gbl.RooRealVar object at 0x233afb90>, <cppyy.gbl.RooRealVar object at 0x22931960>, <cppyy.gbl.RooRealVar object at 0x231a4570>, <cppyy.gbl.RooRealVar object at 0x233ad620>, <cppyy.gbl.RooRealVar object at 0x232fb2b0>, <cppyy.gbl.RooFunctorBinding object at 0x23461ee0>, <cppyy.gbl.RooFunctorBinding object at 0x2346a9d0>, <cppyy.gbl.RooFunctorBinding object at 0x23313f20>], [<cppyy.gbl.RooRealVar object at 0x23356eb0>, <cppyy.gbl.RooRealVar object at 0x233b1590>, <cppyy.gbl.RooRealVar object at 0x23511e60>, <cppyy.gbl.RooRealVar object at 0x2319a8e0>, <cppyy.gbl.RooRealVar object at 0x2335cea0>, <cppyy.gbl.RooRealVar object at 0x2327a3a0>, <cppyy.gbl.RooFunctorBinding object at 0x233cb540>, <cppyy.gbl.RooFunctorBinding object at 0x2351dcd0>, <cppyy.gbl.RooFunctorBinding object at 0x2349a010>]]\n",
      "start constructor\n",
      "finished constructor\n",
      "start constructor\n",
      "finished constructor\n",
      "start constructor\n",
      "finished constructor\n",
      "start constructor\n",
      "finished constructor\n",
      "start constructor\n",
      "finished constructor\n",
      "start constructor\n",
      "finished constructor\n",
      "start constructor\n",
      "finished constructor\n",
      "start constructor\n",
      "finished constructor\n",
      "start constructor\n",
      "finished constructor\n",
      "start constructor\n",
      "finished constructor\n",
      "start constructor\n",
      "finished constructor\n",
      "start constructor\n",
      "finished constructor\n",
      "[#1] INFO:ObjectHandling -- RooWorkspace::import(ws) importing RooSimultaneous::sim_pdf\n",
      "[#1] INFO:ObjectHandling -- RooWorkspace::import(ws) importing RooCategory::runs\n",
      "[#1] INFO:ObjectHandling -- RooWorkspace::import(ws) importing RooMultiVarGaussian::multi_gauss_0\n",
      "[#1] INFO:ObjectHandling -- RooWorkspace::import(ws) importing RooRealVar::O_g1z_pos_1em05_0\n",
      "[#1] INFO:ObjectHandling -- RooWorkspace::import(ws) importing RooRealVar::O_ka_pos_1em05_0\n",
      "[#1] INFO:ObjectHandling -- RooWorkspace::import(ws) importing RooRealVar::O_la_pos_1em05_0\n",
      "[#1] INFO:ObjectHandling -- RooWorkspace::import(ws) importing RooFunctorBinding::expectation_O_g1z_pos_1em05_0\n",
      "[#1] INFO:ObjectHandling -- RooWorkspace::import(ws) importing RooRealVar::lumi_0\n",
      "[#1] INFO:ObjectHandling -- RooWorkspace::import(ws) importing RooRealVar::e_pol_0\n",
      "[#1] INFO:ObjectHandling -- RooWorkspace::import(ws) importing RooRealVar::p_pol_0\n",
      "[#1] INFO:ObjectHandling -- RooWorkspace::import(ws) importing RooRealVar::g1z\n",
      "[#1] INFO:ObjectHandling -- RooWorkspace::import(ws) importing RooRealVar::ka\n",
      "[#1] INFO:ObjectHandling -- RooWorkspace::import(ws) importing RooRealVar::la\n",
      "[#1] INFO:ObjectHandling -- RooWorkspace::import(ws) importing RooRealVar::mu_signal\n",
      "[#1] INFO:ObjectHandling -- RooWorkspace::import(ws) importing RooFunctorBinding::expectation_O_ka_pos_1em05_0\n",
      "[#1] INFO:ObjectHandling -- RooWorkspace::import(ws) importing RooFunctorBinding::expectation_O_la_pos_1em05_0\n",
      "[#1] INFO:ObjectHandling -- RooWorkspace::import(ws) importing RooMultiVarGaussian::multi_gauss_1\n",
      "[#1] INFO:ObjectHandling -- RooWorkspace::import(ws) importing RooRealVar::O_g1z_pos_1em05_1\n",
      "[#1] INFO:ObjectHandling -- RooWorkspace::import(ws) importing RooRealVar::O_ka_pos_1em05_1\n",
      "[#1] INFO:ObjectHandling -- RooWorkspace::import(ws) importing RooRealVar::O_la_pos_1em05_1\n",
      "[#1] INFO:ObjectHandling -- RooWorkspace::import(ws) importing RooFunctorBinding::expectation_O_g1z_pos_1em05_1\n",
      "[#1] INFO:ObjectHandling -- RooWorkspace::import(ws) importing RooRealVar::lumi_1\n",
      "[#1] INFO:ObjectHandling -- RooWorkspace::import(ws) importing RooRealVar::e_pol_1\n",
      "[#1] INFO:ObjectHandling -- RooWorkspace::import(ws) importing RooRealVar::p_pol_1\n",
      "[#1] INFO:ObjectHandling -- RooWorkspace::import(ws) importing RooFunctorBinding::expectation_O_ka_pos_1em05_1\n",
      "[#1] INFO:ObjectHandling -- RooWorkspace::import(ws) importing RooFunctorBinding::expectation_O_la_pos_1em05_1\n",
      "[#1] INFO:ObjectHandling -- RooWorkspace::import(ws) importing RooMultiVarGaussian::multi_gauss_2\n",
      "[#1] INFO:ObjectHandling -- RooWorkspace::import(ws) importing RooRealVar::O_g1z_pos_1em05_2\n",
      "[#1] INFO:ObjectHandling -- RooWorkspace::import(ws) importing RooRealVar::O_ka_pos_1em05_2\n",
      "[#1] INFO:ObjectHandling -- RooWorkspace::import(ws) importing RooRealVar::O_la_pos_1em05_2\n",
      "[#1] INFO:ObjectHandling -- RooWorkspace::import(ws) importing RooFunctorBinding::expectation_O_g1z_pos_1em05_2\n",
      "[#1] INFO:ObjectHandling -- RooWorkspace::import(ws) importing RooRealVar::lumi_2\n",
      "[#1] INFO:ObjectHandling -- RooWorkspace::import(ws) importing RooRealVar::e_pol_2\n",
      "[#1] INFO:ObjectHandling -- RooWorkspace::import(ws) importing RooRealVar::p_pol_2\n",
      "[#1] INFO:ObjectHandling -- RooWorkspace::import(ws) importing RooFunctorBinding::expectation_O_ka_pos_1em05_2\n",
      "[#1] INFO:ObjectHandling -- RooWorkspace::import(ws) importing RooFunctorBinding::expectation_O_la_pos_1em05_2\n",
      "[#1] INFO:ObjectHandling -- RooWorkspace::import(ws) importing RooMultiVarGaussian::multi_gauss_3\n",
      "[#1] INFO:ObjectHandling -- RooWorkspace::import(ws) importing RooRealVar::O_g1z_pos_1em05_3\n",
      "[#1] INFO:ObjectHandling -- RooWorkspace::import(ws) importing RooRealVar::O_ka_pos_1em05_3\n",
      "[#1] INFO:ObjectHandling -- RooWorkspace::import(ws) importing RooRealVar::O_la_pos_1em05_3\n",
      "[#1] INFO:ObjectHandling -- RooWorkspace::import(ws) importing RooFunctorBinding::expectation_O_g1z_pos_1em05_3\n",
      "[#1] INFO:ObjectHandling -- RooWorkspace::import(ws) importing RooRealVar::lumi_3\n",
      "[#1] INFO:ObjectHandling -- RooWorkspace::import(ws) importing RooRealVar::e_pol_3\n",
      "[#1] INFO:ObjectHandling -- RooWorkspace::import(ws) importing RooRealVar::p_pol_3\n",
      "[#1] INFO:ObjectHandling -- RooWorkspace::import(ws) importing RooFunctorBinding::expectation_O_ka_pos_1em05_3\n",
      "[#1] INFO:ObjectHandling -- RooWorkspace::import(ws) importing RooFunctorBinding::expectation_O_la_pos_1em05_3\n"
     ]
    }
   ],
   "source": [
    "# ws = fit_handler.build_model([run])\n",
    "run_conf = ilc_250_h20\n",
    "ws = fit_handler.build_model(run_conf)\n",
    "# coupling_pars = fit_handler.coupling_pars\n",
    "coupling_pars = [ws.var(name) for name in conf[\"parameters\"]]\n",
    "# obs_pars = [ws.var(name) for name in conf[\"obs_names\"]]\n",
    "obs_pars = [ws.var(f\"{name}_{idx}\") for idx in range(len(run_conf)) for name in conf[\"obs_names\"] ]"
   ]
  },
  {
   "cell_type": "code",
   "execution_count": 6,
   "id": "00a18e6b",
   "metadata": {},
   "outputs": [
    {
     "name": "stdout",
     "output_type": "stream",
     "text": [
      "\n",
      "RooWorkspace(ws) ws contents\n",
      "\n",
      "variables\n",
      "---------\n",
      "(O_g1z_pos_1em05_0,O_g1z_pos_1em05_1,O_g1z_pos_1em05_2,O_g1z_pos_1em05_3,O_ka_pos_1em05_0,O_ka_pos_1em05_1,O_ka_pos_1em05_2,O_ka_pos_1em05_3,O_la_pos_1em05_0,O_la_pos_1em05_1,O_la_pos_1em05_2,O_la_pos_1em05_3,e_pol_0,e_pol_1,e_pol_2,e_pol_3,g1z,ka,la,lumi_0,lumi_1,lumi_2,lumi_3,mu_signal,p_pol_0,p_pol_1,p_pol_2,p_pol_3,runs)\n",
      "\n",
      "p.d.f.s\n",
      "-------\n",
      "RooSimultaneous::sim_pdf[ indexCat=runs run_0=multi_gauss_0 run_1=multi_gauss_1 run_2=multi_gauss_2 run_3=multi_gauss_3 ] = 1\n",
      "  RooMultiVarGaussian::multi_gauss_0[ x=(O_g1z_pos_1em05_0,O_ka_pos_1em05_0,O_la_pos_1em05_0) mu=(expectation_O_g1z_pos_1em05_0,expectation_O_ka_pos_1em05_0,expectation_O_la_pos_1em05_0) ] = 1\n",
      "    RooFunctorBinding::expectation_O_g1z_pos_1em05_0[ function=0x228cb2f0 vars=(lumi_0,e_pol_0,p_pol_0,g1z,ka,la,mu_signal) ] = -209271\n",
      "    RooFunctorBinding::expectation_O_ka_pos_1em05_0[ function=0x23141da0 vars=(lumi_0,e_pol_0,p_pol_0,g1z,ka,la,mu_signal) ] = -438202\n",
      "    RooFunctorBinding::expectation_O_la_pos_1em05_0[ function=0x2314f2a0 vars=(lumi_0,e_pol_0,p_pol_0,g1z,ka,la,mu_signal) ] = -231556\n",
      "  RooMultiVarGaussian::multi_gauss_1[ x=(O_g1z_pos_1em05_1,O_ka_pos_1em05_1,O_la_pos_1em05_1) mu=(expectation_O_g1z_pos_1em05_1,expectation_O_ka_pos_1em05_1,expectation_O_la_pos_1em05_1) ] = 1\n",
      "    RooFunctorBinding::expectation_O_g1z_pos_1em05_1[ function=0x2327f720 vars=(lumi_1,e_pol_1,p_pol_1,g1z,ka,la,mu_signal) ] = -4663.31\n",
      "    RooFunctorBinding::expectation_O_ka_pos_1em05_1[ function=0x2337d620 vars=(lumi_1,e_pol_1,p_pol_1,g1z,ka,la,mu_signal) ] = -15888.2\n",
      "    RooFunctorBinding::expectation_O_la_pos_1em05_1[ function=0x233316a0 vars=(lumi_1,e_pol_1,p_pol_1,g1z,ka,la,mu_signal) ] = -8909.03\n",
      "  RooMultiVarGaussian::multi_gauss_2[ x=(O_g1z_pos_1em05_2,O_ka_pos_1em05_2,O_la_pos_1em05_2) mu=(expectation_O_g1z_pos_1em05_2,expectation_O_ka_pos_1em05_2,expectation_O_la_pos_1em05_2) ] = 1\n",
      "    RooFunctorBinding::expectation_O_g1z_pos_1em05_2[ function=0x232914b0 vars=(lumi_2,e_pol_2,p_pol_2,g1z,ka,la,mu_signal) ] = -8160.26\n",
      "    RooFunctorBinding::expectation_O_ka_pos_1em05_2[ function=0x2328a140 vars=(lumi_2,e_pol_2,p_pol_2,g1z,ka,la,mu_signal) ] = -21299.5\n",
      "    RooFunctorBinding::expectation_O_la_pos_1em05_2[ function=0x2333a240 vars=(lumi_2,e_pol_2,p_pol_2,g1z,ka,la,mu_signal) ] = -10057.2\n",
      "  RooMultiVarGaussian::multi_gauss_3[ x=(O_g1z_pos_1em05_3,O_ka_pos_1em05_3,O_la_pos_1em05_3) mu=(expectation_O_g1z_pos_1em05_3,expectation_O_ka_pos_1em05_3,expectation_O_la_pos_1em05_3) ] = 1\n",
      "    RooFunctorBinding::expectation_O_g1z_pos_1em05_3[ function=0x2350ab50 vars=(lumi_3,e_pol_3,p_pol_3,g1z,ka,la,mu_signal) ] = -1566.89\n",
      "    RooFunctorBinding::expectation_O_ka_pos_1em05_3[ function=0x2331b620 vars=(lumi_3,e_pol_3,p_pol_3,g1z,ka,la,mu_signal) ] = -8061.11\n",
      "    RooFunctorBinding::expectation_O_la_pos_1em05_3[ function=0x23236940 vars=(lumi_3,e_pol_3,p_pol_3,g1z,ka,la,mu_signal) ] = -3166.28\n",
      "\n"
     ]
    }
   ],
   "source": [
    "ws.Print(\"t\")"
   ]
  },
  {
   "cell_type": "code",
   "execution_count": 7,
   "id": "29346c76",
   "metadata": {},
   "outputs": [],
   "source": [
    "# model = ws.pdf(\"multi_gauss_0\")\n",
    "model = ws.pdf(\"sim_pdf\")"
   ]
  },
  {
   "cell_type": "code",
   "execution_count": 8,
   "id": "83269edc",
   "metadata": {},
   "outputs": [
    {
     "name": "stdout",
     "output_type": "stream",
     "text": [
      "DataStore asimovDataFullModel (CountingAsimovData3)\n",
      "  Contains 4 entries\n",
      "  Observables: \n",
      "    1)  O_g1z_pos_1em05_0 = -209271  L(-213939 - -204604)  \"O_g1z_pos_1em05_0\"\n",
      "    2)   O_ka_pos_1em05_0 = -438202  L(-442123 - -434281)  \"O_ka_pos_1em05_0\"\n",
      "    3)   O_la_pos_1em05_0 = -231556  L(-237837 - -225275)  \"O_la_pos_1em05_0\"\n",
      "    4)  O_g1z_pos_1em05_1 = -4663.31  L(-5451.11 - -3875.5)  \"O_g1z_pos_1em05_1\"\n",
      "    5)   O_ka_pos_1em05_1 = -15888.2  L(-16699.5 - -15076.9)  \"O_ka_pos_1em05_1\"\n",
      "    6)   O_la_pos_1em05_1 = -8909.03  L(-9977.52 - -7840.55)  \"O_la_pos_1em05_1\"\n",
      "    7)  O_g1z_pos_1em05_2 = -8160.26  L(-9097.48 - -7223.05)  \"O_g1z_pos_1em05_2\"\n",
      "    8)   O_ka_pos_1em05_2 = -21299.5  L(-22116.2 - -20482.8)  \"O_ka_pos_1em05_2\"\n",
      "    9)   O_la_pos_1em05_2 = -10057.2  L(-11322.1 - -8792.38)  \"O_la_pos_1em05_2\"\n",
      "   10)  O_g1z_pos_1em05_3 = -1566.89  L(-2022.41 - -1111.38)  \"O_g1z_pos_1em05_3\"\n",
      "   11)   O_ka_pos_1em05_3 = -8061.11  L(-8524.31 - -7597.91)  \"O_ka_pos_1em05_3\"\n",
      "   12)   O_la_pos_1em05_3 = -3166.28  L(-3788.12 - -2544.44)  \"O_la_pos_1em05_3\"\n",
      "   13)               runs = run_3(idx = 3)\n",
      "  \"Run configurations\"\n",
      "  Dataset variable \"binWeightAsimov\" is interpreted as the event weight\n"
     ]
    }
   ],
   "source": [
    "ds = ROOT.RooStats.AsymptoticCalculator.GenerateAsimovData(model, obs_pars)\n",
    "ds.Print(\"v\")"
   ]
  },
  {
   "cell_type": "code",
   "execution_count": 9,
   "id": "45a10ec0",
   "metadata": {},
   "outputs": [
    {
     "name": "stdout",
     "output_type": "stream",
     "text": [
      "[#1] INFO:Fitting -- RooAbsPdf::fitTo(sim_pdf) fixing normalization set for coefficient determination to observables in data\n",
      "[#1] INFO:Fitting -- using generic CPU library compiled with no vectorizations\n",
      "[#1] INFO:Fitting -- Creation of NLL object took 8.43573 ms\n",
      "[#1] INFO:Fitting -- RooAddition::defaultErrorLevel(nll_sim_pdf_asimovDataFullModel) Summation contains a RooNLLVar, using its error level\n",
      "[#1] INFO:Minimization -- RooAbsMinimizerFcn::setOptimizeConst: activating const optimization\n",
      "Minuit2Minimizer: Minimize with max-calls 1500 convergence for edm < 1 strategy 1\n",
      "Minuit2Minimizer : Valid minimum - status = 0\n",
      "FVAL  = 88.1126099651550305\n",
      "Edm   = 2.61694290345991251e-26\n",
      "Nfcn  = 40\n",
      "g1z\t  = 0\t +/-  0.00110268\t(limited)\n",
      "ka\t  = 0\t +/-  0.00166201\t(limited)\n",
      "la\t  = 0\t +/-  0.00104923\t(limited)\n",
      "[#1] INFO:Minimization -- RooAbsMinimizerFcn::setOptimizeConst: deactivating const optimization\n"
     ]
    },
    {
     "name": "stderr",
     "output_type": "stream",
     "text": [
      "Info in <Minuit2>: MnSeedGenerator Computing seed using NumericalGradient calculator\n",
      "Info in <Minuit2>: MnSeedGenerator Evaluated function and gradient in 711.8 μs\n",
      "Info in <Minuit2>: MnSeedGenerator Initial state: FCN =       88.11260997 Edm =   3.216655602e-26 NCalls =     13\n",
      "Info in <Minuit2>: MnSeedGenerator Initial state  \n",
      "  Minimum value : 88.11260997\n",
      "  Edm           : 3.216655602e-26\n",
      "  Internal parameters:\t[                0                0                0]\t\n",
      "  Internal gradient  :\t[ -7.057509662e-11 -3.528754831e-11  1.411501932e-10]\t\n",
      "  Internal covariance matrix:\n",
      "[[  4.2126126e-06              0              0]\n",
      " [              0  1.8029481e-05              0]\n",
      " [              0              0  4.2780573e-06]]]\n",
      "Info in <Minuit2>: VariableMetricBuilder Start iterating until Edm is < 0.001 with call limit = 1500\n",
      "Info in <Minuit2>: VariableMetricBuilder    0 - FCN =       88.11260997 Edm =   3.216655602e-26 NCalls =     13\n",
      "Warning in <Minuit2>: VariableMetricBuilder No improvement in line search\n",
      "Info in <Minuit2>: VariableMetricBuilder    1 - FCN =       88.11260997 Edm =   3.216655602e-26 NCalls =     24\n",
      "Info in <Minuit2>: MnHesse Done after 568.725 μs\n",
      "Info in <Minuit2>: VariableMetricBuilder After Hessian\n",
      "Info in <Minuit2>: VariableMetricBuilder    2 - FCN =       88.11260997 Edm =   2.616942903e-26 NCalls =     40\n",
      "Info in <Minuit2>: VariableMetricBuilder Stop iterating after 1.05983 ms\n",
      "Info in <Minuit2>: Minuit2Minimizer::Hesse Using max-calls 1500\n",
      "Info in <Minuit2>: MnHesse Done after 500.851 μs\n",
      "Info in <Minuit2>: Minuit2Minimizer::Hesse Hesse is valid - matrix is accurate\n"
     ]
    }
   ],
   "source": [
    "fit_res = model.fitTo(ds, Save=True)"
   ]
  },
  {
   "cell_type": "code",
   "execution_count": 10,
   "id": "f9be1fea",
   "metadata": {},
   "outputs": [
    {
     "name": "stdout",
     "output_type": "stream",
     "text": [
      "\n",
      "3x3 matrix is as follows\n",
      "\n",
      "     |      0    |      1    |      2    |\n",
      "--------------------------------------------\n",
      "   0 |  1.216e-06  -6.053e-07   7.928e-07 \n",
      "   1 | -6.053e-07   2.762e-06  -4.677e-08 \n",
      "   2 |  7.928e-07  -4.677e-08   1.101e-06 \n",
      "\n"
     ]
    }
   ],
   "source": [
    "fit_res.covarianceMatrix().Print()"
   ]
  },
  {
   "cell_type": "code",
   "execution_count": 11,
   "id": "303da578",
   "metadata": {},
   "outputs": [
    {
     "name": "stdout",
     "output_type": "stream",
     "text": [
      "[#1] INFO:Fitting -- RooAbsPdf::fitTo(sim_pdf) fixing normalization set for coefficient determination to observables in data\n",
      "[#1] INFO:Fitting -- Creation of NLL object took 766.346 μs\n"
     ]
    }
   ],
   "source": [
    "nll = model.createNLL(ds, EvalBackend=\"cpu\")"
   ]
  },
  {
   "cell_type": "code",
   "execution_count": 12,
   "id": "8ce5f60c",
   "metadata": {},
   "outputs": [
    {
     "name": "stdout",
     "output_type": "stream",
     "text": [
      "[#1] INFO:Fitting -- RooAddition::defaultErrorLevel(nll_sim_pdf_asimovDataFullModel) Summation contains a RooNLLVar, using its error level\n"
     ]
    }
   ],
   "source": [
    "nll_minimizer = ROOT.RooMinimizer(nll)"
   ]
  },
  {
   "cell_type": "code",
   "execution_count": 13,
   "id": "5e1af00d",
   "metadata": {},
   "outputs": [
    {
     "name": "stdout",
     "output_type": "stream",
     "text": [
      "CPU times: user 7 μs, sys: 1e+03 ns, total: 8 μs\n",
      "Wall time: 14.1 μs\n"
     ]
    },
    {
     "data": {
      "text/plain": [
       "0"
      ]
     },
     "execution_count": 13,
     "metadata": {},
     "output_type": "execute_result"
    },
    {
     "name": "stdout",
     "output_type": "stream",
     "text": [
      "Minuit2Minimizer: Minimize with max-calls 1500 convergence for edm < 1 strategy 1\n",
      "Minuit2Minimizer : Valid minimum - status = 0\n",
      "FVAL  = 88.1126099651550305\n",
      "Edm   = 0\n",
      "Nfcn  = 29\n",
      "g1z\t  = 0\t +/-  0.00110268\t(limited)\n",
      "ka\t  = 0\t +/-  0.00166201\t(limited)\n",
      "la\t  = 0\t +/-  0.00104923\t(limited)\n"
     ]
    },
    {
     "name": "stderr",
     "output_type": "stream",
     "text": [
      "Info in <Minuit2>: MnSeedGenerator Computing seed using NumericalGradient calculator\n",
      "Info in <Minuit2>: MnSeedGenerator Evaluated function and gradient in 1.26596 ms\n",
      "Info in <Minuit2>: MnSeedGenerator Initial state: FCN =       88.11260997 Edm =                 0 NCalls =     13\n",
      "Info in <Minuit2>: MnSeedGenerator Initial state  \n",
      "  Minimum value : 88.11260997\n",
      "  Edm           : 0\n",
      "  Internal parameters:\t[                0                0                0]\t\n",
      "  Internal gradient  :\t[                0                0                0]\t\n",
      "  Internal covariance matrix:\n",
      "[[  4.2126125e-06              0              0]\n",
      " [              0   1.802948e-05              0]\n",
      " [              0              0  4.2780572e-06]]]\n",
      "Info in <Minuit2>: VariableMetricBuilder Start iterating until Edm is < 0.001 with call limit = 1500\n",
      "Info in <Minuit2>: VariableMetricBuilder    0 - FCN =       88.11260997 Edm =                 0 NCalls =     13\n",
      "Info in <Minuit2>: MnHesse Done after 1.26669 ms\n",
      "Info in <Minuit2>: VariableMetricBuilder After Hessian\n",
      "Info in <Minuit2>: VariableMetricBuilder    1 - FCN =       88.11260997 Edm =                 0 NCalls =     29\n",
      "Info in <Minuit2>: VariableMetricBuilder Stop iterating after 1.32988 ms\n"
     ]
    }
   ],
   "source": [
    "%time\n",
    "nll_minimizer.migrad()"
   ]
  },
  {
   "cell_type": "code",
   "execution_count": 16,
   "id": "bca2d1c9",
   "metadata": {},
   "outputs": [],
   "source": [
    "pll0 = nll.createProfile({coupling_pars[0]})\n",
    "pll1 = nll.createProfile({coupling_pars[1]})\n",
    "pll2 = nll.createProfile({coupling_pars[2]})"
   ]
  },
  {
   "cell_type": "code",
   "execution_count": 17,
   "id": "89f26d40",
   "metadata": {},
   "outputs": [
    {
     "data": {
      "text/plain": [
       "<cppyy.gbl.RooPlot object at 0x243f5200>"
      ]
     },
     "execution_count": 17,
     "metadata": {},
     "output_type": "execute_result"
    }
   ],
   "source": [
    "frame0 = coupling_pars[0].frame(Range=(-0.004, 0.004), Title=f\";{list(conf[\"parameters\"])[0]};-#Delta NLL\")\n",
    "frame1 = coupling_pars[1].frame(Range=(-0.004, 0.004), Title=f\";{list(conf[\"parameters\"])[1]};-#Delta NLL\")\n",
    "frame2 = coupling_pars[2].frame(Range=(-0.004, 0.004), Title=f\";{list(conf[\"parameters\"])[2]};-#Delta NLL\")\n",
    "nll.plotOn(frame0, ShiftToZero=True)\n",
    "nll.plotOn(frame1, ShiftToZero=True)\n",
    "nll.plotOn(frame2, ShiftToZero=True)"
   ]
  },
  {
   "cell_type": "code",
   "execution_count": 18,
   "id": "d54e38ff",
   "metadata": {},
   "outputs": [
    {
     "data": {
      "text/plain": [
       "<cppyy.gbl.RooPlot object at 0x243f5200>"
      ]
     },
     "execution_count": 18,
     "metadata": {},
     "output_type": "execute_result"
    },
    {
     "name": "stdout",
     "output_type": "stream",
     "text": [
      "[#1] INFO:Minimization -- RooProfileLL::evaluate(RooEvaluatorWrapper_Profile[g1z]) Creating instance of MINUIT\n",
      "[#1] INFO:Fitting -- RooAddition::defaultErrorLevel(nll_sim_pdf_asimovDataFullModel) Summation contains a RooNLLVar, using its error level\n",
      "[#1] INFO:Minimization -- RooProfileLL::evaluate(RooEvaluatorWrapper_Profile[g1z]) determining minimum likelihood for current configurations w.r.t all observable\n",
      "[#1] INFO:Minimization -- RooProfileLL::evaluate(RooEvaluatorWrapper_Profile[g1z]) minimum found at (g1z=0)\n",
      "..........................................................................................................................................................................................................\n",
      "[#1] INFO:Minimization -- RooProfileLL::evaluate(RooEvaluatorWrapper_Profile[ka]) Creating instance of MINUIT\n",
      "[#1] INFO:Fitting -- RooAddition::defaultErrorLevel(nll_sim_pdf_asimovDataFullModel) Summation contains a RooNLLVar, using its error level\n",
      "[#1] INFO:Minimization -- RooProfileLL::evaluate(RooEvaluatorWrapper_Profile[ka]) determining minimum likelihood for current configurations w.r.t all observable\n",
      "[#1] INFO:Minimization -- RooProfileLL::evaluate(RooEvaluatorWrapper_Profile[ka]) minimum found at (ka=-3.69983e-09)\n",
      "..........................................................................................................................................................................................................\n",
      "[#1] INFO:Minimization -- RooProfileLL::evaluate(RooEvaluatorWrapper_Profile[la]) Creating instance of MINUIT\n",
      "[#1] INFO:Fitting -- RooAddition::defaultErrorLevel(nll_sim_pdf_asimovDataFullModel) Summation contains a RooNLLVar, using its error level\n",
      "[#1] INFO:Minimization -- RooProfileLL::evaluate(RooEvaluatorWrapper_Profile[la]) determining minimum likelihood for current configurations w.r.t all observable\n",
      "[#1] INFO:Minimization -- RooProfileLL::evaluate(RooEvaluatorWrapper_Profile[la]) minimum found at (la=2.03979e-09)\n",
      ".........................................................................................................................................................................................................."
     ]
    }
   ],
   "source": [
    "pll0.plotOn(frame0, LineColor=\"r\")\n",
    "pll1.plotOn(frame1, LineColor=\"r\")\n",
    "pll2.plotOn(frame2, LineColor=\"r\")"
   ]
  },
  {
   "cell_type": "code",
   "execution_count": 19,
   "id": "2a0fe2f7-68ef-4af2-83d7-95b18fe3df4e",
   "metadata": {},
   "outputs": [
    {
     "name": "stderr",
     "output_type": "stream",
     "text": [
      "Info in <TCanvas::Print>: pdf file plots/fit/ll_pll_g1z.pdf has been created\n",
      "Info in <TCanvas::Print>: pdf file plots/fit/ll_pll_ka.pdf has been created\n",
      "Info in <TCanvas::Print>: pdf file plots/fit/ll_pll_la.pdf has been created\n"
     ]
    },
    {
     "data": {
      "text/html": [
       "\n",
       "\n",
       "<div id=\"root_plot_1754919207618\" style=\"width: 700px; height: 500px; position: relative\">\n",
       "</div>\n",
       "\n",
       "<script>\n",
       "\n",
       "function display_root_plot_1754919207618(Core) {\n",
       "   let obj = Core.parse({\"_typename\":\"TCanvasWebSnapshot\",\"fUniqueID\":0,\"fBits\":0,\"fObjectID\":\"\",\"fOption\":\"\",\"fKind\":3,\"fSnapshot\":{\"_typename\":\"TCanvas\",\"fUniqueID\":0,\"fBits\":3342344,\"fLineColor\":1,\"fLineStyle\":1,\"fLineWidth\":2,\"fFillColor\":10,\"fFillStyle\":1001,\"fLeftMargin\":0.15,\"fRightMargin\":0.16,\"fBottomMargin\":0.17,\"fTopMargin\":0.08,\"fXfile\":2,\"fYfile\":2,\"fAfile\":1,\"fXstat\":0.99,\"fYstat\":0.99,\"fAstat\":2,\"fFrameFillColor\":10,\"fFrameLineColor\":1,\"fFrameFillStyle\":1001,\"fFrameLineStyle\":1,\"fFrameLineWidth\":2,\"fFrameBorderSize\":1,\"fFrameBorderMode\":0,\"fX1\":-0.00573913035966649,\"fY1\":-0.453333338101705,\"fX2\":0.00585507226846621,\"fY2\":2.21333332856496,\"fXtoAbsPixelk\":344.520003526211,\"fXtoPixelk\":344.520003526211,\"fXtoPixel\":60030.001400113,\"fYtoAbsPixelk\":391.759999155998,\"fYtoPixelk\":391.759999155998,\"fYtoPixel\":-177,\"fUtoAbsPixelk\":0,\"fUtoPixelk\":0,\"fUtoPixel\":696,\"fVtoAbsPixelk\":472,\"fVtoPixelk\":472,\"fVtoPixel\":-472,\"fAbsPixeltoXk\":-0.00573913035966649,\"fPixeltoXk\":-0.00573913035966649,\"fPixeltoX\":1.66583371093861e-5,\"fAbsPixeltoYk\":2.21333332856496,\"fPixeltoYk\":-0.453333338101705,\"fPixeltoY\":-0.00564971751412429,\"fXlowNDC\":0,\"fYlowNDC\":0,\"fXUpNDC\":1,\"fYUpNDC\":1,\"fWNDC\":1,\"fHNDC\":1,\"fAbsXlowNDC\":0,\"fAbsYlowNDC\":0,\"fAbsWNDC\":1,\"fAbsHNDC\":1,\"fUxmin\":-0.004,\"fUymin\":0,\"fUxmax\":0.004,\"fUymax\":2,\"fTheta\":30,\"fPhi\":30,\"fAspectRatio\":0,\"fNumber\":0,\"fTickx\":1,\"fTicky\":1,\"fLogx\":0,\"fLogy\":0,\"fLogz\":0,\"fPadPaint\":0,\"fCrosshair\":0,\"fCrosshairPos\":0,\"fBorderSize\":2,\"fBorderMode\":0,\"fModified\":false,\"fGridx\":false,\"fGridy\":false,\"fAbsCoord\":false,\"fEditable\":true,\"fFixedAspectRatio\":false,\"fPrimitives\":{\"_typename\":\"TList\",\"name\":\"TList\",\"arr\":[],\"opt\":[]},\"fExecs\":null,\"fName\":\"c1\",\"fTitle\":\"c1\",\"fNumPaletteColor\":0,\"fNextPaletteColor\":0,\"fDISPLAY\":\"$DISPLAY\",\"fDoubleBuffer\":0,\"fRetained\":true,\"fXsizeUser\":0,\"fYsizeUser\":0,\"fXsizeReal\":20,\"fYsizeReal\":14.28571,\"fWindowTopX\":0,\"fWindowTopY\":0,\"fWindowWidth\":0,\"fWindowHeight\":0,\"fCw\":696,\"fCh\":472,\"fCatt\":{\"_typename\":\"TAttCanvas\",\"fXBetween\":2,\"fYBetween\":2,\"fTitleFromTop\":1.2,\"fXdate\":0.2,\"fYdate\":0.3,\"fAdate\":1},\"kMoveOpaque\":true,\"kResizeOpaque\":true,\"fHighLightColor\":2,\"fBatch\":true,\"kShowEventStatus\":false,\"kAutoExec\":true,\"kMenuBar\":true},\"fActive\":false,\"fReadOnly\":true,\"fWithoutPrimitives\":false,\"fHasExecs\":false,\"fPrimitives\":[{\"_typename\":\"TWebSnapshot\",\"fUniqueID\":0,\"fBits\":0,\"fObjectID\":\"\",\"fOption\":\"\",\"fKind\":4,\"fSnapshot\":{\"_typename\":\"TWebPainting\",\"fUniqueID\":0,\"fBits\":0,\"fClassName\":\"\",\"fObjectName\":\"\",\"fOper\":\"0:255,255,255;1:0,0,0;2:255,0,0;3:0,255,0;4:0,0,255;5:255,255,0;6:255,0,255;7:0,255,255;8:89,211,84;9:89,84,216;10:254,254,254;11:192,182,172;12:76,76,76;13:102,102,102;14:127,127,127;15:153,153,153;16:178,178,178;17:204,204,204;18:229,229,229;19:242,242,242;20:204,198,170;21:204,198,170;22:193,191,168;23:186,181,163;24:178,165,150;25:183,163,155;26:173,153,140;27:155,142,130;28:135,102,86;29:175,206,198;30:132,193,163;31:137,168,160;32:130,158,140;33:173,188,198;34:122,142,153;35:117,137,145;36:104,130,150;37:109,122,132;38:124,153,209;39:127,127,155;40:170,165,191;41:211,206,135;42:221,186,135;43:188,158,130;44:198,153,124;45:191,130,119;46:206,94,96;47:170,142,147;48:165,119,122;49:147,104,112;50:211,89,84;51:146,0,255;52:122,0,255;53:98,0,255;54:74,0,255;55:51,0,255;56:27,0,255;57:3,0,255;58:0,20,255;59:0,44,255;60:0,68,255;61:0,91,255;62:0,115,255;63:0,139,255;64:0,163,255;65:0,187,255;66:0,210,255;67:0,234,255;68:0,255,251;69:0,255,227;70:0,255,204;71:0,255,180;72:0,255,156;73:0,255,132;74:0,255,108;75:0,255,85;76:0,255,61;77:0,255,37;78:0,255,13;79:10,255,0;80:34,255,0;81:57,255,0;82:81,255,0;83:105,255,0;84:129,255,0;85:153,255,0;86:176,255,0;87:200,255,0;88:224,255,0;89:248,255,0;90:255,238,0;91:255,214,0;92:255,190,0;93:255,166,0;94:255,142,0;95:255,119,0;96:255,95,0;97:255,71,0;98:255,47,0;99:255,23,0;100:111,45,168;101:165,42,42;102:178,190,181;103:87,144,252;104:248,156,32;105:228,37,54;106:150,74,139;107:156,156,161;108:122,33,221;109:24,69,251;110:255,94,2;111:201,31,22;112:200,73,169;113:173,173,125;114:134,200,221;115:87,141,255;116:101,99,100;117:63,144,218;118:255,169,14;119:189,31,1;120:148,164,162;121:131,45,182;122:169,107,89;123:231,99,0;124:185,172,112;125:113,117,129;126:146,218,221;127:178,178,178;201:91,91,91;202:122,122,122;203:183,183,183;204:214,214,214;205:137,15,15;206:183,20,20;207:234,71,71;208:239,117,117;209:15,137,15;210:20,183,20;211:71,234,71;212:117,239,117;213:15,15,137;214:20,20,183;215:71,71,234;216:117,117,239;217:137,137,15;218:183,183,20;219:234,234,71;220:239,239,117;221:137,15,137;222:183,20,183;223:234,71,234;224:239,117,239;225:15,137,137;226:20,183,183;227:71,234,234;228:117,239,239;390:255,255,204;391:255,255,153;392:204,204,153;393:255,255,102;394:204,204,102;395:153,153,102;396:255,255,51;397:204,204,51;398:153,153,51;399:102,102,51;400:255,255,0;401:204,204,0;402:153,153,0;403:102,102,0;404:51,51,0;406:204,255,204;407:153,255,153;408:153,204,153;409:102,255,102;410:102,204,102;411:102,153,102;412:51,255,51;413:51,204,51;414:51,153,51;415:51,102,51;416:0,255,0;417:0,204,0;418:0,153,0;419:0,102,0;420:0,51,0;422:204,255,255;423:153,255,255;424:153,204,204;425:102,255,255;426:102,204,204;427:102,153,153;428:51,255,255;429:51,204,204;430:51,153,153;431:51,102,102;432:0,255,255;433:0,204,204;434:0,153,153;435:0,102,102;436:0,51,51;590:204,204,255;591:153,153,255;592:153,153,204;593:102,102,255;594:102,102,204;595:102,102,153;596:51,51,255;597:51,51,204;598:51,51,153;599:51,51,102;600:0,0,255;601:0,0,204;602:0,0,153;603:0,0,102;604:0,0,51;606:255,204,255;607:255,153,255;608:204,153,204;609:255,102,255;610:204,102,204;611:153,102,153;612:255,51,255;613:204,51,204;614:153,51,153;615:102,51,102;616:255,0,255;617:204,0,204;618:153,0,153;619:102,0,102;620:51,0,51;622:255,204,204;623:255,153,153;624:204,153,153;625:255,102,102;626:204,102,102;627:153,102,102;628:255,51,51;629:204,51,51;630:153,51,51;631:102,51,51;632:255,0,0;633:204,0,0;634:153,0,0;635:102,0,0;636:51,0,0;791:255,204,153;792:204,153,102;793:153,102,51;794:153,102,0;795:204,153,51;796:255,204,102;797:255,153,0;798:255,204,51;799:204,153,0;800:255,204,0;801:255,153,51;802:204,102,0;803:102,51,0;804:153,51,0;805:204,102,51;806:255,153,102;807:255,102,0;808:255,102,51;809:204,51,0;810:255,51,0;811:153,255,51;812:102,204,0;813:51,102,0;814:51,153,0;815:102,204,51;816:153,255,102;817:102,255,0;818:102,255,51;819:51,204,0;820:51,255,0;821:204,255,153;822:153,204,102;823:102,153,51;824:102,153,0;825:153,204,51;826:204,255,102;827:153,255,0;828:204,255,51;829:153,204,0;830:204,255,0;831:153,255,204;832:102,204,153;833:51,153,102;834:0,153,102;835:51,204,153;836:102,255,204;837:0,255,102;838:51,255,204;839:0,204,153;840:0,255,204;841:51,255,153;842:0,204,102;843:0,102,51;844:0,153,51;845:51,204,102;846:102,255,153;847:0,255,153;848:51,255,102;849:0,204,51;850:0,255,51;851:153,204,255;852:102,153,204;853:51,102,153;854:0,51,153;855:51,102,204;856:102,153,255;857:0,102,255;858:51,102,255;859:0,51,204;860:0,51,255;861:51,153,255;862:0,102,204;863:0,51,102;864:0,102,153;865:51,153,204;866:102,204,255;867:0,153,255;868:51,204,255;869:0,153,204;870:0,204,255;871:204,153,255;872:153,102,204;873:102,51,153;874:102,0,153;875:153,51,204;876:204,102,255;877:153,0,255;878:204,51,255;879:153,0,204;880:204,0,255;881:153,51,255;882:102,0,204;883:51,0,102;884:51,0,153;885:102,51,204;886:153,102,255;887:102,0,255;888:102,51,255;889:51,0,204;890:51,0,255;891:255,51,153;892:204,0,102;893:102,0,51;894:153,0,51;895:204,51,102;896:255,102,153;897:255,0,102;898:255,51,102;899:204,0,51;900:255,0,51;901:255,153,204;902:204,102,153;903:153,51,102;904:153,0,102;905:204,51,153;906:255,102,204;907:255,0,153;908:204,0,153;909:255,51,204;910:255,0,153;920:204,204,204;921:153,153,153;922:102,102,102;923:51,51,51;924:53,42,134;925:51,44,137;926:50,45,140;927:49,47,143;928:48,48,146;929:46,50,148;930:45,51,151;931:44,53,154;932:43,55,157;933:42,56,160;934:40,58,162;935:39,59,165;936:38,61,168;937:37,63,171;938:35,64,174;939:34,66,176;940:33,67,179;941:32,69,182;942:31,71,185;943:29,72,187;944:28,74,190;945:27,75,193;946:26,77,196;947:24,79,199;948:23,80,201;949:22,82,204;950:21,83,207;951:19,85,210;952:18,86,213;953:17,88,215;954:16,90,218;955:15,91,221;956:15,92,221;957:15,94,220;958:15,95,220;959:15,96,220;960:15,97,220;961:15,98,220;962:16,99,219;963:16,100,219;964:16,102,219;965:16,103,219;966:16,104,218;967:16,105,218;968:17,106,218;969:17,107,218;970:17,109,217;971:17,110,217;972:17,111,217;973:17,112,217;974:17,113,216;975:18,114,216;976:18,115,216;977:18,117,216;978:18,118,215;979:18,119,215;980:18,120,215;981:18,121,215;982:19,122,215;983:19,123,214;984:19,125,214;985:19,126,214;986:19,127,214;987:19,128,213;988:19,129,213;989:19,130,213;990:18,131,212;991:18,132,212;992:17,134,211;993:17,135,211;994:16,136,211;995:16,137,210;996:15,138,210;997:15,139,210;998:15,140,209;999:14,141,209;1000:14,142,208;1001:13,143,208;1002:13,145,208;1003:12,146,207;1004:12,147,207;1005:12,148,207;1006:11,149,206;1007:11,150,206;1008:10,151,205;1009:10,152,205;1010:9,153,205;1011:9,154,204;1012:8,155,204;1013:8,157,204;1014:8,158,203;1015:7,159,203;1016:7,160,202;1017:6,161,202;1018:6,162,202;1019:5,163,201;1020:7,164,200;1021:8,164,199;1022:9,165,198;1023:10,166,197;1024:12,166,195;1025:13,167,194;1026:14,167,193;1027:15,168,192;1028:17,169,191;1029:18,169,189;1030:19,170,188;1031:20,170,187;1032:22,171,186;1033:23,172,185;1034:24,172,184;1035:25,173,182;1036:27,173,181;1037:28,174,180;1038:29,175,179;1039:30,175,178;1040:32,176,176;1041:33,176,175;1042:34,177,174;1043:35,178,173;1044:37,178,172;1045:38,179,170;1046:39,180,169;1047:40,180,168;1048:42,181,167;1049:43,181,166;1050:44,182,165;1051:45,183,163;1052:48,183,162;1053:51,183,161;1054:54,183,159;1055:57,184,158;1056:59,184,156;1057:62,184,155;1058:65,184,154;1059:68,185,152;1060:71,185,151;1061:73,185,149;1062:76,185,148;1063:79,186,146;1064:82,186,145;1065:84,186,144;1066:87,186,142;1067:90,187,141;1068:93,187,139;1069:96,187,138;1070:98,187,137;1071:101,188,135;1072:104,188,134;1073:107,188,132;1074:110,188,131;1075:112,189,130;1076:115,189,128;1077:118,189,127;1078:121,189,125;1079:124,190,124;1080:126,190,123;1081:129,190,121;1082:132,190,120;1083:135,191,118;1084:137,190,117;1085:139,190,117;1086:142,190,116;1087:144,190,115;1088:146,190,114;1089:148,190,113;1090:151,190,112;1091:153,190,111;1092:155,189,110;1093:158,189,109;1094:160,189,108;1095:162,189,107;1096:165,189,106;1097:167,189,105;1098:169,189,104;1099:171,188,104;1100:174,188,103;1101:176,188,102;1102:178,188,101;1103:181,188,100;1104:183,188,99;1105:185,188,98;1106:188,188,97;1107:190,187,96;1108:192,187,95;1109:194,187,94;1110:197,187,93;1111:199,187,92;1112:201,187,92;1113:204,187,91;1114:206,186,90;1115:208,186,89;1116:210,187,88;1117:211,187,86;1118:212,188,85;1119:214,188,84;1120:215,188,83;1121:217,189,81;1122:218,189,80;1123:220,190,79;1124:221,190,78;1125:222,191,77;1126:224,191,75;1127:225,191,74;1128:227,192,73;1129:228,192,72;1130:229,193,70;1131:231,193,69;1132:232,194,68;1133:234,194,67;1134:235,194,66;1135:236,195,64;1136:238,195,63;1137:239,196,62;1138:241,196,61;1139:242,197,59;1140:244,197,58;1141:245,197,57;1142:246,198,56;1143:248,198,55;1144:249,199,53;1145:251,199,52;1146:252,200,51;1147:253,200,50;1148:253,202,49;1149:253,203,47;1150:253,205,46;1151:253,206,45;1152:253,208,44;1153:252,209,43;1154:252,211,42;1155:252,213,41;1156:252,214,39;1157:252,216,38;1158:252,217,37;1159:252,219,36;1160:251,220,35;1161:251,222,34;1162:251,224,33;1163:251,225,31;1164:251,227,30;1165:251,228,29;1166:250,230,28;1167:250,231,27;1168:250,233,26;1169:250,235,25;1170:250,236,23;1171:250,238,22;1172:250,239,21;1173:249,241,20;1174:249,242,19;1175:249,244,18;1176:249,246,17;1177:249,247,16;1178:249,249,14\",\"fBuf\":{\"$arr\":\"Float32\",\"len\":50,\"v\":[51,52,53,54,55,56,57,58,59,60,61,62,63,64,65,66,67,68,69,70,71,72,73,74,75,76,77,78,79,80,81,82,83,84,85,86,87,88,89,90,91,92,93,94,95,96,97,98,99,632]}}},{\"_typename\":\"TWebSnapshot\",\"fUniqueID\":0,\"fBits\":0,\"fObjectID\":\"\",\"fOption\":\"\",\"fKind\":5,\"fSnapshot\":{\"_typename\":\"TStyle\",\"fUniqueID\":0,\"fBits\":0,\"fName\":\"ildStyle\",\"fTitle\":\"ILD Style\",\"fLineColor\":1,\"fLineStyle\":1,\"fLineWidth\":2,\"fFillColor\":10,\"fFillStyle\":1001,\"fMarkerColor\":1,\"fMarkerStyle\":20,\"fMarkerSize\":0.7,\"fTextAngle\":0,\"fTextSize\":0.05,\"fTextAlign\":11,\"fTextColor\":1,\"fTextFont\":42,\"fXaxis\":{\"_typename\":\"TAttAxis\",\"fNdivisions\":506,\"fAxisColor\":1,\"fLabelColor\":1,\"fLabelFont\":42,\"fLabelOffset\":0.015,\"fLabelSize\":0.06,\"fTickLength\":0.03,\"fTitleOffset\":1,\"fTitleSize\":0.07,\"fTitleColor\":1,\"fTitleFont\":42},\"fYaxis\":{\"_typename\":\"TAttAxis\",\"fNdivisions\":506,\"fAxisColor\":1,\"fLabelColor\":1,\"fLabelFont\":42,\"fLabelOffset\":0.015,\"fLabelSize\":0.06,\"fTickLength\":0.03,\"fTitleOffset\":1.1,\"fTitleSize\":0.07,\"fTitleColor\":1,\"fTitleFont\":42},\"fZaxis\":{\"_typename\":\"TAttAxis\",\"fNdivisions\":510,\"fAxisColor\":1,\"fLabelColor\":1,\"fLabelFont\":42,\"fLabelOffset\":0.015,\"fLabelSize\":0.06,\"fTickLength\":0.03,\"fTitleOffset\":1.1,\"fTitleSize\":0.07,\"fTitleColor\":1,\"fTitleFont\":42},\"fBarWidth\":1,\"fBarOffset\":0,\"fColorModelPS\":0,\"fDrawBorder\":0,\"fOptLogx\":0,\"fOptLogy\":0,\"fOptLogz\":0,\"fOptDate\":0,\"fOptStat\":0,\"fOptTitle\":1,\"fOptFile\":0,\"fOptFit\":0,\"fShowEventStatus\":0,\"fShowEditor\":0,\"fShowToolBar\":0,\"fNumberContours\":20,\"fAttDate\":{\"_typename\":\"TAttText\",\"fTextAngle\":0,\"fTextSize\":0.025,\"fTextAlign\":11,\"fTextColor\":1,\"fTextFont\":62},\"fDateX\":0.01,\"fDateY\":0.01,\"fEndErrorSize\":2,\"fErrorX\":0.5,\"fFuncColor\":632,\"fFuncStyle\":1,\"fFuncWidth\":2,\"fGridColor\":0,\"fGridStyle\":3,\"fGridWidth\":1,\"fLegendBorderSize\":0,\"fLegendFillColor\":0,\"fLegendFillStyle\":1001,\"fLegendFont\":62,\"fLegendTextSize\":0,\"fHatchesLineWidth\":1,\"fHatchesSpacing\":1,\"fFrameFillColor\":10,\"fFrameLineColor\":1,\"fFrameFillStyle\":1001,\"fFrameLineStyle\":1,\"fFrameLineWidth\":2,\"fFrameBorderSize\":1,\"fFrameBorderMode\":0,\"fHistFillColor\":0,\"fHistLineColor\":1,\"fHistFillStyle\":1001,\"fHistLineStyle\":1,\"fHistLineWidth\":2,\"fHistMinimumZero\":false,\"fHistTopMargin\":0.05,\"fCanvasPreferGL\":false,\"fCanvasColor\":10,\"fCanvasBorderSize\":2,\"fCanvasBorderMode\":0,\"fCanvasDefH\":500,\"fCanvasDefW\":700,\"fCanvasDefX\":10,\"fCanvasDefY\":10,\"fPadColor\":10,\"fPadBorderSize\":2,\"fPadBorderMode\":0,\"fPadBottomMargin\":0.17,\"fPadTopMargin\":0.08,\"fPadLeftMargin\":0.15,\"fPadRightMargin\":0.16,\"fPadGridX\":false,\"fPadGridY\":false,\"fPadTickX\":1,\"fPadTickY\":1,\"fPaperSizeX\":20,\"fPaperSizeY\":26,\"fScreenFactor\":1,\"fStatColor\":10,\"fStatTextColor\":1,\"fStatBorderSize\":0,\"fStatFont\":42,\"fStatFontSize\":0.07,\"fStatStyle\":1001,\"fStatFormat\":\"6.4g\",\"fStatX\":0.98,\"fStatY\":0.995,\"fStatW\":0.2,\"fStatH\":0.16,\"fStripDecimals\":true,\"fTitleAlign\":13,\"fTitleColor\":0,\"fTitleTextColor\":1,\"fTitleBorderSize\":0,\"fTitleFont\":62,\"fTitleFontSize\":0,\"fTitleStyle\":1001,\"fTitleX\":0.01,\"fTitleY\":0.995,\"fTitleW\":0,\"fTitleH\":0,\"fLegoInnerR\":0.5,\"fLineStyles\":[\"\",\"  \",\" 12 12\",\" 4 8\",\" 12 16 4 16\",\" 20 12 4 12\",\" 20 12 4 12 4 12 4 12\",\" 20 20\",\" 20 12 4 12 4 12\",\" 80 20\",\" 80 40 4 40\",\"  \",\"  \",\"  \",\"  \",\"  \",\"  \",\"  \",\"  \",\"  \",\"  \",\"  \",\"  \",\"  \",\"  \",\"  \",\"  \",\"  \",\"  \",\"  \"],\"fHeaderPS\":\"\",\"fTitlePS\":\"\",\"fFitFormat\":\"5.4g\",\"fPaintTextFormat\":\"g\",\"fLineScalePS\":3,\"fJoinLinePS\":0,\"fCapLinePS\":0,\"fTimeOffset\":788918400,\"fImageScaling\":1,\"fCandleWhiskerRange\":1,\"fCandleBoxRange\":0.5,\"fCandleScaled\":false,\"fViolinScaled\":true,\"fCandleCircleLineWidth\":1,\"fCandleCrossLineWidth\":1,\"fXAxisExpXOffset\":0,\"fXAxisExpYOffset\":0,\"fYAxisExpXOffset\":0,\"fYAxisExpYOffset\":0,\"fAxisMaxDigits\":5,\"fOrthoCamera\":false}},{\"_typename\":\"TWebSnapshot\",\"fUniqueID\":0,\"fBits\":0,\"fObjectID\":\"\",\"fOption\":\"\",\"fKind\":1,\"fSnapshot\":{\"_typename\":\"TFrame\",\"fUniqueID\":0,\"fBits\":8,\"fLineColor\":1,\"fLineStyle\":1,\"fLineWidth\":2,\"fFillColor\":10,\"fFillStyle\":1001,\"fX1\":-0.004,\"fY1\":0,\"fX2\":0.004,\"fY2\":2,\"fBorderSize\":1,\"fBorderMode\":0}},{\"_typename\":\"TWebSnapshot\",\"fUniqueID\":0,\"fBits\":0,\"fObjectID\":\"\",\"fOption\":\"FUNC\",\"fKind\":1,\"fSnapshot\":{\"_typename\":\"TH1D\",\"fUniqueID\":0,\"fBits\":520,\"fName\":\"frame_g1z_243f14e0\",\"fTitle\":\"\",\"fLineColor\":1,\"fLineStyle\":1,\"fLineWidth\":2,\"fFillColor\":0,\"fFillStyle\":1001,\"fMarkerColor\":1,\"fMarkerStyle\":20,\"fMarkerSize\":0.7,\"fNcells\":102,\"fXaxis\":{\"_typename\":\"TAxis\",\"fUniqueID\":0,\"fBits\":0,\"fName\":\"xaxis\",\"fTitle\":\"g1z\",\"fNdivisions\":506,\"fAxisColor\":1,\"fLabelColor\":1,\"fLabelFont\":42,\"fLabelOffset\":0.015,\"fLabelSize\":0.06,\"fTickLength\":0.03,\"fTitleOffset\":1,\"fTitleSize\":0.07,\"fTitleColor\":1,\"fTitleFont\":42,\"fNbins\":100,\"fXmin\":-0.004,\"fXmax\":0.004,\"fXbins\":[],\"fFirst\":0,\"fLast\":0,\"fBits2\":0,\"fTimeDisplay\":false,\"fTimeFormat\":\"\",\"fLabels\":null,\"fModLabs\":null},\"fYaxis\":{\"_typename\":\"TAxis\",\"fUniqueID\":0,\"fBits\":0,\"fName\":\"yaxis\",\"fTitle\":\"-#Delta NLL\",\"fNdivisions\":506,\"fAxisColor\":1,\"fLabelColor\":1,\"fLabelFont\":42,\"fLabelOffset\":0.015,\"fLabelSize\":0.06,\"fTickLength\":0.03,\"fTitleOffset\":1.1,\"fTitleSize\":0.07,\"fTitleColor\":1,\"fTitleFont\":42,\"fNbins\":1,\"fXmin\":0,\"fXmax\":1,\"fXbins\":[],\"fFirst\":0,\"fLast\":0,\"fBits2\":0,\"fTimeDisplay\":false,\"fTimeFormat\":\"\",\"fLabels\":null,\"fModLabs\":null},\"fZaxis\":{\"_typename\":\"TAxis\",\"fUniqueID\":0,\"fBits\":0,\"fName\":\"zaxis\",\"fTitle\":\"\",\"fNdivisions\":510,\"fAxisColor\":1,\"fLabelColor\":1,\"fLabelFont\":42,\"fLabelOffset\":0.015,\"fLabelSize\":0.06,\"fTickLength\":0.03,\"fTitleOffset\":1.1,\"fTitleSize\":0.07,\"fTitleColor\":1,\"fTitleFont\":42,\"fNbins\":1,\"fXmin\":0,\"fXmax\":1,\"fXbins\":[],\"fFirst\":0,\"fLast\":0,\"fBits2\":0,\"fTimeDisplay\":false,\"fTimeFormat\":\"\",\"fLabels\":null,\"fModLabs\":null},\"fBarOffset\":0,\"fBarWidth\":1000,\"fEntries\":1,\"fTsumw\":0,\"fTsumw2\":0,\"fTsumwx\":0,\"fTsumwx2\":0,\"fMaximum\":2,\"fMinimum\":0,\"fNormFactor\":0,\"fContour\":[],\"fSumw2\":[],\"fOption\":\"\",\"fFunctions\":{\"_typename\":\"TList\",\"name\":\"TList\",\"arr\":[],\"opt\":[]},\"fBufferSize\":0,\"fBuffer\":[],\"fBinStatErrOpt\":0,\"fStatOverflows\":2,\"fArray\":{\"$arr\":\"Float64\",\"len\":102,\"p\":1,\"v\":15.9520961265999}}},{\"_typename\":\"TWebSnapshot\",\"fUniqueID\":0,\"fBits\":0,\"fObjectID\":\"\",\"fOption\":\"l\",\"fKind\":1,\"fSnapshot\":{\"_typename\":\"RooCurve\",\"fUniqueID\":0,\"fBits\":525320,\"fName\":\"RooEvaluatorWrapper_Norm[g1z]\",\"fTitle\":\"Projection of RooEvaluatorWrapper\",\"fLineColor\":600,\"fLineStyle\":1,\"fLineWidth\":3,\"fFillColor\":0,\"fFillStyle\":1000,\"fMarkerColor\":1,\"fMarkerStyle\":20,\"fMarkerSize\":0.7,\"fNpoints\":106,\"fX\":{\"$arr\":\"Float64\",\"len\":106,\"v\":[-0.00408008,-0.00408,-0.004,-0.00392,-0.00384,-0.00376,-0.00368,-0.0036,-0.00352,-0.00344,-0.00336,-0.00328,-0.0032,-0.00312,-0.00304,-0.00296,-0.00288,-0.0028,-0.00272,-0.00264,-0.00256,-0.00248,-0.0024,-0.00232,-0.00224,-0.00216,-0.00208,-0.002,-0.00192,-0.00184,-0.00176,-0.00168,-0.0016,-0.00152,-0.00144,-0.00136,-0.00128,-0.0012,-0.00112,-0.00104,-9.6e-4,-8.8e-4,-8e-4,-7.2e-4,-6.4e-4,-5.6e-4,-4.8e-4,-4e-4,-3.2e-4,-2.4e-4,-1.6e-4,-7.99999999999993e-5,0,8.00000000000002e-5,1.6e-4,2.40000000000001e-4,3.2e-4,4e-4,4.8e-4,5.60000000000001e-4,6.4e-4,7.2e-4,8e-4,8.80000000000001e-4,9.6e-4,0.00104,0.00112,0.0012,0.00128,0.00136,0.00144,0.00152,0.0016,0.00168,0.00176,0.00184,0.00192,0.002,0.00208,0.00216,0.00224,0.00232,0.0024,0.00248,0.00256,0.00264,0.00272,0.0028,0.00288,0.00296,0.00304,0.00312,0.0032,0.00328,0.00336,0.00344,0.00352,0.0036,0.00368,0.00376,0.00384,0.00392,0.004,0.004,0.00408,0.00408008]},\"fY\":{\"$arr\":\"Float64\",\"len\":106,\"p\":1,\"v\":[15.1924725015237,15.1924725015237,14.5908505904652,14.0013826574042,13.4240687023467,12.8589087252905,12.3059027262347,11.7650507051802,11.2363526621278,10.7198085970741,10.2154185100265,9.72318240097614,9.24310026992711,8.77517211688055,8.31939794183475,7.8757777447905,7.44431152574781,7.02499928470434,6.61784102166413,6.2228367366239,5.83998642958656,5.46929010054875,5.11074774951301,4.76435937647861,4.43012498144515,4.10804456441267,3.79811812538165,3.50034566435116,3.21472718132233,2.94126267629534,2.67995214926955,2.43079560024398,2.1937930292208,1.96894443619819,1.75624982117587,1.55570918415596,1.36732252513755,1.19108984412,1.02701114110312,0.875086416088124,0.735315669074325,0.607698900060868,0.492236109049529,0.388927296039299,0.29777246102978,0.218771604022194,0.151924725015419,0.0972318240098531,0.0546929010055379,0.024307956002545,0.00607698900061848,0,0.00607698900060427,0.0243079560023887,0.0546929010054242,0.0972318240096115,0.151924725015022,0.218771604021811,0.297772461029652,0.388927296038673,0.492236109049387,0.607698900060498,0.735315669073486,0.875086416087271,1.02701114110269,1.19108984411872,1.36732252513708,1.55570918415577,1.75624982117564,1.96894443619709,2.19379302921973,2.4307956002432,2.67995214926808,2.94126267629457,3.21472718132149,3.50034566435102,3.79811812537973,4.10804456441126,4.43012498144347,4.76435937647751,5.11074774951115,5.46929010054826,5.83998642958545,6.22283673662275,6.6178410216622,7.02499928470402,7.44431152574478,7.87577774478839,8.31939794183322,8.77517211687959,9.24310026992494,9.72318240097434,10.2154185100234,10.719808597073,11.2363526621255,11.7650507051794,12.3059027262322,12.8589087252884,13.4240687023447,14.0013826574016,14.5908505904605,15.1924725009154,15.1924725009154,15.1924725009154]},\"fFunctions\":{\"_typename\":\"TList\",\"name\":\"TList\",\"arr\":[],\"opt\":[]},\"fHistogram\":{\"_typename\":\"TH1F\",\"fUniqueID\":0,\"fBits\":512,\"fName\":\"RooEvaluatorWrapper_Norm[g1z]\",\"fTitle\":\"Projection of RooEvaluatorWrapper\",\"fLineColor\":1,\"fLineStyle\":1,\"fLineWidth\":2,\"fFillColor\":0,\"fFillStyle\":1001,\"fMarkerColor\":1,\"fMarkerStyle\":20,\"fMarkerSize\":0.7,\"fNcells\":108,\"fXaxis\":{\"_typename\":\"TAxis\",\"fUniqueID\":0,\"fBits\":0,\"fName\":\"xaxis\",\"fTitle\":\"\",\"fNdivisions\":506,\"fAxisColor\":1,\"fLabelColor\":1,\"fLabelFont\":42,\"fLabelOffset\":0.015,\"fLabelSize\":0.06,\"fTickLength\":0.03,\"fTitleOffset\":1,\"fTitleSize\":0.07,\"fTitleColor\":1,\"fTitleFont\":42,\"fNbins\":106,\"fXmin\":-0.004896096,\"fXmax\":0.004896096,\"fXbins\":[],\"fFirst\":0,\"fLast\":0,\"fBits2\":0,\"fTimeDisplay\":false,\"fTimeFormat\":\"\",\"fLabels\":null,\"fModLabs\":null},\"fYaxis\":{\"_typename\":\"TAxis\",\"fUniqueID\":0,\"fBits\":0,\"fName\":\"yaxis\",\"fTitle\":\"\",\"fNdivisions\":506,\"fAxisColor\":1,\"fLabelColor\":1,\"fLabelFont\":42,\"fLabelOffset\":0.015,\"fLabelSize\":0.06,\"fTickLength\":0.03,\"fTitleOffset\":1.1,\"fTitleSize\":0.07,\"fTitleColor\":1,\"fTitleFont\":42,\"fNbins\":1,\"fXmin\":0,\"fXmax\":16.711719751676,\"fXbins\":[],\"fFirst\":0,\"fLast\":0,\"fBits2\":0,\"fTimeDisplay\":false,\"fTimeFormat\":\"\",\"fLabels\":null,\"fModLabs\":null},\"fZaxis\":{\"_typename\":\"TAxis\",\"fUniqueID\":0,\"fBits\":0,\"fName\":\"zaxis\",\"fTitle\":\"\",\"fNdivisions\":510,\"fAxisColor\":1,\"fLabelColor\":1,\"fLabelFont\":42,\"fLabelOffset\":0.015,\"fLabelSize\":0.06,\"fTickLength\":0.03,\"fTitleOffset\":1.1,\"fTitleSize\":0.07,\"fTitleColor\":1,\"fTitleFont\":42,\"fNbins\":1,\"fXmin\":0,\"fXmax\":1,\"fXbins\":[],\"fFirst\":0,\"fLast\":0,\"fBits2\":0,\"fTimeDisplay\":false,\"fTimeFormat\":\"\",\"fLabels\":null,\"fModLabs\":null},\"fBarOffset\":0,\"fBarWidth\":1000,\"fEntries\":0,\"fTsumw\":0,\"fTsumw2\":0,\"fTsumwx\":0,\"fTsumwx2\":0,\"fMaximum\":16.711719751676,\"fMinimum\":0,\"fNormFactor\":0,\"fContour\":[],\"fSumw2\":[],\"fOption\":\"\",\"fFunctions\":{\"_typename\":\"TList\",\"name\":\"TList\",\"arr\":[],\"opt\":[]},\"fBufferSize\":0,\"fBuffer\":[],\"fBinStatErrOpt\":0,\"fStatOverflows\":2,\"fArray\":{\"$arr\":\"Float32\",\"len\":108}},\"fMinimum\":-1111,\"fMaximum\":-1111,\"fOption\":\"\",\"_yAxisLabel\":\"Projection of RooEvaluatorWrapper\",\"_ymin\":0,\"_ymax\":15.1924725015237,\"_normValue\":0}},{\"_typename\":\"TWebSnapshot\",\"fUniqueID\":0,\"fBits\":0,\"fObjectID\":\"\",\"fOption\":\"l\",\"fKind\":1,\"fSnapshot\":{\"_typename\":\"RooCurve\",\"fUniqueID\":0,\"fBits\":525320,\"fName\":\"RooEvaluatorWrapper_Profile[g1z]_Norm[g1z]\",\"fTitle\":\"Projection of Profile of RooEvaluatorWrapper\",\"fLineColor\":632,\"fLineStyle\":1,\"fLineWidth\":3,\"fFillColor\":0,\"fFillStyle\":1000,\"fMarkerColor\":1,\"fMarkerStyle\":20,\"fMarkerSize\":0.7,\"fNpoints\":106,\"fX\":{\"$arr\":\"Float64\",\"len\":106,\"v\":[-0.00408008,-0.00408,-0.004,-0.00392,-0.00384,-0.00376,-0.00368,-0.0036,-0.00352,-0.00344,-0.00336,-0.00328,-0.0032,-0.00312,-0.00304,-0.00296,-0.00288,-0.0028,-0.00272,-0.00264,-0.00256,-0.00248,-0.0024,-0.00232,-0.00224,-0.00216,-0.00208,-0.002,-0.00192,-0.00184,-0.00176,-0.00168,-0.0016,-0.00152,-0.00144,-0.00136,-0.00128,-0.0012,-0.00112,-0.00104,-9.6e-4,-8.8e-4,-8e-4,-7.2e-4,-6.4e-4,-5.6e-4,-4.8e-4,-4e-4,-3.2e-4,-2.4e-4,-1.6e-4,-7.99999999999993e-5,0,8.00000000000002e-5,1.6e-4,2.40000000000001e-4,3.2e-4,4e-4,4.8e-4,5.60000000000001e-4,6.4e-4,7.2e-4,8e-4,8.80000000000001e-4,9.6e-4,0.00104,0.00112,0.0012,0.00128,0.00136,0.00144,0.00152,0.0016,0.00168,0.00176,0.00184,0.00192,0.002,0.00208,0.00216,0.00224,0.00232,0.0024,0.00248,0.00256,0.00264,0.00272,0.0028,0.00288,0.00296,0.00304,0.00312,0.0032,0.00328,0.00336,0.00344,0.00352,0.0036,0.00368,0.00376,0.00384,0.00392,0.004,0.004,0.00408,0.00408008]},\"fY\":{\"$arr\":\"Float64\",\"len\":106,\"p\":1,\"v\":[6.57948410285184,6.57948410285184,6.31900620519512,6.06379046851455,5.81379986039221,5.56905297328208,5.32956263890848,5.09533378806475,4.86636794620273,4.64266553931236,4.42422668047317,4.21105139893436,4.00313970215309,3.80049159200509,3.60310706898746,3.410986133194,3.22412878468668,3.04253502344545,2.86620484950191,2.69513826282117,2.52933526345191,2.36879585136424,2.2135200265368,2.06350778899865,1.91875913874739,1.77927407575578,1.64505260006854,1.51609471166842,1.39240041054119,1.27396969668749,1.16080257013215,1.05289903085007,0.950259078852369,0.852882714134395,0.760769936694601,0.673920746541668,0.592335143670738,0.516013128083145,0.444954699775337,0.379159858760829,0.318628605021871,0.263360938564816,0.213356859383865,0.168616367490714,0.129139462886485,0.0949261455577357,0.0659764155106473,0.0422902727445944,0.0238677172633288,0.0107087490626583,0.00281336814620659,1.81574511714189e-4,0.00281336815962163,0.0107087490896731,0.0238677173010302,0.0422902727957251,0.0659764155733313,0.0949261456316037,0.129139462967203,0.168616367591312,0.213356859497935,0.263360938684414,0.318628605157187,0.379159858907286,0.444954699946223,0.516013128262315,0.592335143858804,0.673920746740649,0.760769936906513,0.85288271435607,0.950259079086891,1.05289903109265,1.16080257038431,1.27396969695296,1.39240041080296,1.51609471195393,1.64505260037018,1.77927407608652,1.91875913907529,2.0635077893444,2.21352002688954,2.36879585172457,2.5293352638419,2.69513826323177,2.86620484991599,3.04253502388357,3.22412878513707,3.41098613366499,3.6031070694722,3.80049159254611,4.00313970292697,4.21105140057071,4.42422668552274,4.6426655577549,4.86636801725285,5.09533406402271,5.32956369808258,5.56905691944154,5.81381372807819,6.06383412397687,6.31911810719511,6.57966567740573,6.57966567740573,6.57966567740573]},\"fFunctions\":{\"_typename\":\"TList\",\"name\":\"TList\",\"arr\":[],\"opt\":[]},\"fHistogram\":{\"_typename\":\"TH1F\",\"fUniqueID\":0,\"fBits\":512,\"fName\":\"RooEvaluatorWrapper_Profile[g1z]_Norm[g1z]\",\"fTitle\":\"Projection of Profile of RooEvaluatorWrapper\",\"fLineColor\":1,\"fLineStyle\":1,\"fLineWidth\":2,\"fFillColor\":0,\"fFillStyle\":1001,\"fMarkerColor\":1,\"fMarkerStyle\":20,\"fMarkerSize\":0.7,\"fNcells\":108,\"fXaxis\":{\"_typename\":\"TAxis\",\"fUniqueID\":0,\"fBits\":0,\"fName\":\"xaxis\",\"fTitle\":\"\",\"fNdivisions\":506,\"fAxisColor\":1,\"fLabelColor\":1,\"fLabelFont\":42,\"fLabelOffset\":0.015,\"fLabelSize\":0.06,\"fTickLength\":0.03,\"fTitleOffset\":1,\"fTitleSize\":0.07,\"fTitleColor\":1,\"fTitleFont\":42,\"fNbins\":106,\"fXmin\":-0.004896096,\"fXmax\":0.004896096,\"fXbins\":[],\"fFirst\":0,\"fLast\":0,\"fBits2\":0,\"fTimeDisplay\":false,\"fTimeFormat\":\"\",\"fLabels\":null,\"fModLabs\":null},\"fYaxis\":{\"_typename\":\"TAxis\",\"fUniqueID\":0,\"fBits\":0,\"fName\":\"yaxis\",\"fTitle\":\"\",\"fNdivisions\":506,\"fAxisColor\":1,\"fLabelColor\":1,\"fLabelFont\":42,\"fLabelOffset\":0.015,\"fLabelSize\":0.06,\"fTickLength\":0.03,\"fTitleOffset\":1.1,\"fTitleSize\":0.07,\"fTitleColor\":1,\"fTitleFont\":42,\"fNbins\":1,\"fXmin\":0,\"fXmax\":7.2376322451463,\"fXbins\":[],\"fFirst\":0,\"fLast\":0,\"fBits2\":0,\"fTimeDisplay\":false,\"fTimeFormat\":\"\",\"fLabels\":null,\"fModLabs\":null},\"fZaxis\":{\"_typename\":\"TAxis\",\"fUniqueID\":0,\"fBits\":0,\"fName\":\"zaxis\",\"fTitle\":\"\",\"fNdivisions\":510,\"fAxisColor\":1,\"fLabelColor\":1,\"fLabelFont\":42,\"fLabelOffset\":0.015,\"fLabelSize\":0.06,\"fTickLength\":0.03,\"fTitleOffset\":1.1,\"fTitleSize\":0.07,\"fTitleColor\":1,\"fTitleFont\":42,\"fNbins\":1,\"fXmin\":0,\"fXmax\":1,\"fXbins\":[],\"fFirst\":0,\"fLast\":0,\"fBits2\":0,\"fTimeDisplay\":false,\"fTimeFormat\":\"\",\"fLabels\":null,\"fModLabs\":null},\"fBarOffset\":0,\"fBarWidth\":1000,\"fEntries\":0,\"fTsumw\":0,\"fTsumw2\":0,\"fTsumwx\":0,\"fTsumwx2\":0,\"fMaximum\":7.2376322451463,\"fMinimum\":0,\"fNormFactor\":0,\"fContour\":[],\"fSumw2\":[],\"fOption\":\"\",\"fFunctions\":{\"_typename\":\"TList\",\"name\":\"TList\",\"arr\":[],\"opt\":[]},\"fBufferSize\":0,\"fBuffer\":[],\"fBinStatErrOpt\":0,\"fStatOverflows\":2,\"fArray\":{\"$arr\":\"Float32\",\"len\":108}},\"fMinimum\":-1111,\"fMaximum\":-1111,\"fOption\":\"\",\"_yAxisLabel\":\"Projection of Profile of RooEvaluatorWrapper\",\"_ymin\":0,\"_ymax\":6.57966567740573,\"_normValue\":0}},{\"_typename\":\"TWebSnapshot\",\"fUniqueID\":0,\"fBits\":0,\"fObjectID\":\"\",\"fOption\":\"AXISSAME\",\"fKind\":1,\"fSnapshot\":{\"$ref\":15}}],\"fScripts\":\"\",\"fHighlightConnect\":false,\"fFixedSize\":false});\n",
       "   Core.settings.HandleKeys = false;\n",
       "   Core.draw(\"root_plot_1754919207618\", obj, \"\");\n",
       "}\n",
       "\n",
       "function script_load_root_plot_1754919207618(src, on_error) {\n",
       "    let script = document.createElement('script');\n",
       "    script.src = src;\n",
       "    script.onload = function() { display_root_plot_1754919207618(JSROOT); };\n",
       "    script.onerror = function() { script.remove(); on_error(); };\n",
       "    document.head.appendChild(script);\n",
       "}\n",
       "\n",
       "if (typeof requirejs !== 'undefined') {\n",
       "\n",
       "    // We are in jupyter notebooks, use require.js which should be configured already\n",
       "    requirejs.config({\n",
       "       paths: { 'JSRootCore' : [ 'build/jsroot', 'https://root.cern/js/7.9.0/build/jsroot', 'https://jsroot.gsi.de/7.9.0/build/jsroot' ] }\n",
       "    })(['JSRootCore'],  function(Core) {\n",
       "       display_root_plot_1754919207618(Core);\n",
       "    });\n",
       "\n",
       "} else if (typeof JSROOT !== 'undefined') {\n",
       "\n",
       "   // JSROOT already loaded, just use it\n",
       "   display_root_plot_1754919207618(JSROOT);\n",
       "\n",
       "} else {\n",
       "\n",
       "    // We are in jupyterlab without require.js, directly loading jsroot\n",
       "    // Jupyterlab might be installed in a different base_url so we need to know it.\n",
       "    try {\n",
       "        var base_url = JSON.parse(document.getElementById('jupyter-config-data').innerHTML).baseUrl;\n",
       "    } catch(_) {\n",
       "        var base_url = '/';\n",
       "    }\n",
       "\n",
       "    // Try loading a local version of requirejs and fallback to cdn if not possible.\n",
       "    script_load_root_plot_1754919207618(base_url + 'static/build/jsroot.js', function(){\n",
       "        console.error('Fail to load JSROOT locally, please check your jupyter_notebook_config.py file');\n",
       "        script_load_root_plot_1754919207618('https://root.cern/js/7.9.0/build/jsroot.js', function(){\n",
       "            document.getElementById(\"root_plot_1754919207618\").innerHTML = \"Failed to load JSROOT\";\n",
       "        });\n",
       "    });\n",
       "}\n",
       "\n",
       "</script>\n"
      ],
      "text/plain": [
       "<IPython.core.display.HTML object>"
      ]
     },
     "metadata": {},
     "output_type": "display_data"
    },
    {
     "data": {
      "text/html": [
       "\n",
       "\n",
       "<div id=\"root_plot_1754919207627\" style=\"width: 700px; height: 500px; position: relative\">\n",
       "</div>\n",
       "\n",
       "<script>\n",
       "\n",
       "function display_root_plot_1754919207627(Core) {\n",
       "   let obj = Core.parse({\"_typename\":\"TCanvasWebSnapshot\",\"fUniqueID\":0,\"fBits\":0,\"fObjectID\":\"\",\"fOption\":\"\",\"fKind\":3,\"fSnapshot\":{\"_typename\":\"TCanvas\",\"fUniqueID\":0,\"fBits\":3342344,\"fLineColor\":1,\"fLineStyle\":1,\"fLineWidth\":2,\"fFillColor\":10,\"fFillStyle\":1001,\"fLeftMargin\":0.15,\"fRightMargin\":0.16,\"fBottomMargin\":0.17,\"fTopMargin\":0.08,\"fXfile\":2,\"fYfile\":2,\"fAfile\":1,\"fXstat\":0.99,\"fYstat\":0.99,\"fAstat\":2,\"fFrameFillColor\":10,\"fFrameLineColor\":1,\"fFrameFillStyle\":1001,\"fFrameLineStyle\":1,\"fFrameLineWidth\":2,\"fFrameBorderSize\":1,\"fFrameBorderMode\":0,\"fX1\":-0.00573913035966649,\"fY1\":-0.453333338101705,\"fX2\":0.00585507226846621,\"fY2\":2.21333332856496,\"fXtoAbsPixelk\":344.520003526211,\"fXtoPixelk\":344.520003526211,\"fXtoPixel\":60030.001400113,\"fYtoAbsPixelk\":391.759999155998,\"fYtoPixelk\":391.759999155998,\"fYtoPixel\":-177,\"fUtoAbsPixelk\":0,\"fUtoPixelk\":0,\"fUtoPixel\":696,\"fVtoAbsPixelk\":472,\"fVtoPixelk\":472,\"fVtoPixel\":-472,\"fAbsPixeltoXk\":-0.00573913035966649,\"fPixeltoXk\":-0.00573913035966649,\"fPixeltoX\":1.66583371093861e-5,\"fAbsPixeltoYk\":2.21333332856496,\"fPixeltoYk\":-0.453333338101705,\"fPixeltoY\":-0.00564971751412429,\"fXlowNDC\":0,\"fYlowNDC\":0,\"fXUpNDC\":1,\"fYUpNDC\":1,\"fWNDC\":1,\"fHNDC\":1,\"fAbsXlowNDC\":0,\"fAbsYlowNDC\":0,\"fAbsWNDC\":1,\"fAbsHNDC\":1,\"fUxmin\":-0.004,\"fUymin\":0,\"fUxmax\":0.004,\"fUymax\":2,\"fTheta\":30,\"fPhi\":30,\"fAspectRatio\":0,\"fNumber\":0,\"fTickx\":1,\"fTicky\":1,\"fLogx\":0,\"fLogy\":0,\"fLogz\":0,\"fPadPaint\":0,\"fCrosshair\":0,\"fCrosshairPos\":0,\"fBorderSize\":2,\"fBorderMode\":0,\"fModified\":false,\"fGridx\":false,\"fGridy\":false,\"fAbsCoord\":false,\"fEditable\":true,\"fFixedAspectRatio\":false,\"fPrimitives\":{\"_typename\":\"TList\",\"name\":\"TList\",\"arr\":[],\"opt\":[]},\"fExecs\":null,\"fName\":\"c1_n2\",\"fTitle\":\"c1_n2\",\"fNumPaletteColor\":0,\"fNextPaletteColor\":0,\"fDISPLAY\":\"$DISPLAY\",\"fDoubleBuffer\":0,\"fRetained\":true,\"fXsizeUser\":0,\"fYsizeUser\":0,\"fXsizeReal\":20,\"fYsizeReal\":14.28571,\"fWindowTopX\":0,\"fWindowTopY\":0,\"fWindowWidth\":0,\"fWindowHeight\":0,\"fCw\":696,\"fCh\":472,\"fCatt\":{\"_typename\":\"TAttCanvas\",\"fXBetween\":2,\"fYBetween\":2,\"fTitleFromTop\":1.2,\"fXdate\":0.2,\"fYdate\":0.3,\"fAdate\":1},\"kMoveOpaque\":true,\"kResizeOpaque\":true,\"fHighLightColor\":2,\"fBatch\":true,\"kShowEventStatus\":false,\"kAutoExec\":true,\"kMenuBar\":true},\"fActive\":false,\"fReadOnly\":true,\"fWithoutPrimitives\":false,\"fHasExecs\":false,\"fPrimitives\":[{\"_typename\":\"TWebSnapshot\",\"fUniqueID\":0,\"fBits\":0,\"fObjectID\":\"\",\"fOption\":\"\",\"fKind\":4,\"fSnapshot\":{\"_typename\":\"TWebPainting\",\"fUniqueID\":0,\"fBits\":0,\"fClassName\":\"\",\"fObjectName\":\"\",\"fOper\":\"0:255,255,255;1:0,0,0;2:255,0,0;3:0,255,0;4:0,0,255;5:255,255,0;6:255,0,255;7:0,255,255;8:89,211,84;9:89,84,216;10:254,254,254;11:192,182,172;12:76,76,76;13:102,102,102;14:127,127,127;15:153,153,153;16:178,178,178;17:204,204,204;18:229,229,229;19:242,242,242;20:204,198,170;21:204,198,170;22:193,191,168;23:186,181,163;24:178,165,150;25:183,163,155;26:173,153,140;27:155,142,130;28:135,102,86;29:175,206,198;30:132,193,163;31:137,168,160;32:130,158,140;33:173,188,198;34:122,142,153;35:117,137,145;36:104,130,150;37:109,122,132;38:124,153,209;39:127,127,155;40:170,165,191;41:211,206,135;42:221,186,135;43:188,158,130;44:198,153,124;45:191,130,119;46:206,94,96;47:170,142,147;48:165,119,122;49:147,104,112;50:211,89,84;51:146,0,255;52:122,0,255;53:98,0,255;54:74,0,255;55:51,0,255;56:27,0,255;57:3,0,255;58:0,20,255;59:0,44,255;60:0,68,255;61:0,91,255;62:0,115,255;63:0,139,255;64:0,163,255;65:0,187,255;66:0,210,255;67:0,234,255;68:0,255,251;69:0,255,227;70:0,255,204;71:0,255,180;72:0,255,156;73:0,255,132;74:0,255,108;75:0,255,85;76:0,255,61;77:0,255,37;78:0,255,13;79:10,255,0;80:34,255,0;81:57,255,0;82:81,255,0;83:105,255,0;84:129,255,0;85:153,255,0;86:176,255,0;87:200,255,0;88:224,255,0;89:248,255,0;90:255,238,0;91:255,214,0;92:255,190,0;93:255,166,0;94:255,142,0;95:255,119,0;96:255,95,0;97:255,71,0;98:255,47,0;99:255,23,0;100:111,45,168;101:165,42,42;102:178,190,181;103:87,144,252;104:248,156,32;105:228,37,54;106:150,74,139;107:156,156,161;108:122,33,221;109:24,69,251;110:255,94,2;111:201,31,22;112:200,73,169;113:173,173,125;114:134,200,221;115:87,141,255;116:101,99,100;117:63,144,218;118:255,169,14;119:189,31,1;120:148,164,162;121:131,45,182;122:169,107,89;123:231,99,0;124:185,172,112;125:113,117,129;126:146,218,221;127:178,178,178;201:91,91,91;202:122,122,122;203:183,183,183;204:214,214,214;205:137,15,15;206:183,20,20;207:234,71,71;208:239,117,117;209:15,137,15;210:20,183,20;211:71,234,71;212:117,239,117;213:15,15,137;214:20,20,183;215:71,71,234;216:117,117,239;217:137,137,15;218:183,183,20;219:234,234,71;220:239,239,117;221:137,15,137;222:183,20,183;223:234,71,234;224:239,117,239;225:15,137,137;226:20,183,183;227:71,234,234;228:117,239,239;390:255,255,204;391:255,255,153;392:204,204,153;393:255,255,102;394:204,204,102;395:153,153,102;396:255,255,51;397:204,204,51;398:153,153,51;399:102,102,51;400:255,255,0;401:204,204,0;402:153,153,0;403:102,102,0;404:51,51,0;406:204,255,204;407:153,255,153;408:153,204,153;409:102,255,102;410:102,204,102;411:102,153,102;412:51,255,51;413:51,204,51;414:51,153,51;415:51,102,51;416:0,255,0;417:0,204,0;418:0,153,0;419:0,102,0;420:0,51,0;422:204,255,255;423:153,255,255;424:153,204,204;425:102,255,255;426:102,204,204;427:102,153,153;428:51,255,255;429:51,204,204;430:51,153,153;431:51,102,102;432:0,255,255;433:0,204,204;434:0,153,153;435:0,102,102;436:0,51,51;590:204,204,255;591:153,153,255;592:153,153,204;593:102,102,255;594:102,102,204;595:102,102,153;596:51,51,255;597:51,51,204;598:51,51,153;599:51,51,102;600:0,0,255;601:0,0,204;602:0,0,153;603:0,0,102;604:0,0,51;606:255,204,255;607:255,153,255;608:204,153,204;609:255,102,255;610:204,102,204;611:153,102,153;612:255,51,255;613:204,51,204;614:153,51,153;615:102,51,102;616:255,0,255;617:204,0,204;618:153,0,153;619:102,0,102;620:51,0,51;622:255,204,204;623:255,153,153;624:204,153,153;625:255,102,102;626:204,102,102;627:153,102,102;628:255,51,51;629:204,51,51;630:153,51,51;631:102,51,51;632:255,0,0;633:204,0,0;634:153,0,0;635:102,0,0;636:51,0,0;791:255,204,153;792:204,153,102;793:153,102,51;794:153,102,0;795:204,153,51;796:255,204,102;797:255,153,0;798:255,204,51;799:204,153,0;800:255,204,0;801:255,153,51;802:204,102,0;803:102,51,0;804:153,51,0;805:204,102,51;806:255,153,102;807:255,102,0;808:255,102,51;809:204,51,0;810:255,51,0;811:153,255,51;812:102,204,0;813:51,102,0;814:51,153,0;815:102,204,51;816:153,255,102;817:102,255,0;818:102,255,51;819:51,204,0;820:51,255,0;821:204,255,153;822:153,204,102;823:102,153,51;824:102,153,0;825:153,204,51;826:204,255,102;827:153,255,0;828:204,255,51;829:153,204,0;830:204,255,0;831:153,255,204;832:102,204,153;833:51,153,102;834:0,153,102;835:51,204,153;836:102,255,204;837:0,255,102;838:51,255,204;839:0,204,153;840:0,255,204;841:51,255,153;842:0,204,102;843:0,102,51;844:0,153,51;845:51,204,102;846:102,255,153;847:0,255,153;848:51,255,102;849:0,204,51;850:0,255,51;851:153,204,255;852:102,153,204;853:51,102,153;854:0,51,153;855:51,102,204;856:102,153,255;857:0,102,255;858:51,102,255;859:0,51,204;860:0,51,255;861:51,153,255;862:0,102,204;863:0,51,102;864:0,102,153;865:51,153,204;866:102,204,255;867:0,153,255;868:51,204,255;869:0,153,204;870:0,204,255;871:204,153,255;872:153,102,204;873:102,51,153;874:102,0,153;875:153,51,204;876:204,102,255;877:153,0,255;878:204,51,255;879:153,0,204;880:204,0,255;881:153,51,255;882:102,0,204;883:51,0,102;884:51,0,153;885:102,51,204;886:153,102,255;887:102,0,255;888:102,51,255;889:51,0,204;890:51,0,255;891:255,51,153;892:204,0,102;893:102,0,51;894:153,0,51;895:204,51,102;896:255,102,153;897:255,0,102;898:255,51,102;899:204,0,51;900:255,0,51;901:255,153,204;902:204,102,153;903:153,51,102;904:153,0,102;905:204,51,153;906:255,102,204;907:255,0,153;908:204,0,153;909:255,51,204;910:255,0,153;920:204,204,204;921:153,153,153;922:102,102,102;923:51,51,51;924:53,42,134;925:51,44,137;926:50,45,140;927:49,47,143;928:48,48,146;929:46,50,148;930:45,51,151;931:44,53,154;932:43,55,157;933:42,56,160;934:40,58,162;935:39,59,165;936:38,61,168;937:37,63,171;938:35,64,174;939:34,66,176;940:33,67,179;941:32,69,182;942:31,71,185;943:29,72,187;944:28,74,190;945:27,75,193;946:26,77,196;947:24,79,199;948:23,80,201;949:22,82,204;950:21,83,207;951:19,85,210;952:18,86,213;953:17,88,215;954:16,90,218;955:15,91,221;956:15,92,221;957:15,94,220;958:15,95,220;959:15,96,220;960:15,97,220;961:15,98,220;962:16,99,219;963:16,100,219;964:16,102,219;965:16,103,219;966:16,104,218;967:16,105,218;968:17,106,218;969:17,107,218;970:17,109,217;971:17,110,217;972:17,111,217;973:17,112,217;974:17,113,216;975:18,114,216;976:18,115,216;977:18,117,216;978:18,118,215;979:18,119,215;980:18,120,215;981:18,121,215;982:19,122,215;983:19,123,214;984:19,125,214;985:19,126,214;986:19,127,214;987:19,128,213;988:19,129,213;989:19,130,213;990:18,131,212;991:18,132,212;992:17,134,211;993:17,135,211;994:16,136,211;995:16,137,210;996:15,138,210;997:15,139,210;998:15,140,209;999:14,141,209;1000:14,142,208;1001:13,143,208;1002:13,145,208;1003:12,146,207;1004:12,147,207;1005:12,148,207;1006:11,149,206;1007:11,150,206;1008:10,151,205;1009:10,152,205;1010:9,153,205;1011:9,154,204;1012:8,155,204;1013:8,157,204;1014:8,158,203;1015:7,159,203;1016:7,160,202;1017:6,161,202;1018:6,162,202;1019:5,163,201;1020:7,164,200;1021:8,164,199;1022:9,165,198;1023:10,166,197;1024:12,166,195;1025:13,167,194;1026:14,167,193;1027:15,168,192;1028:17,169,191;1029:18,169,189;1030:19,170,188;1031:20,170,187;1032:22,171,186;1033:23,172,185;1034:24,172,184;1035:25,173,182;1036:27,173,181;1037:28,174,180;1038:29,175,179;1039:30,175,178;1040:32,176,176;1041:33,176,175;1042:34,177,174;1043:35,178,173;1044:37,178,172;1045:38,179,170;1046:39,180,169;1047:40,180,168;1048:42,181,167;1049:43,181,166;1050:44,182,165;1051:45,183,163;1052:48,183,162;1053:51,183,161;1054:54,183,159;1055:57,184,158;1056:59,184,156;1057:62,184,155;1058:65,184,154;1059:68,185,152;1060:71,185,151;1061:73,185,149;1062:76,185,148;1063:79,186,146;1064:82,186,145;1065:84,186,144;1066:87,186,142;1067:90,187,141;1068:93,187,139;1069:96,187,138;1070:98,187,137;1071:101,188,135;1072:104,188,134;1073:107,188,132;1074:110,188,131;1075:112,189,130;1076:115,189,128;1077:118,189,127;1078:121,189,125;1079:124,190,124;1080:126,190,123;1081:129,190,121;1082:132,190,120;1083:135,191,118;1084:137,190,117;1085:139,190,117;1086:142,190,116;1087:144,190,115;1088:146,190,114;1089:148,190,113;1090:151,190,112;1091:153,190,111;1092:155,189,110;1093:158,189,109;1094:160,189,108;1095:162,189,107;1096:165,189,106;1097:167,189,105;1098:169,189,104;1099:171,188,104;1100:174,188,103;1101:176,188,102;1102:178,188,101;1103:181,188,100;1104:183,188,99;1105:185,188,98;1106:188,188,97;1107:190,187,96;1108:192,187,95;1109:194,187,94;1110:197,187,93;1111:199,187,92;1112:201,187,92;1113:204,187,91;1114:206,186,90;1115:208,186,89;1116:210,187,88;1117:211,187,86;1118:212,188,85;1119:214,188,84;1120:215,188,83;1121:217,189,81;1122:218,189,80;1123:220,190,79;1124:221,190,78;1125:222,191,77;1126:224,191,75;1127:225,191,74;1128:227,192,73;1129:228,192,72;1130:229,193,70;1131:231,193,69;1132:232,194,68;1133:234,194,67;1134:235,194,66;1135:236,195,64;1136:238,195,63;1137:239,196,62;1138:241,196,61;1139:242,197,59;1140:244,197,58;1141:245,197,57;1142:246,198,56;1143:248,198,55;1144:249,199,53;1145:251,199,52;1146:252,200,51;1147:253,200,50;1148:253,202,49;1149:253,203,47;1150:253,205,46;1151:253,206,45;1152:253,208,44;1153:252,209,43;1154:252,211,42;1155:252,213,41;1156:252,214,39;1157:252,216,38;1158:252,217,37;1159:252,219,36;1160:251,220,35;1161:251,222,34;1162:251,224,33;1163:251,225,31;1164:251,227,30;1165:251,228,29;1166:250,230,28;1167:250,231,27;1168:250,233,26;1169:250,235,25;1170:250,236,23;1171:250,238,22;1172:250,239,21;1173:249,241,20;1174:249,242,19;1175:249,244,18;1176:249,246,17;1177:249,247,16;1178:249,249,14\",\"fBuf\":{\"$arr\":\"Float32\",\"len\":50,\"v\":[51,52,53,54,55,56,57,58,59,60,61,62,63,64,65,66,67,68,69,70,71,72,73,74,75,76,77,78,79,80,81,82,83,84,85,86,87,88,89,90,91,92,93,94,95,96,97,98,99,632]}}},{\"_typename\":\"TWebSnapshot\",\"fUniqueID\":0,\"fBits\":0,\"fObjectID\":\"\",\"fOption\":\"\",\"fKind\":5,\"fSnapshot\":{\"_typename\":\"TStyle\",\"fUniqueID\":0,\"fBits\":0,\"fName\":\"ildStyle\",\"fTitle\":\"ILD Style\",\"fLineColor\":1,\"fLineStyle\":1,\"fLineWidth\":2,\"fFillColor\":10,\"fFillStyle\":1001,\"fMarkerColor\":1,\"fMarkerStyle\":20,\"fMarkerSize\":0.7,\"fTextAngle\":0,\"fTextSize\":0.05,\"fTextAlign\":11,\"fTextColor\":1,\"fTextFont\":42,\"fXaxis\":{\"_typename\":\"TAttAxis\",\"fNdivisions\":506,\"fAxisColor\":1,\"fLabelColor\":1,\"fLabelFont\":42,\"fLabelOffset\":0.015,\"fLabelSize\":0.06,\"fTickLength\":0.03,\"fTitleOffset\":1,\"fTitleSize\":0.07,\"fTitleColor\":1,\"fTitleFont\":42},\"fYaxis\":{\"_typename\":\"TAttAxis\",\"fNdivisions\":506,\"fAxisColor\":1,\"fLabelColor\":1,\"fLabelFont\":42,\"fLabelOffset\":0.015,\"fLabelSize\":0.06,\"fTickLength\":0.03,\"fTitleOffset\":1.1,\"fTitleSize\":0.07,\"fTitleColor\":1,\"fTitleFont\":42},\"fZaxis\":{\"_typename\":\"TAttAxis\",\"fNdivisions\":510,\"fAxisColor\":1,\"fLabelColor\":1,\"fLabelFont\":42,\"fLabelOffset\":0.015,\"fLabelSize\":0.06,\"fTickLength\":0.03,\"fTitleOffset\":1.1,\"fTitleSize\":0.07,\"fTitleColor\":1,\"fTitleFont\":42},\"fBarWidth\":1,\"fBarOffset\":0,\"fColorModelPS\":0,\"fDrawBorder\":0,\"fOptLogx\":0,\"fOptLogy\":0,\"fOptLogz\":0,\"fOptDate\":0,\"fOptStat\":0,\"fOptTitle\":1,\"fOptFile\":0,\"fOptFit\":0,\"fShowEventStatus\":0,\"fShowEditor\":0,\"fShowToolBar\":0,\"fNumberContours\":20,\"fAttDate\":{\"_typename\":\"TAttText\",\"fTextAngle\":0,\"fTextSize\":0.025,\"fTextAlign\":11,\"fTextColor\":1,\"fTextFont\":62},\"fDateX\":0.01,\"fDateY\":0.01,\"fEndErrorSize\":2,\"fErrorX\":0.5,\"fFuncColor\":632,\"fFuncStyle\":1,\"fFuncWidth\":2,\"fGridColor\":0,\"fGridStyle\":3,\"fGridWidth\":1,\"fLegendBorderSize\":0,\"fLegendFillColor\":0,\"fLegendFillStyle\":1001,\"fLegendFont\":62,\"fLegendTextSize\":0,\"fHatchesLineWidth\":1,\"fHatchesSpacing\":1,\"fFrameFillColor\":10,\"fFrameLineColor\":1,\"fFrameFillStyle\":1001,\"fFrameLineStyle\":1,\"fFrameLineWidth\":2,\"fFrameBorderSize\":1,\"fFrameBorderMode\":0,\"fHistFillColor\":0,\"fHistLineColor\":1,\"fHistFillStyle\":1001,\"fHistLineStyle\":1,\"fHistLineWidth\":2,\"fHistMinimumZero\":false,\"fHistTopMargin\":0.05,\"fCanvasPreferGL\":false,\"fCanvasColor\":10,\"fCanvasBorderSize\":2,\"fCanvasBorderMode\":0,\"fCanvasDefH\":500,\"fCanvasDefW\":700,\"fCanvasDefX\":10,\"fCanvasDefY\":10,\"fPadColor\":10,\"fPadBorderSize\":2,\"fPadBorderMode\":0,\"fPadBottomMargin\":0.17,\"fPadTopMargin\":0.08,\"fPadLeftMargin\":0.15,\"fPadRightMargin\":0.16,\"fPadGridX\":false,\"fPadGridY\":false,\"fPadTickX\":1,\"fPadTickY\":1,\"fPaperSizeX\":20,\"fPaperSizeY\":26,\"fScreenFactor\":1,\"fStatColor\":10,\"fStatTextColor\":1,\"fStatBorderSize\":0,\"fStatFont\":42,\"fStatFontSize\":0.07,\"fStatStyle\":1001,\"fStatFormat\":\"6.4g\",\"fStatX\":0.98,\"fStatY\":0.995,\"fStatW\":0.2,\"fStatH\":0.16,\"fStripDecimals\":true,\"fTitleAlign\":13,\"fTitleColor\":0,\"fTitleTextColor\":1,\"fTitleBorderSize\":0,\"fTitleFont\":62,\"fTitleFontSize\":0,\"fTitleStyle\":1001,\"fTitleX\":0.01,\"fTitleY\":0.995,\"fTitleW\":0,\"fTitleH\":0,\"fLegoInnerR\":0.5,\"fLineStyles\":[\"\",\"  \",\" 12 12\",\" 4 8\",\" 12 16 4 16\",\" 20 12 4 12\",\" 20 12 4 12 4 12 4 12\",\" 20 20\",\" 20 12 4 12 4 12\",\" 80 20\",\" 80 40 4 40\",\"  \",\"  \",\"  \",\"  \",\"  \",\"  \",\"  \",\"  \",\"  \",\"  \",\"  \",\"  \",\"  \",\"  \",\"  \",\"  \",\"  \",\"  \",\"  \"],\"fHeaderPS\":\"\",\"fTitlePS\":\"\",\"fFitFormat\":\"5.4g\",\"fPaintTextFormat\":\"g\",\"fLineScalePS\":3,\"fJoinLinePS\":0,\"fCapLinePS\":0,\"fTimeOffset\":788918400,\"fImageScaling\":1,\"fCandleWhiskerRange\":1,\"fCandleBoxRange\":0.5,\"fCandleScaled\":false,\"fViolinScaled\":true,\"fCandleCircleLineWidth\":1,\"fCandleCrossLineWidth\":1,\"fXAxisExpXOffset\":0,\"fXAxisExpYOffset\":0,\"fYAxisExpXOffset\":0,\"fYAxisExpYOffset\":0,\"fAxisMaxDigits\":5,\"fOrthoCamera\":false}},{\"_typename\":\"TWebSnapshot\",\"fUniqueID\":0,\"fBits\":0,\"fObjectID\":\"\",\"fOption\":\"\",\"fKind\":1,\"fSnapshot\":{\"_typename\":\"TFrame\",\"fUniqueID\":0,\"fBits\":8,\"fLineColor\":1,\"fLineStyle\":1,\"fLineWidth\":2,\"fFillColor\":10,\"fFillStyle\":1001,\"fX1\":-0.004,\"fY1\":0,\"fX2\":0.004,\"fY2\":2,\"fBorderSize\":1,\"fBorderMode\":0}},{\"_typename\":\"TWebSnapshot\",\"fUniqueID\":0,\"fBits\":0,\"fObjectID\":\"\",\"fOption\":\"FUNC\",\"fKind\":1,\"fSnapshot\":{\"_typename\":\"TH1D\",\"fUniqueID\":0,\"fBits\":520,\"fName\":\"frame_ka_243d67b0\",\"fTitle\":\"\",\"fLineColor\":1,\"fLineStyle\":1,\"fLineWidth\":2,\"fFillColor\":0,\"fFillStyle\":1001,\"fMarkerColor\":1,\"fMarkerStyle\":20,\"fMarkerSize\":0.7,\"fNcells\":102,\"fXaxis\":{\"_typename\":\"TAxis\",\"fUniqueID\":0,\"fBits\":0,\"fName\":\"xaxis\",\"fTitle\":\"ka\",\"fNdivisions\":506,\"fAxisColor\":1,\"fLabelColor\":1,\"fLabelFont\":42,\"fLabelOffset\":0.015,\"fLabelSize\":0.06,\"fTickLength\":0.03,\"fTitleOffset\":1,\"fTitleSize\":0.07,\"fTitleColor\":1,\"fTitleFont\":42,\"fNbins\":100,\"fXmin\":-0.004,\"fXmax\":0.004,\"fXbins\":[],\"fFirst\":0,\"fLast\":0,\"fBits2\":0,\"fTimeDisplay\":false,\"fTimeFormat\":\"\",\"fLabels\":null,\"fModLabs\":null},\"fYaxis\":{\"_typename\":\"TAxis\",\"fUniqueID\":0,\"fBits\":0,\"fName\":\"yaxis\",\"fTitle\":\"-#Delta NLL\",\"fNdivisions\":506,\"fAxisColor\":1,\"fLabelColor\":1,\"fLabelFont\":42,\"fLabelOffset\":0.015,\"fLabelSize\":0.06,\"fTickLength\":0.03,\"fTitleOffset\":1.1,\"fTitleSize\":0.07,\"fTitleColor\":1,\"fTitleFont\":42,\"fNbins\":1,\"fXmin\":0,\"fXmax\":1,\"fXbins\":[],\"fFirst\":0,\"fLast\":0,\"fBits2\":0,\"fTimeDisplay\":false,\"fTimeFormat\":\"\",\"fLabels\":null,\"fModLabs\":null},\"fZaxis\":{\"_typename\":\"TAxis\",\"fUniqueID\":0,\"fBits\":0,\"fName\":\"zaxis\",\"fTitle\":\"\",\"fNdivisions\":510,\"fAxisColor\":1,\"fLabelColor\":1,\"fLabelFont\":42,\"fLabelOffset\":0.015,\"fLabelSize\":0.06,\"fTickLength\":0.03,\"fTitleOffset\":1.1,\"fTitleSize\":0.07,\"fTitleColor\":1,\"fTitleFont\":42,\"fNbins\":1,\"fXmin\":0,\"fXmax\":1,\"fXbins\":[],\"fFirst\":0,\"fLast\":0,\"fBits2\":0,\"fTimeDisplay\":false,\"fTimeFormat\":\"\",\"fLabels\":null,\"fModLabs\":null},\"fBarOffset\":0,\"fBarWidth\":1000,\"fEntries\":1,\"fTsumw\":0,\"fTsumw2\":0,\"fTsumwx\":0,\"fTsumwx2\":0,\"fMaximum\":2,\"fMinimum\":0,\"fNormFactor\":0,\"fContour\":[],\"fSumw2\":[],\"fOption\":\"\",\"fFunctions\":{\"_typename\":\"TList\",\"name\":\"TList\",\"arr\":[],\"opt\":[]},\"fBufferSize\":0,\"fBuffer\":[],\"fBinStatErrOpt\":0,\"fStatOverflows\":2,\"fArray\":{\"$arr\":\"Float64\",\"len\":102,\"p\":1,\"v\":3.72722889745627}}},{\"_typename\":\"TWebSnapshot\",\"fUniqueID\":0,\"fBits\":0,\"fObjectID\":\"\",\"fOption\":\"l\",\"fKind\":1,\"fSnapshot\":{\"_typename\":\"RooCurve\",\"fUniqueID\":0,\"fBits\":525320,\"fName\":\"RooEvaluatorWrapper_Norm[ka]\",\"fTitle\":\"Projection of RooEvaluatorWrapper\",\"fLineColor\":600,\"fLineStyle\":1,\"fLineWidth\":3,\"fFillColor\":0,\"fFillStyle\":1000,\"fMarkerColor\":1,\"fMarkerStyle\":20,\"fMarkerSize\":0.7,\"fNpoints\":106,\"fX\":{\"$arr\":\"Float64\",\"len\":106,\"v\":[-0.00408008,-0.00408,-0.004,-0.00392,-0.00384,-0.00376,-0.00368,-0.0036,-0.00352,-0.00344,-0.00336,-0.00328,-0.0032,-0.00312,-0.00304,-0.00296,-0.00288,-0.0028,-0.00272,-0.00264,-0.00256,-0.00248,-0.0024,-0.00232,-0.00224,-0.00216,-0.00208,-0.002,-0.00192,-0.00184,-0.00176,-0.00168,-0.0016,-0.00152,-0.00144,-0.00136,-0.00128,-0.0012,-0.00112,-0.00104,-9.6e-4,-8.8e-4,-8e-4,-7.2e-4,-6.4e-4,-5.6e-4,-4.8e-4,-4e-4,-3.2e-4,-2.4e-4,-1.6e-4,-7.99999999999993e-5,0,8.00000000000002e-5,1.6e-4,2.40000000000001e-4,3.2e-4,4e-4,4.8e-4,5.60000000000001e-4,6.4e-4,7.2e-4,8e-4,8.80000000000001e-4,9.6e-4,0.00104,0.00112,0.0012,0.00128,0.00136,0.00144,0.00152,0.0016,0.00168,0.00176,0.00184,0.00192,0.002,0.00208,0.00216,0.00224,0.00232,0.0024,0.00248,0.00256,0.00264,0.00272,0.0028,0.00288,0.00296,0.00304,0.00312,0.0032,0.00328,0.00336,0.00344,0.00352,0.0036,0.00368,0.00376,0.00384,0.00392,0.004,0.004,0.00408,0.00408008]},\"fY\":{\"$arr\":\"Float64\",\"len\":106,\"p\":1,\"v\":[3.54974180710121,3.54974180710121,3.40917203154024,3.27144204942442,3.13655186075502,3.00450146553044,2.87529086375272,2.74892005541909,2.62538904053224,2.50469781909072,2.38684639109505,2.27183475654525,2.15966291544038,2.05033086778181,1.9438386135685,1.84018615280125,1.73937348547989,1.64140061160339,1.5462675311735,1.45397424418893,1.36452075064989,1.27790705055691,1.19413314390866,1.11319903070682,1.03510471095103,0.959850184640288,0.887435451775417,0.817860512356432,0.751125366382681,0.687230013854872,0.626174454772695,0.567958689136276,0.51258271694536,0.460046538200316,0.410350152901117,0.363493561047093,0.319476762639113,0.278299757676763,0.239962546160157,0.20446512808914,0.171807503463739,0.141989672284097,0.115011634550001,0.0908733902617769,0.0695749394191978,0.0511162820222353,0.0354974180710173,0.0227183475654726,0.0127790705055588,0.00567958689136105,0.00141989672283671,0,0.00141989672283671,0.00567958689140369,0.0127790705055588,0.0227183475654869,0.0354974180709604,0.0511162820222353,0.0695749394192262,0.0908733902617485,0.115011634550058,0.141989672284041,0.171807503463612,0.204465128088984,0.2399625461601,0.278299757676706,0.319476762639241,0.36349356104715,0.410350152901017,0.460046538200373,0.512582716945033,0.56795868913629,0.626174454772439,0.687230013854972,0.751125366382311,0.817860512356134,0.887435451775374,0.959850184640175,1.03510471095123,1.11319903070698,1.19413314390879,1.27790705055662,1.36452075064983,1.45397424418908,1.5462675311735,1.64140061160376,1.73937348548017,1.84018615280118,1.94383861356866,2.05033086778189,2.15966291544026,2.27183475654468,2.38684639109466,2.5046978190905,2.62538904053217,2.7489200554193,2.87529086375226,3.00450146553055,3.13655186075404,3.27144204942478,3.40917203154019,3.54974180695947,3.54974180695947,3.54974180695947]},\"fFunctions\":{\"_typename\":\"TList\",\"name\":\"TList\",\"arr\":[],\"opt\":[]},\"fHistogram\":{\"_typename\":\"TH1F\",\"fUniqueID\":0,\"fBits\":512,\"fName\":\"RooEvaluatorWrapper_Norm[ka]\",\"fTitle\":\"Projection of RooEvaluatorWrapper\",\"fLineColor\":1,\"fLineStyle\":1,\"fLineWidth\":2,\"fFillColor\":0,\"fFillStyle\":1001,\"fMarkerColor\":1,\"fMarkerStyle\":20,\"fMarkerSize\":0.7,\"fNcells\":108,\"fXaxis\":{\"_typename\":\"TAxis\",\"fUniqueID\":0,\"fBits\":0,\"fName\":\"xaxis\",\"fTitle\":\"\",\"fNdivisions\":506,\"fAxisColor\":1,\"fLabelColor\":1,\"fLabelFont\":42,\"fLabelOffset\":0.015,\"fLabelSize\":0.06,\"fTickLength\":0.03,\"fTitleOffset\":1,\"fTitleSize\":0.07,\"fTitleColor\":1,\"fTitleFont\":42,\"fNbins\":106,\"fXmin\":-0.004896096,\"fXmax\":0.004896096,\"fXbins\":[],\"fFirst\":0,\"fLast\":0,\"fBits2\":0,\"fTimeDisplay\":false,\"fTimeFormat\":\"\",\"fLabels\":null,\"fModLabs\":null},\"fYaxis\":{\"_typename\":\"TAxis\",\"fUniqueID\":0,\"fBits\":0,\"fName\":\"yaxis\",\"fTitle\":\"\",\"fNdivisions\":506,\"fAxisColor\":1,\"fLabelColor\":1,\"fLabelFont\":42,\"fLabelOffset\":0.015,\"fLabelSize\":0.06,\"fTickLength\":0.03,\"fTitleOffset\":1.1,\"fTitleSize\":0.07,\"fTitleColor\":1,\"fTitleFont\":42,\"fNbins\":1,\"fXmin\":0,\"fXmax\":3.90471598781133,\"fXbins\":[],\"fFirst\":0,\"fLast\":0,\"fBits2\":0,\"fTimeDisplay\":false,\"fTimeFormat\":\"\",\"fLabels\":null,\"fModLabs\":null},\"fZaxis\":{\"_typename\":\"TAxis\",\"fUniqueID\":0,\"fBits\":0,\"fName\":\"zaxis\",\"fTitle\":\"\",\"fNdivisions\":510,\"fAxisColor\":1,\"fLabelColor\":1,\"fLabelFont\":42,\"fLabelOffset\":0.015,\"fLabelSize\":0.06,\"fTickLength\":0.03,\"fTitleOffset\":1.1,\"fTitleSize\":0.07,\"fTitleColor\":1,\"fTitleFont\":42,\"fNbins\":1,\"fXmin\":0,\"fXmax\":1,\"fXbins\":[],\"fFirst\":0,\"fLast\":0,\"fBits2\":0,\"fTimeDisplay\":false,\"fTimeFormat\":\"\",\"fLabels\":null,\"fModLabs\":null},\"fBarOffset\":0,\"fBarWidth\":1000,\"fEntries\":0,\"fTsumw\":0,\"fTsumw2\":0,\"fTsumwx\":0,\"fTsumwx2\":0,\"fMaximum\":3.90471598781133,\"fMinimum\":0,\"fNormFactor\":0,\"fContour\":[],\"fSumw2\":[],\"fOption\":\"\",\"fFunctions\":{\"_typename\":\"TList\",\"name\":\"TList\",\"arr\":[],\"opt\":[]},\"fBufferSize\":0,\"fBuffer\":[],\"fBinStatErrOpt\":0,\"fStatOverflows\":2,\"fArray\":{\"$arr\":\"Float32\",\"len\":108}},\"fMinimum\":-1111,\"fMaximum\":-1111,\"fOption\":\"\",\"_yAxisLabel\":\"Projection of RooEvaluatorWrapper\",\"_ymin\":0,\"_ymax\":3.54974180710121,\"_normValue\":0}},{\"_typename\":\"TWebSnapshot\",\"fUniqueID\":0,\"fBits\":0,\"fObjectID\":\"\",\"fOption\":\"l\",\"fKind\":1,\"fSnapshot\":{\"_typename\":\"RooCurve\",\"fUniqueID\":0,\"fBits\":525320,\"fName\":\"RooEvaluatorWrapper_Profile[ka]_Norm[ka]\",\"fTitle\":\"Projection of Profile of RooEvaluatorWrapper\",\"fLineColor\":632,\"fLineStyle\":1,\"fLineWidth\":3,\"fFillColor\":0,\"fFillStyle\":1000,\"fMarkerColor\":1,\"fMarkerStyle\":20,\"fMarkerSize\":0.7,\"fNpoints\":106,\"fX\":{\"$arr\":\"Float64\",\"len\":106,\"v\":[-0.00408008,-0.00408,-0.004,-0.00392,-0.00384,-0.00376,-0.00368,-0.0036,-0.00352,-0.00344,-0.00336,-0.00328,-0.0032,-0.00312,-0.00304,-0.00296,-0.00288,-0.0028,-0.00272,-0.00264,-0.00256,-0.00248,-0.0024,-0.00232,-0.00224,-0.00216,-0.00208,-0.002,-0.00192,-0.00184,-0.00176,-0.00168,-0.0016,-0.00152,-0.00144,-0.00136,-0.00128,-0.0012,-0.00112,-0.00104,-9.6e-4,-8.8e-4,-8e-4,-7.2e-4,-6.4e-4,-5.6e-4,-4.8e-4,-4e-4,-3.2e-4,-2.4e-4,-1.6e-4,-7.99999999999993e-5,0,8.00000000000002e-5,1.6e-4,2.40000000000001e-4,3.2e-4,4e-4,4.8e-4,5.60000000000001e-4,6.4e-4,7.2e-4,8e-4,8.80000000000001e-4,9.6e-4,0.00104,0.00112,0.0012,0.00128,0.00136,0.00144,0.00152,0.0016,0.00168,0.00176,0.00184,0.00192,0.002,0.00208,0.00216,0.00224,0.00232,0.0024,0.00248,0.00256,0.00264,0.00272,0.0028,0.00288,0.00296,0.00304,0.00312,0.0032,0.00328,0.00336,0.00344,0.00352,0.0036,0.00368,0.00376,0.00384,0.00392,0.004,0.004,0.00408,0.00408008]},\"fY\":{\"$arr\":\"Float64\",\"len\":106,\"p\":1,\"v\":[2.89616133080993,2.89616133080993,2.78150653327729,2.66921173898254,2.55924674466037,2.45158576798192,2.34620921443924,2.24308664600177,2.14226801474034,2.04377973503271,1.94762892350069,1.85380623167089,1.76229966996584,1.67310246716734,1.58621458102471,1.50164056948539,1.41938534991348,1.33945087542021,1.2618359781364,1.18653831566168,1.11355623872667,1.04288951389805,0.974538953673218,0.908505546594995,0.844789781497056,0.78339152805556,0.724310347091873,0.667545873857151,0.613098012827308,0.560966897361354,0.511152724470676,0.463655610602174,0.418475549698357,0.375612462000362,0.335066270041665,0.296836945222381,0.260924507371797,0.227328994834679,0.196050434174722,0.167088828217189,0.140444163040158,0.116116422658294,0.0941055995740498,0.0744116962530939,0.057034719954018,0.0419746765219742,0.0292315673251125,0.018805390060237,0.0106961415138187,0.00490381986503508,0.00142842528936171,2.69959118142538e-4,0.00142842259838005,0.00490381615925628,0.0106961394500757,0.0188053918412692,0.0292315729125505,0.0419746826338354,0.0570347212400435,0.0744116889900965,0.0941055859989461,0.116116412220791,0.140444167535975,0.167088851850465,0.196050465145319,0.227329007460455,0.260924478847627,0.29683687933607,0.335066208921702,0.375612467581476,0.418475655294074,0.463655772055333,0.511152817871022,0.56096679275133,0.613097696703292,0.667545529727107,0.724310291819691,0.783391982974791,0.844790603188741,0.908506152464454,0.97453863080662,1.04288803821353,1.11355437468671,1.18653764022575,1.26183783483067,1.33945495849841,1.41938901123115,1.5016399930269,1.5862079038879,1.67309274381591,1.76229451280548,1.85381321086206,1.94764883798355,2.04380139417036,2.14227087941944,2.24305729373124,2.34616063710872,2.45158090955239,2.55931811106262,2.66937224163691,2.78174330127524,2.89643128986089,2.89643128986089,2.89643128986089]},\"fFunctions\":{\"_typename\":\"TList\",\"name\":\"TList\",\"arr\":[],\"opt\":[]},\"fHistogram\":{\"_typename\":\"TH1F\",\"fUniqueID\":0,\"fBits\":512,\"fName\":\"RooEvaluatorWrapper_Profile[ka]_Norm[ka]\",\"fTitle\":\"Projection of Profile of RooEvaluatorWrapper\",\"fLineColor\":1,\"fLineStyle\":1,\"fLineWidth\":2,\"fFillColor\":0,\"fFillStyle\":1001,\"fMarkerColor\":1,\"fMarkerStyle\":20,\"fMarkerSize\":0.7,\"fNcells\":108,\"fXaxis\":{\"_typename\":\"TAxis\",\"fUniqueID\":0,\"fBits\":0,\"fName\":\"xaxis\",\"fTitle\":\"\",\"fNdivisions\":506,\"fAxisColor\":1,\"fLabelColor\":1,\"fLabelFont\":42,\"fLabelOffset\":0.015,\"fLabelSize\":0.06,\"fTickLength\":0.03,\"fTitleOffset\":1,\"fTitleSize\":0.07,\"fTitleColor\":1,\"fTitleFont\":42,\"fNbins\":106,\"fXmin\":-0.004896096,\"fXmax\":0.004896096,\"fXbins\":[],\"fFirst\":0,\"fLast\":0,\"fBits2\":0,\"fTimeDisplay\":false,\"fTimeFormat\":\"\",\"fLabels\":null,\"fModLabs\":null},\"fYaxis\":{\"_typename\":\"TAxis\",\"fUniqueID\":0,\"fBits\":0,\"fName\":\"yaxis\",\"fTitle\":\"\",\"fNdivisions\":506,\"fAxisColor\":1,\"fLabelColor\":1,\"fLabelFont\":42,\"fLabelOffset\":0.015,\"fLabelSize\":0.06,\"fTickLength\":0.03,\"fTitleOffset\":1.1,\"fTitleSize\":0.07,\"fTitleColor\":1,\"fTitleFont\":42,\"fNbins\":1,\"fXmin\":0,\"fXmax\":3.18607441884697,\"fXbins\":[],\"fFirst\":0,\"fLast\":0,\"fBits2\":0,\"fTimeDisplay\":false,\"fTimeFormat\":\"\",\"fLabels\":null,\"fModLabs\":null},\"fZaxis\":{\"_typename\":\"TAxis\",\"fUniqueID\":0,\"fBits\":0,\"fName\":\"zaxis\",\"fTitle\":\"\",\"fNdivisions\":510,\"fAxisColor\":1,\"fLabelColor\":1,\"fLabelFont\":42,\"fLabelOffset\":0.015,\"fLabelSize\":0.06,\"fTickLength\":0.03,\"fTitleOffset\":1.1,\"fTitleSize\":0.07,\"fTitleColor\":1,\"fTitleFont\":42,\"fNbins\":1,\"fXmin\":0,\"fXmax\":1,\"fXbins\":[],\"fFirst\":0,\"fLast\":0,\"fBits2\":0,\"fTimeDisplay\":false,\"fTimeFormat\":\"\",\"fLabels\":null,\"fModLabs\":null},\"fBarOffset\":0,\"fBarWidth\":1000,\"fEntries\":0,\"fTsumw\":0,\"fTsumw2\":0,\"fTsumwx\":0,\"fTsumwx2\":0,\"fMaximum\":3.18607441884697,\"fMinimum\":0,\"fNormFactor\":0,\"fContour\":[],\"fSumw2\":[],\"fOption\":\"\",\"fFunctions\":{\"_typename\":\"TList\",\"name\":\"TList\",\"arr\":[],\"opt\":[]},\"fBufferSize\":0,\"fBuffer\":[],\"fBinStatErrOpt\":0,\"fStatOverflows\":2,\"fArray\":{\"$arr\":\"Float32\",\"len\":108}},\"fMinimum\":-1111,\"fMaximum\":-1111,\"fOption\":\"\",\"_yAxisLabel\":\"Projection of Profile of RooEvaluatorWrapper\",\"_ymin\":0,\"_ymax\":2.89643128986089,\"_normValue\":0}},{\"_typename\":\"TWebSnapshot\",\"fUniqueID\":0,\"fBits\":0,\"fObjectID\":\"\",\"fOption\":\"AXISSAME\",\"fKind\":1,\"fSnapshot\":{\"$ref\":15}}],\"fScripts\":\"\",\"fHighlightConnect\":false,\"fFixedSize\":false});\n",
       "   Core.settings.HandleKeys = false;\n",
       "   Core.draw(\"root_plot_1754919207627\", obj, \"\");\n",
       "}\n",
       "\n",
       "function script_load_root_plot_1754919207627(src, on_error) {\n",
       "    let script = document.createElement('script');\n",
       "    script.src = src;\n",
       "    script.onload = function() { display_root_plot_1754919207627(JSROOT); };\n",
       "    script.onerror = function() { script.remove(); on_error(); };\n",
       "    document.head.appendChild(script);\n",
       "}\n",
       "\n",
       "if (typeof requirejs !== 'undefined') {\n",
       "\n",
       "    // We are in jupyter notebooks, use require.js which should be configured already\n",
       "    requirejs.config({\n",
       "       paths: { 'JSRootCore' : [ 'build/jsroot', 'https://root.cern/js/7.9.0/build/jsroot', 'https://jsroot.gsi.de/7.9.0/build/jsroot' ] }\n",
       "    })(['JSRootCore'],  function(Core) {\n",
       "       display_root_plot_1754919207627(Core);\n",
       "    });\n",
       "\n",
       "} else if (typeof JSROOT !== 'undefined') {\n",
       "\n",
       "   // JSROOT already loaded, just use it\n",
       "   display_root_plot_1754919207627(JSROOT);\n",
       "\n",
       "} else {\n",
       "\n",
       "    // We are in jupyterlab without require.js, directly loading jsroot\n",
       "    // Jupyterlab might be installed in a different base_url so we need to know it.\n",
       "    try {\n",
       "        var base_url = JSON.parse(document.getElementById('jupyter-config-data').innerHTML).baseUrl;\n",
       "    } catch(_) {\n",
       "        var base_url = '/';\n",
       "    }\n",
       "\n",
       "    // Try loading a local version of requirejs and fallback to cdn if not possible.\n",
       "    script_load_root_plot_1754919207627(base_url + 'static/build/jsroot.js', function(){\n",
       "        console.error('Fail to load JSROOT locally, please check your jupyter_notebook_config.py file');\n",
       "        script_load_root_plot_1754919207627('https://root.cern/js/7.9.0/build/jsroot.js', function(){\n",
       "            document.getElementById(\"root_plot_1754919207627\").innerHTML = \"Failed to load JSROOT\";\n",
       "        });\n",
       "    });\n",
       "}\n",
       "\n",
       "</script>\n"
      ],
      "text/plain": [
       "<IPython.core.display.HTML object>"
      ]
     },
     "metadata": {},
     "output_type": "display_data"
    },
    {
     "data": {
      "text/html": [
       "\n",
       "\n",
       "<div id=\"root_plot_1754919207629\" style=\"width: 700px; height: 500px; position: relative\">\n",
       "</div>\n",
       "\n",
       "<script>\n",
       "\n",
       "function display_root_plot_1754919207629(Core) {\n",
       "   let obj = Core.parse({\"_typename\":\"TCanvasWebSnapshot\",\"fUniqueID\":0,\"fBits\":0,\"fObjectID\":\"\",\"fOption\":\"\",\"fKind\":3,\"fSnapshot\":{\"_typename\":\"TCanvas\",\"fUniqueID\":0,\"fBits\":3342344,\"fLineColor\":1,\"fLineStyle\":1,\"fLineWidth\":2,\"fFillColor\":10,\"fFillStyle\":1001,\"fLeftMargin\":0.15,\"fRightMargin\":0.16,\"fBottomMargin\":0.17,\"fTopMargin\":0.08,\"fXfile\":2,\"fYfile\":2,\"fAfile\":1,\"fXstat\":0.99,\"fYstat\":0.99,\"fAstat\":2,\"fFrameFillColor\":10,\"fFrameLineColor\":1,\"fFrameFillStyle\":1001,\"fFrameLineStyle\":1,\"fFrameLineWidth\":2,\"fFrameBorderSize\":1,\"fFrameBorderMode\":0,\"fX1\":-0.00573913035966649,\"fY1\":-0.453333338101705,\"fX2\":0.00585507226846621,\"fY2\":2.21333332856496,\"fXtoAbsPixelk\":344.520003526211,\"fXtoPixelk\":344.520003526211,\"fXtoPixel\":60030.001400113,\"fYtoAbsPixelk\":391.759999155998,\"fYtoPixelk\":391.759999155998,\"fYtoPixel\":-177,\"fUtoAbsPixelk\":0,\"fUtoPixelk\":0,\"fUtoPixel\":696,\"fVtoAbsPixelk\":472,\"fVtoPixelk\":472,\"fVtoPixel\":-472,\"fAbsPixeltoXk\":-0.00573913035966649,\"fPixeltoXk\":-0.00573913035966649,\"fPixeltoX\":1.66583371093861e-5,\"fAbsPixeltoYk\":2.21333332856496,\"fPixeltoYk\":-0.453333338101705,\"fPixeltoY\":-0.00564971751412429,\"fXlowNDC\":0,\"fYlowNDC\":0,\"fXUpNDC\":1,\"fYUpNDC\":1,\"fWNDC\":1,\"fHNDC\":1,\"fAbsXlowNDC\":0,\"fAbsYlowNDC\":0,\"fAbsWNDC\":1,\"fAbsHNDC\":1,\"fUxmin\":-0.004,\"fUymin\":0,\"fUxmax\":0.004,\"fUymax\":2,\"fTheta\":30,\"fPhi\":30,\"fAspectRatio\":0,\"fNumber\":0,\"fTickx\":1,\"fTicky\":1,\"fLogx\":0,\"fLogy\":0,\"fLogz\":0,\"fPadPaint\":0,\"fCrosshair\":0,\"fCrosshairPos\":0,\"fBorderSize\":2,\"fBorderMode\":0,\"fModified\":false,\"fGridx\":false,\"fGridy\":false,\"fAbsCoord\":false,\"fEditable\":true,\"fFixedAspectRatio\":false,\"fPrimitives\":{\"_typename\":\"TList\",\"name\":\"TList\",\"arr\":[],\"opt\":[]},\"fExecs\":null,\"fName\":\"c1_n3\",\"fTitle\":\"c1_n3\",\"fNumPaletteColor\":0,\"fNextPaletteColor\":0,\"fDISPLAY\":\"$DISPLAY\",\"fDoubleBuffer\":0,\"fRetained\":true,\"fXsizeUser\":0,\"fYsizeUser\":0,\"fXsizeReal\":20,\"fYsizeReal\":14.28571,\"fWindowTopX\":0,\"fWindowTopY\":0,\"fWindowWidth\":0,\"fWindowHeight\":0,\"fCw\":696,\"fCh\":472,\"fCatt\":{\"_typename\":\"TAttCanvas\",\"fXBetween\":2,\"fYBetween\":2,\"fTitleFromTop\":1.2,\"fXdate\":0.2,\"fYdate\":0.3,\"fAdate\":1},\"kMoveOpaque\":true,\"kResizeOpaque\":true,\"fHighLightColor\":2,\"fBatch\":true,\"kShowEventStatus\":false,\"kAutoExec\":true,\"kMenuBar\":true},\"fActive\":false,\"fReadOnly\":true,\"fWithoutPrimitives\":false,\"fHasExecs\":false,\"fPrimitives\":[{\"_typename\":\"TWebSnapshot\",\"fUniqueID\":0,\"fBits\":0,\"fObjectID\":\"\",\"fOption\":\"\",\"fKind\":4,\"fSnapshot\":{\"_typename\":\"TWebPainting\",\"fUniqueID\":0,\"fBits\":0,\"fClassName\":\"\",\"fObjectName\":\"\",\"fOper\":\"0:255,255,255;1:0,0,0;2:255,0,0;3:0,255,0;4:0,0,255;5:255,255,0;6:255,0,255;7:0,255,255;8:89,211,84;9:89,84,216;10:254,254,254;11:192,182,172;12:76,76,76;13:102,102,102;14:127,127,127;15:153,153,153;16:178,178,178;17:204,204,204;18:229,229,229;19:242,242,242;20:204,198,170;21:204,198,170;22:193,191,168;23:186,181,163;24:178,165,150;25:183,163,155;26:173,153,140;27:155,142,130;28:135,102,86;29:175,206,198;30:132,193,163;31:137,168,160;32:130,158,140;33:173,188,198;34:122,142,153;35:117,137,145;36:104,130,150;37:109,122,132;38:124,153,209;39:127,127,155;40:170,165,191;41:211,206,135;42:221,186,135;43:188,158,130;44:198,153,124;45:191,130,119;46:206,94,96;47:170,142,147;48:165,119,122;49:147,104,112;50:211,89,84;51:146,0,255;52:122,0,255;53:98,0,255;54:74,0,255;55:51,0,255;56:27,0,255;57:3,0,255;58:0,20,255;59:0,44,255;60:0,68,255;61:0,91,255;62:0,115,255;63:0,139,255;64:0,163,255;65:0,187,255;66:0,210,255;67:0,234,255;68:0,255,251;69:0,255,227;70:0,255,204;71:0,255,180;72:0,255,156;73:0,255,132;74:0,255,108;75:0,255,85;76:0,255,61;77:0,255,37;78:0,255,13;79:10,255,0;80:34,255,0;81:57,255,0;82:81,255,0;83:105,255,0;84:129,255,0;85:153,255,0;86:176,255,0;87:200,255,0;88:224,255,0;89:248,255,0;90:255,238,0;91:255,214,0;92:255,190,0;93:255,166,0;94:255,142,0;95:255,119,0;96:255,95,0;97:255,71,0;98:255,47,0;99:255,23,0;100:111,45,168;101:165,42,42;102:178,190,181;103:87,144,252;104:248,156,32;105:228,37,54;106:150,74,139;107:156,156,161;108:122,33,221;109:24,69,251;110:255,94,2;111:201,31,22;112:200,73,169;113:173,173,125;114:134,200,221;115:87,141,255;116:101,99,100;117:63,144,218;118:255,169,14;119:189,31,1;120:148,164,162;121:131,45,182;122:169,107,89;123:231,99,0;124:185,172,112;125:113,117,129;126:146,218,221;127:178,178,178;201:91,91,91;202:122,122,122;203:183,183,183;204:214,214,214;205:137,15,15;206:183,20,20;207:234,71,71;208:239,117,117;209:15,137,15;210:20,183,20;211:71,234,71;212:117,239,117;213:15,15,137;214:20,20,183;215:71,71,234;216:117,117,239;217:137,137,15;218:183,183,20;219:234,234,71;220:239,239,117;221:137,15,137;222:183,20,183;223:234,71,234;224:239,117,239;225:15,137,137;226:20,183,183;227:71,234,234;228:117,239,239;390:255,255,204;391:255,255,153;392:204,204,153;393:255,255,102;394:204,204,102;395:153,153,102;396:255,255,51;397:204,204,51;398:153,153,51;399:102,102,51;400:255,255,0;401:204,204,0;402:153,153,0;403:102,102,0;404:51,51,0;406:204,255,204;407:153,255,153;408:153,204,153;409:102,255,102;410:102,204,102;411:102,153,102;412:51,255,51;413:51,204,51;414:51,153,51;415:51,102,51;416:0,255,0;417:0,204,0;418:0,153,0;419:0,102,0;420:0,51,0;422:204,255,255;423:153,255,255;424:153,204,204;425:102,255,255;426:102,204,204;427:102,153,153;428:51,255,255;429:51,204,204;430:51,153,153;431:51,102,102;432:0,255,255;433:0,204,204;434:0,153,153;435:0,102,102;436:0,51,51;590:204,204,255;591:153,153,255;592:153,153,204;593:102,102,255;594:102,102,204;595:102,102,153;596:51,51,255;597:51,51,204;598:51,51,153;599:51,51,102;600:0,0,255;601:0,0,204;602:0,0,153;603:0,0,102;604:0,0,51;606:255,204,255;607:255,153,255;608:204,153,204;609:255,102,255;610:204,102,204;611:153,102,153;612:255,51,255;613:204,51,204;614:153,51,153;615:102,51,102;616:255,0,255;617:204,0,204;618:153,0,153;619:102,0,102;620:51,0,51;622:255,204,204;623:255,153,153;624:204,153,153;625:255,102,102;626:204,102,102;627:153,102,102;628:255,51,51;629:204,51,51;630:153,51,51;631:102,51,51;632:255,0,0;633:204,0,0;634:153,0,0;635:102,0,0;636:51,0,0;791:255,204,153;792:204,153,102;793:153,102,51;794:153,102,0;795:204,153,51;796:255,204,102;797:255,153,0;798:255,204,51;799:204,153,0;800:255,204,0;801:255,153,51;802:204,102,0;803:102,51,0;804:153,51,0;805:204,102,51;806:255,153,102;807:255,102,0;808:255,102,51;809:204,51,0;810:255,51,0;811:153,255,51;812:102,204,0;813:51,102,0;814:51,153,0;815:102,204,51;816:153,255,102;817:102,255,0;818:102,255,51;819:51,204,0;820:51,255,0;821:204,255,153;822:153,204,102;823:102,153,51;824:102,153,0;825:153,204,51;826:204,255,102;827:153,255,0;828:204,255,51;829:153,204,0;830:204,255,0;831:153,255,204;832:102,204,153;833:51,153,102;834:0,153,102;835:51,204,153;836:102,255,204;837:0,255,102;838:51,255,204;839:0,204,153;840:0,255,204;841:51,255,153;842:0,204,102;843:0,102,51;844:0,153,51;845:51,204,102;846:102,255,153;847:0,255,153;848:51,255,102;849:0,204,51;850:0,255,51;851:153,204,255;852:102,153,204;853:51,102,153;854:0,51,153;855:51,102,204;856:102,153,255;857:0,102,255;858:51,102,255;859:0,51,204;860:0,51,255;861:51,153,255;862:0,102,204;863:0,51,102;864:0,102,153;865:51,153,204;866:102,204,255;867:0,153,255;868:51,204,255;869:0,153,204;870:0,204,255;871:204,153,255;872:153,102,204;873:102,51,153;874:102,0,153;875:153,51,204;876:204,102,255;877:153,0,255;878:204,51,255;879:153,0,204;880:204,0,255;881:153,51,255;882:102,0,204;883:51,0,102;884:51,0,153;885:102,51,204;886:153,102,255;887:102,0,255;888:102,51,255;889:51,0,204;890:51,0,255;891:255,51,153;892:204,0,102;893:102,0,51;894:153,0,51;895:204,51,102;896:255,102,153;897:255,0,102;898:255,51,102;899:204,0,51;900:255,0,51;901:255,153,204;902:204,102,153;903:153,51,102;904:153,0,102;905:204,51,153;906:255,102,204;907:255,0,153;908:204,0,153;909:255,51,204;910:255,0,153;920:204,204,204;921:153,153,153;922:102,102,102;923:51,51,51;924:53,42,134;925:51,44,137;926:50,45,140;927:49,47,143;928:48,48,146;929:46,50,148;930:45,51,151;931:44,53,154;932:43,55,157;933:42,56,160;934:40,58,162;935:39,59,165;936:38,61,168;937:37,63,171;938:35,64,174;939:34,66,176;940:33,67,179;941:32,69,182;942:31,71,185;943:29,72,187;944:28,74,190;945:27,75,193;946:26,77,196;947:24,79,199;948:23,80,201;949:22,82,204;950:21,83,207;951:19,85,210;952:18,86,213;953:17,88,215;954:16,90,218;955:15,91,221;956:15,92,221;957:15,94,220;958:15,95,220;959:15,96,220;960:15,97,220;961:15,98,220;962:16,99,219;963:16,100,219;964:16,102,219;965:16,103,219;966:16,104,218;967:16,105,218;968:17,106,218;969:17,107,218;970:17,109,217;971:17,110,217;972:17,111,217;973:17,112,217;974:17,113,216;975:18,114,216;976:18,115,216;977:18,117,216;978:18,118,215;979:18,119,215;980:18,120,215;981:18,121,215;982:19,122,215;983:19,123,214;984:19,125,214;985:19,126,214;986:19,127,214;987:19,128,213;988:19,129,213;989:19,130,213;990:18,131,212;991:18,132,212;992:17,134,211;993:17,135,211;994:16,136,211;995:16,137,210;996:15,138,210;997:15,139,210;998:15,140,209;999:14,141,209;1000:14,142,208;1001:13,143,208;1002:13,145,208;1003:12,146,207;1004:12,147,207;1005:12,148,207;1006:11,149,206;1007:11,150,206;1008:10,151,205;1009:10,152,205;1010:9,153,205;1011:9,154,204;1012:8,155,204;1013:8,157,204;1014:8,158,203;1015:7,159,203;1016:7,160,202;1017:6,161,202;1018:6,162,202;1019:5,163,201;1020:7,164,200;1021:8,164,199;1022:9,165,198;1023:10,166,197;1024:12,166,195;1025:13,167,194;1026:14,167,193;1027:15,168,192;1028:17,169,191;1029:18,169,189;1030:19,170,188;1031:20,170,187;1032:22,171,186;1033:23,172,185;1034:24,172,184;1035:25,173,182;1036:27,173,181;1037:28,174,180;1038:29,175,179;1039:30,175,178;1040:32,176,176;1041:33,176,175;1042:34,177,174;1043:35,178,173;1044:37,178,172;1045:38,179,170;1046:39,180,169;1047:40,180,168;1048:42,181,167;1049:43,181,166;1050:44,182,165;1051:45,183,163;1052:48,183,162;1053:51,183,161;1054:54,183,159;1055:57,184,158;1056:59,184,156;1057:62,184,155;1058:65,184,154;1059:68,185,152;1060:71,185,151;1061:73,185,149;1062:76,185,148;1063:79,186,146;1064:82,186,145;1065:84,186,144;1066:87,186,142;1067:90,187,141;1068:93,187,139;1069:96,187,138;1070:98,187,137;1071:101,188,135;1072:104,188,134;1073:107,188,132;1074:110,188,131;1075:112,189,130;1076:115,189,128;1077:118,189,127;1078:121,189,125;1079:124,190,124;1080:126,190,123;1081:129,190,121;1082:132,190,120;1083:135,191,118;1084:137,190,117;1085:139,190,117;1086:142,190,116;1087:144,190,115;1088:146,190,114;1089:148,190,113;1090:151,190,112;1091:153,190,111;1092:155,189,110;1093:158,189,109;1094:160,189,108;1095:162,189,107;1096:165,189,106;1097:167,189,105;1098:169,189,104;1099:171,188,104;1100:174,188,103;1101:176,188,102;1102:178,188,101;1103:181,188,100;1104:183,188,99;1105:185,188,98;1106:188,188,97;1107:190,187,96;1108:192,187,95;1109:194,187,94;1110:197,187,93;1111:199,187,92;1112:201,187,92;1113:204,187,91;1114:206,186,90;1115:208,186,89;1116:210,187,88;1117:211,187,86;1118:212,188,85;1119:214,188,84;1120:215,188,83;1121:217,189,81;1122:218,189,80;1123:220,190,79;1124:221,190,78;1125:222,191,77;1126:224,191,75;1127:225,191,74;1128:227,192,73;1129:228,192,72;1130:229,193,70;1131:231,193,69;1132:232,194,68;1133:234,194,67;1134:235,194,66;1135:236,195,64;1136:238,195,63;1137:239,196,62;1138:241,196,61;1139:242,197,59;1140:244,197,58;1141:245,197,57;1142:246,198,56;1143:248,198,55;1144:249,199,53;1145:251,199,52;1146:252,200,51;1147:253,200,50;1148:253,202,49;1149:253,203,47;1150:253,205,46;1151:253,206,45;1152:253,208,44;1153:252,209,43;1154:252,211,42;1155:252,213,41;1156:252,214,39;1157:252,216,38;1158:252,217,37;1159:252,219,36;1160:251,220,35;1161:251,222,34;1162:251,224,33;1163:251,225,31;1164:251,227,30;1165:251,228,29;1166:250,230,28;1167:250,231,27;1168:250,233,26;1169:250,235,25;1170:250,236,23;1171:250,238,22;1172:250,239,21;1173:249,241,20;1174:249,242,19;1175:249,244,18;1176:249,246,17;1177:249,247,16;1178:249,249,14\",\"fBuf\":{\"$arr\":\"Float32\",\"len\":50,\"v\":[51,52,53,54,55,56,57,58,59,60,61,62,63,64,65,66,67,68,69,70,71,72,73,74,75,76,77,78,79,80,81,82,83,84,85,86,87,88,89,90,91,92,93,94,95,96,97,98,99,632]}}},{\"_typename\":\"TWebSnapshot\",\"fUniqueID\":0,\"fBits\":0,\"fObjectID\":\"\",\"fOption\":\"\",\"fKind\":5,\"fSnapshot\":{\"_typename\":\"TStyle\",\"fUniqueID\":0,\"fBits\":0,\"fName\":\"ildStyle\",\"fTitle\":\"ILD Style\",\"fLineColor\":1,\"fLineStyle\":1,\"fLineWidth\":2,\"fFillColor\":10,\"fFillStyle\":1001,\"fMarkerColor\":1,\"fMarkerStyle\":20,\"fMarkerSize\":0.7,\"fTextAngle\":0,\"fTextSize\":0.05,\"fTextAlign\":11,\"fTextColor\":1,\"fTextFont\":42,\"fXaxis\":{\"_typename\":\"TAttAxis\",\"fNdivisions\":506,\"fAxisColor\":1,\"fLabelColor\":1,\"fLabelFont\":42,\"fLabelOffset\":0.015,\"fLabelSize\":0.06,\"fTickLength\":0.03,\"fTitleOffset\":1,\"fTitleSize\":0.07,\"fTitleColor\":1,\"fTitleFont\":42},\"fYaxis\":{\"_typename\":\"TAttAxis\",\"fNdivisions\":506,\"fAxisColor\":1,\"fLabelColor\":1,\"fLabelFont\":42,\"fLabelOffset\":0.015,\"fLabelSize\":0.06,\"fTickLength\":0.03,\"fTitleOffset\":1.1,\"fTitleSize\":0.07,\"fTitleColor\":1,\"fTitleFont\":42},\"fZaxis\":{\"_typename\":\"TAttAxis\",\"fNdivisions\":510,\"fAxisColor\":1,\"fLabelColor\":1,\"fLabelFont\":42,\"fLabelOffset\":0.015,\"fLabelSize\":0.06,\"fTickLength\":0.03,\"fTitleOffset\":1.1,\"fTitleSize\":0.07,\"fTitleColor\":1,\"fTitleFont\":42},\"fBarWidth\":1,\"fBarOffset\":0,\"fColorModelPS\":0,\"fDrawBorder\":0,\"fOptLogx\":0,\"fOptLogy\":0,\"fOptLogz\":0,\"fOptDate\":0,\"fOptStat\":0,\"fOptTitle\":1,\"fOptFile\":0,\"fOptFit\":0,\"fShowEventStatus\":0,\"fShowEditor\":0,\"fShowToolBar\":0,\"fNumberContours\":20,\"fAttDate\":{\"_typename\":\"TAttText\",\"fTextAngle\":0,\"fTextSize\":0.025,\"fTextAlign\":11,\"fTextColor\":1,\"fTextFont\":62},\"fDateX\":0.01,\"fDateY\":0.01,\"fEndErrorSize\":2,\"fErrorX\":0.5,\"fFuncColor\":632,\"fFuncStyle\":1,\"fFuncWidth\":2,\"fGridColor\":0,\"fGridStyle\":3,\"fGridWidth\":1,\"fLegendBorderSize\":0,\"fLegendFillColor\":0,\"fLegendFillStyle\":1001,\"fLegendFont\":62,\"fLegendTextSize\":0,\"fHatchesLineWidth\":1,\"fHatchesSpacing\":1,\"fFrameFillColor\":10,\"fFrameLineColor\":1,\"fFrameFillStyle\":1001,\"fFrameLineStyle\":1,\"fFrameLineWidth\":2,\"fFrameBorderSize\":1,\"fFrameBorderMode\":0,\"fHistFillColor\":0,\"fHistLineColor\":1,\"fHistFillStyle\":1001,\"fHistLineStyle\":1,\"fHistLineWidth\":2,\"fHistMinimumZero\":false,\"fHistTopMargin\":0.05,\"fCanvasPreferGL\":false,\"fCanvasColor\":10,\"fCanvasBorderSize\":2,\"fCanvasBorderMode\":0,\"fCanvasDefH\":500,\"fCanvasDefW\":700,\"fCanvasDefX\":10,\"fCanvasDefY\":10,\"fPadColor\":10,\"fPadBorderSize\":2,\"fPadBorderMode\":0,\"fPadBottomMargin\":0.17,\"fPadTopMargin\":0.08,\"fPadLeftMargin\":0.15,\"fPadRightMargin\":0.16,\"fPadGridX\":false,\"fPadGridY\":false,\"fPadTickX\":1,\"fPadTickY\":1,\"fPaperSizeX\":20,\"fPaperSizeY\":26,\"fScreenFactor\":1,\"fStatColor\":10,\"fStatTextColor\":1,\"fStatBorderSize\":0,\"fStatFont\":42,\"fStatFontSize\":0.07,\"fStatStyle\":1001,\"fStatFormat\":\"6.4g\",\"fStatX\":0.98,\"fStatY\":0.995,\"fStatW\":0.2,\"fStatH\":0.16,\"fStripDecimals\":true,\"fTitleAlign\":13,\"fTitleColor\":0,\"fTitleTextColor\":1,\"fTitleBorderSize\":0,\"fTitleFont\":62,\"fTitleFontSize\":0,\"fTitleStyle\":1001,\"fTitleX\":0.01,\"fTitleY\":0.995,\"fTitleW\":0,\"fTitleH\":0,\"fLegoInnerR\":0.5,\"fLineStyles\":[\"\",\"  \",\" 12 12\",\" 4 8\",\" 12 16 4 16\",\" 20 12 4 12\",\" 20 12 4 12 4 12 4 12\",\" 20 20\",\" 20 12 4 12 4 12\",\" 80 20\",\" 80 40 4 40\",\"  \",\"  \",\"  \",\"  \",\"  \",\"  \",\"  \",\"  \",\"  \",\"  \",\"  \",\"  \",\"  \",\"  \",\"  \",\"  \",\"  \",\"  \",\"  \"],\"fHeaderPS\":\"\",\"fTitlePS\":\"\",\"fFitFormat\":\"5.4g\",\"fPaintTextFormat\":\"g\",\"fLineScalePS\":3,\"fJoinLinePS\":0,\"fCapLinePS\":0,\"fTimeOffset\":788918400,\"fImageScaling\":1,\"fCandleWhiskerRange\":1,\"fCandleBoxRange\":0.5,\"fCandleScaled\":false,\"fViolinScaled\":true,\"fCandleCircleLineWidth\":1,\"fCandleCrossLineWidth\":1,\"fXAxisExpXOffset\":0,\"fXAxisExpYOffset\":0,\"fYAxisExpXOffset\":0,\"fYAxisExpYOffset\":0,\"fAxisMaxDigits\":5,\"fOrthoCamera\":false}},{\"_typename\":\"TWebSnapshot\",\"fUniqueID\":0,\"fBits\":0,\"fObjectID\":\"\",\"fOption\":\"\",\"fKind\":1,\"fSnapshot\":{\"_typename\":\"TFrame\",\"fUniqueID\":0,\"fBits\":8,\"fLineColor\":1,\"fLineStyle\":1,\"fLineWidth\":2,\"fFillColor\":10,\"fFillStyle\":1001,\"fX1\":-0.004,\"fY1\":0,\"fX2\":0.004,\"fY2\":2,\"fBorderSize\":1,\"fBorderMode\":0}},{\"_typename\":\"TWebSnapshot\",\"fUniqueID\":0,\"fBits\":0,\"fObjectID\":\"\",\"fOption\":\"FUNC\",\"fKind\":1,\"fSnapshot\":{\"_typename\":\"TH1D\",\"fUniqueID\":0,\"fBits\":520,\"fName\":\"frame_la_243f5200\",\"fTitle\":\"\",\"fLineColor\":1,\"fLineStyle\":1,\"fLineWidth\":2,\"fFillColor\":0,\"fFillStyle\":1001,\"fMarkerColor\":1,\"fMarkerStyle\":20,\"fMarkerSize\":0.7,\"fNcells\":102,\"fXaxis\":{\"_typename\":\"TAxis\",\"fUniqueID\":0,\"fBits\":0,\"fName\":\"xaxis\",\"fTitle\":\"la\",\"fNdivisions\":506,\"fAxisColor\":1,\"fLabelColor\":1,\"fLabelFont\":42,\"fLabelOffset\":0.015,\"fLabelSize\":0.06,\"fTickLength\":0.03,\"fTitleOffset\":1,\"fTitleSize\":0.07,\"fTitleColor\":1,\"fTitleFont\":42,\"fNbins\":100,\"fXmin\":-0.004,\"fXmax\":0.004,\"fXbins\":[],\"fFirst\":0,\"fLast\":0,\"fBits2\":0,\"fTimeDisplay\":false,\"fTimeFormat\":\"\",\"fLabels\":null,\"fModLabs\":null},\"fYaxis\":{\"_typename\":\"TAxis\",\"fUniqueID\":0,\"fBits\":0,\"fName\":\"yaxis\",\"fTitle\":\"-#Delta NLL\",\"fNdivisions\":506,\"fAxisColor\":1,\"fLabelColor\":1,\"fLabelFont\":42,\"fLabelOffset\":0.015,\"fLabelSize\":0.06,\"fTickLength\":0.03,\"fTitleOffset\":1.1,\"fTitleSize\":0.07,\"fTitleColor\":1,\"fTitleFont\":42,\"fNbins\":1,\"fXmin\":0,\"fXmax\":1,\"fXbins\":[],\"fFirst\":0,\"fLast\":0,\"fBits2\":0,\"fTimeDisplay\":false,\"fTimeFormat\":\"\",\"fLabels\":null,\"fModLabs\":null},\"fZaxis\":{\"_typename\":\"TAxis\",\"fUniqueID\":0,\"fBits\":0,\"fName\":\"zaxis\",\"fTitle\":\"\",\"fNdivisions\":510,\"fAxisColor\":1,\"fLabelColor\":1,\"fLabelFont\":42,\"fLabelOffset\":0.015,\"fLabelSize\":0.06,\"fTickLength\":0.03,\"fTitleOffset\":1.1,\"fTitleSize\":0.07,\"fTitleColor\":1,\"fTitleFont\":42,\"fNbins\":1,\"fXmin\":0,\"fXmax\":1,\"fXbins\":[],\"fFirst\":0,\"fLast\":0,\"fBits2\":0,\"fTimeDisplay\":false,\"fTimeFormat\":\"\",\"fLabels\":null,\"fModLabs\":null},\"fBarOffset\":0,\"fBarWidth\":1000,\"fEntries\":1,\"fTsumw\":0,\"fTsumw2\":0,\"fTsumwx\":0,\"fTsumwx2\":0,\"fMaximum\":2,\"fMinimum\":0,\"fNormFactor\":0,\"fContour\":[],\"fSumw2\":[],\"fOption\":\"\",\"fFunctions\":{\"_typename\":\"TList\",\"name\":\"TList\",\"arr\":[],\"opt\":[]},\"fBufferSize\":0,\"fBuffer\":[],\"fBinStatErrOpt\":0,\"fStatOverflows\":2,\"fArray\":{\"$arr\":\"Float64\",\"len\":102,\"p\":1,\"v\":15.7080647992418}}},{\"_typename\":\"TWebSnapshot\",\"fUniqueID\":0,\"fBits\":0,\"fObjectID\":\"\",\"fOption\":\"l\",\"fKind\":1,\"fSnapshot\":{\"_typename\":\"RooCurve\",\"fUniqueID\":0,\"fBits\":525320,\"fName\":\"RooEvaluatorWrapper_Norm[la]\",\"fTitle\":\"Projection of RooEvaluatorWrapper\",\"fLineColor\":600,\"fLineStyle\":1,\"fLineWidth\":3,\"fFillColor\":0,\"fFillStyle\":1000,\"fMarkerColor\":1,\"fMarkerStyle\":20,\"fMarkerSize\":0.7,\"fNpoints\":106,\"fX\":{\"$arr\":\"Float64\",\"len\":106,\"v\":[-0.00408008,-0.00408,-0.004,-0.00392,-0.00384,-0.00376,-0.00368,-0.0036,-0.00352,-0.00344,-0.00336,-0.00328,-0.0032,-0.00312,-0.00304,-0.00296,-0.00288,-0.0028,-0.00272,-0.00264,-0.00256,-0.00248,-0.0024,-0.00232,-0.00224,-0.00216,-0.00208,-0.002,-0.00192,-0.00184,-0.00176,-0.00168,-0.0016,-0.00152,-0.00144,-0.00136,-0.00128,-0.0012,-0.00112,-0.00104,-9.6e-4,-8.8e-4,-8e-4,-7.2e-4,-6.4e-4,-5.6e-4,-4.8e-4,-4e-4,-3.2e-4,-2.4e-4,-1.6e-4,-7.99999999999993e-5,0,8.00000000000002e-5,1.6e-4,2.40000000000001e-4,3.2e-4,4e-4,4.8e-4,5.60000000000001e-4,6.4e-4,7.2e-4,8e-4,8.80000000000001e-4,9.6e-4,0.00104,0.00112,0.0012,0.00128,0.00136,0.00144,0.00152,0.0016,0.00168,0.00176,0.00184,0.00192,0.002,0.00208,0.00216,0.00224,0.00232,0.0024,0.00248,0.00256,0.00264,0.00272,0.0028,0.00288,0.00296,0.00304,0.00312,0.0032,0.00328,0.00336,0.00344,0.00352,0.0036,0.00368,0.00376,0.00384,0.00392,0.004,0.004,0.00408,0.00408008]},\"fY\":{\"$arr\":\"Float64\",\"len\":106,\"p\":1,\"v\":[14.9600617135636,14.9600617135636,14.3676432697062,13.7871928752203,13.2187105301053,12.6621962343613,12.1176499879859,11.585071790984,11.0644616433515,10.5558195450906,10.059145496201,9.57443949668009,9.10170154653221,8.64093164575351,8.19212979434694,7.75529599230993,7.33043023964527,6.91753253635139,6.51660288242718,6.12764127787528,5.75064772269344,5.38562221688257,5.03256476044163,4.69147535337355,4.36235399567479,4.04520068734834,3.74001542839125,3.44679821880449,3.16554905859016,2.89626794774568,2.6389548862733,2.39360987417012,2.16023291143841,1.93882399807779,1.729383134088,1.53191031946864,1.34640555422064,1.17286883834299,1.01130017183712,0.861699554701232,0.724066986936464,0.598402468542218,0.48470599951942,0.382977579867301,0.293217209585748,0.215424888675315,0.149600617135519,0.095744394966772,0.0538562221688892,0.0239360987416575,0.00598402468540371,0,0.00598402468546055,0.0239360987416717,0.0538562221688608,0.0957443949668573,0.14960061713569,0.215424888675528,0.293217209585947,0.38297757986723,0.48470599951969,0.598402468542616,0.724066986936833,0.861699554701488,1.01130017183752,1.17286883834333,1.34640555422101,1.53191031946895,1.72938313408818,1.93882399807818,2.16023291143918,2.39360987417058,2.63895488627338,2.89626794774621,3.16554905859036,3.44679821880592,3.74001542839127,4.04520068734777,4.36235399567622,4.69147535337353,5.03256476044334,5.38562221688298,5.75064772269364,6.12764127787612,6.51660288242839,6.91753253635268,7.33043023964784,7.75529599231152,8.19212979434765,8.64093164575488,9.10170154653267,9.57443949668105,10.0591454962012,10.5558195450914,11.0644616433507,11.5850717909848,12.1176499879875,12.662196234362,13.2187105301052,13.7871928752225,14.3676432697079,14.9600617129653,14.9600617129653,14.9600617129653]},\"fFunctions\":{\"_typename\":\"TList\",\"name\":\"TList\",\"arr\":[],\"opt\":[]},\"fHistogram\":{\"_typename\":\"TH1F\",\"fUniqueID\":0,\"fBits\":512,\"fName\":\"RooEvaluatorWrapper_Norm[la]\",\"fTitle\":\"Projection of RooEvaluatorWrapper\",\"fLineColor\":1,\"fLineStyle\":1,\"fLineWidth\":2,\"fFillColor\":0,\"fFillStyle\":1001,\"fMarkerColor\":1,\"fMarkerStyle\":20,\"fMarkerSize\":0.7,\"fNcells\":108,\"fXaxis\":{\"_typename\":\"TAxis\",\"fUniqueID\":0,\"fBits\":0,\"fName\":\"xaxis\",\"fTitle\":\"\",\"fNdivisions\":506,\"fAxisColor\":1,\"fLabelColor\":1,\"fLabelFont\":42,\"fLabelOffset\":0.015,\"fLabelSize\":0.06,\"fTickLength\":0.03,\"fTitleOffset\":1,\"fTitleSize\":0.07,\"fTitleColor\":1,\"fTitleFont\":42,\"fNbins\":106,\"fXmin\":-0.004896096,\"fXmax\":0.004896096,\"fXbins\":[],\"fFirst\":0,\"fLast\":0,\"fBits2\":0,\"fTimeDisplay\":false,\"fTimeFormat\":\"\",\"fLabels\":null,\"fModLabs\":null},\"fYaxis\":{\"_typename\":\"TAxis\",\"fUniqueID\":0,\"fBits\":0,\"fName\":\"yaxis\",\"fTitle\":\"\",\"fNdivisions\":506,\"fAxisColor\":1,\"fLabelColor\":1,\"fLabelFont\":42,\"fLabelOffset\":0.015,\"fLabelSize\":0.06,\"fTickLength\":0.03,\"fTitleOffset\":1.1,\"fTitleSize\":0.07,\"fTitleColor\":1,\"fTitleFont\":42,\"fNbins\":1,\"fXmin\":0,\"fXmax\":16.4560678849199,\"fXbins\":[],\"fFirst\":0,\"fLast\":0,\"fBits2\":0,\"fTimeDisplay\":false,\"fTimeFormat\":\"\",\"fLabels\":null,\"fModLabs\":null},\"fZaxis\":{\"_typename\":\"TAxis\",\"fUniqueID\":0,\"fBits\":0,\"fName\":\"zaxis\",\"fTitle\":\"\",\"fNdivisions\":510,\"fAxisColor\":1,\"fLabelColor\":1,\"fLabelFont\":42,\"fLabelOffset\":0.015,\"fLabelSize\":0.06,\"fTickLength\":0.03,\"fTitleOffset\":1.1,\"fTitleSize\":0.07,\"fTitleColor\":1,\"fTitleFont\":42,\"fNbins\":1,\"fXmin\":0,\"fXmax\":1,\"fXbins\":[],\"fFirst\":0,\"fLast\":0,\"fBits2\":0,\"fTimeDisplay\":false,\"fTimeFormat\":\"\",\"fLabels\":null,\"fModLabs\":null},\"fBarOffset\":0,\"fBarWidth\":1000,\"fEntries\":0,\"fTsumw\":0,\"fTsumw2\":0,\"fTsumwx\":0,\"fTsumwx2\":0,\"fMaximum\":16.4560678849199,\"fMinimum\":0,\"fNormFactor\":0,\"fContour\":[],\"fSumw2\":[],\"fOption\":\"\",\"fFunctions\":{\"_typename\":\"TList\",\"name\":\"TList\",\"arr\":[],\"opt\":[]},\"fBufferSize\":0,\"fBuffer\":[],\"fBinStatErrOpt\":0,\"fStatOverflows\":2,\"fArray\":{\"$arr\":\"Float32\",\"len\":108}},\"fMinimum\":-1111,\"fMaximum\":-1111,\"fOption\":\"\",\"_yAxisLabel\":\"Projection of RooEvaluatorWrapper\",\"_ymin\":0,\"_ymax\":14.9600617135636,\"_normValue\":0}},{\"_typename\":\"TWebSnapshot\",\"fUniqueID\":0,\"fBits\":0,\"fObjectID\":\"\",\"fOption\":\"l\",\"fKind\":1,\"fSnapshot\":{\"_typename\":\"RooCurve\",\"fUniqueID\":0,\"fBits\":525320,\"fName\":\"RooEvaluatorWrapper_Profile[la]_Norm[la]\",\"fTitle\":\"Projection of Profile of RooEvaluatorWrapper\",\"fLineColor\":632,\"fLineStyle\":1,\"fLineWidth\":3,\"fFillColor\":0,\"fFillStyle\":1000,\"fMarkerColor\":1,\"fMarkerStyle\":20,\"fMarkerSize\":0.7,\"fNpoints\":106,\"fX\":{\"$arr\":\"Float64\",\"len\":106,\"v\":[-0.00408008,-0.00408,-0.004,-0.00392,-0.00384,-0.00376,-0.00368,-0.0036,-0.00352,-0.00344,-0.00336,-0.00328,-0.0032,-0.00312,-0.00304,-0.00296,-0.00288,-0.0028,-0.00272,-0.00264,-0.00256,-0.00248,-0.0024,-0.00232,-0.00224,-0.00216,-0.00208,-0.002,-0.00192,-0.00184,-0.00176,-0.00168,-0.0016,-0.00152,-0.00144,-0.00136,-0.00128,-0.0012,-0.00112,-0.00104,-9.6e-4,-8.8e-4,-8e-4,-7.2e-4,-6.4e-4,-5.6e-4,-4.8e-4,-4e-4,-3.2e-4,-2.4e-4,-1.6e-4,-7.99999999999993e-5,0,8.00000000000002e-5,1.6e-4,2.40000000000001e-4,3.2e-4,4e-4,4.8e-4,5.60000000000001e-4,6.4e-4,7.2e-4,8e-4,8.80000000000001e-4,9.6e-4,0.00104,0.00112,0.0012,0.00128,0.00136,0.00144,0.00152,0.0016,0.00168,0.00176,0.00184,0.00192,0.002,0.00208,0.00216,0.00224,0.00232,0.0024,0.00248,0.00256,0.00264,0.00272,0.0028,0.00288,0.00296,0.00304,0.00312,0.0032,0.00328,0.00336,0.00344,0.00352,0.0036,0.00368,0.00376,0.00384,0.00392,0.004,0.004,0.00408,0.00408008]},\"fY\":{\"$arr\":\"Float64\",\"len\":106,\"p\":1,\"v\":[7.26686371285257,7.26686371285257,6.97941582581606,6.6971415976692,6.42132064585735,6.15067344646566,5.88647947661379,5.62745925914241,5.37489227122555,5.12749903570113,4.88655902977875,4.65079277614058,4.4214797521557,4.19734048046166,3.97965443845328,3.76714214866377,3.56108308860338,3.36019778074575,3.16576570264615,2.9765073767087,2.7937022805805,2.61607093655259,2.44489282236556,2.27888846027801,2.11933732806001,1.96495994788471,1.8170357976294,1.67428539937193,1.53798823108102,1.40686481474079,1.28219462840465,1.16269819398977,1.04965498961788,0.941785537120481,0.840369314709875,0.744126844131813,0.654337603677504,0.569722115024476,0.491559856530827,0.418571349797716,0.352036073265594,0.290674548452088,0.235766253883213,0.186031710987706,0.142750398379718,0.104642837404143,0.0729885067568858,0.0465079277014695,0.026480579013139,0.0116269818801129,0.00322661515272671,-6.04245542490389e-11,0.00322661517293454,0.0116269818800419,0.0264805790753684,0.0465079277015263,0.0729885068562908,0.104642837404029,0.142750398520533,0.186031710987564,0.235766254066903,0.290674548452301,0.352036073489032,0.418571349797531,0.491559856794225,0.569722115024064,0.654337603982924,0.744126844131429,0.840369315050239,0.941785537120637,1.04965498999809,1.16269819398957,1.28219462883301,1.40686481474073,1.53798823153144,1.67428539937136,1.81703579811924,1.96495994788384,2.11933732860385,2.27888846027824,2.44489282296604,2.61607093655239,2.79370228119362,2.97650737670845,3.16576570329974,3.3601977807453,3.56108308930609,3.76714214866283,3.97965443919814,4.19734048046128,4.42147975295502,4.65079277614083,4.88655903058381,5.12749903570139,5.37489227211331,5.62745925914371,5.88647947750377,6.15067344646438,6.42132064681304,6.69714159766949,6.97941577995171,7.26686371246278,7.26686371246278,7.26686371246278]},\"fFunctions\":{\"_typename\":\"TList\",\"name\":\"TList\",\"arr\":[],\"opt\":[]},\"fHistogram\":{\"_typename\":\"TH1F\",\"fUniqueID\":0,\"fBits\":512,\"fName\":\"RooEvaluatorWrapper_Profile[la]_Norm[la]\",\"fTitle\":\"Projection of Profile of RooEvaluatorWrapper\",\"fLineColor\":1,\"fLineStyle\":1,\"fLineWidth\":2,\"fFillColor\":0,\"fFillStyle\":1001,\"fMarkerColor\":1,\"fMarkerStyle\":20,\"fMarkerSize\":0.7,\"fNcells\":108,\"fXaxis\":{\"_typename\":\"TAxis\",\"fUniqueID\":0,\"fBits\":0,\"fName\":\"xaxis\",\"fTitle\":\"\",\"fNdivisions\":506,\"fAxisColor\":1,\"fLabelColor\":1,\"fLabelFont\":42,\"fLabelOffset\":0.015,\"fLabelSize\":0.06,\"fTickLength\":0.03,\"fTitleOffset\":1,\"fTitleSize\":0.07,\"fTitleColor\":1,\"fTitleFont\":42,\"fNbins\":106,\"fXmin\":-0.004896096,\"fXmax\":0.004896096,\"fXbins\":[],\"fFirst\":0,\"fLast\":0,\"fBits2\":0,\"fTimeDisplay\":false,\"fTimeFormat\":\"\",\"fLabels\":null,\"fModLabs\":null},\"fYaxis\":{\"_typename\":\"TAxis\",\"fUniqueID\":0,\"fBits\":0,\"fName\":\"yaxis\",\"fTitle\":\"\",\"fNdivisions\":506,\"fAxisColor\":1,\"fLabelColor\":1,\"fLabelFont\":42,\"fLabelOffset\":0.015,\"fLabelSize\":0.06,\"fTickLength\":0.03,\"fTitleOffset\":1.1,\"fTitleSize\":0.07,\"fTitleColor\":1,\"fTitleFont\":42,\"fNbins\":1,\"fXmin\":-0.726686371351724,\"fXmax\":7.99355008414387,\"fXbins\":[],\"fFirst\":0,\"fLast\":0,\"fBits2\":0,\"fTimeDisplay\":false,\"fTimeFormat\":\"\",\"fLabels\":null,\"fModLabs\":null},\"fZaxis\":{\"_typename\":\"TAxis\",\"fUniqueID\":0,\"fBits\":0,\"fName\":\"zaxis\",\"fTitle\":\"\",\"fNdivisions\":510,\"fAxisColor\":1,\"fLabelColor\":1,\"fLabelFont\":42,\"fLabelOffset\":0.015,\"fLabelSize\":0.06,\"fTickLength\":0.03,\"fTitleOffset\":1.1,\"fTitleSize\":0.07,\"fTitleColor\":1,\"fTitleFont\":42,\"fNbins\":1,\"fXmin\":0,\"fXmax\":1,\"fXbins\":[],\"fFirst\":0,\"fLast\":0,\"fBits2\":0,\"fTimeDisplay\":false,\"fTimeFormat\":\"\",\"fLabels\":null,\"fModLabs\":null},\"fBarOffset\":0,\"fBarWidth\":1000,\"fEntries\":0,\"fTsumw\":0,\"fTsumw2\":0,\"fTsumwx\":0,\"fTsumwx2\":0,\"fMaximum\":7.99355008414387,\"fMinimum\":-0.726686371351724,\"fNormFactor\":0,\"fContour\":[],\"fSumw2\":[],\"fOption\":\"\",\"fFunctions\":{\"_typename\":\"TList\",\"name\":\"TList\",\"arr\":[],\"opt\":[]},\"fBufferSize\":0,\"fBuffer\":[],\"fBinStatErrOpt\":0,\"fStatOverflows\":2,\"fArray\":{\"$arr\":\"Float32\",\"len\":108}},\"fMinimum\":-1111,\"fMaximum\":-1111,\"fOption\":\"\",\"_yAxisLabel\":\"Projection of Profile of RooEvaluatorWrapper\",\"_ymin\":-6.04245542490389e-11,\"_ymax\":7.26686371285257,\"_normValue\":0}},{\"_typename\":\"TWebSnapshot\",\"fUniqueID\":0,\"fBits\":0,\"fObjectID\":\"\",\"fOption\":\"AXISSAME\",\"fKind\":1,\"fSnapshot\":{\"$ref\":15}}],\"fScripts\":\"\",\"fHighlightConnect\":false,\"fFixedSize\":false});\n",
       "   Core.settings.HandleKeys = false;\n",
       "   Core.draw(\"root_plot_1754919207629\", obj, \"\");\n",
       "}\n",
       "\n",
       "function script_load_root_plot_1754919207629(src, on_error) {\n",
       "    let script = document.createElement('script');\n",
       "    script.src = src;\n",
       "    script.onload = function() { display_root_plot_1754919207629(JSROOT); };\n",
       "    script.onerror = function() { script.remove(); on_error(); };\n",
       "    document.head.appendChild(script);\n",
       "}\n",
       "\n",
       "if (typeof requirejs !== 'undefined') {\n",
       "\n",
       "    // We are in jupyter notebooks, use require.js which should be configured already\n",
       "    requirejs.config({\n",
       "       paths: { 'JSRootCore' : [ 'build/jsroot', 'https://root.cern/js/7.9.0/build/jsroot', 'https://jsroot.gsi.de/7.9.0/build/jsroot' ] }\n",
       "    })(['JSRootCore'],  function(Core) {\n",
       "       display_root_plot_1754919207629(Core);\n",
       "    });\n",
       "\n",
       "} else if (typeof JSROOT !== 'undefined') {\n",
       "\n",
       "   // JSROOT already loaded, just use it\n",
       "   display_root_plot_1754919207629(JSROOT);\n",
       "\n",
       "} else {\n",
       "\n",
       "    // We are in jupyterlab without require.js, directly loading jsroot\n",
       "    // Jupyterlab might be installed in a different base_url so we need to know it.\n",
       "    try {\n",
       "        var base_url = JSON.parse(document.getElementById('jupyter-config-data').innerHTML).baseUrl;\n",
       "    } catch(_) {\n",
       "        var base_url = '/';\n",
       "    }\n",
       "\n",
       "    // Try loading a local version of requirejs and fallback to cdn if not possible.\n",
       "    script_load_root_plot_1754919207629(base_url + 'static/build/jsroot.js', function(){\n",
       "        console.error('Fail to load JSROOT locally, please check your jupyter_notebook_config.py file');\n",
       "        script_load_root_plot_1754919207629('https://root.cern/js/7.9.0/build/jsroot.js', function(){\n",
       "            document.getElementById(\"root_plot_1754919207629\").innerHTML = \"Failed to load JSROOT\";\n",
       "        });\n",
       "    });\n",
       "}\n",
       "\n",
       "</script>\n"
      ],
      "text/plain": [
       "<IPython.core.display.HTML object>"
      ]
     },
     "metadata": {},
     "output_type": "display_data"
    }
   ],
   "source": [
    "c0 = ROOT.TCanvas()\n",
    "frame0.SetMinimum(0)\n",
    "frame0.SetMaximum(2)\n",
    "frame0.Draw()\n",
    "c0.Draw()\n",
    "# c0.SaveAs(\"plots/fit/ll_pll.pdf(\")\n",
    "c0.SaveAs(\"plots/fit/ll_pll_g1z.pdf\")\n",
    "\n",
    "c1 = ROOT.TCanvas()\n",
    "frame1.SetMinimum(0)\n",
    "frame1.SetMaximum(2)\n",
    "frame1.Draw()\n",
    "c1.Draw()\n",
    "# c1.SaveAs(\"plots/fit/ll_pll.pdf\")\n",
    "c1.SaveAs(\"plots/fit/ll_pll_ka.pdf\")\n",
    "\n",
    "c2 = ROOT.TCanvas()\n",
    "frame2.SetMinimum(0)\n",
    "frame2.SetMaximum(2)\n",
    "frame2.Draw()\n",
    "c2.Draw()\n",
    "# c2.SaveAs(\"plots/fit/ll_pll.pdf)\")\n",
    "c2.SaveAs(\"plots/fit/ll_pll_la.pdf\")"
   ]
  },
  {
   "cell_type": "code",
   "execution_count": null,
   "id": "1dbf9547",
   "metadata": {},
   "outputs": [],
   "source": []
  }
 ],
 "metadata": {
  "kernelspec": {
   "display_name": "Python 3",
   "language": "python",
   "name": "python3"
  },
  "language_info": {
   "codemirror_mode": {
    "name": "ipython",
    "version": 3
   },
   "file_extension": ".py",
   "mimetype": "text/x-python",
   "name": "python",
   "nbconvert_exporter": "python",
   "pygments_lexer": "ipython3",
   "version": "3.13.2"
  }
 },
 "nbformat": 4,
 "nbformat_minor": 5
}
