{
 "cells": [
  {
   "cell_type": "code",
   "execution_count": 1,
   "id": "51aaafc4",
   "metadata": {},
   "outputs": [
    {
     "name": "stdout",
     "output_type": "stream",
     "text": [
      "OBJ: TStyle\tildStyle\tILD Style : 0 at: 0x8893e40\n"
     ]
    }
   ],
   "source": [
    "import ROOT\n",
    "from fitter import FitHandler"
   ]
  },
  {
   "cell_type": "code",
   "execution_count": 2,
   "id": "84613503",
   "metadata": {},
   "outputs": [],
   "source": [
    "# TODO: make it possible to fit multiple runs simultaneously\n",
    "run = {\n",
    "    \"lumi\": 5000,\n",
    "    # \"lumi\": 25000,\n",
    "    \"e_pol\": 0.,\n",
    "    \"p_pol\": 0.,\n",
    "}\n",
    "\n",
    "# https://arxiv.org/pdf/1506.07830\n",
    "# However, https://arxiv.org/pdf/2503.19983 cites the above but assigns 0.45 to both mixed pols\n",
    "# LCVision scenario uses 3 ab_inv instead of 2\n",
    "ilc_250_h20_lumi = 2000\n",
    "ilc_250_h20 = [\n",
    "    {\n",
    "        \"lumi\": ilc_250_h20_lumi * 0.675,\n",
    "        \"e_pol\": -0.8,\n",
    "        \"p_pol\": 0.3,\n",
    "    },\n",
    "    {\n",
    "        \"lumi\": ilc_250_h20_lumi * 0.225,\n",
    "        \"e_pol\": 0.8,\n",
    "        \"p_pol\": -0.3,\n",
    "    },\n",
    "    {\n",
    "        \"lumi\": ilc_250_h20_lumi * 0.05,\n",
    "        \"e_pol\": -0.8,\n",
    "        \"p_pol\": -0.3,\n",
    "    },\n",
    "    {\n",
    "        \"lumi\": ilc_250_h20_lumi * 0.05,\n",
    "        \"e_pol\": 0.8,\n",
    "        \"p_pol\": 0.3,\n",
    "    },\n",
    "]\n",
    "\n",
    "# run = ilc_250_h20[0]"
   ]
  },
  {
   "cell_type": "code",
   "execution_count": 3,
   "id": "28058a8d",
   "metadata": {},
   "outputs": [],
   "source": [
    "conf = {\n",
    "    \"parameters\": {\n",
    "        \"g1z\": 0.0,\n",
    "        \"ka\": 0.0,\n",
    "        \"la\": 0.0,\n",
    "    },\n",
    "    \"obs_names\": [\n",
    "        \"O_g1z_pos_1em05\",\n",
    "        \"O_ka_pos_1em05\",\n",
    "        \"O_la_pos_1em05\",\n",
    "    ],\n",
    "    \"signal_cat\": \"4f_sw_sl_signal\",\n",
    "    \"signal_processes\": [\n",
    "        \"4f_sw_sl_eLpL_signal\",\n",
    "        \"4f_sw_sl_eLpR_signal\",\n",
    "        \"4f_sw_sl_eRpL_signal\",\n",
    "        \"4f_sw_sl_eRpR_signal\",\n",
    "    ],\n",
    "    \"backgrounds\": [\n",
    "        \"4f_sl_bkg\",\n",
    "        \"4f_not_sl\",\n",
    "        \"2f\",\n",
    "        \"3f\",\n",
    "        \"5f\",\n",
    "        \"6f\",\n",
    "        \"higgs\",\n",
    "    ],\n",
    "    \"n_bins\": 65,\n",
    "}\n",
    "input_path = \"data/histograms/full/raw_histograms.root\""
   ]
  },
  {
   "cell_type": "code",
   "execution_count": 4,
   "id": "2f8f7eaf",
   "metadata": {},
   "outputs": [],
   "source": [
    "fit_handler = FitHandler(input_path, conf)"
   ]
  },
  {
   "cell_type": "code",
   "execution_count": 5,
   "id": "e631d746",
   "metadata": {},
   "outputs": [
    {
     "name": "stdout",
     "output_type": "stream",
     "text": [
      "start constructor\n",
      "finished constructor\n"
     ]
    }
   ],
   "source": [
    "test_fun,_ = fit_handler.make_expected_fun(conf[\"obs_names\"][0], run)"
   ]
  },
  {
   "cell_type": "code",
   "execution_count": 6,
   "id": "8f910fcb",
   "metadata": {},
   "outputs": [
    {
     "name": "stdout",
     "output_type": "stream",
     "text": [
      "-328312.7900271484\n",
      "-364851.6328907656\n"
     ]
    }
   ],
   "source": [
    "pars = [1., 0., 0., 0., 0., 0., 1.]\n",
    "print(test_fun(pars))\n",
    "pars = [1., -0.1, 0.01, 0., 0., 0., 1.]\n",
    "print(test_fun(pars))"
   ]
  },
  {
   "cell_type": "code",
   "execution_count": 7,
   "id": "1d53c866",
   "metadata": {},
   "outputs": [
    {
     "name": "stdout",
     "output_type": "stream",
     "text": [
      "hello\n",
      "start constructor\n",
      "finished constructor\n",
      "start constructor\n",
      "finished constructor\n",
      "start constructor\n",
      "finished constructor\n",
      "[#1] INFO:ObjectHandling -- RooWorkspace::import(ws) importing RooMultiVarGaussian::multi_gauss\n",
      "[#1] INFO:ObjectHandling -- RooWorkspace::import(ws) importing RooRealVar::O_g1z_pos_1em05\n",
      "[#1] INFO:ObjectHandling -- RooWorkspace::import(ws) importing RooRealVar::O_ka_pos_1em05\n",
      "[#1] INFO:ObjectHandling -- RooWorkspace::import(ws) importing RooRealVar::O_la_pos_1em05\n",
      "[#1] INFO:ObjectHandling -- RooWorkspace::import(ws) importing RooFunctorBinding::expectation_O_g1z_pos_1em05\n",
      "[#1] INFO:ObjectHandling -- RooWorkspace::import(ws) importing RooRealVar::lumi\n",
      "[#1] INFO:ObjectHandling -- RooWorkspace::import(ws) importing RooRealVar::e_pol\n",
      "[#1] INFO:ObjectHandling -- RooWorkspace::import(ws) importing RooRealVar::p_pol\n",
      "[#1] INFO:ObjectHandling -- RooWorkspace::import(ws) importing RooRealVar::g1z\n",
      "[#1] INFO:ObjectHandling -- RooWorkspace::import(ws) importing RooRealVar::ka\n",
      "[#1] INFO:ObjectHandling -- RooWorkspace::import(ws) importing RooRealVar::la\n",
      "[#1] INFO:ObjectHandling -- RooWorkspace::import(ws) importing RooRealVar::mu_signal\n",
      "[#1] INFO:ObjectHandling -- RooWorkspace::import(ws) importing RooFunctorBinding::expectation_O_ka_pos_1em05\n",
      "[#1] INFO:ObjectHandling -- RooWorkspace::import(ws) importing RooFunctorBinding::expectation_O_la_pos_1em05\n"
     ]
    }
   ],
   "source": [
    "ws = fit_handler.build_model(run)\n",
    "# coupling_pars = fit_handler.coupling_pars\n",
    "coupling_pars = [ws.var(name) for name in conf[\"parameters\"]]\n",
    "obs_pars = [ws.var(name) for name in conf[\"obs_names\"]]"
   ]
  },
  {
   "cell_type": "code",
   "execution_count": 8,
   "id": "00a18e6b",
   "metadata": {},
   "outputs": [
    {
     "name": "stdout",
     "output_type": "stream",
     "text": [
      "\n",
      "RooWorkspace(ws) ws contents\n",
      "\n",
      "variables\n",
      "---------\n",
      "(O_g1z_pos_1em05,O_ka_pos_1em05,O_la_pos_1em05,e_pol,g1z,ka,la,lumi,mu_signal,p_pol)\n",
      "\n",
      "p.d.f.s\n",
      "-------\n",
      "RooMultiVarGaussian::multi_gauss[ x=(O_g1z_pos_1em05,O_ka_pos_1em05,O_la_pos_1em05) mu=(expectation_O_g1z_pos_1em05,expectation_O_ka_pos_1em05,expectation_O_la_pos_1em05) ] = 1\n",
      "  RooFunctorBinding::expectation_O_g1z_pos_1em05[ function=0x21f20440 vars=(lumi,e_pol,p_pol,g1z,ka,la,mu_signal) ] = -328313\n",
      "  RooFunctorBinding::expectation_O_ka_pos_1em05[ function=0x228589d0 vars=(lumi,e_pol,p_pol,g1z,ka,la,mu_signal) ] = -816884\n",
      "  RooFunctorBinding::expectation_O_la_pos_1em05[ function=0x2285d650 vars=(lumi,e_pol,p_pol,g1z,ka,la,mu_signal) ] = -404445\n",
      "\n"
     ]
    }
   ],
   "source": [
    "ws.Print(\"t\")"
   ]
  },
  {
   "cell_type": "code",
   "execution_count": 9,
   "id": "29346c76",
   "metadata": {},
   "outputs": [],
   "source": [
    "model = ws.pdf(\"multi_gauss\")"
   ]
  },
  {
   "cell_type": "code",
   "execution_count": 10,
   "id": "83269edc",
   "metadata": {},
   "outputs": [
    {
     "name": "stdout",
     "output_type": "stream",
     "text": [
      "DataStore CountingAsimovData0 (CountingAsimovData0)\n",
      "  Contains 1 entries\n",
      "  Observables: \n",
      "    1)  O_g1z_pos_1em05 = -328313  L(-334268 - -322357)  \"O_g1z_pos_1em05\"\n",
      "    2)   O_ka_pos_1em05 = -816884  L(-822088 - -811680)  \"O_ka_pos_1em05\"\n",
      "    3)   O_la_pos_1em05 = -404445  L(-412478 - -396412)  \"O_la_pos_1em05\"\n"
     ]
    }
   ],
   "source": [
    "ds = ROOT.RooStats.AsymptoticCalculator.GenerateAsimovData(model, obs_pars)\n",
    "ds.Print(\"v\")"
   ]
  },
  {
   "cell_type": "code",
   "execution_count": 11,
   "id": "45a10ec0",
   "metadata": {},
   "outputs": [
    {
     "name": "stdout",
     "output_type": "stream",
     "text": [
      "[#1] INFO:Fitting -- RooAbsPdf::fitTo(multi_gauss_over_multi_gauss_Int[O_g1z_pos_1em05,O_ka_pos_1em05,O_la_pos_1em05]) fixing normalization set for coefficient determination to observables in data\n",
      "[#1] INFO:Fitting -- using generic CPU library compiled with no vectorizations\n",
      "[#1] INFO:Fitting -- Creation of NLL object took 6.78829 ms\n",
      "[#1] INFO:Fitting -- RooAddition::defaultErrorLevel(nll_multi_gauss_over_multi_gauss_Int[O_g1z_pos_1em05,O_ka_pos_1em05,O_la_pos_1em05]_CountingAsimovData0) Summation contains a RooNLLVar, using its error level\n",
      "[#1] INFO:Minimization -- RooAbsMinimizerFcn::setOptimizeConst: activating const optimization\n",
      "Minuit2Minimizer: Minimize with max-calls 1500 convergence for edm < 1 strategy 1\n",
      "Minuit2Minimizer : Valid minimum - status = 0\n",
      "FVAL  = 25.5693367216680087\n",
      "Edm   = 4.35788018137643373e-26\n",
      "Nfcn  = 40\n",
      "g1z\t  = 0\t +/-  0.000880172\t(limited)\n",
      "ka\t  = 0\t +/-  0.0011991\t(limited)\n",
      "la\t  = 0\t +/-  0.000861372\t(limited)\n",
      "[#1] INFO:Minimization -- RooAbsMinimizerFcn::setOptimizeConst: deactivating const optimization\n"
     ]
    },
    {
     "name": "stderr",
     "output_type": "stream",
     "text": [
      "Info in <Minuit2>: MnSeedGenerator Computing seed using NumericalGradient calculator\n",
      "Info in <Minuit2>: MnSeedGenerator Evaluated function and gradient in 254.761 μs\n",
      "Info in <Minuit2>: MnSeedGenerator Initial state: FCN =       25.56933672 Edm =   3.618396539e-26 NCalls =     13\n",
      "Info in <Minuit2>: MnSeedGenerator Initial state  \n",
      "  Minimum value : 25.56933672\n",
      "  Edm           : 3.618396539e-26\n",
      "  Internal parameters:\t[                0                0                0]\t\n",
      "  Internal gradient  :\t[  -7.93969837e-11  9.704075785e-11  1.058626449e-10]\t\n",
      "  Internal covariance matrix:\n",
      "[[  2.7922202e-06              0              0]\n",
      " [              0  1.0083714e-05              0]\n",
      " [              0              0  2.8711442e-06]]]\n",
      "Info in <Minuit2>: VariableMetricBuilder Start iterating until Edm is < 0.001 with call limit = 1500\n",
      "Info in <Minuit2>: VariableMetricBuilder    0 - FCN =       25.56933672 Edm =   3.618396539e-26 NCalls =     13\n",
      "Warning in <Minuit2>: VariableMetricBuilder No improvement in line search\n",
      "Info in <Minuit2>: VariableMetricBuilder    1 - FCN =       25.56933672 Edm =   3.618396539e-26 NCalls =     24\n",
      "Info in <Minuit2>: MnHesse Done after 102.113 μs\n",
      "Info in <Minuit2>: VariableMetricBuilder After Hessian\n",
      "Info in <Minuit2>: VariableMetricBuilder    2 - FCN =       25.56933672 Edm =   4.357880181e-26 NCalls =     40\n",
      "Info in <Minuit2>: VariableMetricBuilder Stop iterating after 214.253 μs\n",
      "Info in <Minuit2>: Minuit2Minimizer::Hesse Using max-calls 1500\n",
      "Info in <Minuit2>: MnHesse Done after 79.853 μs\n",
      "Info in <Minuit2>: Minuit2Minimizer::Hesse Hesse is valid - matrix is accurate\n"
     ]
    }
   ],
   "source": [
    "fit_res = model.fitTo(ds, Save=True)"
   ]
  },
  {
   "cell_type": "code",
   "execution_count": 12,
   "id": "f9be1fea",
   "metadata": {},
   "outputs": [
    {
     "name": "stdout",
     "output_type": "stream",
     "text": [
      "\n",
      "3x3 matrix is as follows\n",
      "\n",
      "     |      0    |      1    |      2    |\n",
      "--------------------------------------------\n",
      "   0 |  7.747e-07  -2.769e-07   5.286e-07 \n",
      "   1 | -2.769e-07   1.438e-06  -1.601e-08 \n",
      "   2 |  5.286e-07  -1.601e-08    7.42e-07 \n",
      "\n"
     ]
    }
   ],
   "source": [
    "fit_res.covarianceMatrix().Print()"
   ]
  },
  {
   "cell_type": "code",
   "execution_count": 13,
   "id": "303da578",
   "metadata": {},
   "outputs": [
    {
     "name": "stdout",
     "output_type": "stream",
     "text": [
      "[#1] INFO:Fitting -- RooAbsPdf::fitTo(multi_gauss_over_multi_gauss_Int[O_g1z_pos_1em05,O_ka_pos_1em05,O_la_pos_1em05]) fixing normalization set for coefficient determination to observables in data\n",
      "[#1] INFO:Fitting -- Creation of NLL object took 215.374 μs\n"
     ]
    }
   ],
   "source": [
    "nll = model.createNLL(ds, EvalBackend=\"cpu\")"
   ]
  },
  {
   "cell_type": "code",
   "execution_count": 14,
   "id": "8ce5f60c",
   "metadata": {},
   "outputs": [
    {
     "name": "stdout",
     "output_type": "stream",
     "text": [
      "[#1] INFO:Fitting -- RooAddition::defaultErrorLevel(nll_multi_gauss_over_multi_gauss_Int[O_g1z_pos_1em05,O_ka_pos_1em05,O_la_pos_1em05]_CountingAsimovData0) Summation contains a RooNLLVar, using its error level\n"
     ]
    }
   ],
   "source": [
    "nll_minimizer = ROOT.RooMinimizer(nll)"
   ]
  },
  {
   "cell_type": "code",
   "execution_count": 15,
   "id": "5e1af00d",
   "metadata": {},
   "outputs": [
    {
     "name": "stdout",
     "output_type": "stream",
     "text": [
      "CPU times: user 11 μs, sys: 0 ns, total: 11 μs\n",
      "Wall time: 20.3 μs\n"
     ]
    },
    {
     "data": {
      "text/plain": [
       "0"
      ]
     },
     "execution_count": 15,
     "metadata": {},
     "output_type": "execute_result"
    },
    {
     "name": "stdout",
     "output_type": "stream",
     "text": [
      "Minuit2Minimizer: Minimize with max-calls 1500 convergence for edm < 1 strategy 1\n",
      "Minuit2Minimizer : Valid minimum - status = 0\n",
      "FVAL  = 25.5693367216680087\n",
      "Edm   = 4.01127747495378121e-25\n",
      "Nfcn  = 40\n",
      "g1z\t  = 0\t +/-  0.000880172\t(limited)\n",
      "ka\t  = 0\t +/-  0.0011991\t(limited)\n",
      "la\t  = 0\t +/-  0.000861372\t(limited)\n"
     ]
    },
    {
     "name": "stderr",
     "output_type": "stream",
     "text": [
      "Info in <Minuit2>: MnSeedGenerator Computing seed using NumericalGradient calculator\n",
      "Info in <Minuit2>: MnSeedGenerator Evaluated function and gradient in 485.827 μs\n",
      "Info in <Minuit2>: MnSeedGenerator Initial state: FCN =       25.56933672 Edm =   2.538401714e-25 NCalls =     13\n",
      "Info in <Minuit2>: MnSeedGenerator Initial state  \n",
      "  Minimum value : 25.56933672\n",
      "  Edm           : 2.538401714e-25\n",
      "  Internal parameters:\t[                0                0                0]\t\n",
      "  Internal gradient  :\t[                0  -2.24380401e-10 -4.205016199e-10]\t\n",
      "  Internal covariance matrix:\n",
      "[[  2.7922202e-06              0              0]\n",
      " [              0  1.0083714e-05              0]\n",
      " [              0              0  2.8711442e-06]]]\n",
      "Info in <Minuit2>: VariableMetricBuilder Start iterating until Edm is < 0.001 with call limit = 1500\n",
      "Info in <Minuit2>: VariableMetricBuilder    0 - FCN =       25.56933672 Edm =   2.538401714e-25 NCalls =     13\n",
      "Warning in <Minuit2>: VariableMetricBuilder No improvement in line search\n",
      "Info in <Minuit2>: VariableMetricBuilder    1 - FCN =       25.56933672 Edm =   2.538401714e-25 NCalls =     24\n",
      "Info in <Minuit2>: MnHesse Done after 218.526 μs\n",
      "Info in <Minuit2>: VariableMetricBuilder After Hessian\n",
      "Info in <Minuit2>: VariableMetricBuilder    2 - FCN =       25.56933672 Edm =   4.011277475e-25 NCalls =     40\n",
      "Info in <Minuit2>: VariableMetricBuilder Stop iterating after 408.855 μs\n"
     ]
    }
   ],
   "source": [
    "%time\n",
    "nll_minimizer.migrad()"
   ]
  },
  {
   "cell_type": "code",
   "execution_count": 16,
   "id": "534c87c9",
   "metadata": {},
   "outputs": [
    {
     "name": "stdout",
     "output_type": "stream",
     "text": [
      "CPU times: user 8 μs, sys: 2 μs, total: 10 μs\n",
      "Wall time: 15.5 μs\n"
     ]
    }
   ],
   "source": [
    "%time\n",
    "# nll_minimizer.hesse()\n",
    "# nll_minimizer.minos(coupling_pars)"
   ]
  },
  {
   "cell_type": "code",
   "execution_count": 17,
   "id": "c07a5725",
   "metadata": {},
   "outputs": [],
   "source": [
    "# nll.Print(\"t\")"
   ]
  },
  {
   "cell_type": "code",
   "execution_count": 18,
   "id": "bca2d1c9",
   "metadata": {},
   "outputs": [],
   "source": [
    "pll0 = nll.createProfile({coupling_pars[0]})\n",
    "pll1 = nll.createProfile({coupling_pars[1]})\n",
    "pll2 = nll.createProfile({coupling_pars[2]})"
   ]
  },
  {
   "cell_type": "code",
   "execution_count": 19,
   "id": "89f26d40",
   "metadata": {},
   "outputs": [
    {
     "data": {
      "text/plain": [
       "<cppyy.gbl.RooPlot object at 0x233bbdb0>"
      ]
     },
     "execution_count": 19,
     "metadata": {},
     "output_type": "execute_result"
    }
   ],
   "source": [
    "frame0 = coupling_pars[0].frame(Range=(-0.004, 0.004))\n",
    "frame1 = coupling_pars[1].frame(Range=(-0.004, 0.004))\n",
    "frame2 = coupling_pars[2].frame(Range=(-0.004, 0.004))\n",
    "nll.plotOn(frame0, ShiftToZero=True)\n",
    "nll.plotOn(frame1, ShiftToZero=True)\n",
    "nll.plotOn(frame2, ShiftToZero=True)"
   ]
  },
  {
   "cell_type": "code",
   "execution_count": 20,
   "id": "d54e38ff",
   "metadata": {},
   "outputs": [
    {
     "data": {
      "text/plain": [
       "<cppyy.gbl.RooPlot object at 0x233bbdb0>"
      ]
     },
     "execution_count": 20,
     "metadata": {},
     "output_type": "execute_result"
    },
    {
     "name": "stdout",
     "output_type": "stream",
     "text": [
      "[#1] INFO:Minimization -- RooProfileLL::evaluate(RooEvaluatorWrapper_Profile[g1z]) Creating instance of MINUIT\n",
      "[#1] INFO:Fitting -- RooAddition::defaultErrorLevel(nll_multi_gauss_over_multi_gauss_Int[O_g1z_pos_1em05,O_ka_pos_1em05,O_la_pos_1em05]_CountingAsimovData0) Summation contains a RooNLLVar, using its error level\n",
      "[#1] INFO:Minimization -- RooProfileLL::evaluate(RooEvaluatorWrapper_Profile[g1z]) determining minimum likelihood for current configurations w.r.t all observable\n",
      "[#1] INFO:Minimization -- RooProfileLL::evaluate(RooEvaluatorWrapper_Profile[g1z]) minimum found at (g1z=0)\n",
      "..........................................................................................................................................................................................................\n",
      "[#1] INFO:Minimization -- RooProfileLL::evaluate(RooEvaluatorWrapper_Profile[ka]) Creating instance of MINUIT\n",
      "[#1] INFO:Fitting -- RooAddition::defaultErrorLevel(nll_multi_gauss_over_multi_gauss_Int[O_g1z_pos_1em05,O_ka_pos_1em05,O_la_pos_1em05]_CountingAsimovData0) Summation contains a RooNLLVar, using its error level\n",
      "[#1] INFO:Minimization -- RooProfileLL::evaluate(RooEvaluatorWrapper_Profile[ka]) determining minimum likelihood for current configurations w.r.t all observable\n",
      "[#1] INFO:Minimization -- RooProfileLL::evaluate(RooEvaluatorWrapper_Profile[ka]) minimum found at (ka=-2.48351e-09)\n",
      "..........................................................................................................................................................................................................\n",
      "[#1] INFO:Minimization -- RooProfileLL::evaluate(RooEvaluatorWrapper_Profile[la]) Creating instance of MINUIT\n",
      "[#1] INFO:Fitting -- RooAddition::defaultErrorLevel(nll_multi_gauss_over_multi_gauss_Int[O_g1z_pos_1em05,O_ka_pos_1em05,O_la_pos_1em05]_CountingAsimovData0) Summation contains a RooNLLVar, using its error level\n",
      "[#1] INFO:Minimization -- RooProfileLL::evaluate(RooEvaluatorWrapper_Profile[la]) determining minimum likelihood for current configurations w.r.t all observable\n",
      "[#1] INFO:Minimization -- RooProfileLL::evaluate(RooEvaluatorWrapper_Profile[la]) minimum found at (la=7.65076e-10)\n",
      ".........................................................................................................................................................................................................."
     ]
    }
   ],
   "source": [
    "pll0.plotOn(frame0, LineColor=\"r\")\n",
    "pll1.plotOn(frame1, LineColor=\"r\")\n",
    "pll2.plotOn(frame2, LineColor=\"r\")"
   ]
  },
  {
   "cell_type": "code",
   "execution_count": 21,
   "id": "2a0fe2f7-68ef-4af2-83d7-95b18fe3df4e",
   "metadata": {},
   "outputs": [
    {
     "data": {
      "text/html": [
       "\n",
       "\n",
       "<div id=\"root_plot_1754661659793\" style=\"width: 700px; height: 500px; position: relative\">\n",
       "</div>\n",
       "\n",
       "<script>\n",
       "\n",
       "function display_root_plot_1754661659793(Core) {\n",
       "   let obj = Core.parse({\"_typename\":\"TCanvasWebSnapshot\",\"fUniqueID\":0,\"fBits\":0,\"fObjectID\":\"\",\"fOption\":\"\",\"fKind\":3,\"fSnapshot\":{\"_typename\":\"TCanvas\",\"fUniqueID\":0,\"fBits\":3342344,\"fLineColor\":1,\"fLineStyle\":1,\"fLineWidth\":2,\"fFillColor\":10,\"fFillStyle\":1001,\"fLeftMargin\":0.15,\"fRightMargin\":0.16,\"fBottomMargin\":0.17,\"fTopMargin\":0.08,\"fXfile\":2,\"fYfile\":2,\"fAfile\":1,\"fXstat\":0.99,\"fYstat\":0.99,\"fAstat\":2,\"fFrameFillColor\":10,\"fFrameLineColor\":1,\"fFrameFillStyle\":1001,\"fFrameLineStyle\":1,\"fFrameLineWidth\":2,\"fFrameBorderSize\":1,\"fFrameBorderMode\":0,\"fX1\":-0.00573913035966649,\"fY1\":-0.90666667620341,\"fX2\":0.00585507226846621,\"fY2\":4.42666665712992,\"fXtoAbsPixelk\":344.520003526211,\"fXtoPixelk\":344.520003526211,\"fXtoPixel\":60030.001400113,\"fYtoAbsPixelk\":391.759999155998,\"fYtoPixelk\":391.759999155998,\"fYtoPixel\":-88.5,\"fUtoAbsPixelk\":0,\"fUtoPixelk\":0,\"fUtoPixel\":696,\"fVtoAbsPixelk\":472,\"fVtoPixelk\":472,\"fVtoPixel\":-472,\"fAbsPixeltoXk\":-0.00573913035966649,\"fPixeltoXk\":-0.00573913035966649,\"fPixeltoX\":1.66583371093861e-5,\"fAbsPixeltoYk\":4.42666665712992,\"fPixeltoYk\":-0.90666667620341,\"fPixeltoY\":-0.0112994350282486,\"fXlowNDC\":0,\"fYlowNDC\":0,\"fXUpNDC\":1,\"fYUpNDC\":1,\"fWNDC\":1,\"fHNDC\":1,\"fAbsXlowNDC\":0,\"fAbsYlowNDC\":0,\"fAbsWNDC\":1,\"fAbsHNDC\":1,\"fUxmin\":-0.004,\"fUymin\":0,\"fUxmax\":0.004,\"fUymax\":4,\"fTheta\":30,\"fPhi\":30,\"fAspectRatio\":0,\"fNumber\":0,\"fTickx\":1,\"fTicky\":1,\"fLogx\":0,\"fLogy\":0,\"fLogz\":0,\"fPadPaint\":0,\"fCrosshair\":0,\"fCrosshairPos\":0,\"fBorderSize\":2,\"fBorderMode\":0,\"fModified\":false,\"fGridx\":false,\"fGridy\":false,\"fAbsCoord\":false,\"fEditable\":true,\"fFixedAspectRatio\":false,\"fPrimitives\":{\"_typename\":\"TList\",\"name\":\"TList\",\"arr\":[],\"opt\":[]},\"fExecs\":null,\"fName\":\"c1\",\"fTitle\":\"c1\",\"fNumPaletteColor\":0,\"fNextPaletteColor\":0,\"fDISPLAY\":\"$DISPLAY\",\"fDoubleBuffer\":0,\"fRetained\":true,\"fXsizeUser\":0,\"fYsizeUser\":0,\"fXsizeReal\":20,\"fYsizeReal\":14.28571,\"fWindowTopX\":0,\"fWindowTopY\":0,\"fWindowWidth\":0,\"fWindowHeight\":0,\"fCw\":696,\"fCh\":472,\"fCatt\":{\"_typename\":\"TAttCanvas\",\"fXBetween\":2,\"fYBetween\":2,\"fTitleFromTop\":1.2,\"fXdate\":0.2,\"fYdate\":0.3,\"fAdate\":1},\"kMoveOpaque\":true,\"kResizeOpaque\":true,\"fHighLightColor\":2,\"fBatch\":true,\"kShowEventStatus\":false,\"kAutoExec\":true,\"kMenuBar\":true},\"fActive\":false,\"fReadOnly\":true,\"fWithoutPrimitives\":false,\"fHasExecs\":false,\"fPrimitives\":[{\"_typename\":\"TWebSnapshot\",\"fUniqueID\":0,\"fBits\":0,\"fObjectID\":\"\",\"fOption\":\"\",\"fKind\":4,\"fSnapshot\":{\"_typename\":\"TWebPainting\",\"fUniqueID\":0,\"fBits\":0,\"fClassName\":\"\",\"fObjectName\":\"\",\"fOper\":\"0:255,255,255;1:0,0,0;2:255,0,0;3:0,255,0;4:0,0,255;5:255,255,0;6:255,0,255;7:0,255,255;8:89,211,84;9:89,84,216;10:254,254,254;11:192,182,172;12:76,76,76;13:102,102,102;14:127,127,127;15:153,153,153;16:178,178,178;17:204,204,204;18:229,229,229;19:242,242,242;20:204,198,170;21:204,198,170;22:193,191,168;23:186,181,163;24:178,165,150;25:183,163,155;26:173,153,140;27:155,142,130;28:135,102,86;29:175,206,198;30:132,193,163;31:137,168,160;32:130,158,140;33:173,188,198;34:122,142,153;35:117,137,145;36:104,130,150;37:109,122,132;38:124,153,209;39:127,127,155;40:170,165,191;41:211,206,135;42:221,186,135;43:188,158,130;44:198,153,124;45:191,130,119;46:206,94,96;47:170,142,147;48:165,119,122;49:147,104,112;50:211,89,84;51:146,0,255;52:122,0,255;53:98,0,255;54:74,0,255;55:51,0,255;56:27,0,255;57:3,0,255;58:0,20,255;59:0,44,255;60:0,68,255;61:0,91,255;62:0,115,255;63:0,139,255;64:0,163,255;65:0,187,255;66:0,210,255;67:0,234,255;68:0,255,251;69:0,255,227;70:0,255,204;71:0,255,180;72:0,255,156;73:0,255,132;74:0,255,108;75:0,255,85;76:0,255,61;77:0,255,37;78:0,255,13;79:10,255,0;80:34,255,0;81:57,255,0;82:81,255,0;83:105,255,0;84:129,255,0;85:153,255,0;86:176,255,0;87:200,255,0;88:224,255,0;89:248,255,0;90:255,238,0;91:255,214,0;92:255,190,0;93:255,166,0;94:255,142,0;95:255,119,0;96:255,95,0;97:255,71,0;98:255,47,0;99:255,23,0;100:111,45,168;101:165,42,42;102:178,190,181;103:87,144,252;104:248,156,32;105:228,37,54;106:150,74,139;107:156,156,161;108:122,33,221;109:24,69,251;110:255,94,2;111:201,31,22;112:200,73,169;113:173,173,125;114:134,200,221;115:87,141,255;116:101,99,100;117:63,144,218;118:255,169,14;119:189,31,1;120:148,164,162;121:131,45,182;122:169,107,89;123:231,99,0;124:185,172,112;125:113,117,129;126:146,218,221;127:178,178,178;201:91,91,91;202:122,122,122;203:183,183,183;204:214,214,214;205:137,15,15;206:183,20,20;207:234,71,71;208:239,117,117;209:15,137,15;210:20,183,20;211:71,234,71;212:117,239,117;213:15,15,137;214:20,20,183;215:71,71,234;216:117,117,239;217:137,137,15;218:183,183,20;219:234,234,71;220:239,239,117;221:137,15,137;222:183,20,183;223:234,71,234;224:239,117,239;225:15,137,137;226:20,183,183;227:71,234,234;228:117,239,239;390:255,255,204;391:255,255,153;392:204,204,153;393:255,255,102;394:204,204,102;395:153,153,102;396:255,255,51;397:204,204,51;398:153,153,51;399:102,102,51;400:255,255,0;401:204,204,0;402:153,153,0;403:102,102,0;404:51,51,0;406:204,255,204;407:153,255,153;408:153,204,153;409:102,255,102;410:102,204,102;411:102,153,102;412:51,255,51;413:51,204,51;414:51,153,51;415:51,102,51;416:0,255,0;417:0,204,0;418:0,153,0;419:0,102,0;420:0,51,0;422:204,255,255;423:153,255,255;424:153,204,204;425:102,255,255;426:102,204,204;427:102,153,153;428:51,255,255;429:51,204,204;430:51,153,153;431:51,102,102;432:0,255,255;433:0,204,204;434:0,153,153;435:0,102,102;436:0,51,51;590:204,204,255;591:153,153,255;592:153,153,204;593:102,102,255;594:102,102,204;595:102,102,153;596:51,51,255;597:51,51,204;598:51,51,153;599:51,51,102;600:0,0,255;601:0,0,204;602:0,0,153;603:0,0,102;604:0,0,51;606:255,204,255;607:255,153,255;608:204,153,204;609:255,102,255;610:204,102,204;611:153,102,153;612:255,51,255;613:204,51,204;614:153,51,153;615:102,51,102;616:255,0,255;617:204,0,204;618:153,0,153;619:102,0,102;620:51,0,51;622:255,204,204;623:255,153,153;624:204,153,153;625:255,102,102;626:204,102,102;627:153,102,102;628:255,51,51;629:204,51,51;630:153,51,51;631:102,51,51;632:255,0,0;633:204,0,0;634:153,0,0;635:102,0,0;636:51,0,0;791:255,204,153;792:204,153,102;793:153,102,51;794:153,102,0;795:204,153,51;796:255,204,102;797:255,153,0;798:255,204,51;799:204,153,0;800:255,204,0;801:255,153,51;802:204,102,0;803:102,51,0;804:153,51,0;805:204,102,51;806:255,153,102;807:255,102,0;808:255,102,51;809:204,51,0;810:255,51,0;811:153,255,51;812:102,204,0;813:51,102,0;814:51,153,0;815:102,204,51;816:153,255,102;817:102,255,0;818:102,255,51;819:51,204,0;820:51,255,0;821:204,255,153;822:153,204,102;823:102,153,51;824:102,153,0;825:153,204,51;826:204,255,102;827:153,255,0;828:204,255,51;829:153,204,0;830:204,255,0;831:153,255,204;832:102,204,153;833:51,153,102;834:0,153,102;835:51,204,153;836:102,255,204;837:0,255,102;838:51,255,204;839:0,204,153;840:0,255,204;841:51,255,153;842:0,204,102;843:0,102,51;844:0,153,51;845:51,204,102;846:102,255,153;847:0,255,153;848:51,255,102;849:0,204,51;850:0,255,51;851:153,204,255;852:102,153,204;853:51,102,153;854:0,51,153;855:51,102,204;856:102,153,255;857:0,102,255;858:51,102,255;859:0,51,204;860:0,51,255;861:51,153,255;862:0,102,204;863:0,51,102;864:0,102,153;865:51,153,204;866:102,204,255;867:0,153,255;868:51,204,255;869:0,153,204;870:0,204,255;871:204,153,255;872:153,102,204;873:102,51,153;874:102,0,153;875:153,51,204;876:204,102,255;877:153,0,255;878:204,51,255;879:153,0,204;880:204,0,255;881:153,51,255;882:102,0,204;883:51,0,102;884:51,0,153;885:102,51,204;886:153,102,255;887:102,0,255;888:102,51,255;889:51,0,204;890:51,0,255;891:255,51,153;892:204,0,102;893:102,0,51;894:153,0,51;895:204,51,102;896:255,102,153;897:255,0,102;898:255,51,102;899:204,0,51;900:255,0,51;901:255,153,204;902:204,102,153;903:153,51,102;904:153,0,102;905:204,51,153;906:255,102,204;907:255,0,153;908:204,0,153;909:255,51,204;910:255,0,153;920:204,204,204;921:153,153,153;922:102,102,102;923:51,51,51;924:53,42,134;925:51,44,137;926:50,45,140;927:49,47,143;928:48,48,146;929:46,50,148;930:45,51,151;931:44,53,154;932:43,55,157;933:42,56,160;934:40,58,162;935:39,59,165;936:38,61,168;937:37,63,171;938:35,64,174;939:34,66,176;940:33,67,179;941:32,69,182;942:31,71,185;943:29,72,187;944:28,74,190;945:27,75,193;946:26,77,196;947:24,79,199;948:23,80,201;949:22,82,204;950:21,83,207;951:19,85,210;952:18,86,213;953:17,88,215;954:16,90,218;955:15,91,221;956:15,92,221;957:15,94,220;958:15,95,220;959:15,96,220;960:15,97,220;961:15,98,220;962:16,99,219;963:16,100,219;964:16,102,219;965:16,103,219;966:16,104,218;967:16,105,218;968:17,106,218;969:17,107,218;970:17,109,217;971:17,110,217;972:17,111,217;973:17,112,217;974:17,113,216;975:18,114,216;976:18,115,216;977:18,117,216;978:18,118,215;979:18,119,215;980:18,120,215;981:18,121,215;982:19,122,215;983:19,123,214;984:19,125,214;985:19,126,214;986:19,127,214;987:19,128,213;988:19,129,213;989:19,130,213;990:18,131,212;991:18,132,212;992:17,134,211;993:17,135,211;994:16,136,211;995:16,137,210;996:15,138,210;997:15,139,210;998:15,140,209;999:14,141,209;1000:14,142,208;1001:13,143,208;1002:13,145,208;1003:12,146,207;1004:12,147,207;1005:12,148,207;1006:11,149,206;1007:11,150,206;1008:10,151,205;1009:10,152,205;1010:9,153,205;1011:9,154,204;1012:8,155,204;1013:8,157,204;1014:8,158,203;1015:7,159,203;1016:7,160,202;1017:6,161,202;1018:6,162,202;1019:5,163,201;1020:7,164,200;1021:8,164,199;1022:9,165,198;1023:10,166,197;1024:12,166,195;1025:13,167,194;1026:14,167,193;1027:15,168,192;1028:17,169,191;1029:18,169,189;1030:19,170,188;1031:20,170,187;1032:22,171,186;1033:23,172,185;1034:24,172,184;1035:25,173,182;1036:27,173,181;1037:28,174,180;1038:29,175,179;1039:30,175,178;1040:32,176,176;1041:33,176,175;1042:34,177,174;1043:35,178,173;1044:37,178,172;1045:38,179,170;1046:39,180,169;1047:40,180,168;1048:42,181,167;1049:43,181,166;1050:44,182,165;1051:45,183,163;1052:48,183,162;1053:51,183,161;1054:54,183,159;1055:57,184,158;1056:59,184,156;1057:62,184,155;1058:65,184,154;1059:68,185,152;1060:71,185,151;1061:73,185,149;1062:76,185,148;1063:79,186,146;1064:82,186,145;1065:84,186,144;1066:87,186,142;1067:90,187,141;1068:93,187,139;1069:96,187,138;1070:98,187,137;1071:101,188,135;1072:104,188,134;1073:107,188,132;1074:110,188,131;1075:112,189,130;1076:115,189,128;1077:118,189,127;1078:121,189,125;1079:124,190,124;1080:126,190,123;1081:129,190,121;1082:132,190,120;1083:135,191,118;1084:137,190,117;1085:139,190,117;1086:142,190,116;1087:144,190,115;1088:146,190,114;1089:148,190,113;1090:151,190,112;1091:153,190,111;1092:155,189,110;1093:158,189,109;1094:160,189,108;1095:162,189,107;1096:165,189,106;1097:167,189,105;1098:169,189,104;1099:171,188,104;1100:174,188,103;1101:176,188,102;1102:178,188,101;1103:181,188,100;1104:183,188,99;1105:185,188,98;1106:188,188,97;1107:190,187,96;1108:192,187,95;1109:194,187,94;1110:197,187,93;1111:199,187,92;1112:201,187,92;1113:204,187,91;1114:206,186,90;1115:208,186,89;1116:210,187,88;1117:211,187,86;1118:212,188,85;1119:214,188,84;1120:215,188,83;1121:217,189,81;1122:218,189,80;1123:220,190,79;1124:221,190,78;1125:222,191,77;1126:224,191,75;1127:225,191,74;1128:227,192,73;1129:228,192,72;1130:229,193,70;1131:231,193,69;1132:232,194,68;1133:234,194,67;1134:235,194,66;1135:236,195,64;1136:238,195,63;1137:239,196,62;1138:241,196,61;1139:242,197,59;1140:244,197,58;1141:245,197,57;1142:246,198,56;1143:248,198,55;1144:249,199,53;1145:251,199,52;1146:252,200,51;1147:253,200,50;1148:253,202,49;1149:253,203,47;1150:253,205,46;1151:253,206,45;1152:253,208,44;1153:252,209,43;1154:252,211,42;1155:252,213,41;1156:252,214,39;1157:252,216,38;1158:252,217,37;1159:252,219,36;1160:251,220,35;1161:251,222,34;1162:251,224,33;1163:251,225,31;1164:251,227,30;1165:251,228,29;1166:250,230,28;1167:250,231,27;1168:250,233,26;1169:250,235,25;1170:250,236,23;1171:250,238,22;1172:250,239,21;1173:249,241,20;1174:249,242,19;1175:249,244,18;1176:249,246,17;1177:249,247,16;1178:249,249,14\",\"fBuf\":{\"$arr\":\"Float32\",\"len\":50,\"v\":[51,52,53,54,55,56,57,58,59,60,61,62,63,64,65,66,67,68,69,70,71,72,73,74,75,76,77,78,79,80,81,82,83,84,85,86,87,88,89,90,91,92,93,94,95,96,97,98,99,632]}}},{\"_typename\":\"TWebSnapshot\",\"fUniqueID\":0,\"fBits\":0,\"fObjectID\":\"\",\"fOption\":\"\",\"fKind\":5,\"fSnapshot\":{\"_typename\":\"TStyle\",\"fUniqueID\":0,\"fBits\":0,\"fName\":\"ildStyle\",\"fTitle\":\"ILD Style\",\"fLineColor\":1,\"fLineStyle\":1,\"fLineWidth\":2,\"fFillColor\":10,\"fFillStyle\":1001,\"fMarkerColor\":1,\"fMarkerStyle\":20,\"fMarkerSize\":0.7,\"fTextAngle\":0,\"fTextSize\":0.05,\"fTextAlign\":11,\"fTextColor\":1,\"fTextFont\":42,\"fXaxis\":{\"_typename\":\"TAttAxis\",\"fNdivisions\":506,\"fAxisColor\":1,\"fLabelColor\":1,\"fLabelFont\":42,\"fLabelOffset\":0.015,\"fLabelSize\":0.06,\"fTickLength\":0.03,\"fTitleOffset\":1,\"fTitleSize\":0.07,\"fTitleColor\":1,\"fTitleFont\":42},\"fYaxis\":{\"_typename\":\"TAttAxis\",\"fNdivisions\":506,\"fAxisColor\":1,\"fLabelColor\":1,\"fLabelFont\":42,\"fLabelOffset\":0.015,\"fLabelSize\":0.06,\"fTickLength\":0.03,\"fTitleOffset\":1.1,\"fTitleSize\":0.07,\"fTitleColor\":1,\"fTitleFont\":42},\"fZaxis\":{\"_typename\":\"TAttAxis\",\"fNdivisions\":510,\"fAxisColor\":1,\"fLabelColor\":1,\"fLabelFont\":42,\"fLabelOffset\":0.015,\"fLabelSize\":0.06,\"fTickLength\":0.03,\"fTitleOffset\":1.1,\"fTitleSize\":0.07,\"fTitleColor\":1,\"fTitleFont\":42},\"fBarWidth\":1,\"fBarOffset\":0,\"fColorModelPS\":0,\"fDrawBorder\":0,\"fOptLogx\":0,\"fOptLogy\":0,\"fOptLogz\":0,\"fOptDate\":0,\"fOptStat\":0,\"fOptTitle\":1,\"fOptFile\":0,\"fOptFit\":0,\"fShowEventStatus\":0,\"fShowEditor\":0,\"fShowToolBar\":0,\"fNumberContours\":20,\"fAttDate\":{\"_typename\":\"TAttText\",\"fTextAngle\":0,\"fTextSize\":0.025,\"fTextAlign\":11,\"fTextColor\":1,\"fTextFont\":62},\"fDateX\":0.01,\"fDateY\":0.01,\"fEndErrorSize\":2,\"fErrorX\":0.5,\"fFuncColor\":632,\"fFuncStyle\":1,\"fFuncWidth\":2,\"fGridColor\":0,\"fGridStyle\":3,\"fGridWidth\":1,\"fLegendBorderSize\":0,\"fLegendFillColor\":0,\"fLegendFillStyle\":1001,\"fLegendFont\":62,\"fLegendTextSize\":0,\"fHatchesLineWidth\":1,\"fHatchesSpacing\":1,\"fFrameFillColor\":10,\"fFrameLineColor\":1,\"fFrameFillStyle\":1001,\"fFrameLineStyle\":1,\"fFrameLineWidth\":2,\"fFrameBorderSize\":1,\"fFrameBorderMode\":0,\"fHistFillColor\":0,\"fHistLineColor\":1,\"fHistFillStyle\":1001,\"fHistLineStyle\":1,\"fHistLineWidth\":2,\"fHistMinimumZero\":false,\"fHistTopMargin\":0.05,\"fCanvasPreferGL\":false,\"fCanvasColor\":10,\"fCanvasBorderSize\":2,\"fCanvasBorderMode\":0,\"fCanvasDefH\":500,\"fCanvasDefW\":700,\"fCanvasDefX\":10,\"fCanvasDefY\":10,\"fPadColor\":10,\"fPadBorderSize\":2,\"fPadBorderMode\":0,\"fPadBottomMargin\":0.17,\"fPadTopMargin\":0.08,\"fPadLeftMargin\":0.15,\"fPadRightMargin\":0.16,\"fPadGridX\":false,\"fPadGridY\":false,\"fPadTickX\":1,\"fPadTickY\":1,\"fPaperSizeX\":20,\"fPaperSizeY\":26,\"fScreenFactor\":1,\"fStatColor\":10,\"fStatTextColor\":1,\"fStatBorderSize\":0,\"fStatFont\":42,\"fStatFontSize\":0.07,\"fStatStyle\":1001,\"fStatFormat\":\"6.4g\",\"fStatX\":0.98,\"fStatY\":0.995,\"fStatW\":0.2,\"fStatH\":0.16,\"fStripDecimals\":true,\"fTitleAlign\":13,\"fTitleColor\":0,\"fTitleTextColor\":1,\"fTitleBorderSize\":0,\"fTitleFont\":62,\"fTitleFontSize\":0,\"fTitleStyle\":1001,\"fTitleX\":0.01,\"fTitleY\":0.995,\"fTitleW\":0,\"fTitleH\":0,\"fLegoInnerR\":0.5,\"fLineStyles\":[\"\",\"  \",\" 12 12\",\" 4 8\",\" 12 16 4 16\",\" 20 12 4 12\",\" 20 12 4 12 4 12 4 12\",\" 20 20\",\" 20 12 4 12 4 12\",\" 80 20\",\" 80 40 4 40\",\"  \",\"  \",\"  \",\"  \",\"  \",\"  \",\"  \",\"  \",\"  \",\"  \",\"  \",\"  \",\"  \",\"  \",\"  \",\"  \",\"  \",\"  \",\"  \"],\"fHeaderPS\":\"\",\"fTitlePS\":\"\",\"fFitFormat\":\"5.4g\",\"fPaintTextFormat\":\"g\",\"fLineScalePS\":3,\"fJoinLinePS\":0,\"fCapLinePS\":0,\"fTimeOffset\":788918400,\"fImageScaling\":1,\"fCandleWhiskerRange\":1,\"fCandleBoxRange\":0.5,\"fCandleScaled\":false,\"fViolinScaled\":true,\"fCandleCircleLineWidth\":1,\"fCandleCrossLineWidth\":1,\"fXAxisExpXOffset\":0,\"fXAxisExpYOffset\":0,\"fYAxisExpXOffset\":0,\"fYAxisExpYOffset\":0,\"fAxisMaxDigits\":5,\"fOrthoCamera\":false}},{\"_typename\":\"TWebSnapshot\",\"fUniqueID\":0,\"fBits\":0,\"fObjectID\":\"\",\"fOption\":\"\",\"fKind\":1,\"fSnapshot\":{\"_typename\":\"TFrame\",\"fUniqueID\":0,\"fBits\":8,\"fLineColor\":1,\"fLineStyle\":1,\"fLineWidth\":2,\"fFillColor\":10,\"fFillStyle\":1001,\"fX1\":-0.004,\"fY1\":0,\"fX2\":0.004,\"fY2\":4,\"fBorderSize\":1,\"fBorderMode\":0}},{\"_typename\":\"TWebSnapshot\",\"fUniqueID\":0,\"fBits\":0,\"fObjectID\":\"\",\"fOption\":\"FUNC\",\"fKind\":1,\"fSnapshot\":{\"_typename\":\"TH1D\",\"fUniqueID\":0,\"fBits\":520,\"fName\":\"frame_g1z_23308b30\",\"fTitle\":\"A RooPlot of \\\"g1z\\\"\",\"fLineColor\":1,\"fLineStyle\":1,\"fLineWidth\":2,\"fFillColor\":0,\"fFillStyle\":1001,\"fMarkerColor\":1,\"fMarkerStyle\":20,\"fMarkerSize\":0.7,\"fNcells\":102,\"fXaxis\":{\"_typename\":\"TAxis\",\"fUniqueID\":0,\"fBits\":0,\"fName\":\"xaxis\",\"fTitle\":\"g1z\",\"fNdivisions\":506,\"fAxisColor\":1,\"fLabelColor\":1,\"fLabelFont\":42,\"fLabelOffset\":0.015,\"fLabelSize\":0.06,\"fTickLength\":0.03,\"fTitleOffset\":1,\"fTitleSize\":0.07,\"fTitleColor\":1,\"fTitleFont\":42,\"fNbins\":100,\"fXmin\":-0.004,\"fXmax\":0.004,\"fXbins\":[],\"fFirst\":0,\"fLast\":0,\"fBits2\":0,\"fTimeDisplay\":false,\"fTimeFormat\":\"\",\"fLabels\":null,\"fModLabs\":null},\"fYaxis\":{\"_typename\":\"TAxis\",\"fUniqueID\":0,\"fBits\":0,\"fName\":\"yaxis\",\"fTitle\":\"Projection of RooEvaluatorWrapper\",\"fNdivisions\":506,\"fAxisColor\":1,\"fLabelColor\":1,\"fLabelFont\":42,\"fLabelOffset\":0.015,\"fLabelSize\":0.06,\"fTickLength\":0.03,\"fTitleOffset\":1.1,\"fTitleSize\":0.07,\"fTitleColor\":1,\"fTitleFont\":42,\"fNbins\":1,\"fXmin\":0,\"fXmax\":1,\"fXbins\":[],\"fFirst\":0,\"fLast\":0,\"fBits2\":0,\"fTimeDisplay\":false,\"fTimeFormat\":\"\",\"fLabels\":null,\"fModLabs\":null},\"fZaxis\":{\"_typename\":\"TAxis\",\"fUniqueID\":0,\"fBits\":0,\"fName\":\"zaxis\",\"fTitle\":\"\",\"fNdivisions\":510,\"fAxisColor\":1,\"fLabelColor\":1,\"fLabelFont\":42,\"fLabelOffset\":0.015,\"fLabelSize\":0.06,\"fTickLength\":0.03,\"fTitleOffset\":1.1,\"fTitleSize\":0.07,\"fTitleColor\":1,\"fTitleFont\":42,\"fNbins\":1,\"fXmin\":0,\"fXmax\":1,\"fXbins\":[],\"fFirst\":0,\"fLast\":0,\"fBits2\":0,\"fTimeDisplay\":false,\"fTimeFormat\":\"\",\"fLabels\":null,\"fModLabs\":null},\"fBarOffset\":0,\"fBarWidth\":1000,\"fEntries\":1,\"fTsumw\":0,\"fTsumw2\":0,\"fTsumwx\":0,\"fTsumwx2\":0,\"fMaximum\":4,\"fMinimum\":0,\"fNormFactor\":0,\"fContour\":[],\"fSumw2\":[],\"fOption\":\"\",\"fFunctions\":{\"_typename\":\"TList\",\"name\":\"TList\",\"arr\":[],\"opt\":[]},\"fBufferSize\":0,\"fBuffer\":[],\"fBinStatErrOpt\":0,\"fStatOverflows\":2,\"fArray\":{\"$arr\":\"Float64\",\"len\":102,\"p\":1,\"v\":24.0668702018306}}},{\"_typename\":\"TWebSnapshot\",\"fUniqueID\":0,\"fBits\":0,\"fObjectID\":\"\",\"fOption\":\"l\",\"fKind\":1,\"fSnapshot\":{\"_typename\":\"RooCurve\",\"fUniqueID\":0,\"fBits\":525320,\"fName\":\"RooEvaluatorWrapper_Norm[g1z]\",\"fTitle\":\"Projection of RooEvaluatorWrapper\",\"fLineColor\":600,\"fLineStyle\":1,\"fLineWidth\":3,\"fFillColor\":0,\"fFillStyle\":1000,\"fMarkerColor\":1,\"fMarkerStyle\":20,\"fMarkerSize\":0.7,\"fNpoints\":106,\"fX\":{\"$arr\":\"Float64\",\"len\":106,\"v\":[-0.00408008,-0.00408,-0.004,-0.00392,-0.00384,-0.00376,-0.00368,-0.0036,-0.00352,-0.00344,-0.00336,-0.00328,-0.0032,-0.00312,-0.00304,-0.00296,-0.00288,-0.0028,-0.00272,-0.00264,-0.00256,-0.00248,-0.0024,-0.00232,-0.00224,-0.00216,-0.00208,-0.002,-0.00192,-0.00184,-0.00176,-0.00168,-0.0016,-0.00152,-0.00144,-0.00136,-0.00128,-0.0012,-0.00112,-0.00104,-9.6e-4,-8.8e-4,-8e-4,-7.2e-4,-6.4e-4,-5.6e-4,-4.8e-4,-4e-4,-3.2e-4,-2.4e-4,-1.6e-4,-7.99999999999993e-5,0,8.00000000000002e-5,1.6e-4,2.40000000000001e-4,3.2e-4,4e-4,4.8e-4,5.60000000000001e-4,6.4e-4,7.2e-4,8e-4,8.80000000000001e-4,9.6e-4,0.00104,0.00112,0.0012,0.00128,0.00136,0.00144,0.00152,0.0016,0.00168,0.00176,0.00184,0.00192,0.002,0.00208,0.00216,0.00224,0.00232,0.0024,0.00248,0.00256,0.00264,0.00272,0.0028,0.00288,0.00296,0.00304,0.00312,0.0032,0.00328,0.00336,0.00344,0.00352,0.0036,0.00368,0.00376,0.00384,0.00392,0.004,0.004,0.00408,0.00408008]},\"fY\":{\"$arr\":\"Float64\",\"len\":106,\"p\":1,\"v\":[22.9208287636482,22.9208287636482,22.0131639446058,21.123835788578,20.252844295557,19.4001894655525,18.5658712985529,17.7498897945688,16.9522449535925,16.1729367756293,15.4119652606751,14.6693304087344,13.945032219802,13.2390706938829,12.5514458309733,11.8821576310742,11.2312060941866,10.5985912203107,9.98431300944355,9.38837146158918,8.81076657674616,8.25149835491273,7.71056679609131,7.18797190027975,6.68371366748033,6.19779209769009,5.73020719091157,5.28095894714436,4.85004736638782,4.43747244864194,4.04323419390753,3.66733260218284,3.30976767347079,2.97053940776874,2.64964780507749,2.34709286539762,2.06287458872898,1.79699297506975,1.54944802442266,1.32023973678616,1.10936811216028,0.916833150545973,0.742634851942256,0.586773216349123,0.449248243767357,0.330059934196473,0.22920828763645,0.146693304087336,0.0825149835491601,0.0366733260218624,0.00916833150542828,0,0.00916833150548513,0.036673326021873,0.0825149835491104,0.146693304087169,0.229208287636432,0.330059934196715,0.449248243767471,0.586773216349794,0.742634851942192,0.916833150546037,1.10936811216064,1.32023973678625,1.54944802442226,1.79699297507018,2.06287458872806,2.34709286539727,2.64964780507784,2.9705394077691,3.30976767346983,3.66733260218409,4.04323419390729,4.43747244864141,4.85004736638681,5.28095894714408,5.73020719091129,6.19779209768991,6.68371366748056,7.18797190028001,7.71056679609224,8.25149835491352,8.81076657674703,9.3883714615903,9.98431300944505,10.5985912203107,11.2312060941869,11.8821576310735,12.5514458309724,13.2390706938817,13.9450322198034,14.6693304087332,15.4119652606765,16.1729367756299,16.9522449535948,17.749889794568,18.5658712985528,19.4001894655505,20.2528442955588,21.1238357885751,22.013163944607,22.9208287627295,22.9208287627295,22.9208287627295]},\"fFunctions\":{\"_typename\":\"TList\",\"name\":\"TList\",\"arr\":[],\"opt\":[]},\"fHistogram\":{\"_typename\":\"TH1F\",\"fUniqueID\":0,\"fBits\":512,\"fName\":\"RooEvaluatorWrapper_Norm[g1z]\",\"fTitle\":\"Projection of RooEvaluatorWrapper\",\"fLineColor\":1,\"fLineStyle\":1,\"fLineWidth\":2,\"fFillColor\":0,\"fFillStyle\":1001,\"fMarkerColor\":1,\"fMarkerStyle\":20,\"fMarkerSize\":0.7,\"fNcells\":108,\"fXaxis\":{\"_typename\":\"TAxis\",\"fUniqueID\":0,\"fBits\":0,\"fName\":\"xaxis\",\"fTitle\":\"\",\"fNdivisions\":506,\"fAxisColor\":1,\"fLabelColor\":1,\"fLabelFont\":42,\"fLabelOffset\":0.015,\"fLabelSize\":0.06,\"fTickLength\":0.03,\"fTitleOffset\":1,\"fTitleSize\":0.07,\"fTitleColor\":1,\"fTitleFont\":42,\"fNbins\":106,\"fXmin\":-0.004896096,\"fXmax\":0.004896096,\"fXbins\":[],\"fFirst\":0,\"fLast\":0,\"fBits2\":0,\"fTimeDisplay\":false,\"fTimeFormat\":\"\",\"fLabels\":null,\"fModLabs\":null},\"fYaxis\":{\"_typename\":\"TAxis\",\"fUniqueID\":0,\"fBits\":0,\"fName\":\"yaxis\",\"fTitle\":\"\",\"fNdivisions\":506,\"fAxisColor\":1,\"fLabelColor\":1,\"fLabelFont\":42,\"fLabelOffset\":0.015,\"fLabelSize\":0.06,\"fTickLength\":0.03,\"fTitleOffset\":1.1,\"fTitleSize\":0.07,\"fTitleColor\":1,\"fTitleFont\":42,\"fNbins\":1,\"fXmin\":0,\"fXmax\":25.212911640013,\"fXbins\":[],\"fFirst\":0,\"fLast\":0,\"fBits2\":0,\"fTimeDisplay\":false,\"fTimeFormat\":\"\",\"fLabels\":null,\"fModLabs\":null},\"fZaxis\":{\"_typename\":\"TAxis\",\"fUniqueID\":0,\"fBits\":0,\"fName\":\"zaxis\",\"fTitle\":\"\",\"fNdivisions\":510,\"fAxisColor\":1,\"fLabelColor\":1,\"fLabelFont\":42,\"fLabelOffset\":0.015,\"fLabelSize\":0.06,\"fTickLength\":0.03,\"fTitleOffset\":1.1,\"fTitleSize\":0.07,\"fTitleColor\":1,\"fTitleFont\":42,\"fNbins\":1,\"fXmin\":0,\"fXmax\":1,\"fXbins\":[],\"fFirst\":0,\"fLast\":0,\"fBits2\":0,\"fTimeDisplay\":false,\"fTimeFormat\":\"\",\"fLabels\":null,\"fModLabs\":null},\"fBarOffset\":0,\"fBarWidth\":1000,\"fEntries\":0,\"fTsumw\":0,\"fTsumw2\":0,\"fTsumwx\":0,\"fTsumwx2\":0,\"fMaximum\":25.212911640013,\"fMinimum\":0,\"fNormFactor\":0,\"fContour\":[],\"fSumw2\":[],\"fOption\":\"\",\"fFunctions\":{\"_typename\":\"TList\",\"name\":\"TList\",\"arr\":[],\"opt\":[]},\"fBufferSize\":0,\"fBuffer\":[],\"fBinStatErrOpt\":0,\"fStatOverflows\":2,\"fArray\":{\"$arr\":\"Float32\",\"len\":108}},\"fMinimum\":-1111,\"fMaximum\":-1111,\"fOption\":\"\",\"_yAxisLabel\":\"Projection of RooEvaluatorWrapper\",\"_ymin\":0,\"_ymax\":22.9208287636482,\"_normValue\":0}},{\"_typename\":\"TWebSnapshot\",\"fUniqueID\":0,\"fBits\":0,\"fObjectID\":\"\",\"fOption\":\"l\",\"fKind\":1,\"fSnapshot\":{\"_typename\":\"RooCurve\",\"fUniqueID\":0,\"fBits\":525320,\"fName\":\"RooEvaluatorWrapper_Profile[g1z]_Norm[g1z]\",\"fTitle\":\"Projection of Profile of RooEvaluatorWrapper\",\"fLineColor\":632,\"fLineStyle\":1,\"fLineWidth\":3,\"fFillColor\":0,\"fFillStyle\":1000,\"fMarkerColor\":1,\"fMarkerStyle\":20,\"fMarkerSize\":0.7,\"fNpoints\":106,\"fX\":{\"$arr\":\"Float64\",\"len\":106,\"v\":[-0.00408008,-0.00408,-0.004,-0.00392,-0.00384,-0.00376,-0.00368,-0.0036,-0.00352,-0.00344,-0.00336,-0.00328,-0.0032,-0.00312,-0.00304,-0.00296,-0.00288,-0.0028,-0.00272,-0.00264,-0.00256,-0.00248,-0.0024,-0.00232,-0.00224,-0.00216,-0.00208,-0.002,-0.00192,-0.00184,-0.00176,-0.00168,-0.0016,-0.00152,-0.00144,-0.00136,-0.00128,-0.0012,-0.00112,-0.00104,-9.6e-4,-8.8e-4,-8e-4,-7.2e-4,-6.4e-4,-5.6e-4,-4.8e-4,-4e-4,-3.2e-4,-2.4e-4,-1.6e-4,-7.99999999999993e-5,0,8.00000000000002e-5,1.6e-4,2.40000000000001e-4,3.2e-4,4e-4,4.8e-4,5.60000000000001e-4,6.4e-4,7.2e-4,8e-4,8.80000000000001e-4,9.6e-4,0.00104,0.00112,0.0012,0.00128,0.00136,0.00144,0.00152,0.0016,0.00168,0.00176,0.00184,0.00192,0.002,0.00208,0.00216,0.00224,0.00232,0.0024,0.00248,0.00256,0.00264,0.00272,0.0028,0.00288,0.00296,0.00304,0.00312,0.0032,0.00328,0.00336,0.00344,0.00352,0.0036,0.00368,0.00376,0.00384,0.00392,0.004,0.004,0.00408,0.00408008]},\"fY\":{\"$arr\":\"Float64\",\"len\":106,\"p\":1,\"v\":[10.3265253613842,10.3265253613842,9.91771070720999,9.51712702844585,9.12474274906383,8.74060000086484,8.36471482183058,7.99709048285707,7.63772737814289,7.28662551065754,6.94378486787701,6.60920544607254,6.28288724478412,5.96483026378882,5.65503450275976,5.35349996225784,5.06022664199865,4.77521454203682,4.49846366238653,4.22997400300432,3.96974556392028,3.7177783450697,3.47407234664441,3.23862756847369,3.01144401050897,2.79252167279563,2.58186055546379,2.37946065831634,2.18532198161812,1.99944452506903,1.82182828885481,1.65247327297509,1.49137947742258,1.33854690200841,1.19397554692925,1.05766541216103,0.929616497728649,0.809828803548058,0.698302329692599,0.595037076063981,0.500033042719302,0.413290229720619,0.334808636957916,0.264588264523379,0.202629112357833,0.148931180491289,0.103494468908082,0.0663189776410249,0.0374047066369343,0.0167516559187852,0.00435982549603153,2.29215359645707e-4,0.00435982551279679,0.0167516559570728,0.0374047067033203,0.0663189777152944,0.103494469034501,0.148931180637398,0.202629112539057,0.264588264704969,0.334808637183905,0.413290229945236,0.500033042960236,0.595037076282853,0.698302329872519,0.809828803862711,0.929616498044979,1.05766541251229,1.19397554730116,1.33854690241308,1.49137947777464,1.65247327341705,1.82182828925973,1.99944452563648,2.18532198212887,2.37946065891034,2.58186055600474,2.79252167341599,3.01144401106906,3.23862756897729,3.47407234732207,3.71777834583871,3.96974556461343,4.22997400366227,4.49846366305531,4.77521454279527,5.06022664282753,5.35349996313846,5.65503450373865,5.96483026451113,6.28288724566289,6.60920544714669,6.94378486877623,7.28662551069507,7.63772737310419,7.99709045571532,8.36471475851331,8.74060028164087,9.12474702516147,9.51715498901294,9.91782417298819,10.3267545768756,10.3267545768756,10.3267545768756]},\"fFunctions\":{\"_typename\":\"TList\",\"name\":\"TList\",\"arr\":[],\"opt\":[]},\"fHistogram\":{\"_typename\":\"TH1F\",\"fUniqueID\":0,\"fBits\":512,\"fName\":\"RooEvaluatorWrapper_Profile[g1z]_Norm[g1z]\",\"fTitle\":\"Projection of Profile of RooEvaluatorWrapper\",\"fLineColor\":1,\"fLineStyle\":1,\"fLineWidth\":2,\"fFillColor\":0,\"fFillStyle\":1001,\"fMarkerColor\":1,\"fMarkerStyle\":20,\"fMarkerSize\":0.7,\"fNcells\":108,\"fXaxis\":{\"_typename\":\"TAxis\",\"fUniqueID\":0,\"fBits\":0,\"fName\":\"xaxis\",\"fTitle\":\"\",\"fNdivisions\":506,\"fAxisColor\":1,\"fLabelColor\":1,\"fLabelFont\":42,\"fLabelOffset\":0.015,\"fLabelSize\":0.06,\"fTickLength\":0.03,\"fTitleOffset\":1,\"fTitleSize\":0.07,\"fTitleColor\":1,\"fTitleFont\":42,\"fNbins\":106,\"fXmin\":-0.004896096,\"fXmax\":0.004896096,\"fXbins\":[],\"fFirst\":0,\"fLast\":0,\"fBits2\":0,\"fTimeDisplay\":false,\"fTimeFormat\":\"\",\"fLabels\":null,\"fModLabs\":null},\"fYaxis\":{\"_typename\":\"TAxis\",\"fUniqueID\":0,\"fBits\":0,\"fName\":\"yaxis\",\"fTitle\":\"\",\"fNdivisions\":506,\"fAxisColor\":1,\"fLabelColor\":1,\"fLabelFont\":42,\"fLabelOffset\":0.015,\"fLabelSize\":0.06,\"fTickLength\":0.03,\"fTitleOffset\":1.1,\"fTitleSize\":0.07,\"fTitleColor\":1,\"fTitleFont\":42,\"fNbins\":1,\"fXmin\":0,\"fXmax\":11.3594300345632,\"fXbins\":[],\"fFirst\":0,\"fLast\":0,\"fBits2\":0,\"fTimeDisplay\":false,\"fTimeFormat\":\"\",\"fLabels\":null,\"fModLabs\":null},\"fZaxis\":{\"_typename\":\"TAxis\",\"fUniqueID\":0,\"fBits\":0,\"fName\":\"zaxis\",\"fTitle\":\"\",\"fNdivisions\":510,\"fAxisColor\":1,\"fLabelColor\":1,\"fLabelFont\":42,\"fLabelOffset\":0.015,\"fLabelSize\":0.06,\"fTickLength\":0.03,\"fTitleOffset\":1.1,\"fTitleSize\":0.07,\"fTitleColor\":1,\"fTitleFont\":42,\"fNbins\":1,\"fXmin\":0,\"fXmax\":1,\"fXbins\":[],\"fFirst\":0,\"fLast\":0,\"fBits2\":0,\"fTimeDisplay\":false,\"fTimeFormat\":\"\",\"fLabels\":null,\"fModLabs\":null},\"fBarOffset\":0,\"fBarWidth\":1000,\"fEntries\":0,\"fTsumw\":0,\"fTsumw2\":0,\"fTsumwx\":0,\"fTsumwx2\":0,\"fMaximum\":11.3594300345632,\"fMinimum\":0,\"fNormFactor\":0,\"fContour\":[],\"fSumw2\":[],\"fOption\":\"\",\"fFunctions\":{\"_typename\":\"TList\",\"name\":\"TList\",\"arr\":[],\"opt\":[]},\"fBufferSize\":0,\"fBuffer\":[],\"fBinStatErrOpt\":0,\"fStatOverflows\":2,\"fArray\":{\"$arr\":\"Float32\",\"len\":108}},\"fMinimum\":-1111,\"fMaximum\":-1111,\"fOption\":\"\",\"_yAxisLabel\":\"Projection of Profile of RooEvaluatorWrapper\",\"_ymin\":0,\"_ymax\":10.3267545768756,\"_normValue\":0}},{\"_typename\":\"TWebSnapshot\",\"fUniqueID\":0,\"fBits\":0,\"fObjectID\":\"\",\"fOption\":\"AXISSAME\",\"fKind\":1,\"fSnapshot\":{\"$ref\":15}},{\"_typename\":\"TWebSnapshot\",\"fUniqueID\":0,\"fBits\":0,\"fObjectID\":\"\",\"fOption\":\"blNDC\",\"fKind\":1,\"fSnapshot\":{\"_typename\":\"TPaveText\",\"fUniqueID\":0,\"fBits\":9,\"fLineColor\":1,\"fLineStyle\":1,\"fLineWidth\":2,\"fFillColor\":0,\"fFillStyle\":1001,\"fX1\":-0.00562318833597667,\"fY1\":4.10169493114881,\"fX2\":-0.00239280360372452,\"fY2\":4.40000001589457,\"fX1NDC\":0.00999999977648258,\"fY1NDC\":0.939067801378541,\"fX2NDC\":0.288620689431655,\"fY2NDC\":0.995000004768372,\"fBorderSize\":0,\"fInit\":1,\"fShadowColor\":1,\"fCornerRadius\":0,\"fOption\":\"blNDC\",\"fName\":\"title\",\"fTextAngle\":0,\"fTextSize\":0,\"fTextAlign\":22,\"fTextColor\":1,\"fTextFont\":62,\"fLabel\":\"\",\"fLongest\":18,\"fMargin\":0.05,\"fLines\":{\"_typename\":\"TList\",\"name\":\"TList\",\"arr\":[{\"_typename\":\"TLatex\",\"fUniqueID\":0,\"fBits\":0,\"fName\":\"\",\"fTitle\":\"A RooPlot of \\\"g1z\\\"\",\"fTextAngle\":0,\"fTextSize\":0,\"fTextAlign\":0,\"fTextColor\":0,\"fTextFont\":0,\"fX\":0,\"fY\":0,\"fLineColor\":1,\"fLineStyle\":1,\"fLineWidth\":2,\"fLimitFactorSize\":3,\"fOriginSize\":0.0475423745810986}],\"opt\":[null]}}}],\"fScripts\":\"\",\"fHighlightConnect\":false,\"fFixedSize\":false});\n",
       "   Core.settings.HandleKeys = false;\n",
       "   Core.draw(\"root_plot_1754661659793\", obj, \"\");\n",
       "}\n",
       "\n",
       "function script_load_root_plot_1754661659793(src, on_error) {\n",
       "    let script = document.createElement('script');\n",
       "    script.src = src;\n",
       "    script.onload = function() { display_root_plot_1754661659793(JSROOT); };\n",
       "    script.onerror = function() { script.remove(); on_error(); };\n",
       "    document.head.appendChild(script);\n",
       "}\n",
       "\n",
       "if (typeof requirejs !== 'undefined') {\n",
       "\n",
       "    // We are in jupyter notebooks, use require.js which should be configured already\n",
       "    requirejs.config({\n",
       "       paths: { 'JSRootCore' : [ 'build/jsroot', 'https://root.cern/js/7.9.0/build/jsroot', 'https://jsroot.gsi.de/7.9.0/build/jsroot' ] }\n",
       "    })(['JSRootCore'],  function(Core) {\n",
       "       display_root_plot_1754661659793(Core);\n",
       "    });\n",
       "\n",
       "} else if (typeof JSROOT !== 'undefined') {\n",
       "\n",
       "   // JSROOT already loaded, just use it\n",
       "   display_root_plot_1754661659793(JSROOT);\n",
       "\n",
       "} else {\n",
       "\n",
       "    // We are in jupyterlab without require.js, directly loading jsroot\n",
       "    // Jupyterlab might be installed in a different base_url so we need to know it.\n",
       "    try {\n",
       "        var base_url = JSON.parse(document.getElementById('jupyter-config-data').innerHTML).baseUrl;\n",
       "    } catch(_) {\n",
       "        var base_url = '/';\n",
       "    }\n",
       "\n",
       "    // Try loading a local version of requirejs and fallback to cdn if not possible.\n",
       "    script_load_root_plot_1754661659793(base_url + 'static/build/jsroot.js', function(){\n",
       "        console.error('Fail to load JSROOT locally, please check your jupyter_notebook_config.py file');\n",
       "        script_load_root_plot_1754661659793('https://root.cern/js/7.9.0/build/jsroot.js', function(){\n",
       "            document.getElementById(\"root_plot_1754661659793\").innerHTML = \"Failed to load JSROOT\";\n",
       "        });\n",
       "    });\n",
       "}\n",
       "\n",
       "</script>\n"
      ],
      "text/plain": [
       "<IPython.core.display.HTML object>"
      ]
     },
     "metadata": {},
     "output_type": "display_data"
    },
    {
     "data": {
      "text/html": [
       "\n",
       "\n",
       "<div id=\"root_plot_1754661659802\" style=\"width: 700px; height: 500px; position: relative\">\n",
       "</div>\n",
       "\n",
       "<script>\n",
       "\n",
       "function display_root_plot_1754661659802(Core) {\n",
       "   let obj = Core.parse({\"_typename\":\"TCanvasWebSnapshot\",\"fUniqueID\":0,\"fBits\":0,\"fObjectID\":\"\",\"fOption\":\"\",\"fKind\":3,\"fSnapshot\":{\"_typename\":\"TCanvas\",\"fUniqueID\":0,\"fBits\":3342344,\"fLineColor\":1,\"fLineStyle\":1,\"fLineWidth\":2,\"fFillColor\":10,\"fFillStyle\":1001,\"fLeftMargin\":0.15,\"fRightMargin\":0.16,\"fBottomMargin\":0.17,\"fTopMargin\":0.08,\"fXfile\":2,\"fYfile\":2,\"fAfile\":1,\"fXstat\":0.99,\"fYstat\":0.99,\"fAstat\":2,\"fFrameFillColor\":10,\"fFrameLineColor\":1,\"fFrameFillStyle\":1001,\"fFrameLineStyle\":1,\"fFrameLineWidth\":2,\"fFrameBorderSize\":1,\"fFrameBorderMode\":0,\"fX1\":-0.00573913035966649,\"fY1\":-0.90666667620341,\"fX2\":0.00585507226846621,\"fY2\":4.42666665712992,\"fXtoAbsPixelk\":344.520003526211,\"fXtoPixelk\":344.520003526211,\"fXtoPixel\":60030.001400113,\"fYtoAbsPixelk\":391.759999155998,\"fYtoPixelk\":391.759999155998,\"fYtoPixel\":-88.5,\"fUtoAbsPixelk\":0,\"fUtoPixelk\":0,\"fUtoPixel\":696,\"fVtoAbsPixelk\":472,\"fVtoPixelk\":472,\"fVtoPixel\":-472,\"fAbsPixeltoXk\":-0.00573913035966649,\"fPixeltoXk\":-0.00573913035966649,\"fPixeltoX\":1.66583371093861e-5,\"fAbsPixeltoYk\":4.42666665712992,\"fPixeltoYk\":-0.90666667620341,\"fPixeltoY\":-0.0112994350282486,\"fXlowNDC\":0,\"fYlowNDC\":0,\"fXUpNDC\":1,\"fYUpNDC\":1,\"fWNDC\":1,\"fHNDC\":1,\"fAbsXlowNDC\":0,\"fAbsYlowNDC\":0,\"fAbsWNDC\":1,\"fAbsHNDC\":1,\"fUxmin\":-0.004,\"fUymin\":0,\"fUxmax\":0.004,\"fUymax\":4,\"fTheta\":30,\"fPhi\":30,\"fAspectRatio\":0,\"fNumber\":0,\"fTickx\":1,\"fTicky\":1,\"fLogx\":0,\"fLogy\":0,\"fLogz\":0,\"fPadPaint\":0,\"fCrosshair\":0,\"fCrosshairPos\":0,\"fBorderSize\":2,\"fBorderMode\":0,\"fModified\":false,\"fGridx\":false,\"fGridy\":false,\"fAbsCoord\":false,\"fEditable\":true,\"fFixedAspectRatio\":false,\"fPrimitives\":{\"_typename\":\"TList\",\"name\":\"TList\",\"arr\":[],\"opt\":[]},\"fExecs\":null,\"fName\":\"c1_n2\",\"fTitle\":\"c1_n2\",\"fNumPaletteColor\":0,\"fNextPaletteColor\":0,\"fDISPLAY\":\"$DISPLAY\",\"fDoubleBuffer\":0,\"fRetained\":true,\"fXsizeUser\":0,\"fYsizeUser\":0,\"fXsizeReal\":20,\"fYsizeReal\":14.28571,\"fWindowTopX\":0,\"fWindowTopY\":0,\"fWindowWidth\":0,\"fWindowHeight\":0,\"fCw\":696,\"fCh\":472,\"fCatt\":{\"_typename\":\"TAttCanvas\",\"fXBetween\":2,\"fYBetween\":2,\"fTitleFromTop\":1.2,\"fXdate\":0.2,\"fYdate\":0.3,\"fAdate\":1},\"kMoveOpaque\":true,\"kResizeOpaque\":true,\"fHighLightColor\":2,\"fBatch\":true,\"kShowEventStatus\":false,\"kAutoExec\":true,\"kMenuBar\":true},\"fActive\":false,\"fReadOnly\":true,\"fWithoutPrimitives\":false,\"fHasExecs\":false,\"fPrimitives\":[{\"_typename\":\"TWebSnapshot\",\"fUniqueID\":0,\"fBits\":0,\"fObjectID\":\"\",\"fOption\":\"\",\"fKind\":4,\"fSnapshot\":{\"_typename\":\"TWebPainting\",\"fUniqueID\":0,\"fBits\":0,\"fClassName\":\"\",\"fObjectName\":\"\",\"fOper\":\"0:255,255,255;1:0,0,0;2:255,0,0;3:0,255,0;4:0,0,255;5:255,255,0;6:255,0,255;7:0,255,255;8:89,211,84;9:89,84,216;10:254,254,254;11:192,182,172;12:76,76,76;13:102,102,102;14:127,127,127;15:153,153,153;16:178,178,178;17:204,204,204;18:229,229,229;19:242,242,242;20:204,198,170;21:204,198,170;22:193,191,168;23:186,181,163;24:178,165,150;25:183,163,155;26:173,153,140;27:155,142,130;28:135,102,86;29:175,206,198;30:132,193,163;31:137,168,160;32:130,158,140;33:173,188,198;34:122,142,153;35:117,137,145;36:104,130,150;37:109,122,132;38:124,153,209;39:127,127,155;40:170,165,191;41:211,206,135;42:221,186,135;43:188,158,130;44:198,153,124;45:191,130,119;46:206,94,96;47:170,142,147;48:165,119,122;49:147,104,112;50:211,89,84;51:146,0,255;52:122,0,255;53:98,0,255;54:74,0,255;55:51,0,255;56:27,0,255;57:3,0,255;58:0,20,255;59:0,44,255;60:0,68,255;61:0,91,255;62:0,115,255;63:0,139,255;64:0,163,255;65:0,187,255;66:0,210,255;67:0,234,255;68:0,255,251;69:0,255,227;70:0,255,204;71:0,255,180;72:0,255,156;73:0,255,132;74:0,255,108;75:0,255,85;76:0,255,61;77:0,255,37;78:0,255,13;79:10,255,0;80:34,255,0;81:57,255,0;82:81,255,0;83:105,255,0;84:129,255,0;85:153,255,0;86:176,255,0;87:200,255,0;88:224,255,0;89:248,255,0;90:255,238,0;91:255,214,0;92:255,190,0;93:255,166,0;94:255,142,0;95:255,119,0;96:255,95,0;97:255,71,0;98:255,47,0;99:255,23,0;100:111,45,168;101:165,42,42;102:178,190,181;103:87,144,252;104:248,156,32;105:228,37,54;106:150,74,139;107:156,156,161;108:122,33,221;109:24,69,251;110:255,94,2;111:201,31,22;112:200,73,169;113:173,173,125;114:134,200,221;115:87,141,255;116:101,99,100;117:63,144,218;118:255,169,14;119:189,31,1;120:148,164,162;121:131,45,182;122:169,107,89;123:231,99,0;124:185,172,112;125:113,117,129;126:146,218,221;127:178,178,178;201:91,91,91;202:122,122,122;203:183,183,183;204:214,214,214;205:137,15,15;206:183,20,20;207:234,71,71;208:239,117,117;209:15,137,15;210:20,183,20;211:71,234,71;212:117,239,117;213:15,15,137;214:20,20,183;215:71,71,234;216:117,117,239;217:137,137,15;218:183,183,20;219:234,234,71;220:239,239,117;221:137,15,137;222:183,20,183;223:234,71,234;224:239,117,239;225:15,137,137;226:20,183,183;227:71,234,234;228:117,239,239;390:255,255,204;391:255,255,153;392:204,204,153;393:255,255,102;394:204,204,102;395:153,153,102;396:255,255,51;397:204,204,51;398:153,153,51;399:102,102,51;400:255,255,0;401:204,204,0;402:153,153,0;403:102,102,0;404:51,51,0;406:204,255,204;407:153,255,153;408:153,204,153;409:102,255,102;410:102,204,102;411:102,153,102;412:51,255,51;413:51,204,51;414:51,153,51;415:51,102,51;416:0,255,0;417:0,204,0;418:0,153,0;419:0,102,0;420:0,51,0;422:204,255,255;423:153,255,255;424:153,204,204;425:102,255,255;426:102,204,204;427:102,153,153;428:51,255,255;429:51,204,204;430:51,153,153;431:51,102,102;432:0,255,255;433:0,204,204;434:0,153,153;435:0,102,102;436:0,51,51;590:204,204,255;591:153,153,255;592:153,153,204;593:102,102,255;594:102,102,204;595:102,102,153;596:51,51,255;597:51,51,204;598:51,51,153;599:51,51,102;600:0,0,255;601:0,0,204;602:0,0,153;603:0,0,102;604:0,0,51;606:255,204,255;607:255,153,255;608:204,153,204;609:255,102,255;610:204,102,204;611:153,102,153;612:255,51,255;613:204,51,204;614:153,51,153;615:102,51,102;616:255,0,255;617:204,0,204;618:153,0,153;619:102,0,102;620:51,0,51;622:255,204,204;623:255,153,153;624:204,153,153;625:255,102,102;626:204,102,102;627:153,102,102;628:255,51,51;629:204,51,51;630:153,51,51;631:102,51,51;632:255,0,0;633:204,0,0;634:153,0,0;635:102,0,0;636:51,0,0;791:255,204,153;792:204,153,102;793:153,102,51;794:153,102,0;795:204,153,51;796:255,204,102;797:255,153,0;798:255,204,51;799:204,153,0;800:255,204,0;801:255,153,51;802:204,102,0;803:102,51,0;804:153,51,0;805:204,102,51;806:255,153,102;807:255,102,0;808:255,102,51;809:204,51,0;810:255,51,0;811:153,255,51;812:102,204,0;813:51,102,0;814:51,153,0;815:102,204,51;816:153,255,102;817:102,255,0;818:102,255,51;819:51,204,0;820:51,255,0;821:204,255,153;822:153,204,102;823:102,153,51;824:102,153,0;825:153,204,51;826:204,255,102;827:153,255,0;828:204,255,51;829:153,204,0;830:204,255,0;831:153,255,204;832:102,204,153;833:51,153,102;834:0,153,102;835:51,204,153;836:102,255,204;837:0,255,102;838:51,255,204;839:0,204,153;840:0,255,204;841:51,255,153;842:0,204,102;843:0,102,51;844:0,153,51;845:51,204,102;846:102,255,153;847:0,255,153;848:51,255,102;849:0,204,51;850:0,255,51;851:153,204,255;852:102,153,204;853:51,102,153;854:0,51,153;855:51,102,204;856:102,153,255;857:0,102,255;858:51,102,255;859:0,51,204;860:0,51,255;861:51,153,255;862:0,102,204;863:0,51,102;864:0,102,153;865:51,153,204;866:102,204,255;867:0,153,255;868:51,204,255;869:0,153,204;870:0,204,255;871:204,153,255;872:153,102,204;873:102,51,153;874:102,0,153;875:153,51,204;876:204,102,255;877:153,0,255;878:204,51,255;879:153,0,204;880:204,0,255;881:153,51,255;882:102,0,204;883:51,0,102;884:51,0,153;885:102,51,204;886:153,102,255;887:102,0,255;888:102,51,255;889:51,0,204;890:51,0,255;891:255,51,153;892:204,0,102;893:102,0,51;894:153,0,51;895:204,51,102;896:255,102,153;897:255,0,102;898:255,51,102;899:204,0,51;900:255,0,51;901:255,153,204;902:204,102,153;903:153,51,102;904:153,0,102;905:204,51,153;906:255,102,204;907:255,0,153;908:204,0,153;909:255,51,204;910:255,0,153;920:204,204,204;921:153,153,153;922:102,102,102;923:51,51,51;924:53,42,134;925:51,44,137;926:50,45,140;927:49,47,143;928:48,48,146;929:46,50,148;930:45,51,151;931:44,53,154;932:43,55,157;933:42,56,160;934:40,58,162;935:39,59,165;936:38,61,168;937:37,63,171;938:35,64,174;939:34,66,176;940:33,67,179;941:32,69,182;942:31,71,185;943:29,72,187;944:28,74,190;945:27,75,193;946:26,77,196;947:24,79,199;948:23,80,201;949:22,82,204;950:21,83,207;951:19,85,210;952:18,86,213;953:17,88,215;954:16,90,218;955:15,91,221;956:15,92,221;957:15,94,220;958:15,95,220;959:15,96,220;960:15,97,220;961:15,98,220;962:16,99,219;963:16,100,219;964:16,102,219;965:16,103,219;966:16,104,218;967:16,105,218;968:17,106,218;969:17,107,218;970:17,109,217;971:17,110,217;972:17,111,217;973:17,112,217;974:17,113,216;975:18,114,216;976:18,115,216;977:18,117,216;978:18,118,215;979:18,119,215;980:18,120,215;981:18,121,215;982:19,122,215;983:19,123,214;984:19,125,214;985:19,126,214;986:19,127,214;987:19,128,213;988:19,129,213;989:19,130,213;990:18,131,212;991:18,132,212;992:17,134,211;993:17,135,211;994:16,136,211;995:16,137,210;996:15,138,210;997:15,139,210;998:15,140,209;999:14,141,209;1000:14,142,208;1001:13,143,208;1002:13,145,208;1003:12,146,207;1004:12,147,207;1005:12,148,207;1006:11,149,206;1007:11,150,206;1008:10,151,205;1009:10,152,205;1010:9,153,205;1011:9,154,204;1012:8,155,204;1013:8,157,204;1014:8,158,203;1015:7,159,203;1016:7,160,202;1017:6,161,202;1018:6,162,202;1019:5,163,201;1020:7,164,200;1021:8,164,199;1022:9,165,198;1023:10,166,197;1024:12,166,195;1025:13,167,194;1026:14,167,193;1027:15,168,192;1028:17,169,191;1029:18,169,189;1030:19,170,188;1031:20,170,187;1032:22,171,186;1033:23,172,185;1034:24,172,184;1035:25,173,182;1036:27,173,181;1037:28,174,180;1038:29,175,179;1039:30,175,178;1040:32,176,176;1041:33,176,175;1042:34,177,174;1043:35,178,173;1044:37,178,172;1045:38,179,170;1046:39,180,169;1047:40,180,168;1048:42,181,167;1049:43,181,166;1050:44,182,165;1051:45,183,163;1052:48,183,162;1053:51,183,161;1054:54,183,159;1055:57,184,158;1056:59,184,156;1057:62,184,155;1058:65,184,154;1059:68,185,152;1060:71,185,151;1061:73,185,149;1062:76,185,148;1063:79,186,146;1064:82,186,145;1065:84,186,144;1066:87,186,142;1067:90,187,141;1068:93,187,139;1069:96,187,138;1070:98,187,137;1071:101,188,135;1072:104,188,134;1073:107,188,132;1074:110,188,131;1075:112,189,130;1076:115,189,128;1077:118,189,127;1078:121,189,125;1079:124,190,124;1080:126,190,123;1081:129,190,121;1082:132,190,120;1083:135,191,118;1084:137,190,117;1085:139,190,117;1086:142,190,116;1087:144,190,115;1088:146,190,114;1089:148,190,113;1090:151,190,112;1091:153,190,111;1092:155,189,110;1093:158,189,109;1094:160,189,108;1095:162,189,107;1096:165,189,106;1097:167,189,105;1098:169,189,104;1099:171,188,104;1100:174,188,103;1101:176,188,102;1102:178,188,101;1103:181,188,100;1104:183,188,99;1105:185,188,98;1106:188,188,97;1107:190,187,96;1108:192,187,95;1109:194,187,94;1110:197,187,93;1111:199,187,92;1112:201,187,92;1113:204,187,91;1114:206,186,90;1115:208,186,89;1116:210,187,88;1117:211,187,86;1118:212,188,85;1119:214,188,84;1120:215,188,83;1121:217,189,81;1122:218,189,80;1123:220,190,79;1124:221,190,78;1125:222,191,77;1126:224,191,75;1127:225,191,74;1128:227,192,73;1129:228,192,72;1130:229,193,70;1131:231,193,69;1132:232,194,68;1133:234,194,67;1134:235,194,66;1135:236,195,64;1136:238,195,63;1137:239,196,62;1138:241,196,61;1139:242,197,59;1140:244,197,58;1141:245,197,57;1142:246,198,56;1143:248,198,55;1144:249,199,53;1145:251,199,52;1146:252,200,51;1147:253,200,50;1148:253,202,49;1149:253,203,47;1150:253,205,46;1151:253,206,45;1152:253,208,44;1153:252,209,43;1154:252,211,42;1155:252,213,41;1156:252,214,39;1157:252,216,38;1158:252,217,37;1159:252,219,36;1160:251,220,35;1161:251,222,34;1162:251,224,33;1163:251,225,31;1164:251,227,30;1165:251,228,29;1166:250,230,28;1167:250,231,27;1168:250,233,26;1169:250,235,25;1170:250,236,23;1171:250,238,22;1172:250,239,21;1173:249,241,20;1174:249,242,19;1175:249,244,18;1176:249,246,17;1177:249,247,16;1178:249,249,14\",\"fBuf\":{\"$arr\":\"Float32\",\"len\":50,\"v\":[51,52,53,54,55,56,57,58,59,60,61,62,63,64,65,66,67,68,69,70,71,72,73,74,75,76,77,78,79,80,81,82,83,84,85,86,87,88,89,90,91,92,93,94,95,96,97,98,99,632]}}},{\"_typename\":\"TWebSnapshot\",\"fUniqueID\":0,\"fBits\":0,\"fObjectID\":\"\",\"fOption\":\"\",\"fKind\":5,\"fSnapshot\":{\"_typename\":\"TStyle\",\"fUniqueID\":0,\"fBits\":0,\"fName\":\"ildStyle\",\"fTitle\":\"ILD Style\",\"fLineColor\":1,\"fLineStyle\":1,\"fLineWidth\":2,\"fFillColor\":10,\"fFillStyle\":1001,\"fMarkerColor\":1,\"fMarkerStyle\":20,\"fMarkerSize\":0.7,\"fTextAngle\":0,\"fTextSize\":0.05,\"fTextAlign\":11,\"fTextColor\":1,\"fTextFont\":42,\"fXaxis\":{\"_typename\":\"TAttAxis\",\"fNdivisions\":506,\"fAxisColor\":1,\"fLabelColor\":1,\"fLabelFont\":42,\"fLabelOffset\":0.015,\"fLabelSize\":0.06,\"fTickLength\":0.03,\"fTitleOffset\":1,\"fTitleSize\":0.07,\"fTitleColor\":1,\"fTitleFont\":42},\"fYaxis\":{\"_typename\":\"TAttAxis\",\"fNdivisions\":506,\"fAxisColor\":1,\"fLabelColor\":1,\"fLabelFont\":42,\"fLabelOffset\":0.015,\"fLabelSize\":0.06,\"fTickLength\":0.03,\"fTitleOffset\":1.1,\"fTitleSize\":0.07,\"fTitleColor\":1,\"fTitleFont\":42},\"fZaxis\":{\"_typename\":\"TAttAxis\",\"fNdivisions\":510,\"fAxisColor\":1,\"fLabelColor\":1,\"fLabelFont\":42,\"fLabelOffset\":0.015,\"fLabelSize\":0.06,\"fTickLength\":0.03,\"fTitleOffset\":1.1,\"fTitleSize\":0.07,\"fTitleColor\":1,\"fTitleFont\":42},\"fBarWidth\":1,\"fBarOffset\":0,\"fColorModelPS\":0,\"fDrawBorder\":0,\"fOptLogx\":0,\"fOptLogy\":0,\"fOptLogz\":0,\"fOptDate\":0,\"fOptStat\":0,\"fOptTitle\":1,\"fOptFile\":0,\"fOptFit\":0,\"fShowEventStatus\":0,\"fShowEditor\":0,\"fShowToolBar\":0,\"fNumberContours\":20,\"fAttDate\":{\"_typename\":\"TAttText\",\"fTextAngle\":0,\"fTextSize\":0.025,\"fTextAlign\":11,\"fTextColor\":1,\"fTextFont\":62},\"fDateX\":0.01,\"fDateY\":0.01,\"fEndErrorSize\":2,\"fErrorX\":0.5,\"fFuncColor\":632,\"fFuncStyle\":1,\"fFuncWidth\":2,\"fGridColor\":0,\"fGridStyle\":3,\"fGridWidth\":1,\"fLegendBorderSize\":0,\"fLegendFillColor\":0,\"fLegendFillStyle\":1001,\"fLegendFont\":62,\"fLegendTextSize\":0,\"fHatchesLineWidth\":1,\"fHatchesSpacing\":1,\"fFrameFillColor\":10,\"fFrameLineColor\":1,\"fFrameFillStyle\":1001,\"fFrameLineStyle\":1,\"fFrameLineWidth\":2,\"fFrameBorderSize\":1,\"fFrameBorderMode\":0,\"fHistFillColor\":0,\"fHistLineColor\":1,\"fHistFillStyle\":1001,\"fHistLineStyle\":1,\"fHistLineWidth\":2,\"fHistMinimumZero\":false,\"fHistTopMargin\":0.05,\"fCanvasPreferGL\":false,\"fCanvasColor\":10,\"fCanvasBorderSize\":2,\"fCanvasBorderMode\":0,\"fCanvasDefH\":500,\"fCanvasDefW\":700,\"fCanvasDefX\":10,\"fCanvasDefY\":10,\"fPadColor\":10,\"fPadBorderSize\":2,\"fPadBorderMode\":0,\"fPadBottomMargin\":0.17,\"fPadTopMargin\":0.08,\"fPadLeftMargin\":0.15,\"fPadRightMargin\":0.16,\"fPadGridX\":false,\"fPadGridY\":false,\"fPadTickX\":1,\"fPadTickY\":1,\"fPaperSizeX\":20,\"fPaperSizeY\":26,\"fScreenFactor\":1,\"fStatColor\":10,\"fStatTextColor\":1,\"fStatBorderSize\":0,\"fStatFont\":42,\"fStatFontSize\":0.07,\"fStatStyle\":1001,\"fStatFormat\":\"6.4g\",\"fStatX\":0.98,\"fStatY\":0.995,\"fStatW\":0.2,\"fStatH\":0.16,\"fStripDecimals\":true,\"fTitleAlign\":13,\"fTitleColor\":0,\"fTitleTextColor\":1,\"fTitleBorderSize\":0,\"fTitleFont\":62,\"fTitleFontSize\":0,\"fTitleStyle\":1001,\"fTitleX\":0.01,\"fTitleY\":0.995,\"fTitleW\":0,\"fTitleH\":0,\"fLegoInnerR\":0.5,\"fLineStyles\":[\"\",\"  \",\" 12 12\",\" 4 8\",\" 12 16 4 16\",\" 20 12 4 12\",\" 20 12 4 12 4 12 4 12\",\" 20 20\",\" 20 12 4 12 4 12\",\" 80 20\",\" 80 40 4 40\",\"  \",\"  \",\"  \",\"  \",\"  \",\"  \",\"  \",\"  \",\"  \",\"  \",\"  \",\"  \",\"  \",\"  \",\"  \",\"  \",\"  \",\"  \",\"  \"],\"fHeaderPS\":\"\",\"fTitlePS\":\"\",\"fFitFormat\":\"5.4g\",\"fPaintTextFormat\":\"g\",\"fLineScalePS\":3,\"fJoinLinePS\":0,\"fCapLinePS\":0,\"fTimeOffset\":788918400,\"fImageScaling\":1,\"fCandleWhiskerRange\":1,\"fCandleBoxRange\":0.5,\"fCandleScaled\":false,\"fViolinScaled\":true,\"fCandleCircleLineWidth\":1,\"fCandleCrossLineWidth\":1,\"fXAxisExpXOffset\":0,\"fXAxisExpYOffset\":0,\"fYAxisExpXOffset\":0,\"fYAxisExpYOffset\":0,\"fAxisMaxDigits\":5,\"fOrthoCamera\":false}},{\"_typename\":\"TWebSnapshot\",\"fUniqueID\":0,\"fBits\":0,\"fObjectID\":\"\",\"fOption\":\"\",\"fKind\":1,\"fSnapshot\":{\"_typename\":\"TFrame\",\"fUniqueID\":0,\"fBits\":8,\"fLineColor\":1,\"fLineStyle\":1,\"fLineWidth\":2,\"fFillColor\":10,\"fFillStyle\":1001,\"fX1\":-0.004,\"fY1\":0,\"fX2\":0.004,\"fY2\":4,\"fBorderSize\":1,\"fBorderMode\":0}},{\"_typename\":\"TWebSnapshot\",\"fUniqueID\":0,\"fBits\":0,\"fObjectID\":\"\",\"fOption\":\"FUNC\",\"fKind\":1,\"fSnapshot\":{\"_typename\":\"TH1D\",\"fUniqueID\":0,\"fBits\":520,\"fName\":\"frame_ka_233bf4f0\",\"fTitle\":\"A RooPlot of \\\"ka\\\"\",\"fLineColor\":1,\"fLineStyle\":1,\"fLineWidth\":2,\"fFillColor\":0,\"fFillStyle\":1001,\"fMarkerColor\":1,\"fMarkerStyle\":20,\"fMarkerSize\":0.7,\"fNcells\":102,\"fXaxis\":{\"_typename\":\"TAxis\",\"fUniqueID\":0,\"fBits\":0,\"fName\":\"xaxis\",\"fTitle\":\"ka\",\"fNdivisions\":506,\"fAxisColor\":1,\"fLabelColor\":1,\"fLabelFont\":42,\"fLabelOffset\":0.015,\"fLabelSize\":0.06,\"fTickLength\":0.03,\"fTitleOffset\":1,\"fTitleSize\":0.07,\"fTitleColor\":1,\"fTitleFont\":42,\"fNbins\":100,\"fXmin\":-0.004,\"fXmax\":0.004,\"fXbins\":[],\"fFirst\":0,\"fLast\":0,\"fBits2\":0,\"fTimeDisplay\":false,\"fTimeFormat\":\"\",\"fLabels\":null,\"fModLabs\":null},\"fYaxis\":{\"_typename\":\"TAxis\",\"fUniqueID\":0,\"fBits\":0,\"fName\":\"yaxis\",\"fTitle\":\"Projection of RooEvaluatorWrapper\",\"fNdivisions\":506,\"fAxisColor\":1,\"fLabelColor\":1,\"fLabelFont\":42,\"fLabelOffset\":0.015,\"fLabelSize\":0.06,\"fTickLength\":0.03,\"fTitleOffset\":1.1,\"fTitleSize\":0.07,\"fTitleColor\":1,\"fTitleFont\":42,\"fNbins\":1,\"fXmin\":0,\"fXmax\":1,\"fXbins\":[],\"fFirst\":0,\"fLast\":0,\"fBits2\":0,\"fTimeDisplay\":false,\"fTimeFormat\":\"\",\"fLabels\":null,\"fModLabs\":null},\"fZaxis\":{\"_typename\":\"TAxis\",\"fUniqueID\":0,\"fBits\":0,\"fName\":\"zaxis\",\"fTitle\":\"\",\"fNdivisions\":510,\"fAxisColor\":1,\"fLabelColor\":1,\"fLabelFont\":42,\"fLabelOffset\":0.015,\"fLabelSize\":0.06,\"fTickLength\":0.03,\"fTitleOffset\":1.1,\"fTitleSize\":0.07,\"fTitleColor\":1,\"fTitleFont\":42,\"fNbins\":1,\"fXmin\":0,\"fXmax\":1,\"fXbins\":[],\"fFirst\":0,\"fLast\":0,\"fBits2\":0,\"fTimeDisplay\":false,\"fTimeFormat\":\"\",\"fLabels\":null,\"fModLabs\":null},\"fBarOffset\":0,\"fBarWidth\":1000,\"fEntries\":1,\"fTsumw\":0,\"fTsumw2\":0,\"fTsumwx\":0,\"fTsumwx2\":0,\"fMaximum\":4,\"fMinimum\":0,\"fNormFactor\":0,\"fContour\":[],\"fSumw2\":[],\"fOption\":\"\",\"fFunctions\":{\"_typename\":\"TList\",\"name\":\"TList\",\"arr\":[],\"opt\":[]},\"fBufferSize\":0,\"fBuffer\":[],\"fBinStatErrOpt\":0,\"fStatOverflows\":2,\"fArray\":{\"$arr\":\"Float64\",\"len\":102,\"p\":1,\"v\":6.66421139606653}}},{\"_typename\":\"TWebSnapshot\",\"fUniqueID\":0,\"fBits\":0,\"fObjectID\":\"\",\"fOption\":\"l\",\"fKind\":1,\"fSnapshot\":{\"_typename\":\"RooCurve\",\"fUniqueID\":0,\"fBits\":525320,\"fName\":\"RooEvaluatorWrapper_Norm[ka]\",\"fTitle\":\"Projection of RooEvaluatorWrapper\",\"fLineColor\":600,\"fLineStyle\":1,\"fLineWidth\":3,\"fFillColor\":0,\"fFillStyle\":1000,\"fMarkerColor\":1,\"fMarkerStyle\":20,\"fMarkerSize\":0.7,\"fNpoints\":106,\"fX\":{\"$arr\":\"Float64\",\"len\":106,\"v\":[-0.00408008,-0.00408,-0.004,-0.00392,-0.00384,-0.00376,-0.00368,-0.0036,-0.00352,-0.00344,-0.00336,-0.00328,-0.0032,-0.00312,-0.00304,-0.00296,-0.00288,-0.0028,-0.00272,-0.00264,-0.00256,-0.00248,-0.0024,-0.00232,-0.00224,-0.00216,-0.00208,-0.002,-0.00192,-0.00184,-0.00176,-0.00168,-0.0016,-0.00152,-0.00144,-0.00136,-0.00128,-0.0012,-0.00112,-0.00104,-9.6e-4,-8.8e-4,-8e-4,-7.2e-4,-6.4e-4,-5.6e-4,-4.8e-4,-4e-4,-3.2e-4,-2.4e-4,-1.6e-4,-7.99999999999993e-5,0,8.00000000000002e-5,1.6e-4,2.40000000000001e-4,3.2e-4,4e-4,4.8e-4,5.60000000000001e-4,6.4e-4,7.2e-4,8e-4,8.80000000000001e-4,9.6e-4,0.00104,0.00112,0.0012,0.00128,0.00136,0.00144,0.00152,0.0016,0.00168,0.00176,0.00184,0.00192,0.002,0.00208,0.00216,0.00224,0.00232,0.0024,0.00248,0.00256,0.00264,0.00272,0.0028,0.00288,0.00296,0.00304,0.00312,0.0032,0.00328,0.00336,0.00344,0.00352,0.0036,0.00368,0.00376,0.00384,0.00392,0.004,0.004,0.00408,0.00408008]},\"fY\":{\"$arr\":\"Float64\",\"len\":106,\"p\":1,\"v\":[6.34686799625384,6.34686799625384,6.09553202360123,5.84927354534757,5.60809256148986,5.3719890720279,5.14096307696447,4.91501457629793,4.69414357002794,4.47835005815591,4.26763404068094,4.061995517602,3.861434488919,3.66595095463595,3.47554491474868,3.29021636925725,3.10996531816471,2.93479176146754,2.76469569916766,2.59967713126565,2.43973605775977,2.28487247865095,2.13508639393924,1.99037780362465,1.85074670770743,1.71619310618694,1.58671699906284,1.46231838633654,1.34299726800742,1.2287536440749,1.11958751453913,1.01549887940056,0.916487738658706,0.822554092314505,0.733697940366735,0.649919282816803,0.571218119662568,0.49759445090617,0.429048276546634,0.365579596584116,0.307188411018409,0.253874719850206,0.205638523078687,0.162479820704039,0.124398612726566,0.0913948991460494,0.0634686799624831,0.0406199551761084,0.0228487247865559,0.0101549887940209,0.00253874719848923,0,0.00253874719848923,0.0101549887939676,0.0228487247864919,0.0406199551760622,0.063468679962515,0.0913948991460352,0.124398612726562,0.162479820704071,0.205638523078907,0.253874719849922,0.307188411018657,0.365579596584006,0.429048276546542,0.49759445090632,0.571218119662834,0.649919282816377,0.733697940367097,0.822554092314473,0.916487738659065,1.01549887940025,1.11958751453911,1.22875364407453,1.34299726800771,1.46231838633698,1.58671699906267,1.71619310618671,1.85074670770769,1.99037780362487,2.13508639393948,2.28487247865065,2.43973605775947,2.59967713126517,2.76469569916735,2.93479176146756,3.10996531816397,3.29021636925711,3.47554491474864,3.66595095463477,3.86143448892053,4.06199551760241,4.26763404068024,4.47835005815752,4.69414357002886,4.91501457629824,5.14096307696532,5.37198907202759,5.60809256148864,5.84927354534708,6.09553202360243,6.34686799600058,6.34686799600058,6.34686799600058]},\"fFunctions\":{\"_typename\":\"TList\",\"name\":\"TList\",\"arr\":[],\"opt\":[]},\"fHistogram\":{\"_typename\":\"TH1F\",\"fUniqueID\":0,\"fBits\":512,\"fName\":\"RooEvaluatorWrapper_Norm[ka]\",\"fTitle\":\"Projection of RooEvaluatorWrapper\",\"fLineColor\":1,\"fLineStyle\":1,\"fLineWidth\":2,\"fFillColor\":0,\"fFillStyle\":1001,\"fMarkerColor\":1,\"fMarkerStyle\":20,\"fMarkerSize\":0.7,\"fNcells\":108,\"fXaxis\":{\"_typename\":\"TAxis\",\"fUniqueID\":0,\"fBits\":0,\"fName\":\"xaxis\",\"fTitle\":\"\",\"fNdivisions\":506,\"fAxisColor\":1,\"fLabelColor\":1,\"fLabelFont\":42,\"fLabelOffset\":0.015,\"fLabelSize\":0.06,\"fTickLength\":0.03,\"fTitleOffset\":1,\"fTitleSize\":0.07,\"fTitleColor\":1,\"fTitleFont\":42,\"fNbins\":106,\"fXmin\":-0.004896096,\"fXmax\":0.004896096,\"fXbins\":[],\"fFirst\":0,\"fLast\":0,\"fBits2\":0,\"fTimeDisplay\":false,\"fTimeFormat\":\"\",\"fLabels\":null,\"fModLabs\":null},\"fYaxis\":{\"_typename\":\"TAxis\",\"fUniqueID\":0,\"fBits\":0,\"fName\":\"yaxis\",\"fTitle\":\"\",\"fNdivisions\":506,\"fAxisColor\":1,\"fLabelColor\":1,\"fLabelFont\":42,\"fLabelOffset\":0.015,\"fLabelSize\":0.06,\"fTickLength\":0.03,\"fTitleOffset\":1.1,\"fTitleSize\":0.07,\"fTitleColor\":1,\"fTitleFont\":42,\"fNbins\":1,\"fXmin\":0,\"fXmax\":6.98155479587923,\"fXbins\":[],\"fFirst\":0,\"fLast\":0,\"fBits2\":0,\"fTimeDisplay\":false,\"fTimeFormat\":\"\",\"fLabels\":null,\"fModLabs\":null},\"fZaxis\":{\"_typename\":\"TAxis\",\"fUniqueID\":0,\"fBits\":0,\"fName\":\"zaxis\",\"fTitle\":\"\",\"fNdivisions\":510,\"fAxisColor\":1,\"fLabelColor\":1,\"fLabelFont\":42,\"fLabelOffset\":0.015,\"fLabelSize\":0.06,\"fTickLength\":0.03,\"fTitleOffset\":1.1,\"fTitleSize\":0.07,\"fTitleColor\":1,\"fTitleFont\":42,\"fNbins\":1,\"fXmin\":0,\"fXmax\":1,\"fXbins\":[],\"fFirst\":0,\"fLast\":0,\"fBits2\":0,\"fTimeDisplay\":false,\"fTimeFormat\":\"\",\"fLabels\":null,\"fModLabs\":null},\"fBarOffset\":0,\"fBarWidth\":1000,\"fEntries\":0,\"fTsumw\":0,\"fTsumw2\":0,\"fTsumwx\":0,\"fTsumwx2\":0,\"fMaximum\":6.98155479587923,\"fMinimum\":0,\"fNormFactor\":0,\"fContour\":[],\"fSumw2\":[],\"fOption\":\"\",\"fFunctions\":{\"_typename\":\"TList\",\"name\":\"TList\",\"arr\":[],\"opt\":[]},\"fBufferSize\":0,\"fBuffer\":[],\"fBinStatErrOpt\":0,\"fStatOverflows\":2,\"fArray\":{\"$arr\":\"Float32\",\"len\":108}},\"fMinimum\":-1111,\"fMaximum\":-1111,\"fOption\":\"\",\"_yAxisLabel\":\"Projection of RooEvaluatorWrapper\",\"_ymin\":0,\"_ymax\":6.34686799625384,\"_normValue\":0}},{\"_typename\":\"TWebSnapshot\",\"fUniqueID\":0,\"fBits\":0,\"fObjectID\":\"\",\"fOption\":\"l\",\"fKind\":1,\"fSnapshot\":{\"_typename\":\"RooCurve\",\"fUniqueID\":0,\"fBits\":525320,\"fName\":\"RooEvaluatorWrapper_Profile[ka]_Norm[ka]\",\"fTitle\":\"Projection of Profile of RooEvaluatorWrapper\",\"fLineColor\":632,\"fLineStyle\":1,\"fLineWidth\":3,\"fFillColor\":0,\"fFillStyle\":1000,\"fMarkerColor\":1,\"fMarkerStyle\":20,\"fMarkerSize\":0.7,\"fNpoints\":106,\"fX\":{\"$arr\":\"Float64\",\"len\":106,\"v\":[-0.00408008,-0.00408,-0.004,-0.00392,-0.00384,-0.00376,-0.00368,-0.0036,-0.00352,-0.00344,-0.00336,-0.00328,-0.0032,-0.00312,-0.00304,-0.00296,-0.00288,-0.0028,-0.00272,-0.00264,-0.00256,-0.00248,-0.0024,-0.00232,-0.00224,-0.00216,-0.00208,-0.002,-0.00192,-0.00184,-0.00176,-0.00168,-0.0016,-0.00152,-0.00144,-0.00136,-0.00128,-0.0012,-0.00112,-0.00104,-9.6e-4,-8.8e-4,-8e-4,-7.2e-4,-6.4e-4,-5.6e-4,-4.8e-4,-4e-4,-3.2e-4,-2.4e-4,-1.6e-4,-7.99999999999993e-5,0,8.00000000000002e-5,1.6e-4,2.40000000000001e-4,3.2e-4,4e-4,4.8e-4,5.60000000000001e-4,6.4e-4,7.2e-4,8e-4,8.80000000000001e-4,9.6e-4,0.00104,0.00112,0.0012,0.00128,0.00136,0.00144,0.00152,0.0016,0.00168,0.00176,0.00184,0.00192,0.002,0.00208,0.00216,0.00224,0.00232,0.0024,0.00248,0.00256,0.00264,0.00272,0.0028,0.00288,0.00296,0.00304,0.00312,0.0032,0.00328,0.00336,0.00344,0.00352,0.0036,0.00368,0.00376,0.00384,0.00392,0.004,0.004,0.00408,0.00408008]},\"fY\":{\"$arr\":\"Float64\",\"len\":106,\"p\":1,\"v\":[5.56390304514179,5.56390304514179,5.34360966149547,5.1278160383052,4.9164892565639,4.70960182703451,4.5071323924804,4.30907091195446,4.11544138831009,3.92623542265993,3.74148332210065,3.56120327858058,3.38539222824887,3.21403837430802,3.04714409320543,2.88468502940433,2.72665828699247,2.57307766698115,2.42395529133123,2.27929411610885,2.13908983396817,2.00333666648022,1.87203121029843,1.74517329854642,1.62276485649087,1.50480802085252,1.3913038089955,1.28225196329274,1.1776516140883,1.07750202503299,0.9818029584982,0.890554613704673,0.803757341231606,0.721411382052665,0.64351677204283,0.570073402660743,0.501081140605642,0.43653991403616,0.376449729399731,0.320810636764936,0.269622683859939,0.222885889598249,0.180600244626014,0.142765727888111,0.109382323338689,0.0804500271641722,0.0559688451238074,0.0359387854619158,0.0203598531916782,0.00923204849994619,0.00255536854911398,3.2981030225443e-4,0.0025553723447409,0.00923205505348434,0.0203598596717072,0.035938787252757,0.0559688381309407,0.080450012014321,0.109382308399354,0.142765726945175,0.180600267603772,0.222885930531397,0.269622715916764,0.320810623864382,0.376449654363412,0.436539807341543,0.501081082730408,0.570073480504298,0.643517000674315,0.721411643273086,0.803757408322209,0.890554295829169,0.981802305785187,1.07750143817576,1.17765169299589,1.2822530702407,1.39130556992089,1.50480919203941,1.62276393659986,1.74516980359487,1.87202679302589,2.00333490489723,2.13909413920431,2.27930449594611,2.42396597511905,2.5730785767323,2.72664230077002,2.88465714725277,3.04712311617546,3.21404020754022,3.38540842133976,3.5612277575651,3.74149821622668,3.92621979732755,4.11539250086058,4.30901632683664,4.50709127524809,4.70961734609538,4.91659453937837,5.12802285510346,5.34390229326008,5.56423285362187,5.56423285362187,5.56423285362187]},\"fFunctions\":{\"_typename\":\"TList\",\"name\":\"TList\",\"arr\":[],\"opt\":[]},\"fHistogram\":{\"_typename\":\"TH1F\",\"fUniqueID\":0,\"fBits\":512,\"fName\":\"RooEvaluatorWrapper_Profile[ka]_Norm[ka]\",\"fTitle\":\"Projection of Profile of RooEvaluatorWrapper\",\"fLineColor\":1,\"fLineStyle\":1,\"fLineWidth\":2,\"fFillColor\":0,\"fFillStyle\":1001,\"fMarkerColor\":1,\"fMarkerStyle\":20,\"fMarkerSize\":0.7,\"fNcells\":108,\"fXaxis\":{\"_typename\":\"TAxis\",\"fUniqueID\":0,\"fBits\":0,\"fName\":\"xaxis\",\"fTitle\":\"\",\"fNdivisions\":506,\"fAxisColor\":1,\"fLabelColor\":1,\"fLabelFont\":42,\"fLabelOffset\":0.015,\"fLabelSize\":0.06,\"fTickLength\":0.03,\"fTitleOffset\":1,\"fTitleSize\":0.07,\"fTitleColor\":1,\"fTitleFont\":42,\"fNbins\":106,\"fXmin\":-0.004896096,\"fXmax\":0.004896096,\"fXbins\":[],\"fFirst\":0,\"fLast\":0,\"fBits2\":0,\"fTimeDisplay\":false,\"fTimeFormat\":\"\",\"fLabels\":null,\"fModLabs\":null},\"fYaxis\":{\"_typename\":\"TAxis\",\"fUniqueID\":0,\"fBits\":0,\"fName\":\"yaxis\",\"fTitle\":\"\",\"fNdivisions\":506,\"fAxisColor\":1,\"fLabelColor\":1,\"fLabelFont\":42,\"fLabelOffset\":0.015,\"fLabelSize\":0.06,\"fTickLength\":0.03,\"fTitleOffset\":1.1,\"fTitleSize\":0.07,\"fTitleColor\":1,\"fTitleFont\":42,\"fNbins\":1,\"fXmin\":0,\"fXmax\":6.12065613898405,\"fXbins\":[],\"fFirst\":0,\"fLast\":0,\"fBits2\":0,\"fTimeDisplay\":false,\"fTimeFormat\":\"\",\"fLabels\":null,\"fModLabs\":null},\"fZaxis\":{\"_typename\":\"TAxis\",\"fUniqueID\":0,\"fBits\":0,\"fName\":\"zaxis\",\"fTitle\":\"\",\"fNdivisions\":510,\"fAxisColor\":1,\"fLabelColor\":1,\"fLabelFont\":42,\"fLabelOffset\":0.015,\"fLabelSize\":0.06,\"fTickLength\":0.03,\"fTitleOffset\":1.1,\"fTitleSize\":0.07,\"fTitleColor\":1,\"fTitleFont\":42,\"fNbins\":1,\"fXmin\":0,\"fXmax\":1,\"fXbins\":[],\"fFirst\":0,\"fLast\":0,\"fBits2\":0,\"fTimeDisplay\":false,\"fTimeFormat\":\"\",\"fLabels\":null,\"fModLabs\":null},\"fBarOffset\":0,\"fBarWidth\":1000,\"fEntries\":0,\"fTsumw\":0,\"fTsumw2\":0,\"fTsumwx\":0,\"fTsumwx2\":0,\"fMaximum\":6.12065613898405,\"fMinimum\":0,\"fNormFactor\":0,\"fContour\":[],\"fSumw2\":[],\"fOption\":\"\",\"fFunctions\":{\"_typename\":\"TList\",\"name\":\"TList\",\"arr\":[],\"opt\":[]},\"fBufferSize\":0,\"fBuffer\":[],\"fBinStatErrOpt\":0,\"fStatOverflows\":2,\"fArray\":{\"$arr\":\"Float32\",\"len\":108}},\"fMinimum\":-1111,\"fMaximum\":-1111,\"fOption\":\"\",\"_yAxisLabel\":\"Projection of Profile of RooEvaluatorWrapper\",\"_ymin\":0,\"_ymax\":5.56423285362187,\"_normValue\":0}},{\"_typename\":\"TWebSnapshot\",\"fUniqueID\":0,\"fBits\":0,\"fObjectID\":\"\",\"fOption\":\"AXISSAME\",\"fKind\":1,\"fSnapshot\":{\"$ref\":15}},{\"_typename\":\"TWebSnapshot\",\"fUniqueID\":0,\"fBits\":0,\"fObjectID\":\"\",\"fOption\":\"blNDC\",\"fKind\":1,\"fSnapshot\":{\"_typename\":\"TPaveText\",\"fUniqueID\":0,\"fBits\":9,\"fLineColor\":1,\"fLineStyle\":1,\"fLineWidth\":2,\"fFillColor\":0,\"fFillStyle\":1001,\"fX1\":-0.00562318833597667,\"fY1\":4.13333334922791,\"fX2\":-0.00259270364903716,\"fY2\":4.40000001589457,\"fX1NDC\":0.00999999977648258,\"fY1NDC\":0.945000004768372,\"fX2NDC\":0.27137931012131,\"fY2NDC\":0.995000004768372,\"fBorderSize\":0,\"fInit\":1,\"fShadowColor\":1,\"fCornerRadius\":0,\"fOption\":\"blNDC\",\"fName\":\"title\",\"fTextAngle\":0,\"fTextSize\":0,\"fTextAlign\":22,\"fTextColor\":1,\"fTextFont\":62,\"fLabel\":\"\",\"fLongest\":17,\"fMargin\":0.05,\"fLines\":{\"_typename\":\"TList\",\"name\":\"TList\",\"arr\":[{\"_typename\":\"TLatex\",\"fUniqueID\":0,\"fBits\":0,\"fName\":\"\",\"fTitle\":\"A RooPlot of \\\"ka\\\"\",\"fTextAngle\":0,\"fTextSize\":0,\"fTextAlign\":0,\"fTextColor\":0,\"fTextFont\":0,\"fX\":0,\"fY\":0,\"fLineColor\":1,\"fLineStyle\":1,\"fLineWidth\":2,\"fLimitFactorSize\":3,\"fOriginSize\":0.0425000004470348}],\"opt\":[null]}}}],\"fScripts\":\"\",\"fHighlightConnect\":false,\"fFixedSize\":false});\n",
       "   Core.settings.HandleKeys = false;\n",
       "   Core.draw(\"root_plot_1754661659802\", obj, \"\");\n",
       "}\n",
       "\n",
       "function script_load_root_plot_1754661659802(src, on_error) {\n",
       "    let script = document.createElement('script');\n",
       "    script.src = src;\n",
       "    script.onload = function() { display_root_plot_1754661659802(JSROOT); };\n",
       "    script.onerror = function() { script.remove(); on_error(); };\n",
       "    document.head.appendChild(script);\n",
       "}\n",
       "\n",
       "if (typeof requirejs !== 'undefined') {\n",
       "\n",
       "    // We are in jupyter notebooks, use require.js which should be configured already\n",
       "    requirejs.config({\n",
       "       paths: { 'JSRootCore' : [ 'build/jsroot', 'https://root.cern/js/7.9.0/build/jsroot', 'https://jsroot.gsi.de/7.9.0/build/jsroot' ] }\n",
       "    })(['JSRootCore'],  function(Core) {\n",
       "       display_root_plot_1754661659802(Core);\n",
       "    });\n",
       "\n",
       "} else if (typeof JSROOT !== 'undefined') {\n",
       "\n",
       "   // JSROOT already loaded, just use it\n",
       "   display_root_plot_1754661659802(JSROOT);\n",
       "\n",
       "} else {\n",
       "\n",
       "    // We are in jupyterlab without require.js, directly loading jsroot\n",
       "    // Jupyterlab might be installed in a different base_url so we need to know it.\n",
       "    try {\n",
       "        var base_url = JSON.parse(document.getElementById('jupyter-config-data').innerHTML).baseUrl;\n",
       "    } catch(_) {\n",
       "        var base_url = '/';\n",
       "    }\n",
       "\n",
       "    // Try loading a local version of requirejs and fallback to cdn if not possible.\n",
       "    script_load_root_plot_1754661659802(base_url + 'static/build/jsroot.js', function(){\n",
       "        console.error('Fail to load JSROOT locally, please check your jupyter_notebook_config.py file');\n",
       "        script_load_root_plot_1754661659802('https://root.cern/js/7.9.0/build/jsroot.js', function(){\n",
       "            document.getElementById(\"root_plot_1754661659802\").innerHTML = \"Failed to load JSROOT\";\n",
       "        });\n",
       "    });\n",
       "}\n",
       "\n",
       "</script>\n"
      ],
      "text/plain": [
       "<IPython.core.display.HTML object>"
      ]
     },
     "metadata": {},
     "output_type": "display_data"
    },
    {
     "data": {
      "text/html": [
       "\n",
       "\n",
       "<div id=\"root_plot_1754661659803\" style=\"width: 700px; height: 500px; position: relative\">\n",
       "</div>\n",
       "\n",
       "<script>\n",
       "\n",
       "function display_root_plot_1754661659803(Core) {\n",
       "   let obj = Core.parse({\"_typename\":\"TCanvasWebSnapshot\",\"fUniqueID\":0,\"fBits\":0,\"fObjectID\":\"\",\"fOption\":\"\",\"fKind\":3,\"fSnapshot\":{\"_typename\":\"TCanvas\",\"fUniqueID\":0,\"fBits\":3342344,\"fLineColor\":1,\"fLineStyle\":1,\"fLineWidth\":2,\"fFillColor\":10,\"fFillStyle\":1001,\"fLeftMargin\":0.15,\"fRightMargin\":0.16,\"fBottomMargin\":0.17,\"fTopMargin\":0.08,\"fXfile\":2,\"fYfile\":2,\"fAfile\":1,\"fXstat\":0.99,\"fYstat\":0.99,\"fAstat\":2,\"fFrameFillColor\":10,\"fFrameLineColor\":1,\"fFrameFillStyle\":1001,\"fFrameLineStyle\":1,\"fFrameLineWidth\":2,\"fFrameBorderSize\":1,\"fFrameBorderMode\":0,\"fX1\":-0.00573913035966649,\"fY1\":-0.90666667620341,\"fX2\":0.00585507226846621,\"fY2\":4.42666665712992,\"fXtoAbsPixelk\":344.520003526211,\"fXtoPixelk\":344.520003526211,\"fXtoPixel\":60030.001400113,\"fYtoAbsPixelk\":391.759999155998,\"fYtoPixelk\":391.759999155998,\"fYtoPixel\":-88.5,\"fUtoAbsPixelk\":0,\"fUtoPixelk\":0,\"fUtoPixel\":696,\"fVtoAbsPixelk\":472,\"fVtoPixelk\":472,\"fVtoPixel\":-472,\"fAbsPixeltoXk\":-0.00573913035966649,\"fPixeltoXk\":-0.00573913035966649,\"fPixeltoX\":1.66583371093861e-5,\"fAbsPixeltoYk\":4.42666665712992,\"fPixeltoYk\":-0.90666667620341,\"fPixeltoY\":-0.0112994350282486,\"fXlowNDC\":0,\"fYlowNDC\":0,\"fXUpNDC\":1,\"fYUpNDC\":1,\"fWNDC\":1,\"fHNDC\":1,\"fAbsXlowNDC\":0,\"fAbsYlowNDC\":0,\"fAbsWNDC\":1,\"fAbsHNDC\":1,\"fUxmin\":-0.004,\"fUymin\":0,\"fUxmax\":0.004,\"fUymax\":4,\"fTheta\":30,\"fPhi\":30,\"fAspectRatio\":0,\"fNumber\":0,\"fTickx\":1,\"fTicky\":1,\"fLogx\":0,\"fLogy\":0,\"fLogz\":0,\"fPadPaint\":0,\"fCrosshair\":0,\"fCrosshairPos\":0,\"fBorderSize\":2,\"fBorderMode\":0,\"fModified\":false,\"fGridx\":false,\"fGridy\":false,\"fAbsCoord\":false,\"fEditable\":true,\"fFixedAspectRatio\":false,\"fPrimitives\":{\"_typename\":\"TList\",\"name\":\"TList\",\"arr\":[],\"opt\":[]},\"fExecs\":null,\"fName\":\"c1_n3\",\"fTitle\":\"c1_n3\",\"fNumPaletteColor\":0,\"fNextPaletteColor\":0,\"fDISPLAY\":\"$DISPLAY\",\"fDoubleBuffer\":0,\"fRetained\":true,\"fXsizeUser\":0,\"fYsizeUser\":0,\"fXsizeReal\":20,\"fYsizeReal\":14.28571,\"fWindowTopX\":0,\"fWindowTopY\":0,\"fWindowWidth\":0,\"fWindowHeight\":0,\"fCw\":696,\"fCh\":472,\"fCatt\":{\"_typename\":\"TAttCanvas\",\"fXBetween\":2,\"fYBetween\":2,\"fTitleFromTop\":1.2,\"fXdate\":0.2,\"fYdate\":0.3,\"fAdate\":1},\"kMoveOpaque\":true,\"kResizeOpaque\":true,\"fHighLightColor\":2,\"fBatch\":true,\"kShowEventStatus\":false,\"kAutoExec\":true,\"kMenuBar\":true},\"fActive\":false,\"fReadOnly\":true,\"fWithoutPrimitives\":false,\"fHasExecs\":false,\"fPrimitives\":[{\"_typename\":\"TWebSnapshot\",\"fUniqueID\":0,\"fBits\":0,\"fObjectID\":\"\",\"fOption\":\"\",\"fKind\":4,\"fSnapshot\":{\"_typename\":\"TWebPainting\",\"fUniqueID\":0,\"fBits\":0,\"fClassName\":\"\",\"fObjectName\":\"\",\"fOper\":\"0:255,255,255;1:0,0,0;2:255,0,0;3:0,255,0;4:0,0,255;5:255,255,0;6:255,0,255;7:0,255,255;8:89,211,84;9:89,84,216;10:254,254,254;11:192,182,172;12:76,76,76;13:102,102,102;14:127,127,127;15:153,153,153;16:178,178,178;17:204,204,204;18:229,229,229;19:242,242,242;20:204,198,170;21:204,198,170;22:193,191,168;23:186,181,163;24:178,165,150;25:183,163,155;26:173,153,140;27:155,142,130;28:135,102,86;29:175,206,198;30:132,193,163;31:137,168,160;32:130,158,140;33:173,188,198;34:122,142,153;35:117,137,145;36:104,130,150;37:109,122,132;38:124,153,209;39:127,127,155;40:170,165,191;41:211,206,135;42:221,186,135;43:188,158,130;44:198,153,124;45:191,130,119;46:206,94,96;47:170,142,147;48:165,119,122;49:147,104,112;50:211,89,84;51:146,0,255;52:122,0,255;53:98,0,255;54:74,0,255;55:51,0,255;56:27,0,255;57:3,0,255;58:0,20,255;59:0,44,255;60:0,68,255;61:0,91,255;62:0,115,255;63:0,139,255;64:0,163,255;65:0,187,255;66:0,210,255;67:0,234,255;68:0,255,251;69:0,255,227;70:0,255,204;71:0,255,180;72:0,255,156;73:0,255,132;74:0,255,108;75:0,255,85;76:0,255,61;77:0,255,37;78:0,255,13;79:10,255,0;80:34,255,0;81:57,255,0;82:81,255,0;83:105,255,0;84:129,255,0;85:153,255,0;86:176,255,0;87:200,255,0;88:224,255,0;89:248,255,0;90:255,238,0;91:255,214,0;92:255,190,0;93:255,166,0;94:255,142,0;95:255,119,0;96:255,95,0;97:255,71,0;98:255,47,0;99:255,23,0;100:111,45,168;101:165,42,42;102:178,190,181;103:87,144,252;104:248,156,32;105:228,37,54;106:150,74,139;107:156,156,161;108:122,33,221;109:24,69,251;110:255,94,2;111:201,31,22;112:200,73,169;113:173,173,125;114:134,200,221;115:87,141,255;116:101,99,100;117:63,144,218;118:255,169,14;119:189,31,1;120:148,164,162;121:131,45,182;122:169,107,89;123:231,99,0;124:185,172,112;125:113,117,129;126:146,218,221;127:178,178,178;201:91,91,91;202:122,122,122;203:183,183,183;204:214,214,214;205:137,15,15;206:183,20,20;207:234,71,71;208:239,117,117;209:15,137,15;210:20,183,20;211:71,234,71;212:117,239,117;213:15,15,137;214:20,20,183;215:71,71,234;216:117,117,239;217:137,137,15;218:183,183,20;219:234,234,71;220:239,239,117;221:137,15,137;222:183,20,183;223:234,71,234;224:239,117,239;225:15,137,137;226:20,183,183;227:71,234,234;228:117,239,239;390:255,255,204;391:255,255,153;392:204,204,153;393:255,255,102;394:204,204,102;395:153,153,102;396:255,255,51;397:204,204,51;398:153,153,51;399:102,102,51;400:255,255,0;401:204,204,0;402:153,153,0;403:102,102,0;404:51,51,0;406:204,255,204;407:153,255,153;408:153,204,153;409:102,255,102;410:102,204,102;411:102,153,102;412:51,255,51;413:51,204,51;414:51,153,51;415:51,102,51;416:0,255,0;417:0,204,0;418:0,153,0;419:0,102,0;420:0,51,0;422:204,255,255;423:153,255,255;424:153,204,204;425:102,255,255;426:102,204,204;427:102,153,153;428:51,255,255;429:51,204,204;430:51,153,153;431:51,102,102;432:0,255,255;433:0,204,204;434:0,153,153;435:0,102,102;436:0,51,51;590:204,204,255;591:153,153,255;592:153,153,204;593:102,102,255;594:102,102,204;595:102,102,153;596:51,51,255;597:51,51,204;598:51,51,153;599:51,51,102;600:0,0,255;601:0,0,204;602:0,0,153;603:0,0,102;604:0,0,51;606:255,204,255;607:255,153,255;608:204,153,204;609:255,102,255;610:204,102,204;611:153,102,153;612:255,51,255;613:204,51,204;614:153,51,153;615:102,51,102;616:255,0,255;617:204,0,204;618:153,0,153;619:102,0,102;620:51,0,51;622:255,204,204;623:255,153,153;624:204,153,153;625:255,102,102;626:204,102,102;627:153,102,102;628:255,51,51;629:204,51,51;630:153,51,51;631:102,51,51;632:255,0,0;633:204,0,0;634:153,0,0;635:102,0,0;636:51,0,0;791:255,204,153;792:204,153,102;793:153,102,51;794:153,102,0;795:204,153,51;796:255,204,102;797:255,153,0;798:255,204,51;799:204,153,0;800:255,204,0;801:255,153,51;802:204,102,0;803:102,51,0;804:153,51,0;805:204,102,51;806:255,153,102;807:255,102,0;808:255,102,51;809:204,51,0;810:255,51,0;811:153,255,51;812:102,204,0;813:51,102,0;814:51,153,0;815:102,204,51;816:153,255,102;817:102,255,0;818:102,255,51;819:51,204,0;820:51,255,0;821:204,255,153;822:153,204,102;823:102,153,51;824:102,153,0;825:153,204,51;826:204,255,102;827:153,255,0;828:204,255,51;829:153,204,0;830:204,255,0;831:153,255,204;832:102,204,153;833:51,153,102;834:0,153,102;835:51,204,153;836:102,255,204;837:0,255,102;838:51,255,204;839:0,204,153;840:0,255,204;841:51,255,153;842:0,204,102;843:0,102,51;844:0,153,51;845:51,204,102;846:102,255,153;847:0,255,153;848:51,255,102;849:0,204,51;850:0,255,51;851:153,204,255;852:102,153,204;853:51,102,153;854:0,51,153;855:51,102,204;856:102,153,255;857:0,102,255;858:51,102,255;859:0,51,204;860:0,51,255;861:51,153,255;862:0,102,204;863:0,51,102;864:0,102,153;865:51,153,204;866:102,204,255;867:0,153,255;868:51,204,255;869:0,153,204;870:0,204,255;871:204,153,255;872:153,102,204;873:102,51,153;874:102,0,153;875:153,51,204;876:204,102,255;877:153,0,255;878:204,51,255;879:153,0,204;880:204,0,255;881:153,51,255;882:102,0,204;883:51,0,102;884:51,0,153;885:102,51,204;886:153,102,255;887:102,0,255;888:102,51,255;889:51,0,204;890:51,0,255;891:255,51,153;892:204,0,102;893:102,0,51;894:153,0,51;895:204,51,102;896:255,102,153;897:255,0,102;898:255,51,102;899:204,0,51;900:255,0,51;901:255,153,204;902:204,102,153;903:153,51,102;904:153,0,102;905:204,51,153;906:255,102,204;907:255,0,153;908:204,0,153;909:255,51,204;910:255,0,153;920:204,204,204;921:153,153,153;922:102,102,102;923:51,51,51;924:53,42,134;925:51,44,137;926:50,45,140;927:49,47,143;928:48,48,146;929:46,50,148;930:45,51,151;931:44,53,154;932:43,55,157;933:42,56,160;934:40,58,162;935:39,59,165;936:38,61,168;937:37,63,171;938:35,64,174;939:34,66,176;940:33,67,179;941:32,69,182;942:31,71,185;943:29,72,187;944:28,74,190;945:27,75,193;946:26,77,196;947:24,79,199;948:23,80,201;949:22,82,204;950:21,83,207;951:19,85,210;952:18,86,213;953:17,88,215;954:16,90,218;955:15,91,221;956:15,92,221;957:15,94,220;958:15,95,220;959:15,96,220;960:15,97,220;961:15,98,220;962:16,99,219;963:16,100,219;964:16,102,219;965:16,103,219;966:16,104,218;967:16,105,218;968:17,106,218;969:17,107,218;970:17,109,217;971:17,110,217;972:17,111,217;973:17,112,217;974:17,113,216;975:18,114,216;976:18,115,216;977:18,117,216;978:18,118,215;979:18,119,215;980:18,120,215;981:18,121,215;982:19,122,215;983:19,123,214;984:19,125,214;985:19,126,214;986:19,127,214;987:19,128,213;988:19,129,213;989:19,130,213;990:18,131,212;991:18,132,212;992:17,134,211;993:17,135,211;994:16,136,211;995:16,137,210;996:15,138,210;997:15,139,210;998:15,140,209;999:14,141,209;1000:14,142,208;1001:13,143,208;1002:13,145,208;1003:12,146,207;1004:12,147,207;1005:12,148,207;1006:11,149,206;1007:11,150,206;1008:10,151,205;1009:10,152,205;1010:9,153,205;1011:9,154,204;1012:8,155,204;1013:8,157,204;1014:8,158,203;1015:7,159,203;1016:7,160,202;1017:6,161,202;1018:6,162,202;1019:5,163,201;1020:7,164,200;1021:8,164,199;1022:9,165,198;1023:10,166,197;1024:12,166,195;1025:13,167,194;1026:14,167,193;1027:15,168,192;1028:17,169,191;1029:18,169,189;1030:19,170,188;1031:20,170,187;1032:22,171,186;1033:23,172,185;1034:24,172,184;1035:25,173,182;1036:27,173,181;1037:28,174,180;1038:29,175,179;1039:30,175,178;1040:32,176,176;1041:33,176,175;1042:34,177,174;1043:35,178,173;1044:37,178,172;1045:38,179,170;1046:39,180,169;1047:40,180,168;1048:42,181,167;1049:43,181,166;1050:44,182,165;1051:45,183,163;1052:48,183,162;1053:51,183,161;1054:54,183,159;1055:57,184,158;1056:59,184,156;1057:62,184,155;1058:65,184,154;1059:68,185,152;1060:71,185,151;1061:73,185,149;1062:76,185,148;1063:79,186,146;1064:82,186,145;1065:84,186,144;1066:87,186,142;1067:90,187,141;1068:93,187,139;1069:96,187,138;1070:98,187,137;1071:101,188,135;1072:104,188,134;1073:107,188,132;1074:110,188,131;1075:112,189,130;1076:115,189,128;1077:118,189,127;1078:121,189,125;1079:124,190,124;1080:126,190,123;1081:129,190,121;1082:132,190,120;1083:135,191,118;1084:137,190,117;1085:139,190,117;1086:142,190,116;1087:144,190,115;1088:146,190,114;1089:148,190,113;1090:151,190,112;1091:153,190,111;1092:155,189,110;1093:158,189,109;1094:160,189,108;1095:162,189,107;1096:165,189,106;1097:167,189,105;1098:169,189,104;1099:171,188,104;1100:174,188,103;1101:176,188,102;1102:178,188,101;1103:181,188,100;1104:183,188,99;1105:185,188,98;1106:188,188,97;1107:190,187,96;1108:192,187,95;1109:194,187,94;1110:197,187,93;1111:199,187,92;1112:201,187,92;1113:204,187,91;1114:206,186,90;1115:208,186,89;1116:210,187,88;1117:211,187,86;1118:212,188,85;1119:214,188,84;1120:215,188,83;1121:217,189,81;1122:218,189,80;1123:220,190,79;1124:221,190,78;1125:222,191,77;1126:224,191,75;1127:225,191,74;1128:227,192,73;1129:228,192,72;1130:229,193,70;1131:231,193,69;1132:232,194,68;1133:234,194,67;1134:235,194,66;1135:236,195,64;1136:238,195,63;1137:239,196,62;1138:241,196,61;1139:242,197,59;1140:244,197,58;1141:245,197,57;1142:246,198,56;1143:248,198,55;1144:249,199,53;1145:251,199,52;1146:252,200,51;1147:253,200,50;1148:253,202,49;1149:253,203,47;1150:253,205,46;1151:253,206,45;1152:253,208,44;1153:252,209,43;1154:252,211,42;1155:252,213,41;1156:252,214,39;1157:252,216,38;1158:252,217,37;1159:252,219,36;1160:251,220,35;1161:251,222,34;1162:251,224,33;1163:251,225,31;1164:251,227,30;1165:251,228,29;1166:250,230,28;1167:250,231,27;1168:250,233,26;1169:250,235,25;1170:250,236,23;1171:250,238,22;1172:250,239,21;1173:249,241,20;1174:249,242,19;1175:249,244,18;1176:249,246,17;1177:249,247,16;1178:249,249,14\",\"fBuf\":{\"$arr\":\"Float32\",\"len\":50,\"v\":[51,52,53,54,55,56,57,58,59,60,61,62,63,64,65,66,67,68,69,70,71,72,73,74,75,76,77,78,79,80,81,82,83,84,85,86,87,88,89,90,91,92,93,94,95,96,97,98,99,632]}}},{\"_typename\":\"TWebSnapshot\",\"fUniqueID\":0,\"fBits\":0,\"fObjectID\":\"\",\"fOption\":\"\",\"fKind\":5,\"fSnapshot\":{\"_typename\":\"TStyle\",\"fUniqueID\":0,\"fBits\":0,\"fName\":\"ildStyle\",\"fTitle\":\"ILD Style\",\"fLineColor\":1,\"fLineStyle\":1,\"fLineWidth\":2,\"fFillColor\":10,\"fFillStyle\":1001,\"fMarkerColor\":1,\"fMarkerStyle\":20,\"fMarkerSize\":0.7,\"fTextAngle\":0,\"fTextSize\":0.05,\"fTextAlign\":11,\"fTextColor\":1,\"fTextFont\":42,\"fXaxis\":{\"_typename\":\"TAttAxis\",\"fNdivisions\":506,\"fAxisColor\":1,\"fLabelColor\":1,\"fLabelFont\":42,\"fLabelOffset\":0.015,\"fLabelSize\":0.06,\"fTickLength\":0.03,\"fTitleOffset\":1,\"fTitleSize\":0.07,\"fTitleColor\":1,\"fTitleFont\":42},\"fYaxis\":{\"_typename\":\"TAttAxis\",\"fNdivisions\":506,\"fAxisColor\":1,\"fLabelColor\":1,\"fLabelFont\":42,\"fLabelOffset\":0.015,\"fLabelSize\":0.06,\"fTickLength\":0.03,\"fTitleOffset\":1.1,\"fTitleSize\":0.07,\"fTitleColor\":1,\"fTitleFont\":42},\"fZaxis\":{\"_typename\":\"TAttAxis\",\"fNdivisions\":510,\"fAxisColor\":1,\"fLabelColor\":1,\"fLabelFont\":42,\"fLabelOffset\":0.015,\"fLabelSize\":0.06,\"fTickLength\":0.03,\"fTitleOffset\":1.1,\"fTitleSize\":0.07,\"fTitleColor\":1,\"fTitleFont\":42},\"fBarWidth\":1,\"fBarOffset\":0,\"fColorModelPS\":0,\"fDrawBorder\":0,\"fOptLogx\":0,\"fOptLogy\":0,\"fOptLogz\":0,\"fOptDate\":0,\"fOptStat\":0,\"fOptTitle\":1,\"fOptFile\":0,\"fOptFit\":0,\"fShowEventStatus\":0,\"fShowEditor\":0,\"fShowToolBar\":0,\"fNumberContours\":20,\"fAttDate\":{\"_typename\":\"TAttText\",\"fTextAngle\":0,\"fTextSize\":0.025,\"fTextAlign\":11,\"fTextColor\":1,\"fTextFont\":62},\"fDateX\":0.01,\"fDateY\":0.01,\"fEndErrorSize\":2,\"fErrorX\":0.5,\"fFuncColor\":632,\"fFuncStyle\":1,\"fFuncWidth\":2,\"fGridColor\":0,\"fGridStyle\":3,\"fGridWidth\":1,\"fLegendBorderSize\":0,\"fLegendFillColor\":0,\"fLegendFillStyle\":1001,\"fLegendFont\":62,\"fLegendTextSize\":0,\"fHatchesLineWidth\":1,\"fHatchesSpacing\":1,\"fFrameFillColor\":10,\"fFrameLineColor\":1,\"fFrameFillStyle\":1001,\"fFrameLineStyle\":1,\"fFrameLineWidth\":2,\"fFrameBorderSize\":1,\"fFrameBorderMode\":0,\"fHistFillColor\":0,\"fHistLineColor\":1,\"fHistFillStyle\":1001,\"fHistLineStyle\":1,\"fHistLineWidth\":2,\"fHistMinimumZero\":false,\"fHistTopMargin\":0.05,\"fCanvasPreferGL\":false,\"fCanvasColor\":10,\"fCanvasBorderSize\":2,\"fCanvasBorderMode\":0,\"fCanvasDefH\":500,\"fCanvasDefW\":700,\"fCanvasDefX\":10,\"fCanvasDefY\":10,\"fPadColor\":10,\"fPadBorderSize\":2,\"fPadBorderMode\":0,\"fPadBottomMargin\":0.17,\"fPadTopMargin\":0.08,\"fPadLeftMargin\":0.15,\"fPadRightMargin\":0.16,\"fPadGridX\":false,\"fPadGridY\":false,\"fPadTickX\":1,\"fPadTickY\":1,\"fPaperSizeX\":20,\"fPaperSizeY\":26,\"fScreenFactor\":1,\"fStatColor\":10,\"fStatTextColor\":1,\"fStatBorderSize\":0,\"fStatFont\":42,\"fStatFontSize\":0.07,\"fStatStyle\":1001,\"fStatFormat\":\"6.4g\",\"fStatX\":0.98,\"fStatY\":0.995,\"fStatW\":0.2,\"fStatH\":0.16,\"fStripDecimals\":true,\"fTitleAlign\":13,\"fTitleColor\":0,\"fTitleTextColor\":1,\"fTitleBorderSize\":0,\"fTitleFont\":62,\"fTitleFontSize\":0,\"fTitleStyle\":1001,\"fTitleX\":0.01,\"fTitleY\":0.995,\"fTitleW\":0,\"fTitleH\":0,\"fLegoInnerR\":0.5,\"fLineStyles\":[\"\",\"  \",\" 12 12\",\" 4 8\",\" 12 16 4 16\",\" 20 12 4 12\",\" 20 12 4 12 4 12 4 12\",\" 20 20\",\" 20 12 4 12 4 12\",\" 80 20\",\" 80 40 4 40\",\"  \",\"  \",\"  \",\"  \",\"  \",\"  \",\"  \",\"  \",\"  \",\"  \",\"  \",\"  \",\"  \",\"  \",\"  \",\"  \",\"  \",\"  \",\"  \"],\"fHeaderPS\":\"\",\"fTitlePS\":\"\",\"fFitFormat\":\"5.4g\",\"fPaintTextFormat\":\"g\",\"fLineScalePS\":3,\"fJoinLinePS\":0,\"fCapLinePS\":0,\"fTimeOffset\":788918400,\"fImageScaling\":1,\"fCandleWhiskerRange\":1,\"fCandleBoxRange\":0.5,\"fCandleScaled\":false,\"fViolinScaled\":true,\"fCandleCircleLineWidth\":1,\"fCandleCrossLineWidth\":1,\"fXAxisExpXOffset\":0,\"fXAxisExpYOffset\":0,\"fYAxisExpXOffset\":0,\"fYAxisExpYOffset\":0,\"fAxisMaxDigits\":5,\"fOrthoCamera\":false}},{\"_typename\":\"TWebSnapshot\",\"fUniqueID\":0,\"fBits\":0,\"fObjectID\":\"\",\"fOption\":\"\",\"fKind\":1,\"fSnapshot\":{\"_typename\":\"TFrame\",\"fUniqueID\":0,\"fBits\":8,\"fLineColor\":1,\"fLineStyle\":1,\"fLineWidth\":2,\"fFillColor\":10,\"fFillStyle\":1001,\"fX1\":-0.004,\"fY1\":0,\"fX2\":0.004,\"fY2\":4,\"fBorderSize\":1,\"fBorderMode\":0}},{\"_typename\":\"TWebSnapshot\",\"fUniqueID\":0,\"fBits\":0,\"fObjectID\":\"\",\"fOption\":\"FUNC\",\"fKind\":1,\"fSnapshot\":{\"_typename\":\"TH1D\",\"fUniqueID\":0,\"fBits\":520,\"fName\":\"frame_la_233bbdb0\",\"fTitle\":\"A RooPlot of \\\"la\\\"\",\"fLineColor\":1,\"fLineStyle\":1,\"fLineWidth\":2,\"fFillColor\":0,\"fFillStyle\":1001,\"fMarkerColor\":1,\"fMarkerStyle\":20,\"fMarkerSize\":0.7,\"fNcells\":102,\"fXaxis\":{\"_typename\":\"TAxis\",\"fUniqueID\":0,\"fBits\":0,\"fName\":\"xaxis\",\"fTitle\":\"la\",\"fNdivisions\":506,\"fAxisColor\":1,\"fLabelColor\":1,\"fLabelFont\":42,\"fLabelOffset\":0.015,\"fLabelSize\":0.06,\"fTickLength\":0.03,\"fTitleOffset\":1,\"fTitleSize\":0.07,\"fTitleColor\":1,\"fTitleFont\":42,\"fNbins\":100,\"fXmin\":-0.004,\"fXmax\":0.004,\"fXbins\":[],\"fFirst\":0,\"fLast\":0,\"fBits2\":0,\"fTimeDisplay\":false,\"fTimeFormat\":\"\",\"fLabels\":null,\"fModLabs\":null},\"fYaxis\":{\"_typename\":\"TAxis\",\"fUniqueID\":0,\"fBits\":0,\"fName\":\"yaxis\",\"fTitle\":\"Projection of RooEvaluatorWrapper\",\"fNdivisions\":506,\"fAxisColor\":1,\"fLabelColor\":1,\"fLabelFont\":42,\"fLabelOffset\":0.015,\"fLabelSize\":0.06,\"fTickLength\":0.03,\"fTitleOffset\":1.1,\"fTitleSize\":0.07,\"fTitleColor\":1,\"fTitleFont\":42,\"fNbins\":1,\"fXmin\":0,\"fXmax\":1,\"fXbins\":[],\"fFirst\":0,\"fLast\":0,\"fBits2\":0,\"fTimeDisplay\":false,\"fTimeFormat\":\"\",\"fLabels\":null,\"fModLabs\":null},\"fZaxis\":{\"_typename\":\"TAxis\",\"fUniqueID\":0,\"fBits\":0,\"fName\":\"zaxis\",\"fTitle\":\"\",\"fNdivisions\":510,\"fAxisColor\":1,\"fLabelColor\":1,\"fLabelFont\":42,\"fLabelOffset\":0.015,\"fLabelSize\":0.06,\"fTickLength\":0.03,\"fTitleOffset\":1.1,\"fTitleSize\":0.07,\"fTitleColor\":1,\"fTitleFont\":42,\"fNbins\":1,\"fXmin\":0,\"fXmax\":1,\"fXbins\":[],\"fFirst\":0,\"fLast\":0,\"fBits2\":0,\"fTimeDisplay\":false,\"fTimeFormat\":\"\",\"fLabels\":null,\"fModLabs\":null},\"fBarOffset\":0,\"fBarWidth\":1000,\"fEntries\":1,\"fTsumw\":0,\"fTsumw2\":0,\"fTsumwx\":0,\"fTsumwx2\":0,\"fMaximum\":4,\"fMinimum\":0,\"fNormFactor\":0,\"fContour\":[],\"fSumw2\":[],\"fOption\":\"\",\"fFunctions\":{\"_typename\":\"TList\",\"name\":\"TList\",\"arr\":[],\"opt\":[]},\"fBufferSize\":0,\"fBuffer\":[],\"fBinStatErrOpt\":0,\"fStatOverflows\":2,\"fArray\":{\"$arr\":\"Float64\",\"len\":102,\"p\":1,\"v\":23.405303199536}}},{\"_typename\":\"TWebSnapshot\",\"fUniqueID\":0,\"fBits\":0,\"fObjectID\":\"\",\"fOption\":\"l\",\"fKind\":1,\"fSnapshot\":{\"_typename\":\"RooCurve\",\"fUniqueID\":0,\"fBits\":525320,\"fName\":\"RooEvaluatorWrapper_Norm[la]\",\"fTitle\":\"Projection of RooEvaluatorWrapper\",\"fLineColor\":600,\"fLineStyle\":1,\"fLineWidth\":3,\"fFillColor\":0,\"fFillStyle\":1000,\"fMarkerColor\":1,\"fMarkerStyle\":20,\"fMarkerSize\":0.7,\"fNpoints\":106,\"fX\":{\"$arr\":\"Float64\",\"len\":106,\"v\":[-0.00408008,-0.00408,-0.004,-0.00392,-0.00384,-0.00376,-0.00368,-0.0036,-0.00352,-0.00344,-0.00336,-0.00328,-0.0032,-0.00312,-0.00304,-0.00296,-0.00288,-0.0028,-0.00272,-0.00264,-0.00256,-0.00248,-0.0024,-0.00232,-0.00224,-0.00216,-0.00208,-0.002,-0.00192,-0.00184,-0.00176,-0.00168,-0.0016,-0.00152,-0.00144,-0.00136,-0.00128,-0.0012,-0.00112,-0.00104,-9.6e-4,-8.8e-4,-8e-4,-7.2e-4,-6.4e-4,-5.6e-4,-4.8e-4,-4e-4,-3.2e-4,-2.4e-4,-1.6e-4,-7.99999999999993e-5,0,8.00000000000002e-5,1.6e-4,2.40000000000001e-4,3.2e-4,4e-4,4.8e-4,5.60000000000001e-4,6.4e-4,7.2e-4,8e-4,8.80000000000001e-4,9.6e-4,0.00104,0.00112,0.0012,0.00128,0.00136,0.00144,0.00152,0.0016,0.00168,0.00176,0.00184,0.00192,0.002,0.00208,0.00216,0.00224,0.00232,0.0024,0.00248,0.00256,0.00264,0.00272,0.0028,0.00288,0.00296,0.00304,0.00312,0.0032,0.00328,0.00336,0.00344,0.00352,0.0036,0.00368,0.00376,0.00384,0.00392,0.004,0.004,0.00408,0.00408008]},\"fY\":{\"$arr\":\"Float64\",\"len\":106,\"p\":1,\"v\":[22.290764951939,22.290764951939,21.4080506598409,20.5431689797045,19.6961199115295,18.8669034553195,18.0555196110678,17.26196837878,16.4862497584525,15.7283637500872,14.9883103536814,14.2660895692383,13.561701396759,12.8751458362386,12.206422887678,11.5555325510836,10.9224748264474,10.3072497137756,9.70985721306405,9.13029732431334,8.56857004752379,8.02467538269602,7.49861332983007,6.9903838889278,6.49998705998393,6.02742284300316,5.57269123798401,5.1357922449257,4.71672586382918,4.31549209469482,3.93209093752182,3.56652239231094,3.21878645905968,2.88888313777059,2.57681242844432,2.28257433107849,2.00616884567436,1.74759597223154,1.50685571075081,1.28394806123227,1.07887302367346,0.891630598077622,0.722220784442836,0.570643582769566,0.436898993057994,0.320987015307836,0.222907649519357,0.142660895692689,0.080246753827133,0.0356652239230577,0.00891630598076532,0,0.0089163059808115,0.0356652239230897,0.0802467538268807,0.142660895692352,0.222907649519314,0.320987015307722,0.436898993057937,0.570643582769357,0.722220784442282,0.891630598077274,1.07887302367376,1.28394806123139,1.50685571075076,1.74759597223151,2.006168845674,2.28257433107796,2.5768124284441,2.88888313777071,3.21878645906011,3.56652239230957,3.93209093752019,4.31549209469388,4.71672586382908,5.13579224492576,5.57269123798377,6.02742284300232,6.49998705998414,6.99038388892696,7.4986133298304,8.02467538269665,8.56857004752428,9.13029732431195,9.70985721306278,10.3072497137748,10.922474826447,11.5555325510839,12.2064228876785,12.8751458362361,13.5617013967581,14.2660895692387,14.9883103536817,15.7283637500848,16.4862497584499,17.2619683787787,18.0555196110653,18.8669034553171,19.6961199115276,20.5431689797043,21.408050659836,22.2907649510436,22.2907649510436,22.2907649510436]},\"fFunctions\":{\"_typename\":\"TList\",\"name\":\"TList\",\"arr\":[],\"opt\":[]},\"fHistogram\":{\"_typename\":\"TH1F\",\"fUniqueID\":0,\"fBits\":512,\"fName\":\"RooEvaluatorWrapper_Norm[la]\",\"fTitle\":\"Projection of RooEvaluatorWrapper\",\"fLineColor\":1,\"fLineStyle\":1,\"fLineWidth\":2,\"fFillColor\":0,\"fFillStyle\":1001,\"fMarkerColor\":1,\"fMarkerStyle\":20,\"fMarkerSize\":0.7,\"fNcells\":108,\"fXaxis\":{\"_typename\":\"TAxis\",\"fUniqueID\":0,\"fBits\":0,\"fName\":\"xaxis\",\"fTitle\":\"\",\"fNdivisions\":506,\"fAxisColor\":1,\"fLabelColor\":1,\"fLabelFont\":42,\"fLabelOffset\":0.015,\"fLabelSize\":0.06,\"fTickLength\":0.03,\"fTitleOffset\":1,\"fTitleSize\":0.07,\"fTitleColor\":1,\"fTitleFont\":42,\"fNbins\":106,\"fXmin\":-0.004896096,\"fXmax\":0.004896096,\"fXbins\":[],\"fFirst\":0,\"fLast\":0,\"fBits2\":0,\"fTimeDisplay\":false,\"fTimeFormat\":\"\",\"fLabels\":null,\"fModLabs\":null},\"fYaxis\":{\"_typename\":\"TAxis\",\"fUniqueID\":0,\"fBits\":0,\"fName\":\"yaxis\",\"fTitle\":\"\",\"fNdivisions\":506,\"fAxisColor\":1,\"fLabelColor\":1,\"fLabelFont\":42,\"fLabelOffset\":0.015,\"fLabelSize\":0.06,\"fTickLength\":0.03,\"fTitleOffset\":1.1,\"fTitleSize\":0.07,\"fTitleColor\":1,\"fTitleFont\":42,\"fNbins\":1,\"fXmin\":0,\"fXmax\":24.5198414471329,\"fXbins\":[],\"fFirst\":0,\"fLast\":0,\"fBits2\":0,\"fTimeDisplay\":false,\"fTimeFormat\":\"\",\"fLabels\":null,\"fModLabs\":null},\"fZaxis\":{\"_typename\":\"TAxis\",\"fUniqueID\":0,\"fBits\":0,\"fName\":\"zaxis\",\"fTitle\":\"\",\"fNdivisions\":510,\"fAxisColor\":1,\"fLabelColor\":1,\"fLabelFont\":42,\"fLabelOffset\":0.015,\"fLabelSize\":0.06,\"fTickLength\":0.03,\"fTitleOffset\":1.1,\"fTitleSize\":0.07,\"fTitleColor\":1,\"fTitleFont\":42,\"fNbins\":1,\"fXmin\":0,\"fXmax\":1,\"fXbins\":[],\"fFirst\":0,\"fLast\":0,\"fBits2\":0,\"fTimeDisplay\":false,\"fTimeFormat\":\"\",\"fLabels\":null,\"fModLabs\":null},\"fBarOffset\":0,\"fBarWidth\":1000,\"fEntries\":0,\"fTsumw\":0,\"fTsumw2\":0,\"fTsumwx\":0,\"fTsumwx2\":0,\"fMaximum\":24.5198414471329,\"fMinimum\":0,\"fNormFactor\":0,\"fContour\":[],\"fSumw2\":[],\"fOption\":\"\",\"fFunctions\":{\"_typename\":\"TList\",\"name\":\"TList\",\"arr\":[],\"opt\":[]},\"fBufferSize\":0,\"fBuffer\":[],\"fBinStatErrOpt\":0,\"fStatOverflows\":2,\"fArray\":{\"$arr\":\"Float32\",\"len\":108}},\"fMinimum\":-1111,\"fMaximum\":-1111,\"fOption\":\"\",\"_yAxisLabel\":\"Projection of RooEvaluatorWrapper\",\"_ymin\":0,\"_ymax\":22.290764951939,\"_normValue\":0}},{\"_typename\":\"TWebSnapshot\",\"fUniqueID\":0,\"fBits\":0,\"fObjectID\":\"\",\"fOption\":\"l\",\"fKind\":1,\"fSnapshot\":{\"_typename\":\"RooCurve\",\"fUniqueID\":0,\"fBits\":525320,\"fName\":\"RooEvaluatorWrapper_Profile[la]_Norm[la]\",\"fTitle\":\"Projection of Profile of RooEvaluatorWrapper\",\"fLineColor\":632,\"fLineStyle\":1,\"fLineWidth\":3,\"fFillColor\":0,\"fFillStyle\":1000,\"fMarkerColor\":1,\"fMarkerStyle\":20,\"fMarkerSize\":0.7,\"fNpoints\":106,\"fX\":{\"$arr\":\"Float64\",\"len\":106,\"v\":[-0.00408008,-0.00408,-0.004,-0.00392,-0.00384,-0.00376,-0.00368,-0.0036,-0.00352,-0.00344,-0.00336,-0.00328,-0.0032,-0.00312,-0.00304,-0.00296,-0.00288,-0.0028,-0.00272,-0.00264,-0.00256,-0.00248,-0.0024,-0.00232,-0.00224,-0.00216,-0.00208,-0.002,-0.00192,-0.00184,-0.00176,-0.00168,-0.0016,-0.00152,-0.00144,-0.00136,-0.00128,-0.0012,-0.00112,-0.00104,-9.6e-4,-8.8e-4,-8e-4,-7.2e-4,-6.4e-4,-5.6e-4,-4.8e-4,-4e-4,-3.2e-4,-2.4e-4,-1.6e-4,-7.99999999999993e-5,0,8.00000000000002e-5,1.6e-4,2.40000000000001e-4,3.2e-4,4e-4,4.8e-4,5.60000000000001e-4,6.4e-4,7.2e-4,8e-4,8.80000000000001e-4,9.6e-4,0.00104,0.00112,0.0012,0.00128,0.00136,0.00144,0.00152,0.0016,0.00168,0.00176,0.00184,0.00192,0.002,0.00208,0.00216,0.00224,0.00232,0.0024,0.00248,0.00256,0.00264,0.00272,0.0028,0.00288,0.00296,0.00304,0.00312,0.0032,0.00328,0.00336,0.00344,0.00352,0.0036,0.00368,0.00376,0.00384,0.00392,0.004,0.004,0.00408,0.00408008]},\"fY\":{\"$arr\":\"Float64\",\"len\":106,\"p\":1,\"v\":[10.7822266208967,10.7822266208967,10.355626772198,9.9369000537537,9.52755176352871,9.12607661186659,8.73397988433975,8.34975629516693,7.97491113024863,7.60793910365291,7.25034550134809,6.90062503732516,6.56028299771133,6.2278140961875,5.90472361911463,5.5895062802318,5.28366736578634,4.98570158946686,4.69711423766941,4.41640002388468,4.14506423464596,3.88160158349205,3.6275173570079,3.38130626828505,3.14447360432257,2.91551407826461,2.69593297689457,2.48422501343106,2.28189547473982,2.08743907378393,1.90236109762562,1.72515625932321,1.55732984581026,1.39737657004923,1.24680171919711,1.10410000596298,0.970776717717037,0.845326567063914,0.729254841389444,0.62105625335046,0.522236090339927,0.43128906482308,0.349720464415352,0.27602500148312,0.211707963737719,0.155264063329501,0.108198588150216,0.0690062503628504,0.0391923378090198,0.0172515625827963,0.00468921264656075,-1.05373487713223e-11,0.00468921267335887,0.0172515625828176,0.0391923378817793,0.0690062503628219,0.108198588295416,0.155264063329479,0.211707963877618,0.276025001482573,0.349720464665999,0.431289064823051,0.522236090596053,0.621056253350083,0.729254841768803,0.845326567062639,0.970776718046274,1.10410000596224,1.24680171956343,1.39737657005041,1.55732984632018,1.72515625932281,1.90236109818286,2.08743907378338,2.2818954751713,2.48422501343037,2.69593297754588,2.91551407826406,3.14447360498304,3.38130626828453,3.62751735751998,3.88160158349173,4.14506423540782,4.41640002388362,4.69711423837249,4.98570158946462,5.28366736675495,5.58950628023146,5.90472362002181,6.22781409618504,6.56028299869568,6.9006250373244,7.25034550235362,7.60793910365178,7.97491113117746,8.34975629516492,8.73397988543442,9.12607661186503,9.52755176468647,9.93690005375243,10.3556267690938,10.7822266203946,10.7822266203946,10.7822266203946]},\"fFunctions\":{\"_typename\":\"TList\",\"name\":\"TList\",\"arr\":[],\"opt\":[]},\"fHistogram\":{\"_typename\":\"TH1F\",\"fUniqueID\":0,\"fBits\":512,\"fName\":\"RooEvaluatorWrapper_Profile[la]_Norm[la]\",\"fTitle\":\"Projection of Profile of RooEvaluatorWrapper\",\"fLineColor\":1,\"fLineStyle\":1,\"fLineWidth\":2,\"fFillColor\":0,\"fFillStyle\":1001,\"fMarkerColor\":1,\"fMarkerStyle\":20,\"fMarkerSize\":0.7,\"fNcells\":108,\"fXaxis\":{\"_typename\":\"TAxis\",\"fUniqueID\":0,\"fBits\":0,\"fName\":\"xaxis\",\"fTitle\":\"\",\"fNdivisions\":506,\"fAxisColor\":1,\"fLabelColor\":1,\"fLabelFont\":42,\"fLabelOffset\":0.015,\"fLabelSize\":0.06,\"fTickLength\":0.03,\"fTitleOffset\":1,\"fTitleSize\":0.07,\"fTitleColor\":1,\"fTitleFont\":42,\"fNbins\":106,\"fXmin\":-0.004896096,\"fXmax\":0.004896096,\"fXbins\":[],\"fFirst\":0,\"fLast\":0,\"fBits2\":0,\"fTimeDisplay\":false,\"fTimeFormat\":\"\",\"fLabels\":null,\"fModLabs\":null},\"fYaxis\":{\"_typename\":\"TAxis\",\"fUniqueID\":0,\"fBits\":0,\"fName\":\"yaxis\",\"fTitle\":\"\",\"fNdivisions\":506,\"fAxisColor\":1,\"fLabelColor\":1,\"fLabelFont\":42,\"fLabelOffset\":0.015,\"fLabelSize\":0.06,\"fTickLength\":0.03,\"fTitleOffset\":1.1,\"fTitleSize\":0.07,\"fTitleColor\":1,\"fTitleFont\":42,\"fNbins\":1,\"fXmin\":-1.07822266210126,\"fXmax\":11.8604492829874,\"fXbins\":[],\"fFirst\":0,\"fLast\":0,\"fBits2\":0,\"fTimeDisplay\":false,\"fTimeFormat\":\"\",\"fLabels\":null,\"fModLabs\":null},\"fZaxis\":{\"_typename\":\"TAxis\",\"fUniqueID\":0,\"fBits\":0,\"fName\":\"zaxis\",\"fTitle\":\"\",\"fNdivisions\":510,\"fAxisColor\":1,\"fLabelColor\":1,\"fLabelFont\":42,\"fLabelOffset\":0.015,\"fLabelSize\":0.06,\"fTickLength\":0.03,\"fTitleOffset\":1.1,\"fTitleSize\":0.07,\"fTitleColor\":1,\"fTitleFont\":42,\"fNbins\":1,\"fXmin\":0,\"fXmax\":1,\"fXbins\":[],\"fFirst\":0,\"fLast\":0,\"fBits2\":0,\"fTimeDisplay\":false,\"fTimeFormat\":\"\",\"fLabels\":null,\"fModLabs\":null},\"fBarOffset\":0,\"fBarWidth\":1000,\"fEntries\":0,\"fTsumw\":0,\"fTsumw2\":0,\"fTsumwx\":0,\"fTsumwx2\":0,\"fMaximum\":11.8604492829874,\"fMinimum\":-1.07822266210126,\"fNormFactor\":0,\"fContour\":[],\"fSumw2\":[],\"fOption\":\"\",\"fFunctions\":{\"_typename\":\"TList\",\"name\":\"TList\",\"arr\":[],\"opt\":[]},\"fBufferSize\":0,\"fBuffer\":[],\"fBinStatErrOpt\":0,\"fStatOverflows\":2,\"fArray\":{\"$arr\":\"Float32\",\"len\":108}},\"fMinimum\":-1111,\"fMaximum\":-1111,\"fOption\":\"\",\"_yAxisLabel\":\"Projection of Profile of RooEvaluatorWrapper\",\"_ymin\":-1.05373487713223e-11,\"_ymax\":10.7822266208967,\"_normValue\":0}},{\"_typename\":\"TWebSnapshot\",\"fUniqueID\":0,\"fBits\":0,\"fObjectID\":\"\",\"fOption\":\"AXISSAME\",\"fKind\":1,\"fSnapshot\":{\"$ref\":15}},{\"_typename\":\"TWebSnapshot\",\"fUniqueID\":0,\"fBits\":0,\"fObjectID\":\"\",\"fOption\":\"blNDC\",\"fKind\":1,\"fSnapshot\":{\"_typename\":\"TPaveText\",\"fUniqueID\":0,\"fBits\":9,\"fLineColor\":1,\"fLineStyle\":1,\"fLineWidth\":2,\"fFillColor\":0,\"fFillStyle\":1001,\"fX1\":-0.00562318833597667,\"fY1\":4.13333334922791,\"fX2\":-0.00269265367169347,\"fY2\":4.40000001589457,\"fX1NDC\":0.00999999977648258,\"fY1NDC\":0.945000004768372,\"fX2NDC\":0.262758620466138,\"fY2NDC\":0.995000004768372,\"fBorderSize\":0,\"fInit\":1,\"fShadowColor\":1,\"fCornerRadius\":0,\"fOption\":\"blNDC\",\"fName\":\"title\",\"fTextAngle\":0,\"fTextSize\":0,\"fTextAlign\":22,\"fTextColor\":1,\"fTextFont\":62,\"fLabel\":\"\",\"fLongest\":17,\"fMargin\":0.05,\"fLines\":{\"_typename\":\"TList\",\"name\":\"TList\",\"arr\":[{\"_typename\":\"TLatex\",\"fUniqueID\":0,\"fBits\":0,\"fName\":\"\",\"fTitle\":\"A RooPlot of \\\"la\\\"\",\"fTextAngle\":0,\"fTextSize\":0,\"fTextAlign\":0,\"fTextColor\":0,\"fTextFont\":0,\"fX\":0,\"fY\":0,\"fLineColor\":1,\"fLineStyle\":1,\"fLineWidth\":2,\"fLimitFactorSize\":3,\"fOriginSize\":0.0425000004470348}],\"opt\":[null]}}}],\"fScripts\":\"\",\"fHighlightConnect\":false,\"fFixedSize\":false});\n",
       "   Core.settings.HandleKeys = false;\n",
       "   Core.draw(\"root_plot_1754661659803\", obj, \"\");\n",
       "}\n",
       "\n",
       "function script_load_root_plot_1754661659803(src, on_error) {\n",
       "    let script = document.createElement('script');\n",
       "    script.src = src;\n",
       "    script.onload = function() { display_root_plot_1754661659803(JSROOT); };\n",
       "    script.onerror = function() { script.remove(); on_error(); };\n",
       "    document.head.appendChild(script);\n",
       "}\n",
       "\n",
       "if (typeof requirejs !== 'undefined') {\n",
       "\n",
       "    // We are in jupyter notebooks, use require.js which should be configured already\n",
       "    requirejs.config({\n",
       "       paths: { 'JSRootCore' : [ 'build/jsroot', 'https://root.cern/js/7.9.0/build/jsroot', 'https://jsroot.gsi.de/7.9.0/build/jsroot' ] }\n",
       "    })(['JSRootCore'],  function(Core) {\n",
       "       display_root_plot_1754661659803(Core);\n",
       "    });\n",
       "\n",
       "} else if (typeof JSROOT !== 'undefined') {\n",
       "\n",
       "   // JSROOT already loaded, just use it\n",
       "   display_root_plot_1754661659803(JSROOT);\n",
       "\n",
       "} else {\n",
       "\n",
       "    // We are in jupyterlab without require.js, directly loading jsroot\n",
       "    // Jupyterlab might be installed in a different base_url so we need to know it.\n",
       "    try {\n",
       "        var base_url = JSON.parse(document.getElementById('jupyter-config-data').innerHTML).baseUrl;\n",
       "    } catch(_) {\n",
       "        var base_url = '/';\n",
       "    }\n",
       "\n",
       "    // Try loading a local version of requirejs and fallback to cdn if not possible.\n",
       "    script_load_root_plot_1754661659803(base_url + 'static/build/jsroot.js', function(){\n",
       "        console.error('Fail to load JSROOT locally, please check your jupyter_notebook_config.py file');\n",
       "        script_load_root_plot_1754661659803('https://root.cern/js/7.9.0/build/jsroot.js', function(){\n",
       "            document.getElementById(\"root_plot_1754661659803\").innerHTML = \"Failed to load JSROOT\";\n",
       "        });\n",
       "    });\n",
       "}\n",
       "\n",
       "</script>\n"
      ],
      "text/plain": [
       "<IPython.core.display.HTML object>"
      ]
     },
     "metadata": {},
     "output_type": "display_data"
    }
   ],
   "source": [
    "c0 = ROOT.TCanvas()\n",
    "frame0.SetMinimum(0)\n",
    "frame0.SetMaximum(4)\n",
    "frame0.Draw()\n",
    "c0.Draw()\n",
    "# c0.SaveAs(\"plots/fit/ll_pll.pdf(\")\n",
    "# c0.SaveAs(\"plots/fit/ll_pll_g1z.pdf\")\n",
    "\n",
    "c1 = ROOT.TCanvas()\n",
    "frame1.SetMinimum(0)\n",
    "frame1.SetMaximum(4)\n",
    "frame1.Draw()\n",
    "c1.Draw()\n",
    "# c1.SaveAs(\"plots/fit/ll_pll.pdf\")\n",
    "# c1.SaveAs(\"plots/fit/ll_pll_ka.pdf\")\n",
    "\n",
    "c2 = ROOT.TCanvas()\n",
    "frame2.SetMinimum(0)\n",
    "frame2.SetMaximum(4)\n",
    "frame2.Draw()\n",
    "c2.Draw()\n",
    "# c2.SaveAs(\"plots/fit/ll_pll.pdf)\")\n",
    "# c2.SaveAs(\"plots/fit/ll_pll_la.pdf\")"
   ]
  },
  {
   "cell_type": "code",
   "execution_count": null,
   "id": "1dbf9547",
   "metadata": {},
   "outputs": [],
   "source": []
  }
 ],
 "metadata": {
  "kernelspec": {
   "display_name": "Python 3",
   "language": "python",
   "name": "python3"
  },
  "language_info": {
   "codemirror_mode": {
    "name": "ipython",
    "version": 3
   },
   "file_extension": ".py",
   "mimetype": "text/x-python",
   "name": "python",
   "nbconvert_exporter": "python",
   "pygments_lexer": "ipython3",
   "version": "3.13.2"
  }
 },
 "nbformat": 4,
 "nbformat_minor": 5
}
