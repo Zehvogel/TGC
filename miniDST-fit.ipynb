{
 "cells": [
  {
   "cell_type": "code",
   "execution_count": 1,
   "id": "51aaafc4",
   "metadata": {},
   "outputs": [
    {
     "name": "stdout",
     "output_type": "stream",
     "text": [
      "OBJ: TStyle\tildStyle\tILD Style : 0 at: 0x94940f0\n"
     ]
    }
   ],
   "source": [
    "import ROOT\n",
    "from fitter import FitHandler"
   ]
  },
  {
   "cell_type": "code",
   "execution_count": 2,
   "id": "84613503",
   "metadata": {},
   "outputs": [],
   "source": [
    "# TODO: make it possible to fit multiple runs simultaneously\n",
    "run = {\n",
    "    \"lumi\": 5000,\n",
    "    # \"lumi\": 25000,\n",
    "    \"e_pol\": 0.,\n",
    "    \"p_pol\": 0.,\n",
    "}\n",
    "\n",
    "# https://arxiv.org/pdf/1506.07830\n",
    "# However, https://arxiv.org/pdf/2503.19983 cites the above but assigns 0.45 to both mixed pols\n",
    "# LCVision scenario uses 3 ab_inv instead of 2\n",
    "ilc_250_h20_lumi = 2000\n",
    "ilc_250_h20 = [\n",
    "    {\n",
    "        \"lumi\": ilc_250_h20_lumi * 0.675,\n",
    "        \"e_pol\": -0.8,\n",
    "        \"p_pol\": 0.3,\n",
    "    },\n",
    "    {\n",
    "        \"lumi\": ilc_250_h20_lumi * 0.225,\n",
    "        \"e_pol\": 0.8,\n",
    "        \"p_pol\": -0.3,\n",
    "    },\n",
    "    {\n",
    "        \"lumi\": ilc_250_h20_lumi * 0.05,\n",
    "        \"e_pol\": -0.8,\n",
    "        \"p_pol\": -0.3,\n",
    "    },\n",
    "    {\n",
    "        \"lumi\": ilc_250_h20_lumi * 0.05,\n",
    "        \"e_pol\": 0.8,\n",
    "        \"p_pol\": 0.3,\n",
    "    },\n",
    "]\n",
    "\n",
    "# run = ilc_250_h20[0]"
   ]
  },
  {
   "cell_type": "code",
   "execution_count": 3,
   "id": "28058a8d",
   "metadata": {},
   "outputs": [],
   "source": [
    "conf = {\n",
    "    \"parameters\": {\n",
    "        \"g1z\": 0.0,\n",
    "        \"ka\": 0.0,\n",
    "        \"la\": 0.0,\n",
    "    },\n",
    "    \"obs_names\": [\n",
    "        \"O_g1z_pos_1em05\",\n",
    "        \"O_ka_pos_1em05\",\n",
    "        \"O_la_pos_1em05\",\n",
    "    ],\n",
    "    \"signal_cat\": \"4f_sw_sl_signal\",\n",
    "    \"signal_processes\": [\n",
    "        \"4f_sw_sl_eLpL_signal\",\n",
    "        \"4f_sw_sl_eLpR_signal\",\n",
    "        \"4f_sw_sl_eRpL_signal\",\n",
    "        \"4f_sw_sl_eRpR_signal\",\n",
    "    ],\n",
    "    \"backgrounds\": [\n",
    "        \"4f_sl_bkg\",\n",
    "        \"4f_not_sl\",\n",
    "        \"2f\",\n",
    "        \"3f\",\n",
    "        \"5f\",\n",
    "        \"6f\",\n",
    "        \"higgs\",\n",
    "    ],\n",
    "    \"n_bins\": 65,\n",
    "}\n",
    "input_path = \"data/histograms/full/raw_histograms.root\""
   ]
  },
  {
   "cell_type": "code",
   "execution_count": 4,
   "id": "2f8f7eaf",
   "metadata": {},
   "outputs": [],
   "source": [
    "fit_handler = FitHandler(input_path, conf)"
   ]
  },
  {
   "cell_type": "code",
   "execution_count": 5,
   "id": "1d53c866",
   "metadata": {},
   "outputs": [
    {
     "name": "stdout",
     "output_type": "stream",
     "text": [
      "{'lumi': 5000, 'e_pol': 0.0, 'p_pol': 0.0}\n",
      "hello\n",
      "start constructor\n",
      "finished constructor\n",
      "start constructor\n",
      "finished constructor\n",
      "start constructor\n",
      "finished constructor\n",
      "[#1] INFO:ObjectHandling -- RooWorkspace::import(ws) importing RooMultiVarGaussian::multi_gauss_0\n",
      "[#1] INFO:ObjectHandling -- RooWorkspace::import(ws) importing RooRealVar::O_g1z_pos_1em05\n",
      "[#1] INFO:ObjectHandling -- RooWorkspace::import(ws) importing RooRealVar::O_ka_pos_1em05\n",
      "[#1] INFO:ObjectHandling -- RooWorkspace::import(ws) importing RooRealVar::O_la_pos_1em05\n",
      "[#1] INFO:ObjectHandling -- RooWorkspace::import(ws) importing RooFunctorBinding::expectation_O_g1z_pos_1em05_0\n",
      "[#1] INFO:ObjectHandling -- RooWorkspace::import(ws) importing RooRealVar::lumi_0\n",
      "[#1] INFO:ObjectHandling -- RooWorkspace::import(ws) importing RooRealVar::e_pol_0\n",
      "[#1] INFO:ObjectHandling -- RooWorkspace::import(ws) importing RooRealVar::p_pol_0\n",
      "[#1] INFO:ObjectHandling -- RooWorkspace::import(ws) importing RooRealVar::g1z\n",
      "[#1] INFO:ObjectHandling -- RooWorkspace::import(ws) importing RooRealVar::ka\n",
      "[#1] INFO:ObjectHandling -- RooWorkspace::import(ws) importing RooRealVar::la\n",
      "[#1] INFO:ObjectHandling -- RooWorkspace::import(ws) importing RooRealVar::mu_signal\n",
      "[#1] INFO:ObjectHandling -- RooWorkspace::import(ws) importing RooFunctorBinding::expectation_O_ka_pos_1em05_0\n",
      "[#1] INFO:ObjectHandling -- RooWorkspace::import(ws) importing RooFunctorBinding::expectation_O_la_pos_1em05_0\n"
     ]
    }
   ],
   "source": [
    "ws = fit_handler.build_model([run])\n",
    "# coupling_pars = fit_handler.coupling_pars\n",
    "coupling_pars = [ws.var(name) for name in conf[\"parameters\"]]\n",
    "obs_pars = [ws.var(name) for name in conf[\"obs_names\"]]"
   ]
  },
  {
   "cell_type": "code",
   "execution_count": 6,
   "id": "00a18e6b",
   "metadata": {},
   "outputs": [
    {
     "name": "stdout",
     "output_type": "stream",
     "text": [
      "\n",
      "RooWorkspace(ws) ws contents\n",
      "\n",
      "variables\n",
      "---------\n",
      "(O_g1z_pos_1em05,O_ka_pos_1em05,O_la_pos_1em05,e_pol_0,g1z,ka,la,lumi_0,mu_signal,p_pol_0)\n",
      "\n",
      "p.d.f.s\n",
      "-------\n",
      "RooMultiVarGaussian::multi_gauss_0[ x=(O_g1z_pos_1em05,O_ka_pos_1em05,O_la_pos_1em05) mu=(expectation_O_g1z_pos_1em05_0,expectation_O_ka_pos_1em05_0,expectation_O_la_pos_1em05_0) ] = 1\n",
      "  RooFunctorBinding::expectation_O_g1z_pos_1em05_0[ function=0x2265a040 vars=(lumi_0,e_pol_0,p_pol_0,g1z,ka,la,mu_signal) ] = -328313\n",
      "  RooFunctorBinding::expectation_O_ka_pos_1em05_0[ function=0x22e8ab10 vars=(lumi_0,e_pol_0,p_pol_0,g1z,ka,la,mu_signal) ] = -816884\n",
      "  RooFunctorBinding::expectation_O_la_pos_1em05_0[ function=0x22f86e10 vars=(lumi_0,e_pol_0,p_pol_0,g1z,ka,la,mu_signal) ] = -404445\n",
      "\n"
     ]
    }
   ],
   "source": [
    "ws.Print(\"t\")"
   ]
  },
  {
   "cell_type": "code",
   "execution_count": null,
   "id": "29346c76",
   "metadata": {},
   "outputs": [],
   "source": [
    "model = ws.pdf(\"multi_gauss_0\")"
   ]
  },
  {
   "cell_type": "code",
   "execution_count": 8,
   "id": "83269edc",
   "metadata": {},
   "outputs": [
    {
     "ename": "ReferenceError",
     "evalue": "attempt to access a null-pointer",
     "output_type": "error",
     "traceback": [
      "\u001b[0;31m---------------------------------------------------------------------------\u001b[0m",
      "\u001b[0;31mReferenceError\u001b[0m                            Traceback (most recent call last)",
      "Cell \u001b[0;32mIn[8], line 1\u001b[0m\n\u001b[0;32m----> 1\u001b[0m ds \u001b[38;5;241m=\u001b[39m \u001b[43mROOT\u001b[49m\u001b[38;5;241;43m.\u001b[39;49m\u001b[43mRooStats\u001b[49m\u001b[38;5;241;43m.\u001b[39;49m\u001b[43mAsymptoticCalculator\u001b[49m\u001b[38;5;241;43m.\u001b[39;49m\u001b[43mGenerateAsimovData\u001b[49m\u001b[43m(\u001b[49m\u001b[43mmodel\u001b[49m\u001b[43m,\u001b[49m\u001b[43m \u001b[49m\u001b[43mobs_pars\u001b[49m\u001b[43m)\u001b[49m\n\u001b[1;32m      2\u001b[0m ds\u001b[38;5;241m.\u001b[39mPrint(\u001b[38;5;124m\"\u001b[39m\u001b[38;5;124mv\u001b[39m\u001b[38;5;124m\"\u001b[39m)\n",
      "\u001b[0;31mReferenceError\u001b[0m: attempt to access a null-pointer"
     ]
    }
   ],
   "source": [
    "ds = ROOT.RooStats.AsymptoticCalculator.GenerateAsimovData(model, obs_pars)\n",
    "ds.Print(\"v\")"
   ]
  },
  {
   "cell_type": "code",
   "execution_count": null,
   "id": "45a10ec0",
   "metadata": {},
   "outputs": [],
   "source": [
    "fit_res = model.fitTo(ds, Save=True)"
   ]
  },
  {
   "cell_type": "code",
   "execution_count": null,
   "id": "f9be1fea",
   "metadata": {},
   "outputs": [],
   "source": [
    "fit_res.covarianceMatrix().Print()"
   ]
  },
  {
   "cell_type": "code",
   "execution_count": null,
   "id": "303da578",
   "metadata": {},
   "outputs": [],
   "source": [
    "nll = model.createNLL(ds, EvalBackend=\"cpu\")"
   ]
  },
  {
   "cell_type": "code",
   "execution_count": null,
   "id": "8ce5f60c",
   "metadata": {},
   "outputs": [],
   "source": [
    "nll_minimizer = ROOT.RooMinimizer(nll)"
   ]
  },
  {
   "cell_type": "code",
   "execution_count": null,
   "id": "5e1af00d",
   "metadata": {},
   "outputs": [],
   "source": [
    "%time\n",
    "nll_minimizer.migrad()"
   ]
  },
  {
   "cell_type": "code",
   "execution_count": null,
   "id": "534c87c9",
   "metadata": {},
   "outputs": [],
   "source": [
    "%time\n",
    "# nll_minimizer.hesse()\n",
    "# nll_minimizer.minos(coupling_pars)"
   ]
  },
  {
   "cell_type": "code",
   "execution_count": null,
   "id": "c07a5725",
   "metadata": {},
   "outputs": [],
   "source": [
    "# nll.Print(\"t\")"
   ]
  },
  {
   "cell_type": "code",
   "execution_count": null,
   "id": "bca2d1c9",
   "metadata": {},
   "outputs": [],
   "source": [
    "pll0 = nll.createProfile({coupling_pars[0]})\n",
    "pll1 = nll.createProfile({coupling_pars[1]})\n",
    "pll2 = nll.createProfile({coupling_pars[2]})"
   ]
  },
  {
   "cell_type": "code",
   "execution_count": null,
   "id": "89f26d40",
   "metadata": {},
   "outputs": [],
   "source": [
    "frame0 = coupling_pars[0].frame(Range=(-0.004, 0.004))\n",
    "frame1 = coupling_pars[1].frame(Range=(-0.004, 0.004))\n",
    "frame2 = coupling_pars[2].frame(Range=(-0.004, 0.004))\n",
    "nll.plotOn(frame0, ShiftToZero=True)\n",
    "nll.plotOn(frame1, ShiftToZero=True)\n",
    "nll.plotOn(frame2, ShiftToZero=True)"
   ]
  },
  {
   "cell_type": "code",
   "execution_count": null,
   "id": "d54e38ff",
   "metadata": {},
   "outputs": [],
   "source": [
    "pll0.plotOn(frame0, LineColor=\"r\")\n",
    "pll1.plotOn(frame1, LineColor=\"r\")\n",
    "pll2.plotOn(frame2, LineColor=\"r\")"
   ]
  },
  {
   "cell_type": "code",
   "execution_count": null,
   "id": "2a0fe2f7-68ef-4af2-83d7-95b18fe3df4e",
   "metadata": {},
   "outputs": [],
   "source": [
    "c0 = ROOT.TCanvas()\n",
    "frame0.SetMinimum(0)\n",
    "frame0.SetMaximum(4)\n",
    "frame0.Draw()\n",
    "c0.Draw()\n",
    "# c0.SaveAs(\"plots/fit/ll_pll.pdf(\")\n",
    "# c0.SaveAs(\"plots/fit/ll_pll_g1z.pdf\")\n",
    "\n",
    "c1 = ROOT.TCanvas()\n",
    "frame1.SetMinimum(0)\n",
    "frame1.SetMaximum(4)\n",
    "frame1.Draw()\n",
    "c1.Draw()\n",
    "# c1.SaveAs(\"plots/fit/ll_pll.pdf\")\n",
    "# c1.SaveAs(\"plots/fit/ll_pll_ka.pdf\")\n",
    "\n",
    "c2 = ROOT.TCanvas()\n",
    "frame2.SetMinimum(0)\n",
    "frame2.SetMaximum(4)\n",
    "frame2.Draw()\n",
    "c2.Draw()\n",
    "# c2.SaveAs(\"plots/fit/ll_pll.pdf)\")\n",
    "# c2.SaveAs(\"plots/fit/ll_pll_la.pdf\")"
   ]
  },
  {
   "cell_type": "code",
   "execution_count": null,
   "id": "1dbf9547",
   "metadata": {},
   "outputs": [],
   "source": []
  }
 ],
 "metadata": {
  "kernelspec": {
   "display_name": "Python 3",
   "language": "python",
   "name": "python3"
  },
  "language_info": {
   "codemirror_mode": {
    "name": "ipython",
    "version": 3
   },
   "file_extension": ".py",
   "mimetype": "text/x-python",
   "name": "python",
   "nbconvert_exporter": "python",
   "pygments_lexer": "ipython3",
   "version": "3.13.2"
  }
 },
 "nbformat": 4,
 "nbformat_minor": 5
}
