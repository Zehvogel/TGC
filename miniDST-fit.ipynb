{
 "cells": [
  {
   "cell_type": "code",
   "execution_count": 1,
   "id": "51aaafc4",
   "metadata": {},
   "outputs": [
    {
     "name": "stdout",
     "output_type": "stream",
     "text": [
      "OBJ: TStyle\tildStyle\tILD Style : 0 at: 0x83b0210\n"
     ]
    }
   ],
   "source": [
    "import ROOT"
   ]
  },
  {
   "cell_type": "code",
   "execution_count": 2,
   "id": "b9e640c1",
   "metadata": {},
   "outputs": [],
   "source": [
    "run_toy_diagnostics = False\n",
    "# run_toy_diagnostics = True"
   ]
  },
  {
   "cell_type": "code",
   "execution_count": null,
   "id": "84613503",
   "metadata": {},
   "outputs": [],
   "source": [
    "# TODO: make it possible to fit multiple runs simultaneously\n",
    "run = {\n",
    "    \"lumi\": 5000,\n",
    "    \"e_pol\": 0.,\n",
    "    \"p_pol\": 0.,\n",
    "}\n",
    "n_bins = 65\n",
    "\n",
    "# https://arxiv.org/pdf/1506.07830\n",
    "ilc_250_h20_lumi = 2000\n",
    "ilc_250_h20 = [\n",
    "    {\n",
    "        \"lumi\": ilc_250_h20_lumi * 0.675,\n",
    "        \"e_pol\": -0.8,\n",
    "        \"p_pol\": 0.3,\n",
    "    },\n",
    "    {\n",
    "        \"lumi\": ilc_250_h20_lumi * 0.225,\n",
    "        \"e_pol\": 0.8,\n",
    "        \"p_pol\": -0.3,\n",
    "    },\n",
    "    {\n",
    "        \"lumi\": ilc_250_h20_lumi * 0.05,\n",
    "        \"e_pol\": -0.8,\n",
    "        \"p_pol\": -0.3,\n",
    "    },\n",
    "    {\n",
    "        \"lumi\": ilc_250_h20_lumi * 0.05,\n",
    "        \"e_pol\": 0.8,\n",
    "        \"p_pol\": 0.3,\n",
    "    },\n",
    "]"
   ]
  },
  {
   "cell_type": "code",
   "execution_count": 4,
   "id": "28058a8d",
   "metadata": {},
   "outputs": [],
   "source": [
    "parameters = {\n",
    "    \"g1z\": 0.0,\n",
    "    \"ka\": 0.0,\n",
    "    \"la\": 0.0,\n",
    "}\n",
    "obs_names = [\n",
    "    \"O_g1z_pos_1em05\",\n",
    "    \"O_ka_pos_1em05\",\n",
    "    \"O_la_pos_1em05\",\n",
    "]\n",
    "input_path = \"data/histograms/full/raw_histograms.root\"\n",
    "signal_cat = \"4f_sw_sl_signal\"\n",
    "signal_processes = [\n",
    "    \"4f_sw_sl_eLpL_signal\",\n",
    "    \"4f_sw_sl_eLpR_signal\",\n",
    "    \"4f_sw_sl_eRpL_signal\",\n",
    "    \"4f_sw_sl_eRpR_signal\",\n",
    "    ]\n",
    "background_processes = []"
   ]
  },
  {
   "cell_type": "code",
   "execution_count": 5,
   "id": "6635b901",
   "metadata": {},
   "outputs": [
    {
     "name": "stdout",
     "output_type": "stream",
     "text": [
      "{'4f_sw_sl_eLpL_signal': <cppyy.gbl.THnT<double> object at 0xa11f080>, '4f_sw_sl_eLpR_signal': <cppyy.gbl.THnT<double> object at 0xa27add0>, '4f_sw_sl_eRpL_signal': <cppyy.gbl.THnT<double> object at 0xa2530a0>, '4f_sw_sl_eRpR_signal': <cppyy.gbl.THnT<double> object at 0xa21f460>}\n",
      "{'4f_sw_sl_eLpL_signal': {'lumi': <cppyy.gbl.TParameter<float> object at 0xa28b5f0>, 'e_pol': <cppyy.gbl.TParameter<float> object at 0xa2580b0>, 'p_pol': <cppyy.gbl.TParameter<float> object at 0xa298290>}, '4f_sw_sl_eLpR_signal': {'lumi': <cppyy.gbl.TParameter<float> object at 0xa26feb0>, 'e_pol': <cppyy.gbl.TParameter<float> object at 0xa2a2c90>, 'p_pol': <cppyy.gbl.TParameter<float> object at 0xa2a2d10>}, '4f_sw_sl_eRpL_signal': {'lumi': <cppyy.gbl.TParameter<float> object at 0xa21bdb0>, 'e_pol': <cppyy.gbl.TParameter<float> object at 0xa21be70>, 'p_pol': <cppyy.gbl.TParameter<float> object at 0x9ea6720>}, '4f_sw_sl_eRpR_signal': {'lumi': <cppyy.gbl.TParameter<float> object at 0xa2e4580>, 'e_pol': <cppyy.gbl.TParameter<float> object at 0xa2e4640>, 'p_pol': <cppyy.gbl.TParameter<float> object at 0xa2e46c0>}}\n",
      "{'4f_sw_sl_eLpL_signal': <cppyy.gbl.ROOT.Math.SVector<double,6> object at 0xa29c330>, '4f_sw_sl_eLpR_signal': <cppyy.gbl.ROOT.Math.SVector<double,6> object at 0xa25b160>, '4f_sw_sl_eRpL_signal': <cppyy.gbl.ROOT.Math.SVector<double,6> object at 0xa258ac0>, '4f_sw_sl_eRpR_signal': <cppyy.gbl.ROOT.Math.SVector<double,6> object at 0xa2fc870>}\n",
      "{'O_g1z_pos_1em05': {'4f_sw_sl_eLpL_signal': {'g1z': <cppyy.gbl.TH1D object at 0x94bddb0>, 'ka': <cppyy.gbl.TH1D object at 0xa35e020>, 'la': <cppyy.gbl.TH1D object at 0x92fd0f0>}, '4f_sw_sl_eLpR_signal': {'g1z': <cppyy.gbl.TH1D object at 0x4caece0>, 'ka': <cppyy.gbl.TH1D object at 0x4bcdc50>, 'la': <cppyy.gbl.TH1D object at 0x403a1a0>}, '4f_sw_sl_eRpL_signal': {'g1z': <cppyy.gbl.TH1D object at 0x23099e0>, 'ka': <cppyy.gbl.TH1D object at 0x17d3b50>, 'la': <cppyy.gbl.TH1D object at 0xa3ef570>}, '4f_sw_sl_eRpR_signal': {'g1z': <cppyy.gbl.TH1D object at 0xa3e4020>, 'ka': <cppyy.gbl.TH1D object at 0xa403ee0>, 'la': <cppyy.gbl.TH1D object at 0xa3d0ba0>}}, 'O_ka_pos_1em05': {'4f_sw_sl_eLpL_signal': {'g1z': <cppyy.gbl.TH1D object at 0xa3e8a40>, 'ka': <cppyy.gbl.TH1D object at 0xa3bf420>, 'la': <cppyy.gbl.TH1D object at 0xa3facf0>}, '4f_sw_sl_eLpR_signal': {'g1z': <cppyy.gbl.TH1D object at 0xa3b51b0>, 'ka': <cppyy.gbl.TH1D object at 0xa3f82b0>, 'la': <cppyy.gbl.TH1D object at 0xa3e70b0>}, '4f_sw_sl_eRpL_signal': {'g1z': <cppyy.gbl.TH1D object at 0xa3e4920>, 'ka': <cppyy.gbl.TH1D object at 0xa3f1810>, 'la': <cppyy.gbl.TH1D object at 0xa3f1c00>}, '4f_sw_sl_eRpR_signal': {'g1z': <cppyy.gbl.TH1D object at 0xa3fe3a0>, 'ka': <cppyy.gbl.TH1D object at 0xa3fe800>, 'la': <cppyy.gbl.TH1D object at 0xa3ff290>}}, 'O_la_pos_1em05': {'4f_sw_sl_eLpL_signal': {'g1z': <cppyy.gbl.TH1D object at 0xa36f190>, 'ka': <cppyy.gbl.TH1D object at 0xa3e2490>, 'la': <cppyy.gbl.TH1D object at 0xa39a380>}, '4f_sw_sl_eLpR_signal': {'g1z': <cppyy.gbl.TH1D object at 0xa3e3020>, 'ka': <cppyy.gbl.TH1D object at 0xa395760>, 'la': <cppyy.gbl.TH1D object at 0xa395b50>}, '4f_sw_sl_eRpL_signal': {'g1z': <cppyy.gbl.TH1D object at 0xa3cecc0>, 'ka': <cppyy.gbl.TH1D object at 0xa396850>, 'la': <cppyy.gbl.TH1D object at 0xa396c40>}, '4f_sw_sl_eRpR_signal': {'g1z': <cppyy.gbl.TH1D object at 0xa398230>, 'ka': <cppyy.gbl.TH1D object at 0xa3989e0>, 'la': <cppyy.gbl.TH1D object at 0xa3c26a0>}}}\n"
     ]
    }
   ],
   "source": [
    "signal_histograms = {}\n",
    "signal_meta = {}\n",
    "oo_matrix = {}\n",
    "template_parameters = {}\n",
    "with ROOT.TFile(input_path) as input_file:\n",
    "    # take care of signals first\n",
    "    signal_dir = input_file[signal_cat]\n",
    "    for process_name in signal_processes:\n",
    "        signal_histos = {}\n",
    "        p_dir = signal_dir[process_name]\n",
    "        obs = \"obs_ND\"\n",
    "        # very consistent ownership model of root requires us to do this\n",
    "        histo = p_dir[obs]\n",
    "        # not needed on nD???\n",
    "        # histo.SetDirectory(ROOT.nullptr)\n",
    "        signal_histo = histo\n",
    "        meta_dir = p_dir[\"meta\"]\n",
    "        obs_meta = {}\n",
    "        for key in meta_dir.GetListOfKeys():\n",
    "            key_name = key.GetName()\n",
    "            obs_meta[key_name] = meta_dir[key_name]\n",
    "        signal_histograms[process_name] = signal_histo\n",
    "        signal_meta[process_name] = obs_meta\n",
    "        # get OO matrix\n",
    "        mat_dir = input_file[\"oo_matrix\"]\n",
    "        oo_matrix[process_name] = mat_dir[process_name]\n",
    "    # get template parameters\n",
    "    # unfortunately here we have the loops the other way around\n",
    "    template_dir = input_file[\"template_parametrisations\"]\n",
    "    for obs in obs_names:\n",
    "        obs_dir = template_dir[obs]\n",
    "        p_pars = {}\n",
    "        for process_name in signal_processes:\n",
    "            p_dir = obs_dir[process_name]\n",
    "            pars = {}\n",
    "            for par in parameters.keys():\n",
    "            # very consistent ownership model of root requires us to do\n",
    "                par_hist = p_dir[par]\n",
    "                par_hist.SetDirectory(ROOT.nullptr)\n",
    "                pars[par] = par_hist\n",
    "            p_pars[process_name] = pars\n",
    "        template_parameters[obs] = p_pars\n",
    "\n",
    "\n",
    "    # TODO: implement background handling\n",
    "\n",
    "print(signal_histograms)\n",
    "print(signal_meta)\n",
    "print(oo_matrix)\n",
    "print(template_parameters)"
   ]
  },
  {
   "cell_type": "code",
   "execution_count": 6,
   "id": "03267b88",
   "metadata": {},
   "outputs": [
    {
     "name": "stdout",
     "output_type": "stream",
     "text": [
      "{ @0x7ffcf2c58ed0, @0x7ffcf2c58ed0, @0x7ffcf2c58ed0 } 3\n"
     ]
    }
   ],
   "source": [
    "from fit_utils import make_observed_histogram, hist_to_np, make_asimov_np, make_asimov_fast, make_1D_projections, make_observables, make_new_asimov_observables_np\n",
    "h_obs = make_observed_histogram(signal_histograms, signal_meta, run)\n",
    "h_obs_np = hist_to_np(h_obs)\n",
    "h_asimov_np = make_asimov_np(h_obs_np)\n",
    "h_asimov = make_asimov_fast(h_obs, 1234)"
   ]
  },
  {
   "cell_type": "code",
   "execution_count": 7,
   "id": "d3a0227b",
   "metadata": {},
   "outputs": [],
   "source": [
    "import numpy as np\n",
    "h_example = make_1D_projections(h_obs)[0]\n",
    "bin_centers = np.asarray([h_example.GetBinCenter(i+1) for i in range(h_example.GetNbinsX())])"
   ]
  },
  {
   "cell_type": "code",
   "execution_count": 8,
   "id": "0b06ba0f",
   "metadata": {},
   "outputs": [
    {
     "name": "stdout",
     "output_type": "stream",
     "text": [
      "[[<cppyy.gbl.TH1D object at 0xc899680>, <cppyy.gbl.TH1D object at 0xc978520>, <cppyy.gbl.TH1D object at 0x6be4c20>, <cppyy.gbl.TH1D object at 0xc9eef60>], [<cppyy.gbl.TH1D object at 0xc845840>, <cppyy.gbl.TH1D object at 0xc97e790>, <cppyy.gbl.TH1D object at 0xcdc9e60>, <cppyy.gbl.TH1D object at 0xc98d230>], [<cppyy.gbl.TH1D object at 0xc7caab0>, <cppyy.gbl.TH1D object at 0xc933ad0>, <cppyy.gbl.TH1D object at 0xcb6cc60>, <cppyy.gbl.TH1D object at 0xcdd8980>]]\n",
      "[598.3264770507812, 100.83772277832031, 4009.4052734375, 696.610107421875]\n",
      "[<cppyy.gbl.ROOT.Math.SVector<double,6> object at 0xa29c330>, <cppyy.gbl.ROOT.Math.SVector<double,6> object at 0xa25b160>, <cppyy.gbl.ROOT.Math.SVector<double,6> object at 0xa258ac0>, <cppyy.gbl.ROOT.Math.SVector<double,6> object at 0xa2fc870>]\n",
      "[[[<cppyy.gbl.TH1D object at 0x94bddb0>, <cppyy.gbl.TH1D object at 0xa35e020>, <cppyy.gbl.TH1D object at 0x92fd0f0>], [<cppyy.gbl.TH1D object at 0x4caece0>, <cppyy.gbl.TH1D object at 0x4bcdc50>, <cppyy.gbl.TH1D object at 0x403a1a0>], [<cppyy.gbl.TH1D object at 0x23099e0>, <cppyy.gbl.TH1D object at 0x17d3b50>, <cppyy.gbl.TH1D object at 0xa3ef570>], [<cppyy.gbl.TH1D object at 0xa3e4020>, <cppyy.gbl.TH1D object at 0xa403ee0>, <cppyy.gbl.TH1D object at 0xa3d0ba0>]], [[<cppyy.gbl.TH1D object at 0xa3e8a40>, <cppyy.gbl.TH1D object at 0xa3bf420>, <cppyy.gbl.TH1D object at 0xa3facf0>], [<cppyy.gbl.TH1D object at 0xa3b51b0>, <cppyy.gbl.TH1D object at 0xa3f82b0>, <cppyy.gbl.TH1D object at 0xa3e70b0>], [<cppyy.gbl.TH1D object at 0xa3e4920>, <cppyy.gbl.TH1D object at 0xa3f1810>, <cppyy.gbl.TH1D object at 0xa3f1c00>], [<cppyy.gbl.TH1D object at 0xa3fe3a0>, <cppyy.gbl.TH1D object at 0xa3fe800>, <cppyy.gbl.TH1D object at 0xa3ff290>]], [[<cppyy.gbl.TH1D object at 0xa36f190>, <cppyy.gbl.TH1D object at 0xa3e2490>, <cppyy.gbl.TH1D object at 0xa39a380>], [<cppyy.gbl.TH1D object at 0xa3e3020>, <cppyy.gbl.TH1D object at 0xa395760>, <cppyy.gbl.TH1D object at 0xa395b50>], [<cppyy.gbl.TH1D object at 0xa3cecc0>, <cppyy.gbl.TH1D object at 0xa396850>, <cppyy.gbl.TH1D object at 0xa396c40>], [<cppyy.gbl.TH1D object at 0xa398230>, <cppyy.gbl.TH1D object at 0xa3989e0>, <cppyy.gbl.TH1D object at 0xa3c26a0>]]]\n"
     ]
    }
   ],
   "source": [
    "signal_1d_histograms = [make_1D_projections(h) for h in signal_histograms.values()]\n",
    "# ugly hack to \"transpose\" that list[list]\n",
    "signal_1d_histograms = list(map(list, zip(*signal_1d_histograms)))\n",
    "print(signal_1d_histograms)\n",
    "signal_lumi = [par[\"lumi\"].GetVal() for par in signal_meta.values()]\n",
    "print(signal_lumi)\n",
    "oo_matrices = list(oo_matrix.values())\n",
    "print(oo_matrices)\n",
    "template_param = [[[ph for ph in cpl_h.values()] for cpl_h in hel_h.values()] for hel_h in template_parameters.values()]\n",
    "print(template_param)"
   ]
  },
  {
   "cell_type": "code",
   "execution_count": 9,
   "id": "37a41c5d",
   "metadata": {},
   "outputs": [
    {
     "data": {
      "text/plain": [
       "True"
      ]
     },
     "execution_count": 9,
     "metadata": {},
     "output_type": "execute_result"
    }
   ],
   "source": [
    "ROOT.gInterpreter.Declare(\"#include \\\"fit.h\\\"\")"
   ]
  },
  {
   "cell_type": "code",
   "execution_count": 10,
   "id": "785832a8",
   "metadata": {},
   "outputs": [
    {
     "name": "stdout",
     "output_type": "stream",
     "text": [
      "start constructor\n",
      "finished constructor\n"
     ]
    }
   ],
   "source": [
    "fun2 = ROOT.fit_fun2[f\"3, {n_bins}, 3\"](signal_1d_histograms, signal_lumi, oo_matrices, template_param)"
   ]
  },
  {
   "cell_type": "code",
   "execution_count": 11,
   "id": "ae511241",
   "metadata": {},
   "outputs": [],
   "source": [
    "if run_toy_diagnostics:\n",
    "    n_obs = 3\n",
    "    n_toys = 10\n",
    "    # h_chi2 = ROOT.TH1D(\"\", \";#chi^{2}\", 100, -10., 10.)\n",
    "    h_chi2 = ROOT.TH1D(\"\", \";#chi^{2}\", 50, 0., 10.)\n",
    "    h_prob = ROOT.TH1D(\"\", \";probability\", 50, 0., 1.)\n",
    "    h_diff0 = ROOT.TH1D(\"\", \";obs_asimov - obs [0]\", 100, -10000., 10000.)\n",
    "    h_diff1 = ROOT.TH1D(\"\", \";obs_asimov - obs [1]\", 100, -10000., 10000.)\n",
    "    h_diff2 = ROOT.TH1D(\"\", \";obs_asimov - obs [2]\", 100, -10000., 10000.)\n",
    "    obs_initial = make_observables(make_1D_projections(h_obs))\n",
    "    C = np.zeros((n_obs, n_obs))\n",
    "    v = np.zeros(n_obs)\n",
    "    for seed in range(n_toys):\n",
    "        # obs = make_new_asimov_observables(h_obs, seed)\n",
    "        obs = make_new_asimov_observables_np(h_obs_np, bin_centers)\n",
    "        pars = list(run.values()) + [0., 0., 0.] + [1.]\n",
    "        chi2 = fun2(obs, pars)\n",
    "        # print(obs, chi2)\n",
    "        prob = ROOT.Math.chisquared_cdf(chi2, 3)\n",
    "        h_chi2.Fill(chi2)\n",
    "        h_prob.Fill(prob)\n",
    "        diff = [0.] * n_obs\n",
    "        for i in range(n_obs):\n",
    "            diff[i] = obs[i] - obs_initial[i]\n",
    "            v[i] += diff[i]\n",
    "        for i in range(n_obs):\n",
    "            for j in range(n_obs):\n",
    "                C[i,j] += diff[i] * diff[j]\n",
    "        h_diff0.Fill(diff[0])\n",
    "        h_diff1.Fill(diff[1])\n",
    "        h_diff2.Fill(diff[2])\n",
    "    C /= n_toys\n",
    "    v /= n_toys"
   ]
  },
  {
   "cell_type": "code",
   "execution_count": 12,
   "id": "7d039d55",
   "metadata": {},
   "outputs": [],
   "source": [
    "if run_toy_diagnostics:\n",
    "    c_chi2 = ROOT.TCanvas()\n",
    "    f = ROOT.TF1(\"chi2\", \"[0] * ROOT::Math::chisquared_pdf(x, [1])\", 0., 10.)\n",
    "    f.SetParameters(10000/5., 3.)\n",
    "    # f.FixParameter(1, 3.)\n",
    "    h_chi2.Fit(f)\n",
    "    h_chi2.Draw()\n",
    "    # f.Draw(\"same\")\n",
    "    c_chi2.Draw()\n",
    "    # c_chi2.SaveAs(\"plots/fit/diagnostics/chi2.pdf\")\n",
    "\n",
    "    c_prob = ROOT.TCanvas()\n",
    "    h_prob.SetMinimum(0)\n",
    "    h_prob.Draw()\n",
    "    c_prob.Draw()\n",
    "    # c_prob.SaveAs(\"plots/fit/diagnostics/prob.pdf\")\n",
    "\n",
    "    c_diff0 = ROOT.TCanvas()\n",
    "    h_diff0.Fit(\"gaus\")\n",
    "    h_diff0.Draw()\n",
    "    c_diff0.Draw()\n",
    "    # c_diff0.SaveAs(\"plots/fit/diagnostics/diff0.pdf\")\n",
    "\n",
    "    c_diff1 = ROOT.TCanvas()\n",
    "    h_diff1.Fit(\"gaus\")\n",
    "    h_diff1.Draw()\n",
    "    c_diff1.Draw()\n",
    "    # c_diff1.SaveAs(\"plots/fit/diagnostics/diff1.pdf\")\n",
    "\n",
    "    c_diff2 = ROOT.TCanvas()\n",
    "    h_diff2.Fit(\"gaus\")\n",
    "    h_diff2.Draw()\n",
    "    c_diff2.Draw()\n",
    "    # c_diff2.SaveAs(\"plots/fit/diagnostics/diff2.pdf\")"
   ]
  },
  {
   "cell_type": "code",
   "execution_count": 13,
   "id": "7fad5c5c",
   "metadata": {},
   "outputs": [],
   "source": [
    "# build all the RooFit stuff\n",
    "\n",
    "# use the initial assumed as true values to init\n",
    "obs_initial = make_observables(make_1D_projections(h_obs))\n",
    "# define observable parameters\n",
    "obs_pars = []\n",
    "for i, o in enumerate(obs_initial):\n",
    "    name = obs_names[i]\n",
    "    # lets just choose #pm 10% where ever we're not sure\n",
    "    min_o = o*0.9\n",
    "    max_o = o*1.1\n",
    "    if o < 0:\n",
    "        # swap around to avoid RooFit printing an error when doing it\n",
    "        min_o, max_o = max_o, min_o\n",
    "    ob = ROOT.RooRealVar(name, name, min_o, max_o)\n",
    "    obs_pars.append(ob)\n",
    "\n",
    "# define run parameters\n",
    "lumi_par = ROOT.RooRealVar(\"lumi\", \"lumi\", run[\"lumi\"], 0.9*run[\"lumi\"], 1.1 * run[\"lumi\"])\n",
    "lumi_par.setConstant()\n",
    "e_pol_par = ROOT.RooRealVar(\"e_pol\", \"e_pol\", 0., -1., 1.)\n",
    "e_pol_par.setConstant()\n",
    "p_pol_par = ROOT.RooRealVar(\"p_pol\", \"p_pol\", 0., -1., 1.)\n",
    "p_pol_par.setConstant()\n",
    "\n",
    "# define coupling parameters\n",
    "coupling_pars = []\n",
    "for name, value in parameters.items():\n",
    "    # that should be tight enough...\n",
    "    cpl = ROOT.RooRealVar(name, name, value, -0.5, 0.5)\n",
    "    coupling_pars.append(cpl)\n",
    "\n",
    "# define nuisance parameters\n",
    "nuisance_pars = []\n",
    "# signal only so far\n",
    "nu_par = ROOT.RooRealVar(\"mu_signal\", \"mu_signal\", 1., 0.9, 1.1)\n",
    "nu_par.setConstant()\n",
    "nuisance_pars.append(nu_par)\n",
    "\n",
    "all_pars = [lumi_par, e_pol_par, p_pol_par] + coupling_pars + nuisance_pars\n",
    "obs_and_pars = obs_pars + all_pars\n",
    "obs_and_pars_arglist = ROOT.RooArgList(obs_and_pars)"
   ]
  },
  {
   "cell_type": "code",
   "execution_count": 14,
   "id": "f2e12eac",
   "metadata": {},
   "outputs": [],
   "source": [
    "fun2_functor = ROOT.Math.Functor(fun2, len(obs_and_pars))\n",
    "chi2_fun = ROOT.RooFit.bindFunction(\"chi2_fun\", fun2_functor, obs_and_pars_arglist)"
   ]
  },
  {
   "cell_type": "code",
   "execution_count": 15,
   "id": "ed998ae9",
   "metadata": {},
   "outputs": [],
   "source": [
    "# should be constant with the number of observables\n",
    "chi2_ndf = ROOT.RooRealVar(\"chi2_ndf\", \"chi2_ndf\", len(obs_pars))\n",
    "model = ROOT.RooChiSquarePdf(\"chi2_pdf\", \"chi2_pdf\", chi2_fun, chi2_ndf)"
   ]
  },
  {
   "cell_type": "code",
   "execution_count": 16,
   "id": "f6ab3c4d",
   "metadata": {},
   "outputs": [],
   "source": [
    "def make_ttree_from_obs(obs):\n",
    "    from array import array\n",
    "    tree = ROOT.TTree(\"tree\", \"tree\")\n",
    "    branch_pointers = []\n",
    "    for i, o in enumerate(obs_initial):\n",
    "        name = obs_names[i]\n",
    "        p = array(\"d\", [0])\n",
    "        tree.Branch(name, p, f\"{name}/D\")\n",
    "        p[0] = o\n",
    "        branch_pointers.append(p)\n",
    "    tree.Fill()\n",
    "    return tree"
   ]
  },
  {
   "cell_type": "code",
   "execution_count": 17,
   "id": "ae9e1af7",
   "metadata": {},
   "outputs": [],
   "source": [
    "obs = make_new_asimov_observables_np(h_obs_np, bin_centers)\n",
    "obs_tree = make_ttree_from_obs(obs)\n",
    "ds = ROOT.RooDataSet(\"ds\", \"ds\", obs_pars, Import=obs_tree)"
   ]
  },
  {
   "cell_type": "code",
   "execution_count": 18,
   "id": "00a18e6b",
   "metadata": {},
   "outputs": [
    {
     "name": "stdout",
     "output_type": "stream",
     "text": [
      "0xf63cbb0 RooChiSquarePdf::chi2_pdf = 5.11417e-12 [Auto,Dirty] \n",
      "  0xf196910/V- RooFunctorBinding::chi2_fun = 1.64335e-22 [Auto,Clean] \n",
      "    0xdd5d510/V- RooRealVar::O_g1z_pos_1em05 = -328313\n",
      "    0xdcbd180/V- RooRealVar::O_ka_pos_1em05 = -816884\n",
      "    0xdd43ef0/V- RooRealVar::O_la_pos_1em05 = -404445\n",
      "    0xd9c9830/V- RooRealVar::lumi = 5000\n",
      "    0xdc30750/V- RooRealVar::e_pol = 0\n",
      "    0xda0fc80/V- RooRealVar::p_pol = 0\n",
      "    0x6be1a80/V- RooRealVar::g1z = 0\n",
      "    0xe3ff600/V- RooRealVar::ka = 0\n",
      "    0xe3f8d00/V- RooRealVar::la = 0\n",
      "    0xe43e0c0/V- RooRealVar::mu_signal = 1\n",
      "  0xeea8380/V- RooRealVar::chi2_ndf = 3\n"
     ]
    }
   ],
   "source": [
    "# model.fitTo(ds)\n",
    "model.getVal()\n",
    "model.Print(\"t\")"
   ]
  },
  {
   "cell_type": "code",
   "execution_count": 19,
   "id": "45a10ec0",
   "metadata": {},
   "outputs": [],
   "source": [
    "# model.fitTo(ds)"
   ]
  },
  {
   "cell_type": "code",
   "execution_count": 20,
   "id": "303da578",
   "metadata": {},
   "outputs": [
    {
     "name": "stdout",
     "output_type": "stream",
     "text": [
      "[#1] INFO:Fitting -- RooAbsPdf::fitTo(chi2_pdf_over_chi2_pdf_Int[O_g1z_pos_1em05,O_ka_pos_1em05,O_la_pos_1em05]) fixing normalization set for coefficient determination to observables in data\n",
      "[#1] INFO:Fitting -- using generic CPU library compiled with no vectorizations\n",
      "[#1] INFO:Fitting -- Creation of NLL object took 8.02878 ms\n"
     ]
    }
   ],
   "source": [
    "nll = model.createNLL(ds, EvalBackend=\"cpu\")\n",
    "# nll = model.createNLL(ds, EvalBackend=\"legacy\")\n",
    "# nll = model.createNLL(ds, EvalBackend=\"codegen\")\n",
    "# nll = model.createNLL(ds, EvalBackend=\"codegen_no_grad\")"
   ]
  },
  {
   "cell_type": "code",
   "execution_count": 21,
   "id": "5e1af00d",
   "metadata": {},
   "outputs": [
    {
     "name": "stdout",
     "output_type": "stream",
     "text": [
      "CPU times: user 8 μs, sys: 0 ns, total: 8 μs\n",
      "Wall time: 12.9 μs\n"
     ]
    },
    {
     "data": {
      "text/plain": [
       "1"
      ]
     },
     "execution_count": 21,
     "metadata": {},
     "output_type": "execute_result"
    },
    {
     "name": "stdout",
     "output_type": "stream",
     "text": [
      "[#1] INFO:Fitting -- RooAddition::defaultErrorLevel(nll_chi2_pdf_over_chi2_pdf_Int[O_g1z_pos_1em05,O_ka_pos_1em05,O_la_pos_1em05]_ds) Summation contains a RooNLLVar, using its error level\n",
      "Minuit2Minimizer: Minimize with max-calls 1500 convergence for edm < 1 strategy 1\n",
      "[#1] INFO:NumericIntegration -- RooRealIntegral::init(chi2_pdf_Int[O_g1z_pos_1em05,O_ka_pos_1em05,O_la_pos_1em05]) using numeric integrator RooAdaptiveIntegratorND to calculate Int(O_g1z_pos_1em05,O_ka_pos_1em05,O_la_pos_1em05)\n",
      "Minuit2Minimizer : Valid minimum - status = 1\n",
      "FVAL  = 26.5366925318613767\n",
      "Edm   = 1.26735382324738549e-10\n",
      "Nfcn  = 71\n",
      "g1z\t  = -0.000504609\t +/-  0.00639371\t(limited)\n",
      "ka\t  = -0.000334195\t +/-  0.0170575\t(limited)\n",
      "la\t  = 1.73108e-06\t +/-  0.00676977\t(limited)\n"
     ]
    },
    {
     "name": "stderr",
     "output_type": "stream",
     "text": [
      "Info in <Minuit2>: MnSeedGenerator Computing seed using NumericalGradient calculator\n",
      "Info in <Minuit2>: MnSeedGenerator Evaluated function and gradient in 51.6101 s\n",
      "Info in <Minuit2>: MnSeedGenerator Initial state: FCN =       51.11858849 Edm =   1.456358589e-13 NCalls =     13\n",
      "Info in <Minuit2>: NegativeG2LineSearch Doing a NegativeG2LineSearch since one of the G2 component is negative\n",
      "Info in <Minuit2>: NegativeG2LineSearch Done after 1 min 52.6535 s\n",
      "Info in <Minuit2>: MnSeedGenerator Negative G2 found - new state: \n",
      "  Minimum value : 26.536728\n",
      "  Edm           : 0.0001067019155\n",
      "  Internal parameters:\t[  -0.001006789604 -0.0006608802813                0]\t\n",
      "  Internal gradient  :\t[      9.704948918      3.164874366     -6.843654895]\t\n",
      "  Internal covariance matrix:\n",
      "[[  1.5034328e-06              0              0]\n",
      " [              0  1.4259771e-05              0]\n",
      " [              0              0  3.0398511e-06]]]\n",
      "Info in <Minuit2>: MnSeedGenerator Initial state  \n",
      "  Minimum value : 26.536728\n",
      "  Edm           : 0.0001067019155\n",
      "  Internal parameters:\t[  -0.001006789604 -0.0006608802813                0]\t\n",
      "  Internal gradient  :\t[      9.704948918      3.164874366     -6.843654895]\t\n",
      "  Internal covariance matrix:\n",
      "[[  1.5034328e-06              0              0]\n",
      " [              0  1.4259771e-05              0]\n",
      " [              0              0  3.0398511e-06]]]\n",
      "Info in <Minuit2>: VariableMetricBuilder Start iterating until Edm is < 0.001 with call limit = 1500\n",
      "Info in <Minuit2>: VariableMetricBuilder    0 - FCN =         26.536728 Edm =   0.0001067019155 NCalls =     41\n",
      "Info in <Minuit2>: VariableMetricBuilder    1 - FCN =       26.53669253 Edm =   2.935018712e-10 NCalls =     49\n",
      "Warning in <Minuit2>: MnPosDef Matrix forced pos-def by adding to diagonal 0.00496471\n",
      "Info in <Minuit2>: MnHesse Done after 1 min 30.4826 s\n",
      "Info in <Minuit2>: VariableMetricBuilder After Hessian\n",
      "Info in <Minuit2>: VariableMetricBuilder    2 - FCN =       26.53669253 Edm =   1.267353823e-10 NCalls =     71\n",
      "Info in <Minuit2>: VariableMetricBuilder Stop iterating after 2 min 3.02834 s\n",
      "Warning in <Minuit2>: Minuit2Minimizer::Minimize Covar was made pos def\n"
     ]
    }
   ],
   "source": [
    "%time\n",
    "ROOT.RooMinimizer(nll).migrad()"
   ]
  },
  {
   "cell_type": "code",
   "execution_count": null,
   "id": "89f26d40",
   "metadata": {},
   "outputs": [],
   "source": []
  }
 ],
 "metadata": {
  "kernelspec": {
   "display_name": "Python 3",
   "language": "python",
   "name": "python3"
  },
  "language_info": {
   "codemirror_mode": {
    "name": "ipython",
    "version": 3
   },
   "file_extension": ".py",
   "mimetype": "text/x-python",
   "name": "python",
   "nbconvert_exporter": "python",
   "pygments_lexer": "ipython3",
   "version": "3.13.2"
  }
 },
 "nbformat": 4,
 "nbformat_minor": 5
}
