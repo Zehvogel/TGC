{
 "cells": [
  {
   "cell_type": "code",
   "execution_count": 1,
   "id": "51aaafc4",
   "metadata": {},
   "outputs": [
    {
     "name": "stdout",
     "output_type": "stream",
     "text": [
      "OBJ: TStyle\tildStyle\tILD Style : 0 at: 0x65afba0\n"
     ]
    }
   ],
   "source": [
    "import ROOT"
   ]
  },
  {
   "cell_type": "code",
   "execution_count": 2,
   "id": "84613503",
   "metadata": {},
   "outputs": [],
   "source": [
    "# TODO: make it possible to fit multiple runs simultaneously\n",
    "run = {\n",
    "    \"lumi\": 5000,\n",
    "    \"e_pol\": 0.,\n",
    "    \"p_pol\": 0.,\n",
    "}"
   ]
  },
  {
   "cell_type": "code",
   "execution_count": 3,
   "id": "28058a8d",
   "metadata": {},
   "outputs": [],
   "source": [
    "parameters = {\n",
    "    \"g1z\": 0.0,\n",
    "    \"ka\": 0.0,\n",
    "    \"la\": 0.0,\n",
    "}\n",
    "obs_names = [\n",
    "    \"O_g1z_pos_1em05\",\n",
    "    \"O_ka_pos_1em05\",\n",
    "    \"O_la_pos_1em05\",\n",
    "]\n",
    "input_path = \"data/histograms/full/raw_histograms.root\"\n",
    "signal_cat = \"4f_sw_sl_signal\"\n",
    "signal_processes = [\n",
    "    \"4f_sw_sl_eLpL_signal\",\n",
    "    \"4f_sw_sl_eLpR_signal\",\n",
    "    \"4f_sw_sl_eRpL_signal\",\n",
    "    \"4f_sw_sl_eRpR_signal\",\n",
    "    ]\n",
    "background_processes = []"
   ]
  },
  {
   "cell_type": "code",
   "execution_count": 4,
   "id": "6635b901",
   "metadata": {},
   "outputs": [
    {
     "name": "stdout",
     "output_type": "stream",
     "text": [
      "{'4f_sw_sl_eLpL_signal': {'O_g1z_pos_1em05': <cppyy.gbl.TH1D object at 0x85de610>, 'O_ka_pos_1em05': <cppyy.gbl.TH1D object at 0x87dbe00>, 'O_la_pos_1em05': <cppyy.gbl.TH1D object at 0x87b82b0>}, '4f_sw_sl_eLpR_signal': {'O_g1z_pos_1em05': <cppyy.gbl.TH1D object at 0x88a07b0>, 'O_ka_pos_1em05': <cppyy.gbl.TH1D object at 0x87889e0>, 'O_la_pos_1em05': <cppyy.gbl.TH1D object at 0x88e01f0>}, '4f_sw_sl_eRpL_signal': {'O_g1z_pos_1em05': <cppyy.gbl.TH1D object at 0x88f3250>, 'O_ka_pos_1em05': <cppyy.gbl.TH1D object at 0x88d88c0>, 'O_la_pos_1em05': <cppyy.gbl.TH1D object at 0x88b6f80>}, '4f_sw_sl_eRpR_signal': {'O_g1z_pos_1em05': <cppyy.gbl.TH1D object at 0x88f9400>, 'O_ka_pos_1em05': <cppyy.gbl.TH1D object at 0x88adc50>, 'O_la_pos_1em05': <cppyy.gbl.TH1D object at 0x88fc2d0>}}\n",
      "{'4f_sw_sl_eLpL_signal': {'lumi': <cppyy.gbl.TParameter<float> object at 0x8803b70>, 'e_pol': <cppyy.gbl.TParameter<float> object at 0x87f7530>, 'p_pol': <cppyy.gbl.TParameter<float> object at 0x88199c0>}, '4f_sw_sl_eLpR_signal': {'lumi': <cppyy.gbl.TParameter<float> object at 0x8881a50>, 'e_pol': <cppyy.gbl.TParameter<float> object at 0x88853c0>, 'p_pol': <cppyy.gbl.TParameter<float> object at 0x8875d40>}, '4f_sw_sl_eRpL_signal': {'lumi': <cppyy.gbl.TParameter<float> object at 0x887d7e0>, 'e_pol': <cppyy.gbl.TParameter<float> object at 0x887cc00>, 'p_pol': <cppyy.gbl.TParameter<float> object at 0x880e4c0>}, '4f_sw_sl_eRpR_signal': {'lumi': <cppyy.gbl.TParameter<float> object at 0x88d4c40>, 'e_pol': <cppyy.gbl.TParameter<float> object at 0x8590680>, 'p_pol': <cppyy.gbl.TParameter<float> object at 0x8590700>}}\n",
      "{'4f_sw_sl_eLpL_signal': <cppyy.gbl.TMatrixTSym<double> object at 0x876be40>, '4f_sw_sl_eLpR_signal': <cppyy.gbl.TMatrixTSym<double> object at 0x87979f0>, '4f_sw_sl_eRpL_signal': <cppyy.gbl.TMatrixTSym<double> object at 0x88afce0>, '4f_sw_sl_eRpR_signal': <cppyy.gbl.TMatrixTSym<double> object at 0x88d2d10>}\n",
      "{'O_g1z_pos_1em05': {'4f_sw_sl_eLpL_signal': {'4f_sw_sl_eLpL_signal': <cppyy.gbl.TH1D object at 0x88a11e0>}, '4f_sw_sl_eLpR_signal': {'4f_sw_sl_eLpR_signal': <cppyy.gbl.TH1D object at 0x88c20f0>}, '4f_sw_sl_eRpL_signal': {'4f_sw_sl_eRpL_signal': <cppyy.gbl.TH1D object at 0x88d7e20>}, '4f_sw_sl_eRpR_signal': {'4f_sw_sl_eRpR_signal': <cppyy.gbl.TH1D object at 0x889ff20>}}, 'O_ka_pos_1em05': {'4f_sw_sl_eLpL_signal': {'4f_sw_sl_eLpL_signal': <cppyy.gbl.TH1D object at 0x88486f0>}, '4f_sw_sl_eLpR_signal': {'4f_sw_sl_eLpR_signal': <cppyy.gbl.TH1D object at 0x88a3580>}, '4f_sw_sl_eRpL_signal': {'4f_sw_sl_eRpL_signal': <cppyy.gbl.TH1D object at 0x8901c10>}, '4f_sw_sl_eRpR_signal': {'4f_sw_sl_eRpR_signal': <cppyy.gbl.TH1D object at 0x88d14f0>}}, 'O_la_pos_1em05': {'4f_sw_sl_eLpL_signal': {'4f_sw_sl_eLpL_signal': <cppyy.gbl.TH1D object at 0x88aa4f0>}, '4f_sw_sl_eLpR_signal': {'4f_sw_sl_eLpR_signal': <cppyy.gbl.TH1D object at 0x88ac660>}, '4f_sw_sl_eRpL_signal': {'4f_sw_sl_eRpL_signal': <cppyy.gbl.TH1D object at 0x8921590>}, '4f_sw_sl_eRpR_signal': {'4f_sw_sl_eRpR_signal': <cppyy.gbl.TH1D object at 0x890fdb0>}}}\n"
     ]
    }
   ],
   "source": [
    "signal_histograms = {}\n",
    "signal_meta = {}\n",
    "oo_matrix = {}\n",
    "template_parameters = {}\n",
    "with ROOT.TFile(input_path) as input_file:\n",
    "    # take care of signals first\n",
    "    signal_dir = input_file[signal_cat]\n",
    "    for process_name in signal_processes:\n",
    "        signal_histos = {}\n",
    "        p_dir = signal_dir[process_name]\n",
    "        for obs in obs_names:\n",
    "            # very consistent ownership model of root requires us to do this\n",
    "            histo = p_dir[obs]\n",
    "            histo.SetDirectory(ROOT.nullptr)\n",
    "            signal_histos[obs] = histo\n",
    "            meta_dir = p_dir[\"meta\"]\n",
    "            obs_meta = {}\n",
    "            for key in meta_dir.GetListOfKeys():\n",
    "                key_name = key.GetName()\n",
    "                obs_meta[key_name] = meta_dir[key_name]\n",
    "        signal_histograms[process_name] = signal_histos\n",
    "        signal_meta[process_name] = obs_meta\n",
    "        # get OO matrix\n",
    "        mat_dir = input_file[\"oo_matrix\"]\n",
    "        oo_matrix[process_name] = mat_dir[process_name]\n",
    "    # get template parameters\n",
    "    # unfortunately here we have the loops the other way around\n",
    "    template_dir = input_file[\"template_parametrisations\"]\n",
    "    for obs in obs_names:\n",
    "        obs_dir = template_dir[obs]\n",
    "        p_pars = {}\n",
    "        for process_name in signal_processes:\n",
    "            p_dir = obs_dir[process_name]\n",
    "            pars = {}\n",
    "            for par in parameters.keys():\n",
    "            # very consistent ownership model of root requires us to do\n",
    "                par_hist = p_dir[par]\n",
    "                par_hist.SetDirectory(ROOT.nullptr)\n",
    "                pars[process_name] = par_hist\n",
    "            p_pars[process_name] = pars\n",
    "        template_parameters[obs] = p_pars\n",
    "\n",
    "\n",
    "    # TODO: implement background handling\n",
    "\n",
    "print(signal_histograms)\n",
    "print(signal_meta)\n",
    "print(oo_matrix)\n",
    "print(template_parameters)"
   ]
  },
  {
   "cell_type": "code",
   "execution_count": null,
   "id": "f92e828b",
   "metadata": {},
   "outputs": [],
   "source": [
    "# try to write down the chi2 definition\n",
    "# mean or sum?? just reference the part from Markus here\n",
    "# sum! see (58) in https://inspirehep.net/literature/360476\n",
    "# I will need one per run\n",
    "# Jonas said it will be fine to make it just one big function, the automatic differentiation will take care of it then..."
   ]
  },
  {
   "cell_type": "code",
   "execution_count": null,
   "id": "87019dc9",
   "metadata": {},
   "outputs": [],
   "source": []
  }
 ],
 "metadata": {
  "kernelspec": {
   "display_name": "Python 3",
   "language": "python",
   "name": "python3"
  },
  "language_info": {
   "codemirror_mode": {
    "name": "ipython",
    "version": 3
   },
   "file_extension": ".py",
   "mimetype": "text/x-python",
   "name": "python",
   "nbconvert_exporter": "python",
   "pygments_lexer": "ipython3",
   "version": "3.11.9"
  }
 },
 "nbformat": 4,
 "nbformat_minor": 5
}
