{
 "cells": [
  {
   "cell_type": "code",
   "execution_count": 1,
   "id": "a0f80d8e",
   "metadata": {},
   "outputs": [
    {
     "name": "stdout",
     "output_type": "stream",
     "text": [
      "OBJ: TStyle\tildStyle\tILD Style : 0 at: 0x857dc10\n"
     ]
    }
   ],
   "source": [
    "import ROOT\n",
    "import numpy as np"
   ]
  },
  {
   "cell_type": "code",
   "execution_count": 2,
   "id": "029ce01d",
   "metadata": {},
   "outputs": [],
   "source": [
    "n = 2\n",
    "n_bins = 7\n",
    "n_events_data = 500000\n",
    "n_events_mc = n_events_data * 10\n",
    "val_theta = 0.5\n",
    "delta_theta = 0.0005\n",
    "\n",
    "x = []\n",
    "for i in range(n):\n",
    "    var = ROOT.RooRealVar(f\"x_{i}\", f\"x_{i}\", 0., -3., 3.)\n",
    "    var.setBins(n_bins)\n",
    "    x.append(var)"
   ]
  },
  {
   "cell_type": "code",
   "execution_count": 3,
   "id": "7246ccfc",
   "metadata": {},
   "outputs": [],
   "source": [
    "cov_mat1 = ROOT.TMatrixD(ROOT.TMatrixD.kUnit, ROOT.TMatrixD(n, n))\n",
    "cov_mat1[0][1] = 0.42\n",
    "cov_mat1[1][0] = 0.42\n",
    "gauss1 = ROOT.RooMultiVarGaussian(\"gauss1\", \"gauss1\", ROOT.RooArgList(x), cov_mat1)\n",
    "\n",
    "cov_mat2 = ROOT.TMatrixD(ROOT.TMatrixD.kUnit, ROOT.TMatrixD(n, n))\n",
    "cov_mat2[0][1] = 0.1337\n",
    "cov_mat2[1][0] = 0.1337\n",
    "gauss2 = ROOT.RooMultiVarGaussian(\"gauss2\", \"gauss2\", ROOT.RooArgList(x), cov_mat2)"
   ]
  },
  {
   "cell_type": "code",
   "execution_count": 4,
   "id": "49d6232c",
   "metadata": {},
   "outputs": [],
   "source": [
    "# our mixing angle\n",
    "theta = ROOT.RooRealVar(\"theta\", \"theta\", val_theta, 0., 1.)\n",
    "\n",
    "gen_model = ROOT.RooAddPdf(\"gen_model\", \"gen_model\", gauss1, gauss2, theta)"
   ]
  },
  {
   "cell_type": "code",
   "execution_count": 5,
   "id": "a2a220f9",
   "metadata": {},
   "outputs": [
    {
     "name": "stdout",
     "output_type": "stream",
     "text": [
      "0xae4e470 RooAddPdf::gen_model = 1/1 [Auto,Clean] \n",
      "  0xaefb4e0/V- RooMultiVarGaussian::gauss1 = 1 [Auto,Dirty] \n",
      "    0xa641260/V- RooRealVar::x_0 = 0\n",
      "    0xa931230/V- RooRealVar::x_1 = 0\n",
      "    0xaeeb530/V- RooConstVar::0 = 0\n",
      "  0x8b0fb60/V- RooMultiVarGaussian::gauss2 = 1 [Auto,Dirty] \n",
      "    0xa641260/V- RooRealVar::x_0 = 0\n",
      "    0xa931230/V- RooRealVar::x_1 = 0\n",
      "    0xaeeb530/V- RooConstVar::0 = 0\n",
      "  0xa8dba40/V- RooRealVar::theta = 0.5\n"
     ]
    }
   ],
   "source": [
    "gen_model.Print(\"t\")"
   ]
  },
  {
   "cell_type": "code",
   "execution_count": 6,
   "id": "c120784a",
   "metadata": {},
   "outputs": [
    {
     "name": "stdout",
     "output_type": "stream",
     "text": [
      "DataStore gen_modelData_binned (Generated From gen_model_binned)\n",
      "  Contains 49 entries\n",
      "  Observables: \n",
      "    1)  x_0 = 2.57143  L(-3 - 3) B(7)  \"x_0\"\n",
      "    2)  x_1 = 2.57143  L(-3 - 3) B(7)  \"x_1\"\n",
      "Binned Dataset gen_modelData_binned (Generated From gen_model_binned)\n",
      "  Contains 49 bins with a total weight of 500000\n",
      "  Observables:     1)  x_0 = 2.57143  L(-3 - 3) B(7)  \"x_0\"\n",
      "    2)  x_1 = 2.57143  L(-3 - 3) B(7)  \"x_1\"\n"
     ]
    }
   ],
   "source": [
    "# data = gen_model.generate(x, 1)\n",
    "data_unbinned = gen_model.generate(x, n_events_data)\n",
    "template_unbinned = gen_model.generate(x, n_events_mc)\n",
    "data = data_unbinned.binnedClone()\n",
    "data.Print(\"v\")"
   ]
  },
  {
   "cell_type": "code",
   "execution_count": 7,
   "id": "584217c6",
   "metadata": {},
   "outputs": [],
   "source": [
    "# plot generated data\n",
    "frame0 = x[0].frame()\n",
    "frame1 = x[1].frame()"
   ]
  },
  {
   "cell_type": "code",
   "execution_count": 8,
   "id": "f0a5399b",
   "metadata": {},
   "outputs": [
    {
     "data": {
      "text/plain": [
       "<cppyy.gbl.RooPlot object at 0xb22e110>"
      ]
     },
     "execution_count": 8,
     "metadata": {},
     "output_type": "execute_result"
    },
    {
     "name": "stdout",
     "output_type": "stream",
     "text": [
      "[#1] INFO:Plotting -- RooAbsReal::plotOn(gen_model) plot on x_0 integrates over variables (x_1)\n",
      "[#1] INFO:NumericIntegration -- RooRealIntegral::init(gen_model_Int[x_1]_Norm[x_0,x_1]) using numeric integrator RooIntegrator1D to calculate Int(x_1)\n",
      "[#1] INFO:Plotting -- RooAbsReal::plotOn(gen_model) plot on x_1 integrates over variables (x_0)\n",
      "[#1] INFO:NumericIntegration -- RooRealIntegral::init(gen_model_Int[x_0]_Norm[x_0,x_1]) using numeric integrator RooIntegrator1D to calculate Int(x_0)\n"
     ]
    }
   ],
   "source": [
    "data.plotOn(frame0)\n",
    "gen_model.plotOn(frame0)\n",
    "data.plotOn(frame1)\n",
    "gen_model.plotOn(frame1)"
   ]
  },
  {
   "cell_type": "code",
   "execution_count": 9,
   "id": "e649f67c",
   "metadata": {},
   "outputs": [
    {
     "data": {
      "text/html": [
       "\n",
       "\n",
       "<div id=\"root_plot_1755257925746\" style=\"width: 700px; height: 500px; position: relative\">\n",
       "</div>\n",
       "\n",
       "<script>\n",
       "\n",
       "function display_root_plot_1755257925746(Core) {\n",
       "   let obj = Core.parse({\"_typename\":\"TCanvasWebSnapshot\",\"fUniqueID\":0,\"fBits\":0,\"fObjectID\":\"\",\"fOption\":\"\",\"fKind\":3,\"fSnapshot\":{\"_typename\":\"TCanvas\",\"fUniqueID\":0,\"fBits\":3342344,\"fLineColor\":1,\"fLineStyle\":1,\"fLineWidth\":2,\"fFillColor\":10,\"fFillStyle\":1001,\"fLeftMargin\":0.15,\"fRightMargin\":0.16,\"fBottomMargin\":0.17,\"fTopMargin\":0.08,\"fXfile\":2,\"fYfile\":2,\"fAfile\":1,\"fXstat\":0.99,\"fYstat\":0.99,\"fAstat\":2,\"fFrameFillColor\":10,\"fFrameLineColor\":1,\"fFrameFillStyle\":1001,\"fFrameLineStyle\":1,\"fFrameLineWidth\":2,\"fFrameBorderSize\":1,\"fFrameBorderMode\":0,\"fX1\":-4.30434776974987,\"fY1\":-40622.6129408304,\"fX2\":4.39130420134966,\"fY2\":198333.93125648,\"fXtoAbsPixelk\":344.520003526211,\"fXtoPixelk\":344.520003526211,\"fXtoPixel\":80.0400018668174,\"fYtoAbsPixelk\":391.759999155998,\"fYtoPixelk\":391.759999155998,\"fYtoPixel\":-0.00197525454507017,\"fUtoAbsPixelk\":0,\"fUtoPixelk\":0,\"fUtoPixel\":696,\"fVtoAbsPixelk\":472,\"fVtoPixelk\":472,\"fVtoPixel\":-472,\"fAbsPixeltoXk\":-4.30434776974987,\"fPixeltoXk\":-4.30434776974987,\"fPixeltoX\":0.0124937528320395,\"fAbsPixeltoYk\":198333.93125648,\"fPixeltoYk\":-40622.6129408304,\"fPixeltoY\":-506.263864824811,\"fXlowNDC\":0,\"fYlowNDC\":0,\"fXUpNDC\":1,\"fYUpNDC\":1,\"fWNDC\":1,\"fHNDC\":1,\"fAbsXlowNDC\":0,\"fAbsYlowNDC\":0,\"fAbsWNDC\":1,\"fAbsHNDC\":1,\"fUxmin\":-3,\"fUymin\":0,\"fUxmax\":3,\"fUymax\":179217.408147983,\"fTheta\":30,\"fPhi\":30,\"fAspectRatio\":0,\"fNumber\":0,\"fTickx\":1,\"fTicky\":1,\"fLogx\":0,\"fLogy\":0,\"fLogz\":0,\"fPadPaint\":0,\"fCrosshair\":0,\"fCrosshairPos\":0,\"fBorderSize\":2,\"fBorderMode\":0,\"fModified\":false,\"fGridx\":false,\"fGridy\":false,\"fAbsCoord\":false,\"fEditable\":true,\"fFixedAspectRatio\":false,\"fPrimitives\":{\"_typename\":\"TList\",\"name\":\"TList\",\"arr\":[],\"opt\":[]},\"fExecs\":null,\"fName\":\"c1\",\"fTitle\":\"c1\",\"fNumPaletteColor\":0,\"fNextPaletteColor\":0,\"fDISPLAY\":\"$DISPLAY\",\"fDoubleBuffer\":0,\"fRetained\":true,\"fXsizeUser\":0,\"fYsizeUser\":0,\"fXsizeReal\":20,\"fYsizeReal\":14.28571,\"fWindowTopX\":0,\"fWindowTopY\":0,\"fWindowWidth\":0,\"fWindowHeight\":0,\"fCw\":696,\"fCh\":472,\"fCatt\":{\"_typename\":\"TAttCanvas\",\"fXBetween\":2,\"fYBetween\":2,\"fTitleFromTop\":1.2,\"fXdate\":0.2,\"fYdate\":0.3,\"fAdate\":1},\"kMoveOpaque\":true,\"kResizeOpaque\":true,\"fHighLightColor\":2,\"fBatch\":true,\"kShowEventStatus\":false,\"kAutoExec\":true,\"kMenuBar\":true},\"fActive\":false,\"fReadOnly\":true,\"fWithoutPrimitives\":false,\"fHasExecs\":false,\"fPrimitives\":[{\"_typename\":\"TWebSnapshot\",\"fUniqueID\":0,\"fBits\":0,\"fObjectID\":\"\",\"fOption\":\"\",\"fKind\":4,\"fSnapshot\":{\"_typename\":\"TWebPainting\",\"fUniqueID\":0,\"fBits\":0,\"fClassName\":\"\",\"fObjectName\":\"\",\"fOper\":\"0:255,255,255;1:0,0,0;2:255,0,0;3:0,255,0;4:0,0,255;5:255,255,0;6:255,0,255;7:0,255,255;8:89,211,84;9:89,84,216;10:254,254,254;11:192,182,172;12:76,76,76;13:102,102,102;14:127,127,127;15:153,153,153;16:178,178,178;17:204,204,204;18:229,229,229;19:242,242,242;20:204,198,170;21:204,198,170;22:193,191,168;23:186,181,163;24:178,165,150;25:183,163,155;26:173,153,140;27:155,142,130;28:135,102,86;29:175,206,198;30:132,193,163;31:137,168,160;32:130,158,140;33:173,188,198;34:122,142,153;35:117,137,145;36:104,130,150;37:109,122,132;38:124,153,209;39:127,127,155;40:170,165,191;41:211,206,135;42:221,186,135;43:188,158,130;44:198,153,124;45:191,130,119;46:206,94,96;47:170,142,147;48:165,119,122;49:147,104,112;50:211,89,84;51:146,0,255;52:122,0,255;53:98,0,255;54:74,0,255;55:51,0,255;56:27,0,255;57:3,0,255;58:0,20,255;59:0,44,255;60:0,68,255;61:0,91,255;62:0,115,255;63:0,139,255;64:0,163,255;65:0,187,255;66:0,210,255;67:0,234,255;68:0,255,251;69:0,255,227;70:0,255,204;71:0,255,180;72:0,255,156;73:0,255,132;74:0,255,108;75:0,255,85;76:0,255,61;77:0,255,37;78:0,255,13;79:10,255,0;80:34,255,0;81:57,255,0;82:81,255,0;83:105,255,0;84:129,255,0;85:153,255,0;86:176,255,0;87:200,255,0;88:224,255,0;89:248,255,0;90:255,238,0;91:255,214,0;92:255,190,0;93:255,166,0;94:255,142,0;95:255,119,0;96:255,95,0;97:255,71,0;98:255,47,0;99:255,23,0;100:111,45,168;101:165,42,42;102:178,190,181;103:87,144,252;104:248,156,32;105:228,37,54;106:150,74,139;107:156,156,161;108:122,33,221;109:24,69,251;110:255,94,2;111:201,31,22;112:200,73,169;113:173,173,125;114:134,200,221;115:87,141,255;116:101,99,100;117:63,144,218;118:255,169,14;119:189,31,1;120:148,164,162;121:131,45,182;122:169,107,89;123:231,99,0;124:185,172,112;125:113,117,129;126:146,218,221;127:178,178,178;201:91,91,91;202:122,122,122;203:183,183,183;204:214,214,214;205:137,15,15;206:183,20,20;207:234,71,71;208:239,117,117;209:15,137,15;210:20,183,20;211:71,234,71;212:117,239,117;213:15,15,137;214:20,20,183;215:71,71,234;216:117,117,239;217:137,137,15;218:183,183,20;219:234,234,71;220:239,239,117;221:137,15,137;222:183,20,183;223:234,71,234;224:239,117,239;225:15,137,137;226:20,183,183;227:71,234,234;228:117,239,239;390:255,255,204;391:255,255,153;392:204,204,153;393:255,255,102;394:204,204,102;395:153,153,102;396:255,255,51;397:204,204,51;398:153,153,51;399:102,102,51;400:255,255,0;401:204,204,0;402:153,153,0;403:102,102,0;404:51,51,0;406:204,255,204;407:153,255,153;408:153,204,153;409:102,255,102;410:102,204,102;411:102,153,102;412:51,255,51;413:51,204,51;414:51,153,51;415:51,102,51;416:0,255,0;417:0,204,0;418:0,153,0;419:0,102,0;420:0,51,0;422:204,255,255;423:153,255,255;424:153,204,204;425:102,255,255;426:102,204,204;427:102,153,153;428:51,255,255;429:51,204,204;430:51,153,153;431:51,102,102;432:0,255,255;433:0,204,204;434:0,153,153;435:0,102,102;436:0,51,51;590:204,204,255;591:153,153,255;592:153,153,204;593:102,102,255;594:102,102,204;595:102,102,153;596:51,51,255;597:51,51,204;598:51,51,153;599:51,51,102;600:0,0,255;601:0,0,204;602:0,0,153;603:0,0,102;604:0,0,51;606:255,204,255;607:255,153,255;608:204,153,204;609:255,102,255;610:204,102,204;611:153,102,153;612:255,51,255;613:204,51,204;614:153,51,153;615:102,51,102;616:255,0,255;617:204,0,204;618:153,0,153;619:102,0,102;620:51,0,51;622:255,204,204;623:255,153,153;624:204,153,153;625:255,102,102;626:204,102,102;627:153,102,102;628:255,51,51;629:204,51,51;630:153,51,51;631:102,51,51;632:255,0,0;633:204,0,0;634:153,0,0;635:102,0,0;636:51,0,0;791:255,204,153;792:204,153,102;793:153,102,51;794:153,102,0;795:204,153,51;796:255,204,102;797:255,153,0;798:255,204,51;799:204,153,0;800:255,204,0;801:255,153,51;802:204,102,0;803:102,51,0;804:153,51,0;805:204,102,51;806:255,153,102;807:255,102,0;808:255,102,51;809:204,51,0;810:255,51,0;811:153,255,51;812:102,204,0;813:51,102,0;814:51,153,0;815:102,204,51;816:153,255,102;817:102,255,0;818:102,255,51;819:51,204,0;820:51,255,0;821:204,255,153;822:153,204,102;823:102,153,51;824:102,153,0;825:153,204,51;826:204,255,102;827:153,255,0;828:204,255,51;829:153,204,0;830:204,255,0;831:153,255,204;832:102,204,153;833:51,153,102;834:0,153,102;835:51,204,153;836:102,255,204;837:0,255,102;838:51,255,204;839:0,204,153;840:0,255,204;841:51,255,153;842:0,204,102;843:0,102,51;844:0,153,51;845:51,204,102;846:102,255,153;847:0,255,153;848:51,255,102;849:0,204,51;850:0,255,51;851:153,204,255;852:102,153,204;853:51,102,153;854:0,51,153;855:51,102,204;856:102,153,255;857:0,102,255;858:51,102,255;859:0,51,204;860:0,51,255;861:51,153,255;862:0,102,204;863:0,51,102;864:0,102,153;865:51,153,204;866:102,204,255;867:0,153,255;868:51,204,255;869:0,153,204;870:0,204,255;871:204,153,255;872:153,102,204;873:102,51,153;874:102,0,153;875:153,51,204;876:204,102,255;877:153,0,255;878:204,51,255;879:153,0,204;880:204,0,255;881:153,51,255;882:102,0,204;883:51,0,102;884:51,0,153;885:102,51,204;886:153,102,255;887:102,0,255;888:102,51,255;889:51,0,204;890:51,0,255;891:255,51,153;892:204,0,102;893:102,0,51;894:153,0,51;895:204,51,102;896:255,102,153;897:255,0,102;898:255,51,102;899:204,0,51;900:255,0,51;901:255,153,204;902:204,102,153;903:153,51,102;904:153,0,102;905:204,51,153;906:255,102,204;907:255,0,153;908:204,0,153;909:255,51,204;910:255,0,153;920:204,204,204;921:153,153,153;922:102,102,102;923:51,51,51;924:53,42,134;925:51,44,137;926:50,45,140;927:49,47,143;928:48,48,146;929:46,50,148;930:45,51,151;931:44,53,154;932:43,55,157;933:42,56,160;934:40,58,162;935:39,59,165;936:38,61,168;937:37,63,171;938:35,64,174;939:34,66,176;940:33,67,179;941:32,69,182;942:31,71,185;943:29,72,187;944:28,74,190;945:27,75,193;946:26,77,196;947:24,79,199;948:23,80,201;949:22,82,204;950:21,83,207;951:19,85,210;952:18,86,213;953:17,88,215;954:16,90,218;955:15,91,221;956:15,92,221;957:15,94,220;958:15,95,220;959:15,96,220;960:15,97,220;961:15,98,220;962:16,99,219;963:16,100,219;964:16,102,219;965:16,103,219;966:16,104,218;967:16,105,218;968:17,106,218;969:17,107,218;970:17,109,217;971:17,110,217;972:17,111,217;973:17,112,217;974:17,113,216;975:18,114,216;976:18,115,216;977:18,117,216;978:18,118,215;979:18,119,215;980:18,120,215;981:18,121,215;982:19,122,215;983:19,123,214;984:19,125,214;985:19,126,214;986:19,127,214;987:19,128,213;988:19,129,213;989:19,130,213;990:18,131,212;991:18,132,212;992:17,134,211;993:17,135,211;994:16,136,211;995:16,137,210;996:15,138,210;997:15,139,210;998:15,140,209;999:14,141,209;1000:14,142,208;1001:13,143,208;1002:13,145,208;1003:12,146,207;1004:12,147,207;1005:12,148,207;1006:11,149,206;1007:11,150,206;1008:10,151,205;1009:10,152,205;1010:9,153,205;1011:9,154,204;1012:8,155,204;1013:8,157,204;1014:8,158,203;1015:7,159,203;1016:7,160,202;1017:6,161,202;1018:6,162,202;1019:5,163,201;1020:7,164,200;1021:8,164,199;1022:9,165,198;1023:10,166,197;1024:12,166,195;1025:13,167,194;1026:14,167,193;1027:15,168,192;1028:17,169,191;1029:18,169,189;1030:19,170,188;1031:20,170,187;1032:22,171,186;1033:23,172,185;1034:24,172,184;1035:25,173,182;1036:27,173,181;1037:28,174,180;1038:29,175,179;1039:30,175,178;1040:32,176,176;1041:33,176,175;1042:34,177,174;1043:35,178,173;1044:37,178,172;1045:38,179,170;1046:39,180,169;1047:40,180,168;1048:42,181,167;1049:43,181,166;1050:44,182,165;1051:45,183,163;1052:48,183,162;1053:51,183,161;1054:54,183,159;1055:57,184,158;1056:59,184,156;1057:62,184,155;1058:65,184,154;1059:68,185,152;1060:71,185,151;1061:73,185,149;1062:76,185,148;1063:79,186,146;1064:82,186,145;1065:84,186,144;1066:87,186,142;1067:90,187,141;1068:93,187,139;1069:96,187,138;1070:98,187,137;1071:101,188,135;1072:104,188,134;1073:107,188,132;1074:110,188,131;1075:112,189,130;1076:115,189,128;1077:118,189,127;1078:121,189,125;1079:124,190,124;1080:126,190,123;1081:129,190,121;1082:132,190,120;1083:135,191,118;1084:137,190,117;1085:139,190,117;1086:142,190,116;1087:144,190,115;1088:146,190,114;1089:148,190,113;1090:151,190,112;1091:153,190,111;1092:155,189,110;1093:158,189,109;1094:160,189,108;1095:162,189,107;1096:165,189,106;1097:167,189,105;1098:169,189,104;1099:171,188,104;1100:174,188,103;1101:176,188,102;1102:178,188,101;1103:181,188,100;1104:183,188,99;1105:185,188,98;1106:188,188,97;1107:190,187,96;1108:192,187,95;1109:194,187,94;1110:197,187,93;1111:199,187,92;1112:201,187,92;1113:204,187,91;1114:206,186,90;1115:208,186,89;1116:210,187,88;1117:211,187,86;1118:212,188,85;1119:214,188,84;1120:215,188,83;1121:217,189,81;1122:218,189,80;1123:220,190,79;1124:221,190,78;1125:222,191,77;1126:224,191,75;1127:225,191,74;1128:227,192,73;1129:228,192,72;1130:229,193,70;1131:231,193,69;1132:232,194,68;1133:234,194,67;1134:235,194,66;1135:236,195,64;1136:238,195,63;1137:239,196,62;1138:241,196,61;1139:242,197,59;1140:244,197,58;1141:245,197,57;1142:246,198,56;1143:248,198,55;1144:249,199,53;1145:251,199,52;1146:252,200,51;1147:253,200,50;1148:253,202,49;1149:253,203,47;1150:253,205,46;1151:253,206,45;1152:253,208,44;1153:252,209,43;1154:252,211,42;1155:252,213,41;1156:252,214,39;1157:252,216,38;1158:252,217,37;1159:252,219,36;1160:251,220,35;1161:251,222,34;1162:251,224,33;1163:251,225,31;1164:251,227,30;1165:251,228,29;1166:250,230,28;1167:250,231,27;1168:250,233,26;1169:250,235,25;1170:250,236,23;1171:250,238,22;1172:250,239,21;1173:249,241,20;1174:249,242,19;1175:249,244,18;1176:249,246,17;1177:249,247,16;1178:249,249,14\",\"fBuf\":{\"$arr\":\"Float32\",\"len\":50,\"v\":[51,52,53,54,55,56,57,58,59,60,61,62,63,64,65,66,67,68,69,70,71,72,73,74,75,76,77,78,79,80,81,82,83,84,85,86,87,88,89,90,91,92,93,94,95,96,97,98,99,632]}}},{\"_typename\":\"TWebSnapshot\",\"fUniqueID\":0,\"fBits\":0,\"fObjectID\":\"\",\"fOption\":\"\",\"fKind\":5,\"fSnapshot\":{\"_typename\":\"TStyle\",\"fUniqueID\":0,\"fBits\":0,\"fName\":\"ildStyle\",\"fTitle\":\"ILD Style\",\"fLineColor\":1,\"fLineStyle\":1,\"fLineWidth\":2,\"fFillColor\":10,\"fFillStyle\":1001,\"fMarkerColor\":1,\"fMarkerStyle\":20,\"fMarkerSize\":0.7,\"fTextAngle\":0,\"fTextSize\":0.05,\"fTextAlign\":11,\"fTextColor\":1,\"fTextFont\":42,\"fXaxis\":{\"_typename\":\"TAttAxis\",\"fNdivisions\":506,\"fAxisColor\":1,\"fLabelColor\":1,\"fLabelFont\":42,\"fLabelOffset\":0.015,\"fLabelSize\":0.06,\"fTickLength\":0.03,\"fTitleOffset\":1,\"fTitleSize\":0.07,\"fTitleColor\":1,\"fTitleFont\":42},\"fYaxis\":{\"_typename\":\"TAttAxis\",\"fNdivisions\":506,\"fAxisColor\":1,\"fLabelColor\":1,\"fLabelFont\":42,\"fLabelOffset\":0.015,\"fLabelSize\":0.06,\"fTickLength\":0.03,\"fTitleOffset\":1.1,\"fTitleSize\":0.07,\"fTitleColor\":1,\"fTitleFont\":42},\"fZaxis\":{\"_typename\":\"TAttAxis\",\"fNdivisions\":510,\"fAxisColor\":1,\"fLabelColor\":1,\"fLabelFont\":42,\"fLabelOffset\":0.015,\"fLabelSize\":0.06,\"fTickLength\":0.03,\"fTitleOffset\":1.1,\"fTitleSize\":0.07,\"fTitleColor\":1,\"fTitleFont\":42},\"fBarWidth\":1,\"fBarOffset\":0,\"fColorModelPS\":0,\"fDrawBorder\":0,\"fOptLogx\":0,\"fOptLogy\":0,\"fOptLogz\":0,\"fOptDate\":0,\"fOptStat\":0,\"fOptTitle\":1,\"fOptFile\":0,\"fOptFit\":0,\"fShowEventStatus\":0,\"fShowEditor\":0,\"fShowToolBar\":0,\"fNumberContours\":20,\"fAttDate\":{\"_typename\":\"TAttText\",\"fTextAngle\":0,\"fTextSize\":0.025,\"fTextAlign\":11,\"fTextColor\":1,\"fTextFont\":62},\"fDateX\":0.01,\"fDateY\":0.01,\"fEndErrorSize\":2,\"fErrorX\":0.5,\"fFuncColor\":632,\"fFuncStyle\":1,\"fFuncWidth\":2,\"fGridColor\":0,\"fGridStyle\":3,\"fGridWidth\":1,\"fLegendBorderSize\":0,\"fLegendFillColor\":0,\"fLegendFillStyle\":1001,\"fLegendFont\":62,\"fLegendTextSize\":0,\"fHatchesLineWidth\":1,\"fHatchesSpacing\":1,\"fFrameFillColor\":10,\"fFrameLineColor\":1,\"fFrameFillStyle\":1001,\"fFrameLineStyle\":1,\"fFrameLineWidth\":2,\"fFrameBorderSize\":1,\"fFrameBorderMode\":0,\"fHistFillColor\":0,\"fHistLineColor\":1,\"fHistFillStyle\":1001,\"fHistLineStyle\":1,\"fHistLineWidth\":2,\"fHistMinimumZero\":false,\"fHistTopMargin\":0.05,\"fCanvasPreferGL\":false,\"fCanvasColor\":10,\"fCanvasBorderSize\":2,\"fCanvasBorderMode\":0,\"fCanvasDefH\":500,\"fCanvasDefW\":700,\"fCanvasDefX\":10,\"fCanvasDefY\":10,\"fPadColor\":10,\"fPadBorderSize\":2,\"fPadBorderMode\":0,\"fPadBottomMargin\":0.17,\"fPadTopMargin\":0.08,\"fPadLeftMargin\":0.15,\"fPadRightMargin\":0.16,\"fPadGridX\":false,\"fPadGridY\":false,\"fPadTickX\":1,\"fPadTickY\":1,\"fPaperSizeX\":20,\"fPaperSizeY\":26,\"fScreenFactor\":1,\"fStatColor\":10,\"fStatTextColor\":1,\"fStatBorderSize\":0,\"fStatFont\":42,\"fStatFontSize\":0.07,\"fStatStyle\":1001,\"fStatFormat\":\"6.4g\",\"fStatX\":0.98,\"fStatY\":0.995,\"fStatW\":0.2,\"fStatH\":0.16,\"fStripDecimals\":true,\"fTitleAlign\":13,\"fTitleColor\":0,\"fTitleTextColor\":1,\"fTitleBorderSize\":0,\"fTitleFont\":62,\"fTitleFontSize\":0,\"fTitleStyle\":1001,\"fTitleX\":0.01,\"fTitleY\":0.995,\"fTitleW\":0,\"fTitleH\":0,\"fLegoInnerR\":0.5,\"fLineStyles\":[\"\",\"  \",\" 12 12\",\" 4 8\",\" 12 16 4 16\",\" 20 12 4 12\",\" 20 12 4 12 4 12 4 12\",\" 20 20\",\" 20 12 4 12 4 12\",\" 80 20\",\" 80 40 4 40\",\"  \",\"  \",\"  \",\"  \",\"  \",\"  \",\"  \",\"  \",\"  \",\"  \",\"  \",\"  \",\"  \",\"  \",\"  \",\"  \",\"  \",\"  \",\"  \"],\"fHeaderPS\":\"\",\"fTitlePS\":\"\",\"fFitFormat\":\"5.4g\",\"fPaintTextFormat\":\"g\",\"fLineScalePS\":3,\"fJoinLinePS\":0,\"fCapLinePS\":0,\"fTimeOffset\":788918400,\"fImageScaling\":1,\"fCandleWhiskerRange\":1,\"fCandleBoxRange\":0.5,\"fCandleScaled\":false,\"fViolinScaled\":true,\"fCandleCircleLineWidth\":1,\"fCandleCrossLineWidth\":1,\"fXAxisExpXOffset\":0,\"fXAxisExpYOffset\":0,\"fYAxisExpXOffset\":0,\"fYAxisExpYOffset\":0,\"fAxisMaxDigits\":5,\"fOrthoCamera\":false}},{\"_typename\":\"TWebSnapshot\",\"fUniqueID\":0,\"fBits\":0,\"fObjectID\":\"\",\"fOption\":\"\",\"fKind\":1,\"fSnapshot\":{\"_typename\":\"TFrame\",\"fUniqueID\":0,\"fBits\":8,\"fLineColor\":1,\"fLineStyle\":1,\"fLineWidth\":2,\"fFillColor\":10,\"fFillStyle\":1001,\"fX1\":-3,\"fY1\":0,\"fX2\":3,\"fY2\":179217.408147983,\"fBorderSize\":1,\"fBorderMode\":0}},{\"_typename\":\"TWebSnapshot\",\"fUniqueID\":0,\"fBits\":0,\"fObjectID\":\"\",\"fOption\":\"FUNC\",\"fKind\":1,\"fSnapshot\":{\"_typename\":\"TH1D\",\"fUniqueID\":0,\"fBits\":520,\"fName\":\"frame_x_0_b1d9290\",\"fTitle\":\"A RooPlot of \\\"x_0\\\"\",\"fLineColor\":1,\"fLineStyle\":1,\"fLineWidth\":2,\"fFillColor\":0,\"fFillStyle\":1001,\"fMarkerColor\":1,\"fMarkerStyle\":20,\"fMarkerSize\":0.7,\"fNcells\":9,\"fXaxis\":{\"_typename\":\"TAxis\",\"fUniqueID\":0,\"fBits\":0,\"fName\":\"xaxis\",\"fTitle\":\"x_0\",\"fNdivisions\":506,\"fAxisColor\":1,\"fLabelColor\":1,\"fLabelFont\":42,\"fLabelOffset\":0.015,\"fLabelSize\":0.06,\"fTickLength\":0.03,\"fTitleOffset\":1,\"fTitleSize\":0.07,\"fTitleColor\":1,\"fTitleFont\":42,\"fNbins\":7,\"fXmin\":-3,\"fXmax\":3,\"fXbins\":[],\"fFirst\":0,\"fLast\":0,\"fBits2\":0,\"fTimeDisplay\":false,\"fTimeFormat\":\"\",\"fLabels\":null,\"fModLabs\":null},\"fYaxis\":{\"_typename\":\"TAxis\",\"fUniqueID\":0,\"fBits\":0,\"fName\":\"yaxis\",\"fTitle\":\"Events \\/ ( 0.857143 )\",\"fNdivisions\":506,\"fAxisColor\":1,\"fLabelColor\":1,\"fLabelFont\":42,\"fLabelOffset\":0.015,\"fLabelSize\":0.06,\"fTickLength\":0.03,\"fTitleOffset\":1.1,\"fTitleSize\":0.07,\"fTitleColor\":1,\"fTitleFont\":42,\"fNbins\":1,\"fXmin\":0,\"fXmax\":1,\"fXbins\":[],\"fFirst\":0,\"fLast\":0,\"fBits2\":0,\"fTimeDisplay\":false,\"fTimeFormat\":\"\",\"fLabels\":null,\"fModLabs\":null},\"fZaxis\":{\"_typename\":\"TAxis\",\"fUniqueID\":0,\"fBits\":0,\"fName\":\"zaxis\",\"fTitle\":\"\",\"fNdivisions\":510,\"fAxisColor\":1,\"fLabelColor\":1,\"fLabelFont\":42,\"fLabelOffset\":0.015,\"fLabelSize\":0.06,\"fTickLength\":0.03,\"fTitleOffset\":1.1,\"fTitleSize\":0.07,\"fTitleColor\":1,\"fTitleFont\":42,\"fNbins\":1,\"fXmin\":0,\"fXmax\":1,\"fXbins\":[],\"fFirst\":0,\"fLast\":0,\"fBits2\":0,\"fTimeDisplay\":false,\"fTimeFormat\":\"\",\"fLabels\":null,\"fModLabs\":null},\"fBarOffset\":0,\"fBarWidth\":1000,\"fEntries\":2,\"fTsumw\":0,\"fTsumw2\":0,\"fTsumwx\":0,\"fTsumwx2\":0,\"fMaximum\":179217.408147983,\"fMinimum\":-1111,\"fNormFactor\":0,\"fContour\":[],\"fSumw2\":[],\"fOption\":\"\",\"fFunctions\":{\"_typename\":\"TList\",\"name\":\"TList\",\"arr\":[],\"opt\":[]},\"fBufferSize\":0,\"fBuffer\":[],\"fBinStatErrOpt\":0,\"fStatOverflows\":2,\"fArray\":{\"$arr\":\"Float64\",\"len\":9,\"p\":1,\"v\":179217.408147983}}},{\"_typename\":\"TWebSnapshot\",\"fUniqueID\":0,\"fBits\":0,\"fObjectID\":\"\",\"fOption\":\"p\",\"fKind\":1,\"fSnapshot\":{\"_typename\":\"RooHist\",\"fUniqueID\":0,\"fBits\":1032,\"fName\":\"h_gen_modelData_binned\",\"fTitle\":\"Histogram of gen_modelData_binned_plot__x_0\",\"fLineColor\":1,\"fLineStyle\":1,\"fLineWidth\":2,\"fFillColor\":0,\"fFillStyle\":1000,\"fMarkerColor\":1,\"fMarkerStyle\":8,\"fMarkerSize\":0.7,\"fNpoints\":7,\"fX\":{\"$arr\":\"Float64\",\"len\":7,\"v\":[-2.57142857142857,-1.71428571428571,-0.857142857142857,-2.77555756156289e-16,0.857142857142857,1.71428571428571,2.57142857142857]},\"fY\":{\"$arr\":\"Float64\",\"len\":7,\"v\":[7291,41429,117724,166538,117753,41835,7430]},\"fFunctions\":{\"_typename\":\"TList\",\"name\":\"TList\",\"arr\":[],\"opt\":[]},\"fHistogram\":{\"_typename\":\"TH1F\",\"fUniqueID\":0,\"fBits\":512,\"fName\":\"h_gen_modelData_binned\",\"fTitle\":\"Histogram of gen_modelData_binned_plot__x_0\",\"fLineColor\":1,\"fLineStyle\":1,\"fLineWidth\":2,\"fFillColor\":0,\"fFillStyle\":1001,\"fMarkerColor\":1,\"fMarkerStyle\":20,\"fMarkerSize\":0.7,\"fNcells\":102,\"fXaxis\":{\"_typename\":\"TAxis\",\"fUniqueID\":0,\"fBits\":0,\"fName\":\"xaxis\",\"fTitle\":\"\",\"fNdivisions\":506,\"fAxisColor\":1,\"fLabelColor\":1,\"fLabelFont\":42,\"fLabelOffset\":0.015,\"fLabelSize\":0.06,\"fTickLength\":0.03,\"fTitleOffset\":1,\"fTitleSize\":0.07,\"fTitleColor\":1,\"fTitleFont\":42,\"fNbins\":100,\"fXmin\":-3.6,\"fXmax\":3.6,\"fXbins\":[],\"fFirst\":0,\"fLast\":0,\"fBits2\":0,\"fTimeDisplay\":false,\"fTimeFormat\":\"\",\"fLabels\":null,\"fModLabs\":null},\"fYaxis\":{\"_typename\":\"TAxis\",\"fUniqueID\":0,\"fBits\":0,\"fName\":\"yaxis\",\"fTitle\":\"\",\"fNdivisions\":506,\"fAxisColor\":1,\"fLabelColor\":1,\"fLabelFont\":42,\"fLabelOffset\":0.015,\"fLabelSize\":0.06,\"fTickLength\":0.03,\"fTitleOffset\":1.1,\"fTitleSize\":0.07,\"fTitleColor\":1,\"fTitleFont\":42,\"fNbins\":1,\"fXmin\":6485.50006506184,\"fXmax\":182920.638962413,\"fXbins\":[],\"fFirst\":0,\"fLast\":0,\"fBits2\":0,\"fTimeDisplay\":false,\"fTimeFormat\":\"\",\"fLabels\":null,\"fModLabs\":null},\"fZaxis\":{\"_typename\":\"TAxis\",\"fUniqueID\":0,\"fBits\":0,\"fName\":\"zaxis\",\"fTitle\":\"\",\"fNdivisions\":510,\"fAxisColor\":1,\"fLabelColor\":1,\"fLabelFont\":42,\"fLabelOffset\":0.015,\"fLabelSize\":0.06,\"fTickLength\":0.03,\"fTitleOffset\":1.1,\"fTitleSize\":0.07,\"fTitleColor\":1,\"fTitleFont\":42,\"fNbins\":1,\"fXmin\":0,\"fXmax\":1,\"fXbins\":[],\"fFirst\":0,\"fLast\":0,\"fBits2\":0,\"fTimeDisplay\":false,\"fTimeFormat\":\"\",\"fLabels\":null,\"fModLabs\":null},\"fBarOffset\":0,\"fBarWidth\":1000,\"fEntries\":0,\"fTsumw\":0,\"fTsumw2\":0,\"fTsumwx\":0,\"fTsumwx2\":0,\"fMaximum\":182920.638962413,\"fMinimum\":6485.50006506184,\"fNormFactor\":0,\"fContour\":[],\"fSumw2\":[],\"fOption\":\"\",\"fFunctions\":{\"_typename\":\"TList\",\"name\":\"TList\",\"arr\":[],\"opt\":[]},\"fBufferSize\":0,\"fBuffer\":[],\"fBinStatErrOpt\":0,\"fStatOverflows\":2,\"fArray\":{\"$arr\":\"Float32\",\"len\":102}},\"fMinimum\":-1111,\"fMaximum\":-1111,\"fOption\":\"\",\"fEXlow\":{\"$arr\":\"Float64\",\"len\":7,\"v\":0.428571428571429,\"n\":7},\"fEXhigh\":{\"$arr\":\"Float64\",\"len\":7,\"v\":0.428571428571429,\"n\":7},\"fEYlow\":{\"$arr\":\"Float64\",\"len\":7,\"v\":[84.8888165979597,203.041764756032,342.609676342705,407.590982502676,342.651934279842,204.036671528607,85.6988979047874]},\"fEYhigh\":{\"$arr\":\"Float64\",\"len\":7,\"v\":[85.8888165979597,204.041764756032,343.609676342705,408.590982502676,343.651934279842,205.036671528607,86.6988979047874]},\"_yAxisLabel\":\"Events \\/ ( 0.857143 )\",\"_ymin\":0,\"_ymax\":166946.590982503,\"_normValue\":0,\"_nominalBinWidth\":0.857142857142857,\"_nSigma\":1,\"_entries\":500000,\"_rawEntries\":-1,\"_originalWeights\":{\"$arr\":\"Float64\",\"len\":7,\"v\":[7291,41429,117724,166538,117753,41835,7430]}}},{\"_typename\":\"TWebSnapshot\",\"fUniqueID\":0,\"fBits\":0,\"fObjectID\":\"\",\"fOption\":\"l\",\"fKind\":1,\"fSnapshot\":{\"_typename\":\"RooCurve\",\"fUniqueID\":0,\"fBits\":525320,\"fName\":\"gen_model_Int[x_1]_Norm[x_0,x_1]\",\"fTitle\":\"Projection of gen_model\",\"fLineColor\":600,\"fLineStyle\":1,\"fLineWidth\":3,\"fFillColor\":0,\"fFillStyle\":1000,\"fMarkerColor\":1,\"fMarkerStyle\":20,\"fMarkerSize\":0.7,\"fNpoints\":68,\"fX\":{\"$arr\":\"Float64\",\"len\":68,\"v\":[-3.858,-3.85714285714286,-3,-2.78571428571429,-2.67857142857143,-2.57142857142857,-2.46428571428571,-2.35714285714286,-2.25,-2.14285714285714,-2.03571428571429,-1.92857142857143,-1.82142857142857,-1.71428571428571,-1.60714285714286,-1.5,-1.39285714285714,-1.28571428571429,-1.17857142857143,-1.07142857142857,-0.857142857142857,-0.75,-0.642857142857143,-0.535714285714286,-0.482142857142857,-0.428571428571429,-0.375,-0.321428571428572,-0.267857142857143,-0.214285714285715,-0.160714285714286,-0.107142857142857,-0.0535714285714288,-2.22044604925031e-16,0.0535714285714284,0.107142857142857,0.160714285714286,0.214285714285714,0.267857142857143,0.321428571428571,0.375,0.428571428571428,0.482142857142857,0.535714285714286,0.642857142857143,0.75,0.857142857142857,1.07142857142857,1.17857142857143,1.28571428571429,1.39285714285714,1.5,1.60714285714286,1.71428571428571,1.82142857142857,1.92857142857143,2.03571428571429,2.14285714285714,2.25,2.35714285714286,2.46428571428571,2.57142857142857,2.67857142857143,2.78571428571429,3,3,3.85714285714286,3.858]},\"fY\":{\"$arr\":\"Float64\",\"len\":68,\"p\":1,\"v\":[1868.81427504279,1868.81427504279,3484.24607131271,4675.30323436127,6201.11787112275,8130.06062195416,10536.231790583,13497.677085278,17092.3700183681,21395.5826980383,26474.4957509914,32382.9170467523,39155.3997807108,46801.2342506521,55298.7380196423,64590.3337263609,74578.933078294,85126.1292592286,96052.631441187,118142.592665897,128783.343587848,138776.928192702,147835.927058808,151928.251812673,155685.667118775,159078.075222521,162077.856269323,164660.242066018,166803.656176131,168490.013824953,169704.975788698,170438.151285517,170683.245855222,170438.151285517,169704.975788698,168490.013824953,166803.656176131,164660.242066018,162077.856269323,159078.075222521,155685.667118775,151928.251812673,147835.927058808,138776.928192702,128783.343587848,118142.592665897,96052.631441187,85126.1292592286,74578.933078294,64590.3337263609,55298.7380196423,46801.2342506521,39155.3997807109,32382.9170467524,26474.4957509914,21395.5826980383,17092.3700183681,13497.677085278,10536.231790583,8130.06062195416,6201.11787112275,4675.30323436127,3484.24607131271,1868.81427987339,1868.81427987339,1868.81427987339]},\"fFunctions\":{\"_typename\":\"TList\",\"name\":\"TList\",\"arr\":[],\"opt\":[]},\"fHistogram\":{\"_typename\":\"TH1F\",\"fUniqueID\":0,\"fBits\":512,\"fName\":\"gen_model_Int[x_1]_Norm[x_0,x_1]\",\"fTitle\":\"Projection of gen_model\",\"fLineColor\":1,\"fLineStyle\":1,\"fLineWidth\":2,\"fFillColor\":0,\"fFillStyle\":1001,\"fMarkerColor\":1,\"fMarkerStyle\":20,\"fMarkerSize\":0.7,\"fNcells\":102,\"fXaxis\":{\"_typename\":\"TAxis\",\"fUniqueID\":0,\"fBits\":0,\"fName\":\"xaxis\",\"fTitle\":\"\",\"fNdivisions\":506,\"fAxisColor\":1,\"fLabelColor\":1,\"fLabelFont\":42,\"fLabelOffset\":0.015,\"fLabelSize\":0.06,\"fTickLength\":0.03,\"fTitleOffset\":1,\"fTitleSize\":0.07,\"fTitleColor\":1,\"fTitleFont\":42,\"fNbins\":100,\"fXmin\":-4.6296,\"fXmax\":4.6296,\"fXbins\":[],\"fFirst\":0,\"fLast\":0,\"fBits2\":0,\"fTimeDisplay\":false,\"fTimeFormat\":\"\",\"fLabels\":null,\"fModLabs\":null},\"fYaxis\":{\"_typename\":\"TAxis\",\"fUniqueID\":0,\"fBits\":0,\"fName\":\"yaxis\",\"fTitle\":\"\",\"fNdivisions\":506,\"fAxisColor\":1,\"fLabelColor\":1,\"fLabelFont\":42,\"fLabelOffset\":0.015,\"fLabelSize\":0.06,\"fTickLength\":0.03,\"fTitleOffset\":1.1,\"fTitleSize\":0.07,\"fTitleColor\":1,\"fTitleFont\":42,\"fNbins\":1,\"fXmin\":0,\"fXmax\":187751.570440744,\"fXbins\":[],\"fFirst\":0,\"fLast\":0,\"fBits2\":0,\"fTimeDisplay\":false,\"fTimeFormat\":\"\",\"fLabels\":null,\"fModLabs\":null},\"fZaxis\":{\"_typename\":\"TAxis\",\"fUniqueID\":0,\"fBits\":0,\"fName\":\"zaxis\",\"fTitle\":\"\",\"fNdivisions\":510,\"fAxisColor\":1,\"fLabelColor\":1,\"fLabelFont\":42,\"fLabelOffset\":0.015,\"fLabelSize\":0.06,\"fTickLength\":0.03,\"fTitleOffset\":1.1,\"fTitleSize\":0.07,\"fTitleColor\":1,\"fTitleFont\":42,\"fNbins\":1,\"fXmin\":0,\"fXmax\":1,\"fXbins\":[],\"fFirst\":0,\"fLast\":0,\"fBits2\":0,\"fTimeDisplay\":false,\"fTimeFormat\":\"\",\"fLabels\":null,\"fModLabs\":null},\"fBarOffset\":0,\"fBarWidth\":1000,\"fEntries\":0,\"fTsumw\":0,\"fTsumw2\":0,\"fTsumwx\":0,\"fTsumwx2\":0,\"fMaximum\":187751.570440744,\"fMinimum\":0,\"fNormFactor\":0,\"fContour\":[],\"fSumw2\":[],\"fOption\":\"\",\"fFunctions\":{\"_typename\":\"TList\",\"name\":\"TList\",\"arr\":[],\"opt\":[]},\"fBufferSize\":0,\"fBuffer\":[],\"fBinStatErrOpt\":0,\"fStatOverflows\":2,\"fArray\":{\"$arr\":\"Float32\",\"len\":102}},\"fMinimum\":-1111,\"fMaximum\":-1111,\"fOption\":\"\",\"_yAxisLabel\":\"Projection of gen_model\",\"_ymin\":0,\"_ymax\":170683.245855222,\"_normValue\":0}},{\"_typename\":\"TWebSnapshot\",\"fUniqueID\":0,\"fBits\":0,\"fObjectID\":\"\",\"fOption\":\"AXISSAME\",\"fKind\":1,\"fSnapshot\":{\"$ref\":15}},{\"_typename\":\"TWebSnapshot\",\"fUniqueID\":0,\"fBits\":0,\"fObjectID\":\"\",\"fOption\":\"blNDC\",\"fKind\":1,\"fSnapshot\":{\"_typename\":\"TPaveText\",\"fUniqueID\":0,\"fBits\":9,\"fLineColor\":1,\"fLineStyle\":1,\"fLineWidth\":2,\"fFillColor\":0,\"fFillStyle\":1001,\"fX1\":-4.2173912519825,\"fY1\":184381.300281342,\"fX2\":-1.79460270279339,\"fY2\":197139.149674927,\"fX1NDC\":0.00999999977648258,\"fY1NDC\":0.941610174259897,\"fX2NDC\":0.288620689431655,\"fY2NDC\":0.995000004768372,\"fBorderSize\":0,\"fInit\":1,\"fShadowColor\":1,\"fCornerRadius\":0,\"fOption\":\"blNDC\",\"fName\":\"title\",\"fTextAngle\":0,\"fTextSize\":0,\"fTextAlign\":22,\"fTextColor\":1,\"fTextFont\":62,\"fLabel\":\"\",\"fLongest\":18,\"fMargin\":0.05,\"fLines\":{\"_typename\":\"TList\",\"name\":\"TList\",\"arr\":[{\"_typename\":\"TLatex\",\"fUniqueID\":0,\"fBits\":0,\"fName\":\"\",\"fTitle\":\"A RooPlot of \\\"x_0\\\"\",\"fTextAngle\":0,\"fTextSize\":0,\"fTextAlign\":0,\"fTextColor\":0,\"fTextFont\":0,\"fX\":0,\"fY\":0,\"fLineColor\":1,\"fLineStyle\":1,\"fLineWidth\":2,\"fLimitFactorSize\":3,\"fOriginSize\":0.0453813560307026}],\"opt\":[null]}}}],\"fScripts\":\"\",\"fHighlightConnect\":false,\"fFixedSize\":false});\n",
       "   Core.settings.HandleKeys = false;\n",
       "   Core.draw(\"root_plot_1755257925746\", obj, \"\");\n",
       "}\n",
       "\n",
       "function script_load_root_plot_1755257925746(src, on_error) {\n",
       "    let script = document.createElement('script');\n",
       "    script.src = src;\n",
       "    script.onload = function() { display_root_plot_1755257925746(JSROOT); };\n",
       "    script.onerror = function() { script.remove(); on_error(); };\n",
       "    document.head.appendChild(script);\n",
       "}\n",
       "\n",
       "if (typeof requirejs !== 'undefined') {\n",
       "\n",
       "    // We are in jupyter notebooks, use require.js which should be configured already\n",
       "    requirejs.config({\n",
       "       paths: { 'JSRootCore' : [ 'build/jsroot', 'https://root.cern/js/7.9.0/build/jsroot', 'https://jsroot.gsi.de/7.9.0/build/jsroot' ] }\n",
       "    })(['JSRootCore'],  function(Core) {\n",
       "       display_root_plot_1755257925746(Core);\n",
       "    });\n",
       "\n",
       "} else if (typeof JSROOT !== 'undefined') {\n",
       "\n",
       "   // JSROOT already loaded, just use it\n",
       "   display_root_plot_1755257925746(JSROOT);\n",
       "\n",
       "} else {\n",
       "\n",
       "    // We are in jupyterlab without require.js, directly loading jsroot\n",
       "    // Jupyterlab might be installed in a different base_url so we need to know it.\n",
       "    try {\n",
       "        var base_url = JSON.parse(document.getElementById('jupyter-config-data').innerHTML).baseUrl;\n",
       "    } catch(_) {\n",
       "        var base_url = '/';\n",
       "    }\n",
       "\n",
       "    // Try loading a local version of requirejs and fallback to cdn if not possible.\n",
       "    script_load_root_plot_1755257925746(base_url + 'static/build/jsroot.js', function(){\n",
       "        console.error('Fail to load JSROOT locally, please check your jupyter_notebook_config.py file');\n",
       "        script_load_root_plot_1755257925746('https://root.cern/js/7.9.0/build/jsroot.js', function(){\n",
       "            document.getElementById(\"root_plot_1755257925746\").innerHTML = \"Failed to load JSROOT\";\n",
       "        });\n",
       "    });\n",
       "}\n",
       "\n",
       "</script>\n"
      ],
      "text/plain": [
       "<IPython.core.display.HTML object>"
      ]
     },
     "metadata": {},
     "output_type": "display_data"
    },
    {
     "data": {
      "text/html": [
       "\n",
       "\n",
       "<div id=\"root_plot_1755257925754\" style=\"width: 700px; height: 500px; position: relative\">\n",
       "</div>\n",
       "\n",
       "<script>\n",
       "\n",
       "function display_root_plot_1755257925754(Core) {\n",
       "   let obj = Core.parse({\"_typename\":\"TCanvasWebSnapshot\",\"fUniqueID\":0,\"fBits\":0,\"fObjectID\":\"\",\"fOption\":\"\",\"fKind\":3,\"fSnapshot\":{\"_typename\":\"TCanvas\",\"fUniqueID\":0,\"fBits\":3342344,\"fLineColor\":1,\"fLineStyle\":1,\"fLineWidth\":2,\"fFillColor\":10,\"fFillStyle\":1001,\"fLeftMargin\":0.15,\"fRightMargin\":0.16,\"fBottomMargin\":0.17,\"fTopMargin\":0.08,\"fXfile\":2,\"fYfile\":2,\"fAfile\":1,\"fXstat\":0.99,\"fYstat\":0.99,\"fAstat\":2,\"fFrameFillColor\":10,\"fFrameLineColor\":1,\"fFrameFillStyle\":1001,\"fFrameLineStyle\":1,\"fFrameLineWidth\":2,\"fFrameBorderSize\":1,\"fFrameBorderMode\":0,\"fX1\":-4.30434776974987,\"fY1\":-40622.6129408304,\"fX2\":4.39130420134966,\"fY2\":198333.93125648,\"fXtoAbsPixelk\":344.520003526211,\"fXtoPixelk\":344.520003526211,\"fXtoPixel\":80.0400018668174,\"fYtoAbsPixelk\":391.759999155998,\"fYtoPixelk\":391.759999155998,\"fYtoPixel\":-0.00197525454507017,\"fUtoAbsPixelk\":0,\"fUtoPixelk\":0,\"fUtoPixel\":696,\"fVtoAbsPixelk\":472,\"fVtoPixelk\":472,\"fVtoPixel\":-472,\"fAbsPixeltoXk\":-4.30434776974987,\"fPixeltoXk\":-4.30434776974987,\"fPixeltoX\":0.0124937528320395,\"fAbsPixeltoYk\":198333.93125648,\"fPixeltoYk\":-40622.6129408304,\"fPixeltoY\":-506.263864824811,\"fXlowNDC\":0,\"fYlowNDC\":0,\"fXUpNDC\":1,\"fYUpNDC\":1,\"fWNDC\":1,\"fHNDC\":1,\"fAbsXlowNDC\":0,\"fAbsYlowNDC\":0,\"fAbsWNDC\":1,\"fAbsHNDC\":1,\"fUxmin\":-3,\"fUymin\":0,\"fUxmax\":3,\"fUymax\":179217.408147983,\"fTheta\":30,\"fPhi\":30,\"fAspectRatio\":0,\"fNumber\":0,\"fTickx\":1,\"fTicky\":1,\"fLogx\":0,\"fLogy\":0,\"fLogz\":0,\"fPadPaint\":0,\"fCrosshair\":0,\"fCrosshairPos\":0,\"fBorderSize\":2,\"fBorderMode\":0,\"fModified\":false,\"fGridx\":false,\"fGridy\":false,\"fAbsCoord\":false,\"fEditable\":true,\"fFixedAspectRatio\":false,\"fPrimitives\":{\"_typename\":\"TList\",\"name\":\"TList\",\"arr\":[],\"opt\":[]},\"fExecs\":null,\"fName\":\"c1_n2\",\"fTitle\":\"c1_n2\",\"fNumPaletteColor\":0,\"fNextPaletteColor\":0,\"fDISPLAY\":\"$DISPLAY\",\"fDoubleBuffer\":0,\"fRetained\":true,\"fXsizeUser\":0,\"fYsizeUser\":0,\"fXsizeReal\":20,\"fYsizeReal\":14.28571,\"fWindowTopX\":0,\"fWindowTopY\":0,\"fWindowWidth\":0,\"fWindowHeight\":0,\"fCw\":696,\"fCh\":472,\"fCatt\":{\"_typename\":\"TAttCanvas\",\"fXBetween\":2,\"fYBetween\":2,\"fTitleFromTop\":1.2,\"fXdate\":0.2,\"fYdate\":0.3,\"fAdate\":1},\"kMoveOpaque\":true,\"kResizeOpaque\":true,\"fHighLightColor\":2,\"fBatch\":true,\"kShowEventStatus\":false,\"kAutoExec\":true,\"kMenuBar\":true},\"fActive\":false,\"fReadOnly\":true,\"fWithoutPrimitives\":false,\"fHasExecs\":false,\"fPrimitives\":[{\"_typename\":\"TWebSnapshot\",\"fUniqueID\":0,\"fBits\":0,\"fObjectID\":\"\",\"fOption\":\"\",\"fKind\":4,\"fSnapshot\":{\"_typename\":\"TWebPainting\",\"fUniqueID\":0,\"fBits\":0,\"fClassName\":\"\",\"fObjectName\":\"\",\"fOper\":\"0:255,255,255;1:0,0,0;2:255,0,0;3:0,255,0;4:0,0,255;5:255,255,0;6:255,0,255;7:0,255,255;8:89,211,84;9:89,84,216;10:254,254,254;11:192,182,172;12:76,76,76;13:102,102,102;14:127,127,127;15:153,153,153;16:178,178,178;17:204,204,204;18:229,229,229;19:242,242,242;20:204,198,170;21:204,198,170;22:193,191,168;23:186,181,163;24:178,165,150;25:183,163,155;26:173,153,140;27:155,142,130;28:135,102,86;29:175,206,198;30:132,193,163;31:137,168,160;32:130,158,140;33:173,188,198;34:122,142,153;35:117,137,145;36:104,130,150;37:109,122,132;38:124,153,209;39:127,127,155;40:170,165,191;41:211,206,135;42:221,186,135;43:188,158,130;44:198,153,124;45:191,130,119;46:206,94,96;47:170,142,147;48:165,119,122;49:147,104,112;50:211,89,84;51:146,0,255;52:122,0,255;53:98,0,255;54:74,0,255;55:51,0,255;56:27,0,255;57:3,0,255;58:0,20,255;59:0,44,255;60:0,68,255;61:0,91,255;62:0,115,255;63:0,139,255;64:0,163,255;65:0,187,255;66:0,210,255;67:0,234,255;68:0,255,251;69:0,255,227;70:0,255,204;71:0,255,180;72:0,255,156;73:0,255,132;74:0,255,108;75:0,255,85;76:0,255,61;77:0,255,37;78:0,255,13;79:10,255,0;80:34,255,0;81:57,255,0;82:81,255,0;83:105,255,0;84:129,255,0;85:153,255,0;86:176,255,0;87:200,255,0;88:224,255,0;89:248,255,0;90:255,238,0;91:255,214,0;92:255,190,0;93:255,166,0;94:255,142,0;95:255,119,0;96:255,95,0;97:255,71,0;98:255,47,0;99:255,23,0;100:111,45,168;101:165,42,42;102:178,190,181;103:87,144,252;104:248,156,32;105:228,37,54;106:150,74,139;107:156,156,161;108:122,33,221;109:24,69,251;110:255,94,2;111:201,31,22;112:200,73,169;113:173,173,125;114:134,200,221;115:87,141,255;116:101,99,100;117:63,144,218;118:255,169,14;119:189,31,1;120:148,164,162;121:131,45,182;122:169,107,89;123:231,99,0;124:185,172,112;125:113,117,129;126:146,218,221;127:178,178,178;201:91,91,91;202:122,122,122;203:183,183,183;204:214,214,214;205:137,15,15;206:183,20,20;207:234,71,71;208:239,117,117;209:15,137,15;210:20,183,20;211:71,234,71;212:117,239,117;213:15,15,137;214:20,20,183;215:71,71,234;216:117,117,239;217:137,137,15;218:183,183,20;219:234,234,71;220:239,239,117;221:137,15,137;222:183,20,183;223:234,71,234;224:239,117,239;225:15,137,137;226:20,183,183;227:71,234,234;228:117,239,239;390:255,255,204;391:255,255,153;392:204,204,153;393:255,255,102;394:204,204,102;395:153,153,102;396:255,255,51;397:204,204,51;398:153,153,51;399:102,102,51;400:255,255,0;401:204,204,0;402:153,153,0;403:102,102,0;404:51,51,0;406:204,255,204;407:153,255,153;408:153,204,153;409:102,255,102;410:102,204,102;411:102,153,102;412:51,255,51;413:51,204,51;414:51,153,51;415:51,102,51;416:0,255,0;417:0,204,0;418:0,153,0;419:0,102,0;420:0,51,0;422:204,255,255;423:153,255,255;424:153,204,204;425:102,255,255;426:102,204,204;427:102,153,153;428:51,255,255;429:51,204,204;430:51,153,153;431:51,102,102;432:0,255,255;433:0,204,204;434:0,153,153;435:0,102,102;436:0,51,51;590:204,204,255;591:153,153,255;592:153,153,204;593:102,102,255;594:102,102,204;595:102,102,153;596:51,51,255;597:51,51,204;598:51,51,153;599:51,51,102;600:0,0,255;601:0,0,204;602:0,0,153;603:0,0,102;604:0,0,51;606:255,204,255;607:255,153,255;608:204,153,204;609:255,102,255;610:204,102,204;611:153,102,153;612:255,51,255;613:204,51,204;614:153,51,153;615:102,51,102;616:255,0,255;617:204,0,204;618:153,0,153;619:102,0,102;620:51,0,51;622:255,204,204;623:255,153,153;624:204,153,153;625:255,102,102;626:204,102,102;627:153,102,102;628:255,51,51;629:204,51,51;630:153,51,51;631:102,51,51;632:255,0,0;633:204,0,0;634:153,0,0;635:102,0,0;636:51,0,0;791:255,204,153;792:204,153,102;793:153,102,51;794:153,102,0;795:204,153,51;796:255,204,102;797:255,153,0;798:255,204,51;799:204,153,0;800:255,204,0;801:255,153,51;802:204,102,0;803:102,51,0;804:153,51,0;805:204,102,51;806:255,153,102;807:255,102,0;808:255,102,51;809:204,51,0;810:255,51,0;811:153,255,51;812:102,204,0;813:51,102,0;814:51,153,0;815:102,204,51;816:153,255,102;817:102,255,0;818:102,255,51;819:51,204,0;820:51,255,0;821:204,255,153;822:153,204,102;823:102,153,51;824:102,153,0;825:153,204,51;826:204,255,102;827:153,255,0;828:204,255,51;829:153,204,0;830:204,255,0;831:153,255,204;832:102,204,153;833:51,153,102;834:0,153,102;835:51,204,153;836:102,255,204;837:0,255,102;838:51,255,204;839:0,204,153;840:0,255,204;841:51,255,153;842:0,204,102;843:0,102,51;844:0,153,51;845:51,204,102;846:102,255,153;847:0,255,153;848:51,255,102;849:0,204,51;850:0,255,51;851:153,204,255;852:102,153,204;853:51,102,153;854:0,51,153;855:51,102,204;856:102,153,255;857:0,102,255;858:51,102,255;859:0,51,204;860:0,51,255;861:51,153,255;862:0,102,204;863:0,51,102;864:0,102,153;865:51,153,204;866:102,204,255;867:0,153,255;868:51,204,255;869:0,153,204;870:0,204,255;871:204,153,255;872:153,102,204;873:102,51,153;874:102,0,153;875:153,51,204;876:204,102,255;877:153,0,255;878:204,51,255;879:153,0,204;880:204,0,255;881:153,51,255;882:102,0,204;883:51,0,102;884:51,0,153;885:102,51,204;886:153,102,255;887:102,0,255;888:102,51,255;889:51,0,204;890:51,0,255;891:255,51,153;892:204,0,102;893:102,0,51;894:153,0,51;895:204,51,102;896:255,102,153;897:255,0,102;898:255,51,102;899:204,0,51;900:255,0,51;901:255,153,204;902:204,102,153;903:153,51,102;904:153,0,102;905:204,51,153;906:255,102,204;907:255,0,153;908:204,0,153;909:255,51,204;910:255,0,153;920:204,204,204;921:153,153,153;922:102,102,102;923:51,51,51;924:53,42,134;925:51,44,137;926:50,45,140;927:49,47,143;928:48,48,146;929:46,50,148;930:45,51,151;931:44,53,154;932:43,55,157;933:42,56,160;934:40,58,162;935:39,59,165;936:38,61,168;937:37,63,171;938:35,64,174;939:34,66,176;940:33,67,179;941:32,69,182;942:31,71,185;943:29,72,187;944:28,74,190;945:27,75,193;946:26,77,196;947:24,79,199;948:23,80,201;949:22,82,204;950:21,83,207;951:19,85,210;952:18,86,213;953:17,88,215;954:16,90,218;955:15,91,221;956:15,92,221;957:15,94,220;958:15,95,220;959:15,96,220;960:15,97,220;961:15,98,220;962:16,99,219;963:16,100,219;964:16,102,219;965:16,103,219;966:16,104,218;967:16,105,218;968:17,106,218;969:17,107,218;970:17,109,217;971:17,110,217;972:17,111,217;973:17,112,217;974:17,113,216;975:18,114,216;976:18,115,216;977:18,117,216;978:18,118,215;979:18,119,215;980:18,120,215;981:18,121,215;982:19,122,215;983:19,123,214;984:19,125,214;985:19,126,214;986:19,127,214;987:19,128,213;988:19,129,213;989:19,130,213;990:18,131,212;991:18,132,212;992:17,134,211;993:17,135,211;994:16,136,211;995:16,137,210;996:15,138,210;997:15,139,210;998:15,140,209;999:14,141,209;1000:14,142,208;1001:13,143,208;1002:13,145,208;1003:12,146,207;1004:12,147,207;1005:12,148,207;1006:11,149,206;1007:11,150,206;1008:10,151,205;1009:10,152,205;1010:9,153,205;1011:9,154,204;1012:8,155,204;1013:8,157,204;1014:8,158,203;1015:7,159,203;1016:7,160,202;1017:6,161,202;1018:6,162,202;1019:5,163,201;1020:7,164,200;1021:8,164,199;1022:9,165,198;1023:10,166,197;1024:12,166,195;1025:13,167,194;1026:14,167,193;1027:15,168,192;1028:17,169,191;1029:18,169,189;1030:19,170,188;1031:20,170,187;1032:22,171,186;1033:23,172,185;1034:24,172,184;1035:25,173,182;1036:27,173,181;1037:28,174,180;1038:29,175,179;1039:30,175,178;1040:32,176,176;1041:33,176,175;1042:34,177,174;1043:35,178,173;1044:37,178,172;1045:38,179,170;1046:39,180,169;1047:40,180,168;1048:42,181,167;1049:43,181,166;1050:44,182,165;1051:45,183,163;1052:48,183,162;1053:51,183,161;1054:54,183,159;1055:57,184,158;1056:59,184,156;1057:62,184,155;1058:65,184,154;1059:68,185,152;1060:71,185,151;1061:73,185,149;1062:76,185,148;1063:79,186,146;1064:82,186,145;1065:84,186,144;1066:87,186,142;1067:90,187,141;1068:93,187,139;1069:96,187,138;1070:98,187,137;1071:101,188,135;1072:104,188,134;1073:107,188,132;1074:110,188,131;1075:112,189,130;1076:115,189,128;1077:118,189,127;1078:121,189,125;1079:124,190,124;1080:126,190,123;1081:129,190,121;1082:132,190,120;1083:135,191,118;1084:137,190,117;1085:139,190,117;1086:142,190,116;1087:144,190,115;1088:146,190,114;1089:148,190,113;1090:151,190,112;1091:153,190,111;1092:155,189,110;1093:158,189,109;1094:160,189,108;1095:162,189,107;1096:165,189,106;1097:167,189,105;1098:169,189,104;1099:171,188,104;1100:174,188,103;1101:176,188,102;1102:178,188,101;1103:181,188,100;1104:183,188,99;1105:185,188,98;1106:188,188,97;1107:190,187,96;1108:192,187,95;1109:194,187,94;1110:197,187,93;1111:199,187,92;1112:201,187,92;1113:204,187,91;1114:206,186,90;1115:208,186,89;1116:210,187,88;1117:211,187,86;1118:212,188,85;1119:214,188,84;1120:215,188,83;1121:217,189,81;1122:218,189,80;1123:220,190,79;1124:221,190,78;1125:222,191,77;1126:224,191,75;1127:225,191,74;1128:227,192,73;1129:228,192,72;1130:229,193,70;1131:231,193,69;1132:232,194,68;1133:234,194,67;1134:235,194,66;1135:236,195,64;1136:238,195,63;1137:239,196,62;1138:241,196,61;1139:242,197,59;1140:244,197,58;1141:245,197,57;1142:246,198,56;1143:248,198,55;1144:249,199,53;1145:251,199,52;1146:252,200,51;1147:253,200,50;1148:253,202,49;1149:253,203,47;1150:253,205,46;1151:253,206,45;1152:253,208,44;1153:252,209,43;1154:252,211,42;1155:252,213,41;1156:252,214,39;1157:252,216,38;1158:252,217,37;1159:252,219,36;1160:251,220,35;1161:251,222,34;1162:251,224,33;1163:251,225,31;1164:251,227,30;1165:251,228,29;1166:250,230,28;1167:250,231,27;1168:250,233,26;1169:250,235,25;1170:250,236,23;1171:250,238,22;1172:250,239,21;1173:249,241,20;1174:249,242,19;1175:249,244,18;1176:249,246,17;1177:249,247,16;1178:249,249,14\",\"fBuf\":{\"$arr\":\"Float32\",\"len\":50,\"v\":[51,52,53,54,55,56,57,58,59,60,61,62,63,64,65,66,67,68,69,70,71,72,73,74,75,76,77,78,79,80,81,82,83,84,85,86,87,88,89,90,91,92,93,94,95,96,97,98,99,632]}}},{\"_typename\":\"TWebSnapshot\",\"fUniqueID\":0,\"fBits\":0,\"fObjectID\":\"\",\"fOption\":\"\",\"fKind\":5,\"fSnapshot\":{\"_typename\":\"TStyle\",\"fUniqueID\":0,\"fBits\":0,\"fName\":\"ildStyle\",\"fTitle\":\"ILD Style\",\"fLineColor\":1,\"fLineStyle\":1,\"fLineWidth\":2,\"fFillColor\":10,\"fFillStyle\":1001,\"fMarkerColor\":1,\"fMarkerStyle\":20,\"fMarkerSize\":0.7,\"fTextAngle\":0,\"fTextSize\":0.05,\"fTextAlign\":11,\"fTextColor\":1,\"fTextFont\":42,\"fXaxis\":{\"_typename\":\"TAttAxis\",\"fNdivisions\":506,\"fAxisColor\":1,\"fLabelColor\":1,\"fLabelFont\":42,\"fLabelOffset\":0.015,\"fLabelSize\":0.06,\"fTickLength\":0.03,\"fTitleOffset\":1,\"fTitleSize\":0.07,\"fTitleColor\":1,\"fTitleFont\":42},\"fYaxis\":{\"_typename\":\"TAttAxis\",\"fNdivisions\":506,\"fAxisColor\":1,\"fLabelColor\":1,\"fLabelFont\":42,\"fLabelOffset\":0.015,\"fLabelSize\":0.06,\"fTickLength\":0.03,\"fTitleOffset\":1.1,\"fTitleSize\":0.07,\"fTitleColor\":1,\"fTitleFont\":42},\"fZaxis\":{\"_typename\":\"TAttAxis\",\"fNdivisions\":510,\"fAxisColor\":1,\"fLabelColor\":1,\"fLabelFont\":42,\"fLabelOffset\":0.015,\"fLabelSize\":0.06,\"fTickLength\":0.03,\"fTitleOffset\":1.1,\"fTitleSize\":0.07,\"fTitleColor\":1,\"fTitleFont\":42},\"fBarWidth\":1,\"fBarOffset\":0,\"fColorModelPS\":0,\"fDrawBorder\":0,\"fOptLogx\":0,\"fOptLogy\":0,\"fOptLogz\":0,\"fOptDate\":0,\"fOptStat\":0,\"fOptTitle\":1,\"fOptFile\":0,\"fOptFit\":0,\"fShowEventStatus\":0,\"fShowEditor\":0,\"fShowToolBar\":0,\"fNumberContours\":20,\"fAttDate\":{\"_typename\":\"TAttText\",\"fTextAngle\":0,\"fTextSize\":0.025,\"fTextAlign\":11,\"fTextColor\":1,\"fTextFont\":62},\"fDateX\":0.01,\"fDateY\":0.01,\"fEndErrorSize\":2,\"fErrorX\":0.5,\"fFuncColor\":632,\"fFuncStyle\":1,\"fFuncWidth\":2,\"fGridColor\":0,\"fGridStyle\":3,\"fGridWidth\":1,\"fLegendBorderSize\":0,\"fLegendFillColor\":0,\"fLegendFillStyle\":1001,\"fLegendFont\":62,\"fLegendTextSize\":0,\"fHatchesLineWidth\":1,\"fHatchesSpacing\":1,\"fFrameFillColor\":10,\"fFrameLineColor\":1,\"fFrameFillStyle\":1001,\"fFrameLineStyle\":1,\"fFrameLineWidth\":2,\"fFrameBorderSize\":1,\"fFrameBorderMode\":0,\"fHistFillColor\":0,\"fHistLineColor\":1,\"fHistFillStyle\":1001,\"fHistLineStyle\":1,\"fHistLineWidth\":2,\"fHistMinimumZero\":false,\"fHistTopMargin\":0.05,\"fCanvasPreferGL\":false,\"fCanvasColor\":10,\"fCanvasBorderSize\":2,\"fCanvasBorderMode\":0,\"fCanvasDefH\":500,\"fCanvasDefW\":700,\"fCanvasDefX\":10,\"fCanvasDefY\":10,\"fPadColor\":10,\"fPadBorderSize\":2,\"fPadBorderMode\":0,\"fPadBottomMargin\":0.17,\"fPadTopMargin\":0.08,\"fPadLeftMargin\":0.15,\"fPadRightMargin\":0.16,\"fPadGridX\":false,\"fPadGridY\":false,\"fPadTickX\":1,\"fPadTickY\":1,\"fPaperSizeX\":20,\"fPaperSizeY\":26,\"fScreenFactor\":1,\"fStatColor\":10,\"fStatTextColor\":1,\"fStatBorderSize\":0,\"fStatFont\":42,\"fStatFontSize\":0.07,\"fStatStyle\":1001,\"fStatFormat\":\"6.4g\",\"fStatX\":0.98,\"fStatY\":0.995,\"fStatW\":0.2,\"fStatH\":0.16,\"fStripDecimals\":true,\"fTitleAlign\":13,\"fTitleColor\":0,\"fTitleTextColor\":1,\"fTitleBorderSize\":0,\"fTitleFont\":62,\"fTitleFontSize\":0,\"fTitleStyle\":1001,\"fTitleX\":0.01,\"fTitleY\":0.995,\"fTitleW\":0,\"fTitleH\":0,\"fLegoInnerR\":0.5,\"fLineStyles\":[\"\",\"  \",\" 12 12\",\" 4 8\",\" 12 16 4 16\",\" 20 12 4 12\",\" 20 12 4 12 4 12 4 12\",\" 20 20\",\" 20 12 4 12 4 12\",\" 80 20\",\" 80 40 4 40\",\"  \",\"  \",\"  \",\"  \",\"  \",\"  \",\"  \",\"  \",\"  \",\"  \",\"  \",\"  \",\"  \",\"  \",\"  \",\"  \",\"  \",\"  \",\"  \"],\"fHeaderPS\":\"\",\"fTitlePS\":\"\",\"fFitFormat\":\"5.4g\",\"fPaintTextFormat\":\"g\",\"fLineScalePS\":3,\"fJoinLinePS\":0,\"fCapLinePS\":0,\"fTimeOffset\":788918400,\"fImageScaling\":1,\"fCandleWhiskerRange\":1,\"fCandleBoxRange\":0.5,\"fCandleScaled\":false,\"fViolinScaled\":true,\"fCandleCircleLineWidth\":1,\"fCandleCrossLineWidth\":1,\"fXAxisExpXOffset\":0,\"fXAxisExpYOffset\":0,\"fYAxisExpXOffset\":0,\"fYAxisExpYOffset\":0,\"fAxisMaxDigits\":5,\"fOrthoCamera\":false}},{\"_typename\":\"TWebSnapshot\",\"fUniqueID\":0,\"fBits\":0,\"fObjectID\":\"\",\"fOption\":\"\",\"fKind\":1,\"fSnapshot\":{\"_typename\":\"TFrame\",\"fUniqueID\":0,\"fBits\":8,\"fLineColor\":1,\"fLineStyle\":1,\"fLineWidth\":2,\"fFillColor\":10,\"fFillStyle\":1001,\"fX1\":-3,\"fY1\":0,\"fX2\":3,\"fY2\":179217.408147983,\"fBorderSize\":1,\"fBorderMode\":0}},{\"_typename\":\"TWebSnapshot\",\"fUniqueID\":0,\"fBits\":0,\"fObjectID\":\"\",\"fOption\":\"FUNC\",\"fKind\":1,\"fSnapshot\":{\"_typename\":\"TH1D\",\"fUniqueID\":0,\"fBits\":520,\"fName\":\"frame_x_1_b22e110\",\"fTitle\":\"A RooPlot of \\\"x_1\\\"\",\"fLineColor\":1,\"fLineStyle\":1,\"fLineWidth\":2,\"fFillColor\":0,\"fFillStyle\":1001,\"fMarkerColor\":1,\"fMarkerStyle\":20,\"fMarkerSize\":0.7,\"fNcells\":9,\"fXaxis\":{\"_typename\":\"TAxis\",\"fUniqueID\":0,\"fBits\":0,\"fName\":\"xaxis\",\"fTitle\":\"x_1\",\"fNdivisions\":506,\"fAxisColor\":1,\"fLabelColor\":1,\"fLabelFont\":42,\"fLabelOffset\":0.015,\"fLabelSize\":0.06,\"fTickLength\":0.03,\"fTitleOffset\":1,\"fTitleSize\":0.07,\"fTitleColor\":1,\"fTitleFont\":42,\"fNbins\":7,\"fXmin\":-3,\"fXmax\":3,\"fXbins\":[],\"fFirst\":0,\"fLast\":0,\"fBits2\":0,\"fTimeDisplay\":false,\"fTimeFormat\":\"\",\"fLabels\":null,\"fModLabs\":null},\"fYaxis\":{\"_typename\":\"TAxis\",\"fUniqueID\":0,\"fBits\":0,\"fName\":\"yaxis\",\"fTitle\":\"Events \\/ ( 0.857143 )\",\"fNdivisions\":506,\"fAxisColor\":1,\"fLabelColor\":1,\"fLabelFont\":42,\"fLabelOffset\":0.015,\"fLabelSize\":0.06,\"fTickLength\":0.03,\"fTitleOffset\":1.1,\"fTitleSize\":0.07,\"fTitleColor\":1,\"fTitleFont\":42,\"fNbins\":1,\"fXmin\":0,\"fXmax\":1,\"fXbins\":[],\"fFirst\":0,\"fLast\":0,\"fBits2\":0,\"fTimeDisplay\":false,\"fTimeFormat\":\"\",\"fLabels\":null,\"fModLabs\":null},\"fZaxis\":{\"_typename\":\"TAxis\",\"fUniqueID\":0,\"fBits\":0,\"fName\":\"zaxis\",\"fTitle\":\"\",\"fNdivisions\":510,\"fAxisColor\":1,\"fLabelColor\":1,\"fLabelFont\":42,\"fLabelOffset\":0.015,\"fLabelSize\":0.06,\"fTickLength\":0.03,\"fTitleOffset\":1.1,\"fTitleSize\":0.07,\"fTitleColor\":1,\"fTitleFont\":42,\"fNbins\":1,\"fXmin\":0,\"fXmax\":1,\"fXbins\":[],\"fFirst\":0,\"fLast\":0,\"fBits2\":0,\"fTimeDisplay\":false,\"fTimeFormat\":\"\",\"fLabels\":null,\"fModLabs\":null},\"fBarOffset\":0,\"fBarWidth\":1000,\"fEntries\":2,\"fTsumw\":0,\"fTsumw2\":0,\"fTsumwx\":0,\"fTsumwx2\":0,\"fMaximum\":179217.408147983,\"fMinimum\":-1111,\"fNormFactor\":0,\"fContour\":[],\"fSumw2\":[],\"fOption\":\"\",\"fFunctions\":{\"_typename\":\"TList\",\"name\":\"TList\",\"arr\":[],\"opt\":[]},\"fBufferSize\":0,\"fBuffer\":[],\"fBinStatErrOpt\":0,\"fStatOverflows\":2,\"fArray\":{\"$arr\":\"Float64\",\"len\":9,\"p\":1,\"v\":179217.408147983}}},{\"_typename\":\"TWebSnapshot\",\"fUniqueID\":0,\"fBits\":0,\"fObjectID\":\"\",\"fOption\":\"p\",\"fKind\":1,\"fSnapshot\":{\"_typename\":\"RooHist\",\"fUniqueID\":0,\"fBits\":1032,\"fName\":\"h_gen_modelData_binned\",\"fTitle\":\"Histogram of gen_modelData_binned_plot__x_1\",\"fLineColor\":1,\"fLineStyle\":1,\"fLineWidth\":2,\"fFillColor\":0,\"fFillStyle\":1000,\"fMarkerColor\":1,\"fMarkerStyle\":8,\"fMarkerSize\":0.7,\"fNpoints\":7,\"fX\":{\"$arr\":\"Float64\",\"len\":7,\"v\":[-2.57142857142857,-1.71428571428571,-0.857142857142857,-2.77555756156289e-16,0.857142857142857,1.71428571428571,2.57142857142857]},\"fY\":{\"$arr\":\"Float64\",\"len\":7,\"v\":[7300,41587,118024,166013,118232,41447,7397]},\"fFunctions\":{\"_typename\":\"TList\",\"name\":\"TList\",\"arr\":[],\"opt\":[]},\"fHistogram\":{\"_typename\":\"TH1F\",\"fUniqueID\":0,\"fBits\":512,\"fName\":\"h_gen_modelData_binned\",\"fTitle\":\"Histogram of gen_modelData_binned_plot__x_1\",\"fLineColor\":1,\"fLineStyle\":1,\"fLineWidth\":2,\"fFillColor\":0,\"fFillStyle\":1001,\"fMarkerColor\":1,\"fMarkerStyle\":20,\"fMarkerSize\":0.7,\"fNcells\":102,\"fXaxis\":{\"_typename\":\"TAxis\",\"fUniqueID\":0,\"fBits\":0,\"fName\":\"xaxis\",\"fTitle\":\"\",\"fNdivisions\":506,\"fAxisColor\":1,\"fLabelColor\":1,\"fLabelFont\":42,\"fLabelOffset\":0.015,\"fLabelSize\":0.06,\"fTickLength\":0.03,\"fTitleOffset\":1,\"fTitleSize\":0.07,\"fTitleColor\":1,\"fTitleFont\":42,\"fNbins\":100,\"fXmin\":-3.6,\"fXmax\":3.6,\"fXbins\":[],\"fFirst\":0,\"fLast\":0,\"fBits2\":0,\"fTimeDisplay\":false,\"fTimeFormat\":\"\",\"fLabels\":null,\"fModLabs\":null},\"fYaxis\":{\"_typename\":\"TAxis\",\"fUniqueID\":0,\"fBits\":0,\"fName\":\"yaxis\",\"fTitle\":\"\",\"fNdivisions\":506,\"fAxisColor\":1,\"fLabelColor\":1,\"fLabelFont\":42,\"fLabelOffset\":0.015,\"fLabelSize\":0.06,\"fTickLength\":0.03,\"fTitleOffset\":1.1,\"fTitleSize\":0.07,\"fTitleColor\":1,\"fTitleFont\":42,\"fNbins\":1,\"fXmin\":6493.55264959051,\"fXmax\":182341.536109478,\"fXbins\":[],\"fFirst\":0,\"fLast\":0,\"fBits2\":0,\"fTimeDisplay\":false,\"fTimeFormat\":\"\",\"fLabels\":null,\"fModLabs\":null},\"fZaxis\":{\"_typename\":\"TAxis\",\"fUniqueID\":0,\"fBits\":0,\"fName\":\"zaxis\",\"fTitle\":\"\",\"fNdivisions\":510,\"fAxisColor\":1,\"fLabelColor\":1,\"fLabelFont\":42,\"fLabelOffset\":0.015,\"fLabelSize\":0.06,\"fTickLength\":0.03,\"fTitleOffset\":1.1,\"fTitleSize\":0.07,\"fTitleColor\":1,\"fTitleFont\":42,\"fNbins\":1,\"fXmin\":0,\"fXmax\":1,\"fXbins\":[],\"fFirst\":0,\"fLast\":0,\"fBits2\":0,\"fTimeDisplay\":false,\"fTimeFormat\":\"\",\"fLabels\":null,\"fModLabs\":null},\"fBarOffset\":0,\"fBarWidth\":1000,\"fEntries\":0,\"fTsumw\":0,\"fTsumw2\":0,\"fTsumwx\":0,\"fTsumwx2\":0,\"fMaximum\":182341.536109478,\"fMinimum\":6493.55264959051,\"fNormFactor\":0,\"fContour\":[],\"fSumw2\":[],\"fOption\":\"\",\"fFunctions\":{\"_typename\":\"TList\",\"name\":\"TList\",\"arr\":[],\"opt\":[]},\"fBufferSize\":0,\"fBuffer\":[],\"fBinStatErrOpt\":0,\"fStatOverflows\":2,\"fArray\":{\"$arr\":\"Float32\",\"len\":102}},\"fMinimum\":-1111,\"fMaximum\":-1111,\"fOption\":\"\",\"fEXlow\":{\"$arr\":\"Float64\",\"len\":7,\"v\":0.428571428571429,\"n\":7},\"fEXhigh\":{\"$arr\":\"Float64\",\"len\":7,\"v\":0.428571428571429,\"n\":7},\"fEYlow\":{\"$arr\":\"Float64\",\"len\":7,\"v\":[84.9415004549901,203.429522139391,343.046576172725,406.947235847794,343.349167513894,203.085976923758,85.507267134818]},\"fEYhigh\":{\"$arr\":\"Float64\",\"len\":7,\"v\":[85.9415004549901,204.429522139391,344.046576172725,407.947235847794,344.349167513894,204.085976923758,86.507267134818]},\"_yAxisLabel\":\"Events \\/ ( 0.857143 )\",\"_ymin\":0,\"_ymax\":166420.947235848,\"_normValue\":0,\"_nominalBinWidth\":0.857142857142857,\"_nSigma\":1,\"_entries\":500000,\"_rawEntries\":-1,\"_originalWeights\":{\"$arr\":\"Float64\",\"len\":7,\"v\":[7300,41587,118024,166013,118232,41447,7397]}}},{\"_typename\":\"TWebSnapshot\",\"fUniqueID\":0,\"fBits\":0,\"fObjectID\":\"\",\"fOption\":\"l\",\"fKind\":1,\"fSnapshot\":{\"_typename\":\"RooCurve\",\"fUniqueID\":0,\"fBits\":525320,\"fName\":\"gen_model_Int[x_0]_Norm[x_0,x_1]\",\"fTitle\":\"Projection of gen_model\",\"fLineColor\":600,\"fLineStyle\":1,\"fLineWidth\":3,\"fFillColor\":0,\"fFillStyle\":1000,\"fMarkerColor\":1,\"fMarkerStyle\":20,\"fMarkerSize\":0.7,\"fNpoints\":68,\"fX\":{\"$arr\":\"Float64\",\"len\":68,\"v\":[-3.858,-3.85714285714286,-3,-2.78571428571429,-2.67857142857143,-2.57142857142857,-2.46428571428571,-2.35714285714286,-2.25,-2.14285714285714,-2.03571428571429,-1.92857142857143,-1.82142857142857,-1.71428571428571,-1.60714285714286,-1.5,-1.39285714285714,-1.28571428571429,-1.17857142857143,-1.07142857142857,-0.857142857142857,-0.75,-0.642857142857143,-0.535714285714286,-0.482142857142857,-0.428571428571429,-0.375,-0.321428571428572,-0.267857142857143,-0.214285714285715,-0.160714285714286,-0.107142857142857,-0.0535714285714288,-2.22044604925031e-16,0.0535714285714284,0.107142857142857,0.160714285714286,0.214285714285714,0.267857142857143,0.321428571428571,0.375,0.428571428571428,0.482142857142857,0.535714285714286,0.642857142857143,0.75,0.857142857142857,1.07142857142857,1.17857142857143,1.28571428571429,1.39285714285714,1.5,1.60714285714286,1.71428571428571,1.82142857142857,1.92857142857143,2.03571428571429,2.14285714285714,2.25,2.35714285714286,2.46428571428571,2.57142857142857,2.67857142857143,2.78571428571429,3,3,3.85714285714286,3.858]},\"fY\":{\"$arr\":\"Float64\",\"len\":68,\"p\":1,\"v\":[1868.81427504279,1868.81427504279,3484.24607131271,4675.30323436127,6201.11787112275,8130.06062195416,10536.231790583,13497.677085278,17092.3700183681,21395.5826980383,26474.4957509914,32382.9170467523,39155.3997807108,46801.2342506521,55298.7380196423,64590.3337263609,74578.933078294,85126.1292592286,96052.631441187,118142.592665897,128783.343587848,138776.928192702,147835.927058808,151928.251812673,155685.667118775,159078.075222521,162077.856269323,164660.242066018,166803.656176131,168490.013824953,169704.975788698,170438.151285517,170683.245855222,170438.151285517,169704.975788698,168490.013824953,166803.656176131,164660.242066018,162077.856269323,159078.075222521,155685.667118775,151928.251812673,147835.927058808,138776.928192702,128783.343587848,118142.592665897,96052.631441187,85126.1292592286,74578.933078294,64590.3337263609,55298.7380196423,46801.2342506521,39155.3997807109,32382.9170467524,26474.4957509914,21395.5826980383,17092.3700183681,13497.677085278,10536.231790583,8130.06062195416,6201.11787112275,4675.30323436127,3484.24607131271,1868.81427987339,1868.81427987339,1868.81427987339]},\"fFunctions\":{\"_typename\":\"TList\",\"name\":\"TList\",\"arr\":[],\"opt\":[]},\"fHistogram\":{\"_typename\":\"TH1F\",\"fUniqueID\":0,\"fBits\":512,\"fName\":\"gen_model_Int[x_0]_Norm[x_0,x_1]\",\"fTitle\":\"Projection of gen_model\",\"fLineColor\":1,\"fLineStyle\":1,\"fLineWidth\":2,\"fFillColor\":0,\"fFillStyle\":1001,\"fMarkerColor\":1,\"fMarkerStyle\":20,\"fMarkerSize\":0.7,\"fNcells\":102,\"fXaxis\":{\"_typename\":\"TAxis\",\"fUniqueID\":0,\"fBits\":0,\"fName\":\"xaxis\",\"fTitle\":\"\",\"fNdivisions\":506,\"fAxisColor\":1,\"fLabelColor\":1,\"fLabelFont\":42,\"fLabelOffset\":0.015,\"fLabelSize\":0.06,\"fTickLength\":0.03,\"fTitleOffset\":1,\"fTitleSize\":0.07,\"fTitleColor\":1,\"fTitleFont\":42,\"fNbins\":100,\"fXmin\":-4.6296,\"fXmax\":4.6296,\"fXbins\":[],\"fFirst\":0,\"fLast\":0,\"fBits2\":0,\"fTimeDisplay\":false,\"fTimeFormat\":\"\",\"fLabels\":null,\"fModLabs\":null},\"fYaxis\":{\"_typename\":\"TAxis\",\"fUniqueID\":0,\"fBits\":0,\"fName\":\"yaxis\",\"fTitle\":\"\",\"fNdivisions\":506,\"fAxisColor\":1,\"fLabelColor\":1,\"fLabelFont\":42,\"fLabelOffset\":0.015,\"fLabelSize\":0.06,\"fTickLength\":0.03,\"fTitleOffset\":1.1,\"fTitleSize\":0.07,\"fTitleColor\":1,\"fTitleFont\":42,\"fNbins\":1,\"fXmin\":0,\"fXmax\":187751.570440744,\"fXbins\":[],\"fFirst\":0,\"fLast\":0,\"fBits2\":0,\"fTimeDisplay\":false,\"fTimeFormat\":\"\",\"fLabels\":null,\"fModLabs\":null},\"fZaxis\":{\"_typename\":\"TAxis\",\"fUniqueID\":0,\"fBits\":0,\"fName\":\"zaxis\",\"fTitle\":\"\",\"fNdivisions\":510,\"fAxisColor\":1,\"fLabelColor\":1,\"fLabelFont\":42,\"fLabelOffset\":0.015,\"fLabelSize\":0.06,\"fTickLength\":0.03,\"fTitleOffset\":1.1,\"fTitleSize\":0.07,\"fTitleColor\":1,\"fTitleFont\":42,\"fNbins\":1,\"fXmin\":0,\"fXmax\":1,\"fXbins\":[],\"fFirst\":0,\"fLast\":0,\"fBits2\":0,\"fTimeDisplay\":false,\"fTimeFormat\":\"\",\"fLabels\":null,\"fModLabs\":null},\"fBarOffset\":0,\"fBarWidth\":1000,\"fEntries\":0,\"fTsumw\":0,\"fTsumw2\":0,\"fTsumwx\":0,\"fTsumwx2\":0,\"fMaximum\":187751.570440744,\"fMinimum\":0,\"fNormFactor\":0,\"fContour\":[],\"fSumw2\":[],\"fOption\":\"\",\"fFunctions\":{\"_typename\":\"TList\",\"name\":\"TList\",\"arr\":[],\"opt\":[]},\"fBufferSize\":0,\"fBuffer\":[],\"fBinStatErrOpt\":0,\"fStatOverflows\":2,\"fArray\":{\"$arr\":\"Float32\",\"len\":102}},\"fMinimum\":-1111,\"fMaximum\":-1111,\"fOption\":\"\",\"_yAxisLabel\":\"Projection of gen_model\",\"_ymin\":0,\"_ymax\":170683.245855222,\"_normValue\":0}},{\"_typename\":\"TWebSnapshot\",\"fUniqueID\":0,\"fBits\":0,\"fObjectID\":\"\",\"fOption\":\"AXISSAME\",\"fKind\":1,\"fSnapshot\":{\"$ref\":15}},{\"_typename\":\"TWebSnapshot\",\"fUniqueID\":0,\"fBits\":0,\"fObjectID\":\"\",\"fOption\":\"blNDC\",\"fKind\":1,\"fSnapshot\":{\"_typename\":\"TPaveText\",\"fUniqueID\":0,\"fBits\":9,\"fLineColor\":1,\"fLineStyle\":1,\"fLineWidth\":2,\"fFillColor\":0,\"fFillStyle\":1001,\"fX1\":-4.2173912519825,\"fY1\":184381.300281342,\"fX2\":-1.79460270279339,\"fY2\":197139.149674927,\"fX1NDC\":0.00999999977648258,\"fY1NDC\":0.941610174259897,\"fX2NDC\":0.288620689431655,\"fY2NDC\":0.995000004768372,\"fBorderSize\":0,\"fInit\":1,\"fShadowColor\":1,\"fCornerRadius\":0,\"fOption\":\"blNDC\",\"fName\":\"title\",\"fTextAngle\":0,\"fTextSize\":0,\"fTextAlign\":22,\"fTextColor\":1,\"fTextFont\":62,\"fLabel\":\"\",\"fLongest\":18,\"fMargin\":0.05,\"fLines\":{\"_typename\":\"TList\",\"name\":\"TList\",\"arr\":[{\"_typename\":\"TLatex\",\"fUniqueID\":0,\"fBits\":0,\"fName\":\"\",\"fTitle\":\"A RooPlot of \\\"x_1\\\"\",\"fTextAngle\":0,\"fTextSize\":0,\"fTextAlign\":0,\"fTextColor\":0,\"fTextFont\":0,\"fX\":0,\"fY\":0,\"fLineColor\":1,\"fLineStyle\":1,\"fLineWidth\":2,\"fLimitFactorSize\":3,\"fOriginSize\":0.0453813560307026}],\"opt\":[null]}}}],\"fScripts\":\"\",\"fHighlightConnect\":false,\"fFixedSize\":false});\n",
       "   Core.settings.HandleKeys = false;\n",
       "   Core.draw(\"root_plot_1755257925754\", obj, \"\");\n",
       "}\n",
       "\n",
       "function script_load_root_plot_1755257925754(src, on_error) {\n",
       "    let script = document.createElement('script');\n",
       "    script.src = src;\n",
       "    script.onload = function() { display_root_plot_1755257925754(JSROOT); };\n",
       "    script.onerror = function() { script.remove(); on_error(); };\n",
       "    document.head.appendChild(script);\n",
       "}\n",
       "\n",
       "if (typeof requirejs !== 'undefined') {\n",
       "\n",
       "    // We are in jupyter notebooks, use require.js which should be configured already\n",
       "    requirejs.config({\n",
       "       paths: { 'JSRootCore' : [ 'build/jsroot', 'https://root.cern/js/7.9.0/build/jsroot', 'https://jsroot.gsi.de/7.9.0/build/jsroot' ] }\n",
       "    })(['JSRootCore'],  function(Core) {\n",
       "       display_root_plot_1755257925754(Core);\n",
       "    });\n",
       "\n",
       "} else if (typeof JSROOT !== 'undefined') {\n",
       "\n",
       "   // JSROOT already loaded, just use it\n",
       "   display_root_plot_1755257925754(JSROOT);\n",
       "\n",
       "} else {\n",
       "\n",
       "    // We are in jupyterlab without require.js, directly loading jsroot\n",
       "    // Jupyterlab might be installed in a different base_url so we need to know it.\n",
       "    try {\n",
       "        var base_url = JSON.parse(document.getElementById('jupyter-config-data').innerHTML).baseUrl;\n",
       "    } catch(_) {\n",
       "        var base_url = '/';\n",
       "    }\n",
       "\n",
       "    // Try loading a local version of requirejs and fallback to cdn if not possible.\n",
       "    script_load_root_plot_1755257925754(base_url + 'static/build/jsroot.js', function(){\n",
       "        console.error('Fail to load JSROOT locally, please check your jupyter_notebook_config.py file');\n",
       "        script_load_root_plot_1755257925754('https://root.cern/js/7.9.0/build/jsroot.js', function(){\n",
       "            document.getElementById(\"root_plot_1755257925754\").innerHTML = \"Failed to load JSROOT\";\n",
       "        });\n",
       "    });\n",
       "}\n",
       "\n",
       "</script>\n"
      ],
      "text/plain": [
       "<IPython.core.display.HTML object>"
      ]
     },
     "metadata": {},
     "output_type": "display_data"
    }
   ],
   "source": [
    "c0 = ROOT.TCanvas()\n",
    "frame0.Draw()\n",
    "c0.Draw()\n",
    "\n",
    "c1 = ROOT.TCanvas()\n",
    "frame1.Draw()\n",
    "c1.Draw()"
   ]
  },
  {
   "cell_type": "code",
   "execution_count": 10,
   "id": "f3573a1b",
   "metadata": {},
   "outputs": [],
   "source": [
    "# nll = gen_model.createNLL(data)"
   ]
  },
  {
   "cell_type": "code",
   "execution_count": 11,
   "id": "632a60d0",
   "metadata": {},
   "outputs": [],
   "source": [
    "# nll_minimizer = ROOT.RooMinimizer(nll)"
   ]
  },
  {
   "cell_type": "code",
   "execution_count": 12,
   "id": "6d60cd4e",
   "metadata": {},
   "outputs": [],
   "source": [
    "# obviously cannot fit theta as the relevant information is lost in the projection\n",
    "# and there is no element to recover it added to the fit\n",
    "# I could space the gaussians a bit but then it becomes very trivial?\n",
    "# nll_minimizer.migrad()"
   ]
  },
  {
   "cell_type": "code",
   "execution_count": 13,
   "id": "de477679",
   "metadata": {},
   "outputs": [],
   "source": [
    "# frame_theta = theta.frame()\n",
    "# nll.plotOn(frame_theta, ShiftToZero=True)\n",
    "# c_theta = ROOT.TCanvas()\n",
    "# frame_theta.Draw()\n",
    "# c_theta.Draw()"
   ]
  },
  {
   "cell_type": "code",
   "execution_count": 14,
   "id": "a42e3a0a",
   "metadata": {},
   "outputs": [],
   "source": [
    "# naive fit model 1\n",
    "# make 1d histos from template\n",
    "gauss1_tmpl = gauss1.generateBinned(x, n_events_mc)\n",
    "gauss2_tmpl = gauss2.generateBinned(x, n_events_mc)\n",
    "\n",
    "gauss1_tmpl_0 = gauss1_tmpl.reduce(x[0])\n",
    "gauss1_tmpl_1 = gauss1_tmpl.reduce(x[1])\n",
    "gauss2_tmpl_0 = gauss2_tmpl.reduce(x[0])\n",
    "gauss2_tmpl_1 = gauss2_tmpl.reduce(x[1])"
   ]
  },
  {
   "cell_type": "code",
   "execution_count": 15,
   "id": "76d4dd7e",
   "metadata": {},
   "outputs": [],
   "source": [
    "gauss1_tmpl_0_hf = ROOT.RooHistFunc(\"gauss1_tmpl_0_hf\", \"gauss1_tmpl_0_hf\", x[0], gauss1_tmpl_0)\n",
    "gauss1_tmpl_1_hf = ROOT.RooHistFunc(\"gauss1_tmpl_1_hf\", \"gauss1_tmpl_1_hf\", x[1], gauss1_tmpl_1)\n",
    "gauss2_tmpl_0_hf = ROOT.RooHistFunc(\"gauss2_tmpl_0_hf\", \"gauss2_tmpl_0_hf\", x[0], gauss2_tmpl_0)\n",
    "gauss2_tmpl_1_hf = ROOT.RooHistFunc(\"gauss2_tmpl_1_hf\", \"gauss2_tmpl_1_hf\", x[1], gauss2_tmpl_1)"
   ]
  },
  {
   "cell_type": "code",
   "execution_count": 16,
   "id": "602c4bbe",
   "metadata": {},
   "outputs": [],
   "source": [
    "fit_theta = ROOT.RooRealVar(\"fit_theta\", \"fit_theta\", val_theta, 0., 1.)\n",
    "\n",
    "sum_tmpl_0 = ROOT.RooRealSumPdf(\"sum_tmpl_0\", \"sum_tmpl_0\", gauss1_tmpl_0_hf, gauss2_tmpl_0_hf, fit_theta)\n",
    "sum_tmpl_1 = ROOT.RooRealSumPdf(\"sum_tmpl_1\", \"sum_tmpl_1\", gauss1_tmpl_1_hf, gauss2_tmpl_1_hf, fit_theta)"
   ]
  },
  {
   "cell_type": "code",
   "execution_count": 17,
   "id": "5c6b7247",
   "metadata": {},
   "outputs": [
    {
     "name": "stdout",
     "output_type": "stream",
     "text": [
      "0xc2bbe70 RooProdPdf::fit_model = 2.93864e+12 [Auto,Dirty] \n",
      "RooProdPdf begin partial integral cache\n",
      "[0]0x6a102b0 RooRealSumPdf::sum_tmpl_0 = 1.71368e+06 [Auto,Dirty] \n",
      "[0]  0xc14a620/V- RooHistFunc::gauss1_tmpl_0_hf = 1.71464e+06 [Auto,Clean] \n",
      "[0]    0xa641260/V- RooRealVar::x_0 = 0\n",
      "[0]  0xc1f1ae0/V- RooHistFunc::gauss2_tmpl_0_hf = 1.71274e+06 [Auto,Clean] \n",
      "[0]    0xa641260/V- RooRealVar::x_0 = 0\n",
      "[0]  0xc140fc0/V- RooRealVar::fit_theta = 0.5\n",
      "[0]0xc1e9440 RooRealSumPdf::sum_tmpl_1 = 1.71481e+06 [Auto,Dirty] \n",
      "[0]  0xc10f1a0/V- RooHistFunc::gauss1_tmpl_1_hf = 1.71549e+06 [Auto,Clean] \n",
      "[0]    0xa931230/V- RooRealVar::x_1 = 0\n",
      "[0]  0xc13f990/V- RooHistFunc::gauss2_tmpl_1_hf = 1.71412e+06 [Auto,Clean] \n",
      "[0]    0xa931230/V- RooRealVar::x_1 = 0\n",
      "[0]  0xc140fc0/V- RooRealVar::fit_theta = 0.5\n",
      "RooProdPdf end partial integral cache\n",
      "  0x6a102b0/V- RooRealSumPdf::sum_tmpl_0 = 1.71368e+06 [Auto,Dirty] \n",
      "    0xc14a620/V- RooHistFunc::gauss1_tmpl_0_hf = 1.71464e+06 [Auto,Clean] \n",
      "      0xa641260/V- RooRealVar::x_0 = 0\n",
      "    0xc1f1ae0/V- RooHistFunc::gauss2_tmpl_0_hf = 1.71274e+06 [Auto,Clean] \n",
      "      0xa641260/V- RooRealVar::x_0 = 0\n",
      "    0xc140fc0/V- RooRealVar::fit_theta = 0.5\n",
      "  0xc1e9440/V- RooRealSumPdf::sum_tmpl_1 = 1.71481e+06 [Auto,Dirty] \n",
      "    0xc10f1a0/V- RooHistFunc::gauss1_tmpl_1_hf = 1.71549e+06 [Auto,Clean] \n",
      "      0xa931230/V- RooRealVar::x_1 = 0\n",
      "    0xc13f990/V- RooHistFunc::gauss2_tmpl_1_hf = 1.71412e+06 [Auto,Clean] \n",
      "      0xa931230/V- RooRealVar::x_1 = 0\n",
      "    0xc140fc0/V- RooRealVar::fit_theta = 0.5\n"
     ]
    }
   ],
   "source": [
    "fit_model = ROOT.RooProdPdf(\"fit_model\", \"fit_model\", sum_tmpl_0, sum_tmpl_1)\n",
    "fit_model.Print(\"t\")"
   ]
  },
  {
   "cell_type": "code",
   "execution_count": 18,
   "id": "f55950b6",
   "metadata": {},
   "outputs": [
    {
     "data": {
      "text/plain": [
       "<cppyy.gbl.RooFitResult object at 0x(nil)>"
      ]
     },
     "execution_count": 18,
     "metadata": {},
     "output_type": "execute_result"
    },
    {
     "name": "stdout",
     "output_type": "stream",
     "text": [
      "[#1] INFO:Fitting -- RooAbsPdf::fitTo(fit_model) fixing normalization set for coefficient determination to observables in data\n",
      "[#1] INFO:Fitting -- using generic CPU library compiled with no vectorizations\n",
      "[#1] INFO:Fitting -- Creation of NLL object took 9.08738 ms\n",
      "[#1] INFO:Fitting -- RooAddition::defaultErrorLevel(nll_fit_model_gen_modelData_binned) Summation contains a RooNLLVar, using its error level\n",
      "[#1] INFO:Minimization -- RooAbsMinimizerFcn::setOptimizeConst: activating const optimization\n",
      "Minuit2Minimizer: Minimize with max-calls 500 convergence for edm < 1 strategy 1\n",
      "Minuit2Minimizer : Valid minimum - status = 0\n",
      "FVAL  = 1431871.91116576758\n",
      "Edm   = 2.32745076385238706e-07\n",
      "Nfcn  = 50\n",
      "fit_theta\t  = 3.55338e-09\t +/-  0.0076345\t(limited)\n",
      "[#1] INFO:Minimization -- RooAbsMinimizerFcn::setOptimizeConst: deactivating const optimization\n"
     ]
    },
    {
     "name": "stderr",
     "output_type": "stream",
     "text": [
      "Info in <Minuit2>: MnSeedGenerator Computing seed using NumericalGradient calculator\n",
      "Info in <Minuit2>: MnSeedGenerator Evaluated function and gradient in 135.392 μs\n",
      "Info in <Minuit2>: MnSeedGenerator Initial state: FCN =       1431905.554 Edm =       318.4449368 NCalls =      5\n",
      "Info in <Minuit2>: MnSeedGenerator Initial state  \n",
      "  Minimum value : 1431905.554\n",
      "  Edm           : 318.4449368\n",
      "  Internal parameters:\t[                0]\t\n",
      "  Internal gradient  :\t[      33.15634795]\t\n",
      "  Internal covariance matrix:\n",
      "[[      1.1586732]]]\n",
      "Info in <Minuit2>: VariableMetricBuilder Start iterating until Edm is < 0.001 with call limit = 500\n",
      "Info in <Minuit2>: VariableMetricBuilder    0 - FCN =       1431905.554 Edm =       318.4449368 NCalls =      5\n",
      "Info in <Minuit2>: VariableMetricBuilder    1 - FCN =       1431877.358 Edm =        95.3210623 NCalls =     19\n",
      "Info in <Minuit2>: VariableMetricBuilder    2 - FCN =       1431875.745 Edm =       266.1239619 NCalls =     31\n",
      "Info in <Minuit2>: VariableMetricBuilder    3 - FCN =       1431872.265 Edm =       78.80100345 NCalls =     37\n",
      "Info in <Minuit2>: VariableMetricBuilder    4 - FCN =        1431871.97 Edm =       2.332705105 NCalls =     42\n",
      "Info in <Minuit2>: VariableMetricBuilder    5 - FCN =       1431871.911 Edm =   2.323706288e-07 NCalls =     45\n",
      "Info in <Minuit2>: MnHesse Done after 27.963 μs\n",
      "Info in <Minuit2>: VariableMetricBuilder After Hessian\n",
      "Info in <Minuit2>: VariableMetricBuilder    6 - FCN =       1431871.911 Edm =   2.327450764e-07 NCalls =     50\n",
      "Info in <Minuit2>: VariableMetricBuilder Stop iterating after 172.352 μs\n",
      "Info in <Minuit2>: Minuit2Minimizer::Hesse Using max-calls 500\n",
      "Info in <Minuit2>: MnHesse Done after 9.857 μs\n",
      "Info in <Minuit2>: Minuit2Minimizer::Hesse Hesse is valid - matrix is accurate\n"
     ]
    }
   ],
   "source": [
    "fit_model.fitTo(data)"
   ]
  },
  {
   "cell_type": "code",
   "execution_count": 19,
   "id": "cefb11b2",
   "metadata": {},
   "outputs": [
    {
     "name": "stdout",
     "output_type": "stream",
     "text": [
      "0xc62ecc0 RooRatio::oo = [#0] WARNING:Eval -- Evaluating RooAddPdf gen_model without a defined normalization set. This can lead to ambiguous coefficients definition and incorrect results. Use RooAddPdf::fixCoefNormalization(nset) to provide a normalization set for defining uniquely RooAddPdf coefficients!\n",
      "1 [Auto,Dirty] \n",
      "  0x8b0fb60/V- RooMultiVarGaussian::gauss2 = 1 [Auto,Dirty] \n",
      "    0xa641260/V- RooRealVar::x_0 = 0\n",
      "    0xa931230/V- RooRealVar::x_1 = 0\n",
      "    0xaeeb530/V- RooConstVar::0 = 0\n",
      "  0xc59e3b0/V- RooAddPdf::gen_model = 1/1 [Auto,Clean] \n",
      "    0xaefb4e0/V- RooMultiVarGaussian::gauss1 = 1 [Auto,Dirty] \n",
      "      0xa641260/V- RooRealVar::x_0 = 0\n",
      "      0xa931230/V- RooRealVar::x_1 = 0\n",
      "      0xaeeb530/V- RooConstVar::0 = 0\n",
      "    0x8b0fb60/V- RooMultiVarGaussian::gauss2 = 1 [Auto,Dirty] \n",
      "      0xa641260/V- RooRealVar::x_0 = 0\n",
      "      0xa931230/V- RooRealVar::x_1 = 0\n",
      "      0xaeeb530/V- RooConstVar::0 = 0\n",
      "    0xc597400/V- RooConstVar::0.5 = 0.5\n"
     ]
    }
   ],
   "source": [
    "# naive fit model 2: optimal observable\n",
    "S_0 = ROOT.RooAddPdf(\"gen_model\", \"gen_model\", gauss1, gauss2, ROOT.RooFit.RooConst(val_theta))\n",
    "S_1 = gauss2\n",
    "O = ROOT.RooRatio(\"oo\", \"oo\", S_1, S_0)\n",
    "O.Print(\"t\")"
   ]
  },
  {
   "cell_type": "code",
   "execution_count": 20,
   "id": "6c61b6a6",
   "metadata": {},
   "outputs": [
    {
     "name": "stdout",
     "output_type": "stream",
     "text": [
      "RooRealVar::theta = 0.5  L(0 - 1) \n",
      "\n",
      "0xc628950 RooAddPdf::gen_model = 1/1 [Auto,Clean] \n",
      "  0xc5be520/V- RooMultiVarGaussian::gauss1 = 1 [Auto,Dirty] \n",
      "    0xc608420/V- RooRealVar::x_0 = 0\n",
      "    0xc33c2a0/V- RooRealVar::x_1 = 0\n",
      "    0xc65f000/V- RooConstVar::0 = 0\n",
      "  0xc629560/V- RooMultiVarGaussian::gauss2 = 1 [Auto,Dirty] \n",
      "    0xc608420/V- RooRealVar::x_0 = 0\n",
      "    0xc33c2a0/V- RooRealVar::x_1 = 0\n",
      "    0xc65f000/V- RooConstVar::0 = 0\n",
      "  0xc32b560/V- RooRealVar::shifted_theta = 0.5005\n"
     ]
    }
   ],
   "source": [
    "# building the template parametrisation is annoying\n",
    "# we want to reweight instead of generating a second template to not have relative errors\n",
    "# so we need to clone the gen_model, replace the theta server by theta+delta_theta\n",
    "# make that the rw_model\n",
    "# and then make obs_ds_rw with weights rw_model/gen_model\n",
    "\n",
    "shifted_theta = ROOT.RooRealVar(\"shifted_theta\", \"shifted_theta\", val_theta + delta_theta, 0., 1.)\n",
    "\n",
    "rw_model = gen_model.cloneTree()\n",
    "old_theta = rw_model.findServer(\"theta\")\n",
    "print(old_theta)\n",
    "shifted_theta.setAttribute(\"ORIGNAME:theta\", True)\n",
    "rw_model.redirectServers(ROOT.RooArgList([shifted_theta]), False, True)\n",
    "rw_model.Print(\"t\")"
   ]
  },
  {
   "cell_type": "code",
   "execution_count": 21,
   "id": "3c67458a",
   "metadata": {},
   "outputs": [
    {
     "name": "stdout",
     "output_type": "stream",
     "text": [
      "[1.23191048 1.08731175 0.91105254 ... 0.89225717 0.9687308  1.03748638]\n"
     ]
    }
   ],
   "source": [
    "# make oo dataset\n",
    "O.attachDataSet(template_unbinned)\n",
    "rw_model.attachDataSet(template_unbinned)\n",
    "S_0.attachDataSet(template_unbinned)\n",
    "\n",
    "x_arg_set = ROOT.RooArgSet(x)\n",
    "\n",
    "tmp_O_ds = []\n",
    "weights = []\n",
    "for i in range(template_unbinned.numEntries()):\n",
    "    template_unbinned.get(i)\n",
    "    tmp_O_ds.append(O.getVal(x_arg_set))\n",
    "    weight = rw_model.getVal(x_arg_set) / S_0.getVal(x_arg_set)\n",
    "    weights.append(weight)\n",
    "\n",
    "print(np.asarray(tmp_O_ds))"
   ]
  },
  {
   "cell_type": "code",
   "execution_count": 22,
   "id": "e0815f47",
   "metadata": {},
   "outputs": [
    {
     "name": "stdout",
     "output_type": "stream",
     "text": [
      "[#0] WARNING:DataHandling -- RooDataSet.from_numpy() Ignored 488129 out-of-range events\n",
      "[#0] WARNING:DataHandling -- RooDataSet.from_numpy() Ignored 488129 out-of-range events\n"
     ]
    }
   ],
   "source": [
    "O_obs = ROOT.RooRealVar(\"O_obs\", \"O_obs\", 1., 0.75, 1.25)\n",
    "O_obs.setBins(n_bins**2)\n",
    "obs_ds = ROOT.RooDataSet.from_numpy({\"O_obs\": np.asarray(tmp_O_ds)}, [O_obs])\n",
    "obs_rw_ds = ROOT.RooDataSet.from_numpy({\"O_obs\": np.asarray(tmp_O_ds), \"weight\": np.asarray(weights)}, [O_obs], weight_name=\"weight\")"
   ]
  },
  {
   "cell_type": "code",
   "execution_count": 23,
   "id": "4fb79444",
   "metadata": {},
   "outputs": [
    {
     "name": "stdout",
     "output_type": "stream",
     "text": [
      "[#1] INFO:InputArguments -- RooAbsData::plotOn() INFO: dataset has non-integer weights, auto-selecting SumW2 errors instead of Poisson errors\n",
      "[#1] INFO:Plotting -- RooPlot::updateFitRangeNorm: New event count of 4.51187e+06 will supersede previous event count of 4.51187e+06 for normalization of PDF projections\n"
     ]
    },
    {
     "data": {
      "text/html": [
       "\n",
       "\n",
       "<div id=\"root_plot_1755257939890\" style=\"width: 700px; height: 500px; position: relative\">\n",
       "</div>\n",
       "\n",
       "<script>\n",
       "\n",
       "function display_root_plot_1755257939890(Core) {\n",
       "   let obj = Core.parse({\"_typename\":\"TCanvasWebSnapshot\",\"fUniqueID\":0,\"fBits\":0,\"fObjectID\":\"\",\"fOption\":\"\",\"fKind\":3,\"fSnapshot\":{\"_typename\":\"TCanvas\",\"fUniqueID\":0,\"fBits\":3342344,\"fLineColor\":1,\"fLineStyle\":1,\"fLineWidth\":2,\"fFillColor\":10,\"fFillStyle\":1001,\"fLeftMargin\":0.15,\"fRightMargin\":0.16,\"fBottomMargin\":0.17,\"fTopMargin\":0.08,\"fXfile\":2,\"fYfile\":2,\"fAfile\":1,\"fXstat\":0.99,\"fYstat\":0.99,\"fAstat\":2,\"fFrameFillColor\":10,\"fFrameLineColor\":1,\"fFrameFillStyle\":1001,\"fFrameLineStyle\":1,\"fFrameLineWidth\":2,\"fFrameBorderSize\":1,\"fFrameBorderMode\":0,\"fX1\":0.641304352520844,\"fY1\":-110217.685528036,\"fX2\":1.36594201677914,\"fY2\":538121.634287934,\"fXtoAbsPixelk\":-615.960018875598,\"fXtoPixelk\":-615.960018875598,\"fXtoPixel\":960.480022401808,\"fYtoAbsPixelk\":391.759999155998,\"fYtoPixelk\":391.759999155998,\"fYtoPixel\":-7.28013843328176e-4,\"fUtoAbsPixelk\":0,\"fUtoPixelk\":0,\"fUtoPixel\":696,\"fVtoAbsPixelk\":472,\"fVtoPixelk\":472,\"fVtoPixel\":-472,\"fAbsPixeltoXk\":0.641304352520844,\"fPixeltoXk\":0.641304352520844,\"fPixeltoX\":0.00104114606933663,\"fAbsPixeltoYk\":538121.634287934,\"fPixeltoYk\":-110217.685528036,\"fPixeltoY\":-1373.60025384739,\"fXlowNDC\":0,\"fYlowNDC\":0,\"fXUpNDC\":1,\"fYUpNDC\":1,\"fWNDC\":1,\"fHNDC\":1,\"fAbsXlowNDC\":0,\"fAbsYlowNDC\":0,\"fAbsWNDC\":1,\"fAbsHNDC\":1,\"fUxmin\":0.75,\"fUymin\":0,\"fUxmax\":1.25,\"fUymax\":486254.489861978,\"fTheta\":30,\"fPhi\":30,\"fAspectRatio\":0,\"fNumber\":0,\"fTickx\":1,\"fTicky\":1,\"fLogx\":0,\"fLogy\":0,\"fLogz\":0,\"fPadPaint\":0,\"fCrosshair\":0,\"fCrosshairPos\":0,\"fBorderSize\":2,\"fBorderMode\":0,\"fModified\":false,\"fGridx\":false,\"fGridy\":false,\"fAbsCoord\":false,\"fEditable\":true,\"fFixedAspectRatio\":false,\"fPrimitives\":{\"_typename\":\"TList\",\"name\":\"TList\",\"arr\":[],\"opt\":[]},\"fExecs\":null,\"fName\":\"c1_n3\",\"fTitle\":\"c1_n3\",\"fNumPaletteColor\":0,\"fNextPaletteColor\":0,\"fDISPLAY\":\"$DISPLAY\",\"fDoubleBuffer\":0,\"fRetained\":true,\"fXsizeUser\":0,\"fYsizeUser\":0,\"fXsizeReal\":20,\"fYsizeReal\":14.28571,\"fWindowTopX\":0,\"fWindowTopY\":0,\"fWindowWidth\":0,\"fWindowHeight\":0,\"fCw\":696,\"fCh\":472,\"fCatt\":{\"_typename\":\"TAttCanvas\",\"fXBetween\":2,\"fYBetween\":2,\"fTitleFromTop\":1.2,\"fXdate\":0.2,\"fYdate\":0.3,\"fAdate\":1},\"kMoveOpaque\":true,\"kResizeOpaque\":true,\"fHighLightColor\":2,\"fBatch\":true,\"kShowEventStatus\":false,\"kAutoExec\":true,\"kMenuBar\":true},\"fActive\":false,\"fReadOnly\":true,\"fWithoutPrimitives\":false,\"fHasExecs\":false,\"fPrimitives\":[{\"_typename\":\"TWebSnapshot\",\"fUniqueID\":0,\"fBits\":0,\"fObjectID\":\"\",\"fOption\":\"\",\"fKind\":4,\"fSnapshot\":{\"_typename\":\"TWebPainting\",\"fUniqueID\":0,\"fBits\":0,\"fClassName\":\"\",\"fObjectName\":\"\",\"fOper\":\"0:255,255,255;1:0,0,0;2:255,0,0;3:0,255,0;4:0,0,255;5:255,255,0;6:255,0,255;7:0,255,255;8:89,211,84;9:89,84,216;10:254,254,254;11:192,182,172;12:76,76,76;13:102,102,102;14:127,127,127;15:153,153,153;16:178,178,178;17:204,204,204;18:229,229,229;19:242,242,242;20:204,198,170;21:204,198,170;22:193,191,168;23:186,181,163;24:178,165,150;25:183,163,155;26:173,153,140;27:155,142,130;28:135,102,86;29:175,206,198;30:132,193,163;31:137,168,160;32:130,158,140;33:173,188,198;34:122,142,153;35:117,137,145;36:104,130,150;37:109,122,132;38:124,153,209;39:127,127,155;40:170,165,191;41:211,206,135;42:221,186,135;43:188,158,130;44:198,153,124;45:191,130,119;46:206,94,96;47:170,142,147;48:165,119,122;49:147,104,112;50:211,89,84;51:146,0,255;52:122,0,255;53:98,0,255;54:74,0,255;55:51,0,255;56:27,0,255;57:3,0,255;58:0,20,255;59:0,44,255;60:0,68,255;61:0,91,255;62:0,115,255;63:0,139,255;64:0,163,255;65:0,187,255;66:0,210,255;67:0,234,255;68:0,255,251;69:0,255,227;70:0,255,204;71:0,255,180;72:0,255,156;73:0,255,132;74:0,255,108;75:0,255,85;76:0,255,61;77:0,255,37;78:0,255,13;79:10,255,0;80:34,255,0;81:57,255,0;82:81,255,0;83:105,255,0;84:129,255,0;85:153,255,0;86:176,255,0;87:200,255,0;88:224,255,0;89:248,255,0;90:255,238,0;91:255,214,0;92:255,190,0;93:255,166,0;94:255,142,0;95:255,119,0;96:255,95,0;97:255,71,0;98:255,47,0;99:255,23,0;100:111,45,168;101:165,42,42;102:178,190,181;103:87,144,252;104:248,156,32;105:228,37,54;106:150,74,139;107:156,156,161;108:122,33,221;109:24,69,251;110:255,94,2;111:201,31,22;112:200,73,169;113:173,173,125;114:134,200,221;115:87,141,255;116:101,99,100;117:63,144,218;118:255,169,14;119:189,31,1;120:148,164,162;121:131,45,182;122:169,107,89;123:231,99,0;124:185,172,112;125:113,117,129;126:146,218,221;127:178,178,178;201:91,91,91;202:122,122,122;203:183,183,183;204:214,214,214;205:137,15,15;206:183,20,20;207:234,71,71;208:239,117,117;209:15,137,15;210:20,183,20;211:71,234,71;212:117,239,117;213:15,15,137;214:20,20,183;215:71,71,234;216:117,117,239;217:137,137,15;218:183,183,20;219:234,234,71;220:239,239,117;221:137,15,137;222:183,20,183;223:234,71,234;224:239,117,239;225:15,137,137;226:20,183,183;227:71,234,234;228:117,239,239;390:255,255,204;391:255,255,153;392:204,204,153;393:255,255,102;394:204,204,102;395:153,153,102;396:255,255,51;397:204,204,51;398:153,153,51;399:102,102,51;400:255,255,0;401:204,204,0;402:153,153,0;403:102,102,0;404:51,51,0;406:204,255,204;407:153,255,153;408:153,204,153;409:102,255,102;410:102,204,102;411:102,153,102;412:51,255,51;413:51,204,51;414:51,153,51;415:51,102,51;416:0,255,0;417:0,204,0;418:0,153,0;419:0,102,0;420:0,51,0;422:204,255,255;423:153,255,255;424:153,204,204;425:102,255,255;426:102,204,204;427:102,153,153;428:51,255,255;429:51,204,204;430:51,153,153;431:51,102,102;432:0,255,255;433:0,204,204;434:0,153,153;435:0,102,102;436:0,51,51;590:204,204,255;591:153,153,255;592:153,153,204;593:102,102,255;594:102,102,204;595:102,102,153;596:51,51,255;597:51,51,204;598:51,51,153;599:51,51,102;600:0,0,255;601:0,0,204;602:0,0,153;603:0,0,102;604:0,0,51;606:255,204,255;607:255,153,255;608:204,153,204;609:255,102,255;610:204,102,204;611:153,102,153;612:255,51,255;613:204,51,204;614:153,51,153;615:102,51,102;616:255,0,255;617:204,0,204;618:153,0,153;619:102,0,102;620:51,0,51;622:255,204,204;623:255,153,153;624:204,153,153;625:255,102,102;626:204,102,102;627:153,102,102;628:255,51,51;629:204,51,51;630:153,51,51;631:102,51,51;632:255,0,0;633:204,0,0;634:153,0,0;635:102,0,0;636:51,0,0;791:255,204,153;792:204,153,102;793:153,102,51;794:153,102,0;795:204,153,51;796:255,204,102;797:255,153,0;798:255,204,51;799:204,153,0;800:255,204,0;801:255,153,51;802:204,102,0;803:102,51,0;804:153,51,0;805:204,102,51;806:255,153,102;807:255,102,0;808:255,102,51;809:204,51,0;810:255,51,0;811:153,255,51;812:102,204,0;813:51,102,0;814:51,153,0;815:102,204,51;816:153,255,102;817:102,255,0;818:102,255,51;819:51,204,0;820:51,255,0;821:204,255,153;822:153,204,102;823:102,153,51;824:102,153,0;825:153,204,51;826:204,255,102;827:153,255,0;828:204,255,51;829:153,204,0;830:204,255,0;831:153,255,204;832:102,204,153;833:51,153,102;834:0,153,102;835:51,204,153;836:102,255,204;837:0,255,102;838:51,255,204;839:0,204,153;840:0,255,204;841:51,255,153;842:0,204,102;843:0,102,51;844:0,153,51;845:51,204,102;846:102,255,153;847:0,255,153;848:51,255,102;849:0,204,51;850:0,255,51;851:153,204,255;852:102,153,204;853:51,102,153;854:0,51,153;855:51,102,204;856:102,153,255;857:0,102,255;858:51,102,255;859:0,51,204;860:0,51,255;861:51,153,255;862:0,102,204;863:0,51,102;864:0,102,153;865:51,153,204;866:102,204,255;867:0,153,255;868:51,204,255;869:0,153,204;870:0,204,255;871:204,153,255;872:153,102,204;873:102,51,153;874:102,0,153;875:153,51,204;876:204,102,255;877:153,0,255;878:204,51,255;879:153,0,204;880:204,0,255;881:153,51,255;882:102,0,204;883:51,0,102;884:51,0,153;885:102,51,204;886:153,102,255;887:102,0,255;888:102,51,255;889:51,0,204;890:51,0,255;891:255,51,153;892:204,0,102;893:102,0,51;894:153,0,51;895:204,51,102;896:255,102,153;897:255,0,102;898:255,51,102;899:204,0,51;900:255,0,51;901:255,153,204;902:204,102,153;903:153,51,102;904:153,0,102;905:204,51,153;906:255,102,204;907:255,0,153;908:204,0,153;909:255,51,204;910:255,0,153;920:204,204,204;921:153,153,153;922:102,102,102;923:51,51,51;924:53,42,134;925:51,44,137;926:50,45,140;927:49,47,143;928:48,48,146;929:46,50,148;930:45,51,151;931:44,53,154;932:43,55,157;933:42,56,160;934:40,58,162;935:39,59,165;936:38,61,168;937:37,63,171;938:35,64,174;939:34,66,176;940:33,67,179;941:32,69,182;942:31,71,185;943:29,72,187;944:28,74,190;945:27,75,193;946:26,77,196;947:24,79,199;948:23,80,201;949:22,82,204;950:21,83,207;951:19,85,210;952:18,86,213;953:17,88,215;954:16,90,218;955:15,91,221;956:15,92,221;957:15,94,220;958:15,95,220;959:15,96,220;960:15,97,220;961:15,98,220;962:16,99,219;963:16,100,219;964:16,102,219;965:16,103,219;966:16,104,218;967:16,105,218;968:17,106,218;969:17,107,218;970:17,109,217;971:17,110,217;972:17,111,217;973:17,112,217;974:17,113,216;975:18,114,216;976:18,115,216;977:18,117,216;978:18,118,215;979:18,119,215;980:18,120,215;981:18,121,215;982:19,122,215;983:19,123,214;984:19,125,214;985:19,126,214;986:19,127,214;987:19,128,213;988:19,129,213;989:19,130,213;990:18,131,212;991:18,132,212;992:17,134,211;993:17,135,211;994:16,136,211;995:16,137,210;996:15,138,210;997:15,139,210;998:15,140,209;999:14,141,209;1000:14,142,208;1001:13,143,208;1002:13,145,208;1003:12,146,207;1004:12,147,207;1005:12,148,207;1006:11,149,206;1007:11,150,206;1008:10,151,205;1009:10,152,205;1010:9,153,205;1011:9,154,204;1012:8,155,204;1013:8,157,204;1014:8,158,203;1015:7,159,203;1016:7,160,202;1017:6,161,202;1018:6,162,202;1019:5,163,201;1020:7,164,200;1021:8,164,199;1022:9,165,198;1023:10,166,197;1024:12,166,195;1025:13,167,194;1026:14,167,193;1027:15,168,192;1028:17,169,191;1029:18,169,189;1030:19,170,188;1031:20,170,187;1032:22,171,186;1033:23,172,185;1034:24,172,184;1035:25,173,182;1036:27,173,181;1037:28,174,180;1038:29,175,179;1039:30,175,178;1040:32,176,176;1041:33,176,175;1042:34,177,174;1043:35,178,173;1044:37,178,172;1045:38,179,170;1046:39,180,169;1047:40,180,168;1048:42,181,167;1049:43,181,166;1050:44,182,165;1051:45,183,163;1052:48,183,162;1053:51,183,161;1054:54,183,159;1055:57,184,158;1056:59,184,156;1057:62,184,155;1058:65,184,154;1059:68,185,152;1060:71,185,151;1061:73,185,149;1062:76,185,148;1063:79,186,146;1064:82,186,145;1065:84,186,144;1066:87,186,142;1067:90,187,141;1068:93,187,139;1069:96,187,138;1070:98,187,137;1071:101,188,135;1072:104,188,134;1073:107,188,132;1074:110,188,131;1075:112,189,130;1076:115,189,128;1077:118,189,127;1078:121,189,125;1079:124,190,124;1080:126,190,123;1081:129,190,121;1082:132,190,120;1083:135,191,118;1084:137,190,117;1085:139,190,117;1086:142,190,116;1087:144,190,115;1088:146,190,114;1089:148,190,113;1090:151,190,112;1091:153,190,111;1092:155,189,110;1093:158,189,109;1094:160,189,108;1095:162,189,107;1096:165,189,106;1097:167,189,105;1098:169,189,104;1099:171,188,104;1100:174,188,103;1101:176,188,102;1102:178,188,101;1103:181,188,100;1104:183,188,99;1105:185,188,98;1106:188,188,97;1107:190,187,96;1108:192,187,95;1109:194,187,94;1110:197,187,93;1111:199,187,92;1112:201,187,92;1113:204,187,91;1114:206,186,90;1115:208,186,89;1116:210,187,88;1117:211,187,86;1118:212,188,85;1119:214,188,84;1120:215,188,83;1121:217,189,81;1122:218,189,80;1123:220,190,79;1124:221,190,78;1125:222,191,77;1126:224,191,75;1127:225,191,74;1128:227,192,73;1129:228,192,72;1130:229,193,70;1131:231,193,69;1132:232,194,68;1133:234,194,67;1134:235,194,66;1135:236,195,64;1136:238,195,63;1137:239,196,62;1138:241,196,61;1139:242,197,59;1140:244,197,58;1141:245,197,57;1142:246,198,56;1143:248,198,55;1144:249,199,53;1145:251,199,52;1146:252,200,51;1147:253,200,50;1148:253,202,49;1149:253,203,47;1150:253,205,46;1151:253,206,45;1152:253,208,44;1153:252,209,43;1154:252,211,42;1155:252,213,41;1156:252,214,39;1157:252,216,38;1158:252,217,37;1159:252,219,36;1160:251,220,35;1161:251,222,34;1162:251,224,33;1163:251,225,31;1164:251,227,30;1165:251,228,29;1166:250,230,28;1167:250,231,27;1168:250,233,26;1169:250,235,25;1170:250,236,23;1171:250,238,22;1172:250,239,21;1173:249,241,20;1174:249,242,19;1175:249,244,18;1176:249,246,17;1177:249,247,16;1178:249,249,14\",\"fBuf\":{\"$arr\":\"Float32\",\"len\":50,\"v\":[51,52,53,54,55,56,57,58,59,60,61,62,63,64,65,66,67,68,69,70,71,72,73,74,75,76,77,78,79,80,81,82,83,84,85,86,87,88,89,90,91,92,93,94,95,96,97,98,99,632]}}},{\"_typename\":\"TWebSnapshot\",\"fUniqueID\":0,\"fBits\":0,\"fObjectID\":\"\",\"fOption\":\"\",\"fKind\":5,\"fSnapshot\":{\"_typename\":\"TStyle\",\"fUniqueID\":0,\"fBits\":0,\"fName\":\"ildStyle\",\"fTitle\":\"ILD Style\",\"fLineColor\":1,\"fLineStyle\":1,\"fLineWidth\":2,\"fFillColor\":10,\"fFillStyle\":1001,\"fMarkerColor\":1,\"fMarkerStyle\":20,\"fMarkerSize\":0.7,\"fTextAngle\":0,\"fTextSize\":0.05,\"fTextAlign\":11,\"fTextColor\":1,\"fTextFont\":42,\"fXaxis\":{\"_typename\":\"TAttAxis\",\"fNdivisions\":506,\"fAxisColor\":1,\"fLabelColor\":1,\"fLabelFont\":42,\"fLabelOffset\":0.015,\"fLabelSize\":0.06,\"fTickLength\":0.03,\"fTitleOffset\":1,\"fTitleSize\":0.07,\"fTitleColor\":1,\"fTitleFont\":42},\"fYaxis\":{\"_typename\":\"TAttAxis\",\"fNdivisions\":506,\"fAxisColor\":1,\"fLabelColor\":1,\"fLabelFont\":42,\"fLabelOffset\":0.015,\"fLabelSize\":0.06,\"fTickLength\":0.03,\"fTitleOffset\":1.1,\"fTitleSize\":0.07,\"fTitleColor\":1,\"fTitleFont\":42},\"fZaxis\":{\"_typename\":\"TAttAxis\",\"fNdivisions\":510,\"fAxisColor\":1,\"fLabelColor\":1,\"fLabelFont\":42,\"fLabelOffset\":0.015,\"fLabelSize\":0.06,\"fTickLength\":0.03,\"fTitleOffset\":1.1,\"fTitleSize\":0.07,\"fTitleColor\":1,\"fTitleFont\":42},\"fBarWidth\":1,\"fBarOffset\":0,\"fColorModelPS\":0,\"fDrawBorder\":0,\"fOptLogx\":0,\"fOptLogy\":0,\"fOptLogz\":0,\"fOptDate\":0,\"fOptStat\":0,\"fOptTitle\":1,\"fOptFile\":0,\"fOptFit\":0,\"fShowEventStatus\":0,\"fShowEditor\":0,\"fShowToolBar\":0,\"fNumberContours\":20,\"fAttDate\":{\"_typename\":\"TAttText\",\"fTextAngle\":0,\"fTextSize\":0.025,\"fTextAlign\":11,\"fTextColor\":1,\"fTextFont\":62},\"fDateX\":0.01,\"fDateY\":0.01,\"fEndErrorSize\":2,\"fErrorX\":0.5,\"fFuncColor\":632,\"fFuncStyle\":1,\"fFuncWidth\":2,\"fGridColor\":0,\"fGridStyle\":3,\"fGridWidth\":1,\"fLegendBorderSize\":0,\"fLegendFillColor\":0,\"fLegendFillStyle\":1001,\"fLegendFont\":62,\"fLegendTextSize\":0,\"fHatchesLineWidth\":1,\"fHatchesSpacing\":1,\"fFrameFillColor\":10,\"fFrameLineColor\":1,\"fFrameFillStyle\":1001,\"fFrameLineStyle\":1,\"fFrameLineWidth\":2,\"fFrameBorderSize\":1,\"fFrameBorderMode\":0,\"fHistFillColor\":0,\"fHistLineColor\":1,\"fHistFillStyle\":1001,\"fHistLineStyle\":1,\"fHistLineWidth\":2,\"fHistMinimumZero\":false,\"fHistTopMargin\":0.05,\"fCanvasPreferGL\":false,\"fCanvasColor\":10,\"fCanvasBorderSize\":2,\"fCanvasBorderMode\":0,\"fCanvasDefH\":500,\"fCanvasDefW\":700,\"fCanvasDefX\":10,\"fCanvasDefY\":10,\"fPadColor\":10,\"fPadBorderSize\":2,\"fPadBorderMode\":0,\"fPadBottomMargin\":0.17,\"fPadTopMargin\":0.08,\"fPadLeftMargin\":0.15,\"fPadRightMargin\":0.16,\"fPadGridX\":false,\"fPadGridY\":false,\"fPadTickX\":1,\"fPadTickY\":1,\"fPaperSizeX\":20,\"fPaperSizeY\":26,\"fScreenFactor\":1,\"fStatColor\":10,\"fStatTextColor\":1,\"fStatBorderSize\":0,\"fStatFont\":42,\"fStatFontSize\":0.07,\"fStatStyle\":1001,\"fStatFormat\":\"6.4g\",\"fStatX\":0.98,\"fStatY\":0.995,\"fStatW\":0.2,\"fStatH\":0.16,\"fStripDecimals\":true,\"fTitleAlign\":13,\"fTitleColor\":0,\"fTitleTextColor\":1,\"fTitleBorderSize\":0,\"fTitleFont\":62,\"fTitleFontSize\":0,\"fTitleStyle\":1001,\"fTitleX\":0.01,\"fTitleY\":0.995,\"fTitleW\":0,\"fTitleH\":0,\"fLegoInnerR\":0.5,\"fLineStyles\":[\"\",\"  \",\" 12 12\",\" 4 8\",\" 12 16 4 16\",\" 20 12 4 12\",\" 20 12 4 12 4 12 4 12\",\" 20 20\",\" 20 12 4 12 4 12\",\" 80 20\",\" 80 40 4 40\",\"  \",\"  \",\"  \",\"  \",\"  \",\"  \",\"  \",\"  \",\"  \",\"  \",\"  \",\"  \",\"  \",\"  \",\"  \",\"  \",\"  \",\"  \",\"  \"],\"fHeaderPS\":\"\",\"fTitlePS\":\"\",\"fFitFormat\":\"5.4g\",\"fPaintTextFormat\":\"g\",\"fLineScalePS\":3,\"fJoinLinePS\":0,\"fCapLinePS\":0,\"fTimeOffset\":788918400,\"fImageScaling\":1,\"fCandleWhiskerRange\":1,\"fCandleBoxRange\":0.5,\"fCandleScaled\":false,\"fViolinScaled\":true,\"fCandleCircleLineWidth\":1,\"fCandleCrossLineWidth\":1,\"fXAxisExpXOffset\":0,\"fXAxisExpYOffset\":0,\"fYAxisExpXOffset\":0,\"fYAxisExpYOffset\":0,\"fAxisMaxDigits\":5,\"fOrthoCamera\":false}},{\"_typename\":\"TWebSnapshot\",\"fUniqueID\":0,\"fBits\":0,\"fObjectID\":\"\",\"fOption\":\"\",\"fKind\":1,\"fSnapshot\":{\"_typename\":\"TFrame\",\"fUniqueID\":0,\"fBits\":8,\"fLineColor\":1,\"fLineStyle\":1,\"fLineWidth\":2,\"fFillColor\":10,\"fFillStyle\":1001,\"fX1\":0.75,\"fY1\":0,\"fX2\":1.25,\"fY2\":486254.489861978,\"fBorderSize\":1,\"fBorderMode\":0}},{\"_typename\":\"TWebSnapshot\",\"fUniqueID\":0,\"fBits\":0,\"fObjectID\":\"\",\"fOption\":\"FUNC\",\"fKind\":1,\"fSnapshot\":{\"_typename\":\"TH1D\",\"fUniqueID\":0,\"fBits\":520,\"fName\":\"frame_O_obs_f80c350\",\"fTitle\":\"A RooPlot of \\\"O_obs\\\"\",\"fLineColor\":1,\"fLineStyle\":1,\"fLineWidth\":2,\"fFillColor\":0,\"fFillStyle\":1001,\"fMarkerColor\":1,\"fMarkerStyle\":20,\"fMarkerSize\":0.7,\"fNcells\":51,\"fXaxis\":{\"_typename\":\"TAxis\",\"fUniqueID\":0,\"fBits\":0,\"fName\":\"xaxis\",\"fTitle\":\"O_obs\",\"fNdivisions\":506,\"fAxisColor\":1,\"fLabelColor\":1,\"fLabelFont\":42,\"fLabelOffset\":0.015,\"fLabelSize\":0.06,\"fTickLength\":0.03,\"fTitleOffset\":1,\"fTitleSize\":0.07,\"fTitleColor\":1,\"fTitleFont\":42,\"fNbins\":49,\"fXmin\":0.75,\"fXmax\":1.25,\"fXbins\":[],\"fFirst\":0,\"fLast\":0,\"fBits2\":0,\"fTimeDisplay\":false,\"fTimeFormat\":\"\",\"fLabels\":null,\"fModLabs\":null},\"fYaxis\":{\"_typename\":\"TAxis\",\"fUniqueID\":0,\"fBits\":0,\"fName\":\"yaxis\",\"fTitle\":\"Events \\/ ( 0.0102041 )\",\"fNdivisions\":506,\"fAxisColor\":1,\"fLabelColor\":1,\"fLabelFont\":42,\"fLabelOffset\":0.015,\"fLabelSize\":0.06,\"fTickLength\":0.03,\"fTitleOffset\":1.1,\"fTitleSize\":0.07,\"fTitleColor\":1,\"fTitleFont\":42,\"fNbins\":1,\"fXmin\":0,\"fXmax\":1,\"fXbins\":[],\"fFirst\":0,\"fLast\":0,\"fBits2\":0,\"fTimeDisplay\":false,\"fTimeFormat\":\"\",\"fLabels\":null,\"fModLabs\":null},\"fZaxis\":{\"_typename\":\"TAxis\",\"fUniqueID\":0,\"fBits\":0,\"fName\":\"zaxis\",\"fTitle\":\"\",\"fNdivisions\":510,\"fAxisColor\":1,\"fLabelColor\":1,\"fLabelFont\":42,\"fLabelOffset\":0.015,\"fLabelSize\":0.06,\"fTickLength\":0.03,\"fTitleOffset\":1.1,\"fTitleSize\":0.07,\"fTitleColor\":1,\"fTitleFont\":42,\"fNbins\":1,\"fXmin\":0,\"fXmax\":1,\"fXbins\":[],\"fFirst\":0,\"fLast\":0,\"fBits2\":0,\"fTimeDisplay\":false,\"fTimeFormat\":\"\",\"fLabels\":null,\"fModLabs\":null},\"fBarOffset\":0,\"fBarWidth\":1000,\"fEntries\":1,\"fTsumw\":0,\"fTsumw2\":0,\"fTsumwx\":0,\"fTsumwx2\":0,\"fMaximum\":486254.489861978,\"fMinimum\":-1111,\"fNormFactor\":0,\"fContour\":[],\"fSumw2\":[],\"fOption\":\"\",\"fFunctions\":{\"_typename\":\"TList\",\"name\":\"TList\",\"arr\":[],\"opt\":[]},\"fBufferSize\":0,\"fBuffer\":[],\"fBinStatErrOpt\":0,\"fStatOverflows\":2,\"fArray\":{\"$arr\":\"Float64\",\"len\":51,\"p\":1,\"v\":486254.489861978}}},{\"_typename\":\"TWebSnapshot\",\"fUniqueID\":0,\"fBits\":0,\"fObjectID\":\"\",\"fOption\":\"p\",\"fKind\":1,\"fSnapshot\":{\"_typename\":\"RooHist\",\"fUniqueID\":0,\"fBits\":1032,\"fName\":\"h_\",\"fTitle\":\"Histogram of _plot__O_obs\",\"fLineColor\":1,\"fLineStyle\":1,\"fLineWidth\":2,\"fFillColor\":0,\"fFillStyle\":1000,\"fMarkerColor\":1,\"fMarkerStyle\":8,\"fMarkerSize\":0.7,\"fNpoints\":49,\"fX\":{\"$arr\":\"Float64\",\"len\":49,\"v\":[0.755102040816326,0.76530612244898,0.775510204081633,0.785714285714286,0.795918367346939,0.806122448979592,0.816326530612245,0.826530612244898,0.836734693877551,0.846938775510204,0.857142857142857,0.86734693877551,0.877551020408163,0.887755102040816,0.897959183673469,0.908163265306122,0.918367346938775,0.928571428571428,0.938775510204082,0.948979591836735,0.959183673469388,0.969387755102041,0.979591836734694,0.989795918367347,1,1.01020408163265,1.02040816326531,1.03061224489796,1.04081632653061,1.05102040816327,1.06122448979592,1.07142857142857,1.08163265306122,1.09183673469388,1.10204081632653,1.11224489795918,1.12244897959184,1.13265306122449,1.14285714285714,1.1530612244898,1.16326530612245,1.1734693877551,1.18367346938776,1.19387755102041,1.20408163265306,1.21428571428571,1.22448979591837,1.23469387755102,1.24489795918367]},\"fY\":{\"$arr\":\"Float64\",\"len\":49,\"v\":[18151,20252,22655,25997,28700,32583,36830,41629,46683,53729,60557,69587,79762,92396,107594,127083,152137,184857,237600,347793,462419,279662,219853,184779,159366,139350,124030,111557,100428,91082,83335,75690,69776,64381,59002,55020,50687,47120,43640,40651,37685,35121,33300,31046,28645,26819,25104,23536,22212]},\"fFunctions\":{\"_typename\":\"TList\",\"name\":\"TList\",\"arr\":[],\"opt\":[]},\"fHistogram\":{\"_typename\":\"TH1F\",\"fUniqueID\":0,\"fBits\":512,\"fName\":\"h_\",\"fTitle\":\"Histogram of _plot__O_obs\",\"fLineColor\":1,\"fLineStyle\":1,\"fLineWidth\":2,\"fFillColor\":0,\"fFillStyle\":1001,\"fMarkerColor\":1,\"fMarkerStyle\":20,\"fMarkerSize\":0.7,\"fNcells\":102,\"fXaxis\":{\"_typename\":\"TAxis\",\"fUniqueID\":0,\"fBits\":0,\"fName\":\"xaxis\",\"fTitle\":\"\",\"fNdivisions\":506,\"fAxisColor\":1,\"fLabelColor\":1,\"fLabelFont\":42,\"fLabelOffset\":0.015,\"fLabelSize\":0.06,\"fTickLength\":0.03,\"fTitleOffset\":1,\"fTitleSize\":0.07,\"fTitleColor\":1,\"fTitleFont\":42,\"fNbins\":100,\"fXmin\":0.7,\"fXmax\":1.3,\"fXbins\":[],\"fFirst\":0,\"fLast\":0,\"fBits2\":0,\"fTimeDisplay\":false,\"fTimeFormat\":\"\",\"fLabels\":null,\"fModLabs\":null},\"fYaxis\":{\"_typename\":\"TAxis\",\"fUniqueID\":0,\"fBits\":0,\"fName\":\"yaxis\",\"fTitle\":\"\",\"fNdivisions\":506,\"fAxisColor\":1,\"fLabelColor\":1,\"fLabelFont\":42,\"fLabelOffset\":0.015,\"fLabelSize\":0.06,\"fTickLength\":0.03,\"fTitleOffset\":1.1,\"fTitleSize\":0.07,\"fTitleColor\":1,\"fTitleFont\":42,\"fNbins\":1,\"fXmin\":16215.0960825375,\"fXmax\":507607.788227187,\"fXbins\":[],\"fFirst\":0,\"fLast\":0,\"fBits2\":0,\"fTimeDisplay\":false,\"fTimeFormat\":\"\",\"fLabels\":null,\"fModLabs\":null},\"fZaxis\":{\"_typename\":\"TAxis\",\"fUniqueID\":0,\"fBits\":0,\"fName\":\"zaxis\",\"fTitle\":\"\",\"fNdivisions\":510,\"fAxisColor\":1,\"fLabelColor\":1,\"fLabelFont\":42,\"fLabelOffset\":0.015,\"fLabelSize\":0.06,\"fTickLength\":0.03,\"fTitleOffset\":1.1,\"fTitleSize\":0.07,\"fTitleColor\":1,\"fTitleFont\":42,\"fNbins\":1,\"fXmin\":0,\"fXmax\":1,\"fXbins\":[],\"fFirst\":0,\"fLast\":0,\"fBits2\":0,\"fTimeDisplay\":false,\"fTimeFormat\":\"\",\"fLabels\":null,\"fModLabs\":null},\"fBarOffset\":0,\"fBarWidth\":1000,\"fEntries\":0,\"fTsumw\":0,\"fTsumw2\":0,\"fTsumwx\":0,\"fTsumwx2\":0,\"fMaximum\":507607.788227187,\"fMinimum\":16215.0960825375,\"fNormFactor\":0,\"fContour\":[],\"fSumw2\":[],\"fOption\":\"\",\"fFunctions\":{\"_typename\":\"TList\",\"name\":\"TList\",\"arr\":[],\"opt\":[]},\"fBufferSize\":0,\"fBuffer\":[],\"fBinStatErrOpt\":0,\"fStatOverflows\":2,\"fArray\":{\"$arr\":\"Float32\",\"len\":102}},\"fMinimum\":-1111,\"fMaximum\":-1111,\"fOption\":\"\",\"fEXlow\":{\"$arr\":\"Float64\",\"len\":49,\"v\":0.00510204081632653,\"n\":49},\"fEXhigh\":{\"$arr\":\"Float64\",\"len\":49,\"v\":0.00510204081632653,\"n\":49},\"fEYlow\":{\"$arr\":\"Float64\",\"len\":49,\"v\":[134.22657495832,141.810400182138,150.016610379054,160.736627352471,168.911481311039,180.008310058012,191.412089249221,203.532472905659,215.563069495925,231.295707466728,245.583827180904,263.293953683547,281.922113156877,303.467514711694,327.515624627849,355.98737705563,389.547753486666,429.45028782406,486.942560718686,589.239985078166,679.514154264471,528.331022161117,468.385113860539,429.359570092376,398.707026491262,372.796463953244,351.679286727653,333.501871252243,316.404165324479,301.298359836495,288.178454339766,274.618610784513,263.651944910496,253.234605444348,242.403787537369,234.063957163075,224.638290834766,216.571992666031,208.402489214466,201.121551427423,193.626891491105,186.906643425464,181.983560903442,175.699460839129,168.749076806937,163.265838928637,157.943207490887,152.915286070194,148.537746896549]},\"fEYhigh\":{\"$arr\":\"Float64\",\"len\":49,\"v\":[135.22657495832,142.810400182138,151.016610379054,161.736627352471,169.911481311039,181.008310058012,192.412089249221,204.532472905659,216.563069495925,232.295707466728,246.583827180904,264.293953683547,282.922113156877,304.467514711694,328.515624627849,356.98737705563,390.547753486666,430.45028782406,487.942560718686,590.239985078166,680.514154264471,529.331022161117,469.385113860539,430.359570092376,399.707026491262,373.796463953244,352.679286727653,334.501871252243,317.404165324479,302.298359836495,289.178454339766,275.618610784513,264.651944910496,254.234605444348,243.403787537369,235.063957163075,225.638290834766,217.571992666031,209.402489214466,202.121551427423,194.626891491105,187.906643425464,182.983560903442,176.699460839129,169.749076806937,164.265838928637,158.943207490887,153.915286070194,149.537746896549]},\"_yAxisLabel\":\"Events \\/ ( 0.0102041 )\",\"_ymin\":0,\"_ymax\":463099.514154264,\"_normValue\":0,\"_nominalBinWidth\":0.0102040816326531,\"_nSigma\":1,\"_entries\":4511871,\"_rawEntries\":-1,\"_originalWeights\":{\"$arr\":\"Float64\",\"len\":49,\"v\":[18151,20252,22655,25997,28700,32583,36830,41629,46683,53729,60557,69587,79762,92396,107594,127083,152137,184857,237600,347793,462419,279662,219853,184779,159366,139350,124030,111557,100428,91082,83335,75690,69776,64381,59002,55020,50687,47120,43640,40651,37685,35121,33300,31046,28645,26819,25104,23536,22212]}}},{\"_typename\":\"TWebSnapshot\",\"fUniqueID\":0,\"fBits\":0,\"fObjectID\":\"\",\"fOption\":\"p\",\"fKind\":1,\"fSnapshot\":{\"_typename\":\"RooHist\",\"fUniqueID\":0,\"fBits\":1032,\"fName\":\"h_\",\"fTitle\":\"Histogram of _plot__O_obs\",\"fLineColor\":1,\"fLineStyle\":1,\"fLineWidth\":2,\"fFillColor\":0,\"fFillStyle\":1000,\"fMarkerColor\":632,\"fMarkerStyle\":8,\"fMarkerSize\":0.7,\"fNpoints\":49,\"fX\":{\"$arr\":\"Float64\",\"len\":49,\"v\":[0.755102040816326,0.76530612244898,0.775510204081633,0.785714285714286,0.795918367346939,0.806122448979592,0.816326530612245,0.826530612244898,0.836734693877551,0.846938775510204,0.857142857142857,0.86734693877551,0.877551020408163,0.887755102040816,0.897959183673469,0.908163265306122,0.918367346938775,0.928571428571428,0.938775510204082,0.948979591836735,0.959183673469388,0.969387755102041,0.979591836734694,0.989795918367347,1,1.01020408163265,1.02040816326531,1.03061224489796,1.04081632653061,1.05102040816327,1.06122448979592,1.07142857142857,1.08163265306122,1.09183673469388,1.10204081632653,1.11224489795918,1.12244897959184,1.13265306122449,1.14285714285714,1.1530612244898,1.16326530612245,1.1734693877551,1.18367346938776,1.19387755102041,1.20408163265306,1.21428571428571,1.22448979591837,1.23469387755102,1.24489795918367]},\"fY\":{\"$arr\":\"Float64\",\"len\":49,\"v\":[18153.115234375,20252.998046875,22655.98828125,25997.97265625,28700.951171875,32583.94140625,36830.87890625,41629.8125,46683.80078125,53729.78515625,60557.765625,69587.7578125,79762.5078125,92396.25,107594.2421875,127083.21875,152137.203125,184857.203125,237600.125,347793.0625,462419.0625,279662.0625,219853.015625,184779.015625,159366,139349.984375,124029.984375,111556.96875,100427.9453125,91081.9375,83334.875,75689.8046875,69775.796875,64380.78125,59001.76171875,55019.75,50686.48828125,47119.24609375,43639.234375,40650.21484375,37684.19921875,35120.1875,33299.1171875,31045.05859375,28644.048828125,26818.02734375,25103.01171875,23535.001953125,22209.869140625]},\"fFunctions\":{\"_typename\":\"TList\",\"name\":\"TList\",\"arr\":[],\"opt\":[]},\"fHistogram\":{\"_typename\":\"TH1F\",\"fUniqueID\":0,\"fBits\":512,\"fName\":\"h_\",\"fTitle\":\"Histogram of _plot__O_obs\",\"fLineColor\":1,\"fLineStyle\":1,\"fLineWidth\":2,\"fFillColor\":0,\"fFillStyle\":1001,\"fMarkerColor\":1,\"fMarkerStyle\":20,\"fMarkerSize\":0.7,\"fNcells\":102,\"fXaxis\":{\"_typename\":\"TAxis\",\"fUniqueID\":0,\"fBits\":0,\"fName\":\"xaxis\",\"fTitle\":\"\",\"fNdivisions\":506,\"fAxisColor\":1,\"fLabelColor\":1,\"fLabelFont\":42,\"fLabelOffset\":0.015,\"fLabelSize\":0.06,\"fTickLength\":0.03,\"fTitleOffset\":1,\"fTitleSize\":0.07,\"fTitleColor\":1,\"fTitleFont\":42,\"fNbins\":100,\"fXmin\":0.7,\"fXmax\":1.3,\"fXbins\":[],\"fFirst\":0,\"fLast\":0,\"fBits2\":0,\"fTimeDisplay\":false,\"fTimeFormat\":\"\",\"fLabels\":null,\"fModLabs\":null},\"fYaxis\":{\"_typename\":\"TAxis\",\"fUniqueID\":0,\"fBits\":0,\"fName\":\"yaxis\",\"fTitle\":\"\",\"fNdivisions\":506,\"fAxisColor\":1,\"fLabelColor\":1,\"fLabelFont\":42,\"fLabelOffset\":0.015,\"fLabelSize\":0.06,\"fTickLength\":0.03,\"fTitleOffset\":1.1,\"fTitleSize\":0.07,\"fTitleColor\":1,\"fTitleFont\":42,\"fNbins\":1,\"fXmin\":16216.5209442354,\"fXmax\":507607.179458035,\"fXbins\":[],\"fFirst\":0,\"fLast\":0,\"fBits2\":0,\"fTimeDisplay\":false,\"fTimeFormat\":\"\",\"fLabels\":null,\"fModLabs\":null},\"fZaxis\":{\"_typename\":\"TAxis\",\"fUniqueID\":0,\"fBits\":0,\"fName\":\"zaxis\",\"fTitle\":\"\",\"fNdivisions\":510,\"fAxisColor\":1,\"fLabelColor\":1,\"fLabelFont\":42,\"fLabelOffset\":0.015,\"fLabelSize\":0.06,\"fTickLength\":0.03,\"fTitleOffset\":1.1,\"fTitleSize\":0.07,\"fTitleColor\":1,\"fTitleFont\":42,\"fNbins\":1,\"fXmin\":0,\"fXmax\":1,\"fXbins\":[],\"fFirst\":0,\"fLast\":0,\"fBits2\":0,\"fTimeDisplay\":false,\"fTimeFormat\":\"\",\"fLabels\":null,\"fModLabs\":null},\"fBarOffset\":0,\"fBarWidth\":1000,\"fEntries\":0,\"fTsumw\":0,\"fTsumw2\":0,\"fTsumwx\":0,\"fTsumwx2\":0,\"fMaximum\":507607.179458035,\"fMinimum\":16216.5209442354,\"fNormFactor\":0,\"fContour\":[],\"fSumw2\":[],\"fOption\":\"\",\"fFunctions\":{\"_typename\":\"TList\",\"name\":\"TList\",\"arr\":[],\"opt\":[]},\"fBufferSize\":0,\"fBuffer\":[],\"fBinStatErrOpt\":0,\"fStatOverflows\":2,\"fArray\":{\"$arr\":\"Float32\",\"len\":102}},\"fMinimum\":-1111,\"fMaximum\":-1111,\"fOption\":\"\",\"fEXlow\":{\"$arr\":\"Float64\",\"len\":49,\"v\":0.00510204081632653,\"n\":49},\"fEXhigh\":{\"$arr\":\"Float64\",\"len\":49,\"v\":0.00510204081632653,\"n\":49},\"fEYlow\":{\"$arr\":\"Float64\",\"len\":49,\"v\":[134.758629669051,142.342905742454,150.549556882335,161.270384663341,169.445300385144,180.542594254701,191.946665583,204.067231077737,216.097745092476,231.830622780144,246.118437959334,263.828446922525,282.456217418635,304.001186285752,328.048667875628,356.519713897595,390.079215567173,429.980630134942,487.472035958829,589.769593972994,680.042153187357,528.847105066812,468.894497551843,429.863722704919,399.206759089454,373.292351192318,352.171776847418,333.991302965343,316.89086187257,301.782572179928,288.66037145113,275.098525974148,264.129929454817,253.710822158507,242.878504624836,234.537106727088,225.110179982764,217.042636651277,208.87205252151,201.590083572455,194.094566739312,187.373478926017,182.449368261908,176.16459778237,169.213807983854,163.729992297899,158.406861173225,153.378475463091,149.000416852506]},\"fEYhigh\":{\"$arr\":\"Float64\",\"len\":49,\"v\":[134.758629669051,142.342905742454,150.549556882335,161.270384663341,169.445300385144,180.542594254701,191.946665583,204.067231077737,216.097745092476,231.830622780144,246.118437959334,263.828446922525,282.456217418635,304.001186285752,328.048667875628,356.519713897595,390.079215567173,429.980630134942,487.472035958829,589.769593972994,680.042153187357,528.847105066812,468.894497551843,429.863722704919,399.206759089454,373.292351192318,352.171776847418,333.991302965343,316.89086187257,301.782572179928,288.66037145113,275.098525974148,264.129929454817,253.710822158507,242.878504624836,234.537106727088,225.110179982764,217.042636651277,208.87205252151,201.590083572455,194.094566739312,187.373478926017,182.449368261908,176.16459778237,169.213807983854,163.729992297899,158.406861173225,153.378475463091,149.000416852506]},\"_yAxisLabel\":\"Events \\/ ( 0.0102041 )\",\"_ymin\":0,\"_ymax\":463099.104653187,\"_normValue\":0,\"_nominalBinWidth\":0.0102040816326531,\"_nSigma\":1,\"_entries\":4511871.03125,\"_rawEntries\":-1,\"_originalWeights\":{\"$arr\":\"Float64\",\"len\":49,\"v\":[18153.115234375,20252.998046875,22655.98828125,25997.97265625,28700.951171875,32583.94140625,36830.87890625,41629.8125,46683.80078125,53729.78515625,60557.765625,69587.7578125,79762.5078125,92396.25,107594.2421875,127083.21875,152137.203125,184857.203125,237600.125,347793.0625,462419.0625,279662.0625,219853.015625,184779.015625,159366,139349.984375,124029.984375,111556.96875,100427.9453125,91081.9375,83334.875,75689.8046875,69775.796875,64380.78125,59001.76171875,55019.75,50686.48828125,47119.24609375,43639.234375,40650.21484375,37684.19921875,35120.1875,33299.1171875,31045.05859375,28644.048828125,26818.02734375,25103.01171875,23535.001953125,22209.869140625]}}},{\"_typename\":\"TWebSnapshot\",\"fUniqueID\":0,\"fBits\":0,\"fObjectID\":\"\",\"fOption\":\"AXISSAME\",\"fKind\":1,\"fSnapshot\":{\"$ref\":15}},{\"_typename\":\"TWebSnapshot\",\"fUniqueID\":0,\"fBits\":0,\"fObjectID\":\"\",\"fOption\":\"blNDC\",\"fKind\":1,\"fSnapshot\":{\"_typename\":\"TPaveText\",\"fUniqueID\":0,\"fBits\":9,\"fLineColor\":1,\"fLineStyle\":1,\"fLineWidth\":2,\"fFillColor\":0,\"fFillStyle\":1001,\"fX1\":0.648550729001458,\"fY1\":500265.214383423,\"fX2\":0.880643010777979,\"fY2\":534879.940780377,\"fX1NDC\":0.00999999977648258,\"fY1NDC\":0.941610174259897,\"fX2NDC\":0.330287356098322,\"fY2NDC\":0.995000004768372,\"fBorderSize\":0,\"fInit\":1,\"fShadowColor\":1,\"fCornerRadius\":0,\"fOption\":\"blNDC\",\"fName\":\"title\",\"fTextAngle\":0,\"fTextSize\":0,\"fTextAlign\":22,\"fTextColor\":1,\"fTextFont\":62,\"fLabel\":\"\",\"fLongest\":20,\"fMargin\":0.05,\"fLines\":{\"_typename\":\"TList\",\"name\":\"TList\",\"arr\":[{\"_typename\":\"TLatex\",\"fUniqueID\":0,\"fBits\":0,\"fName\":\"\",\"fTitle\":\"A RooPlot of \\\"O_obs\\\"\",\"fTextAngle\":0,\"fTextSize\":0,\"fTextAlign\":0,\"fTextColor\":0,\"fTextFont\":0,\"fX\":0,\"fY\":0,\"fLineColor\":1,\"fLineStyle\":1,\"fLineWidth\":2,\"fLimitFactorSize\":3,\"fOriginSize\":0.0453813560307026}],\"opt\":[null]}}}],\"fScripts\":\"\",\"fHighlightConnect\":false,\"fFixedSize\":false});\n",
       "   Core.settings.HandleKeys = false;\n",
       "   Core.draw(\"root_plot_1755257939890\", obj, \"\");\n",
       "}\n",
       "\n",
       "function script_load_root_plot_1755257939890(src, on_error) {\n",
       "    let script = document.createElement('script');\n",
       "    script.src = src;\n",
       "    script.onload = function() { display_root_plot_1755257939890(JSROOT); };\n",
       "    script.onerror = function() { script.remove(); on_error(); };\n",
       "    document.head.appendChild(script);\n",
       "}\n",
       "\n",
       "if (typeof requirejs !== 'undefined') {\n",
       "\n",
       "    // We are in jupyter notebooks, use require.js which should be configured already\n",
       "    requirejs.config({\n",
       "       paths: { 'JSRootCore' : [ 'build/jsroot', 'https://root.cern/js/7.9.0/build/jsroot', 'https://jsroot.gsi.de/7.9.0/build/jsroot' ] }\n",
       "    })(['JSRootCore'],  function(Core) {\n",
       "       display_root_plot_1755257939890(Core);\n",
       "    });\n",
       "\n",
       "} else if (typeof JSROOT !== 'undefined') {\n",
       "\n",
       "   // JSROOT already loaded, just use it\n",
       "   display_root_plot_1755257939890(JSROOT);\n",
       "\n",
       "} else {\n",
       "\n",
       "    // We are in jupyterlab without require.js, directly loading jsroot\n",
       "    // Jupyterlab might be installed in a different base_url so we need to know it.\n",
       "    try {\n",
       "        var base_url = JSON.parse(document.getElementById('jupyter-config-data').innerHTML).baseUrl;\n",
       "    } catch(_) {\n",
       "        var base_url = '/';\n",
       "    }\n",
       "\n",
       "    // Try loading a local version of requirejs and fallback to cdn if not possible.\n",
       "    script_load_root_plot_1755257939890(base_url + 'static/build/jsroot.js', function(){\n",
       "        console.error('Fail to load JSROOT locally, please check your jupyter_notebook_config.py file');\n",
       "        script_load_root_plot_1755257939890('https://root.cern/js/7.9.0/build/jsroot.js', function(){\n",
       "            document.getElementById(\"root_plot_1755257939890\").innerHTML = \"Failed to load JSROOT\";\n",
       "        });\n",
       "    });\n",
       "}\n",
       "\n",
       "</script>\n"
      ],
      "text/plain": [
       "<IPython.core.display.HTML object>"
      ]
     },
     "metadata": {},
     "output_type": "display_data"
    }
   ],
   "source": [
    "frame_oo = O_obs.frame()\n",
    "obs_ds.plotOn(frame_oo)\n",
    "obs_rw_ds.plotOn(frame_oo, MarkerColor=ROOT.kRed)\n",
    "\n",
    "c_oo = ROOT.TCanvas()\n",
    "frame_oo.Draw()\n",
    "c_oo.Draw()"
   ]
  },
  {
   "cell_type": "code",
   "execution_count": 24,
   "id": "50291c42",
   "metadata": {},
   "outputs": [
    {
     "data": {
      "text/html": [
       "\n",
       "\n",
       "<div id=\"root_plot_1755257940390\" style=\"width: 700px; height: 500px; position: relative\">\n",
       "</div>\n",
       "\n",
       "<script>\n",
       "\n",
       "function display_root_plot_1755257940390(Core) {\n",
       "   let obj = Core.parse({\"_typename\":\"TCanvasWebSnapshot\",\"fUniqueID\":0,\"fBits\":0,\"fObjectID\":\"\",\"fOption\":\"\",\"fKind\":3,\"fSnapshot\":{\"_typename\":\"TCanvas\",\"fUniqueID\":0,\"fBits\":3342344,\"fLineColor\":1,\"fLineStyle\":1,\"fLineWidth\":2,\"fFillColor\":10,\"fFillStyle\":1001,\"fLeftMargin\":0.15,\"fRightMargin\":0.16,\"fBottomMargin\":0.17,\"fTopMargin\":0.08,\"fXfile\":2,\"fYfile\":2,\"fAfile\":1,\"fXstat\":0.99,\"fYstat\":0.99,\"fAstat\":2,\"fFrameFillColor\":10,\"fFrameLineColor\":1,\"fFrameFillStyle\":1001,\"fFrameLineStyle\":1,\"fFrameLineWidth\":2,\"fFrameBorderSize\":1,\"fFrameBorderMode\":0,\"fX1\":0.641304352520844,\"fY1\":-33.3572050487185,\"fX2\":1.36594201677914,\"fY2\":28.3726429166495,\"fXtoAbsPixelk\":-615.960018875598,\"fXtoPixelk\":-615.960018875598,\"fXtoPixel\":960.480022401808,\"fYtoAbsPixelk\":216.943470590949,\"fYtoPixelk\":216.943470590949,\"fYtoPixel\":-7.64622003062122,\"fUtoAbsPixelk\":0,\"fUtoPixelk\":0,\"fUtoPixel\":696,\"fVtoAbsPixelk\":472,\"fVtoPixelk\":472,\"fVtoPixel\":-472,\"fAbsPixeltoXk\":0.641304352520844,\"fPixeltoXk\":0.641304352520844,\"fPixeltoX\":0.00104114606933663,\"fAbsPixeltoYk\":28.3726429166495,\"fPixeltoYk\":-33.3572050487185,\"fPixeltoY\":-0.130783576197814,\"fXlowNDC\":0,\"fYlowNDC\":0,\"fXUpNDC\":1,\"fYUpNDC\":1,\"fWNDC\":1,\"fHNDC\":1,\"fAbsXlowNDC\":0,\"fAbsYlowNDC\":0,\"fAbsWNDC\":1,\"fAbsHNDC\":1,\"fUxmin\":0.75,\"fUymin\":-22.8631307842244,\"fUxmax\":1.25,\"fUymax\":23.4342551898017,\"fTheta\":30,\"fPhi\":30,\"fAspectRatio\":0,\"fNumber\":0,\"fTickx\":1,\"fTicky\":1,\"fLogx\":0,\"fLogy\":0,\"fLogz\":0,\"fPadPaint\":0,\"fCrosshair\":0,\"fCrosshairPos\":0,\"fBorderSize\":2,\"fBorderMode\":0,\"fModified\":false,\"fGridx\":false,\"fGridy\":false,\"fAbsCoord\":false,\"fEditable\":true,\"fFixedAspectRatio\":false,\"fPrimitives\":{\"_typename\":\"TList\",\"name\":\"TList\",\"arr\":[],\"opt\":[]},\"fExecs\":null,\"fName\":\"c1_n4\",\"fTitle\":\"c1_n4\",\"fNumPaletteColor\":0,\"fNextPaletteColor\":0,\"fDISPLAY\":\"$DISPLAY\",\"fDoubleBuffer\":0,\"fRetained\":true,\"fXsizeUser\":0,\"fYsizeUser\":0,\"fXsizeReal\":20,\"fYsizeReal\":14.28571,\"fWindowTopX\":0,\"fWindowTopY\":0,\"fWindowWidth\":0,\"fWindowHeight\":0,\"fCw\":696,\"fCh\":472,\"fCatt\":{\"_typename\":\"TAttCanvas\",\"fXBetween\":2,\"fYBetween\":2,\"fTitleFromTop\":1.2,\"fXdate\":0.2,\"fYdate\":0.3,\"fAdate\":1},\"kMoveOpaque\":true,\"kResizeOpaque\":true,\"fHighLightColor\":2,\"fBatch\":true,\"kShowEventStatus\":false,\"kAutoExec\":true,\"kMenuBar\":true},\"fActive\":false,\"fReadOnly\":true,\"fWithoutPrimitives\":false,\"fHasExecs\":false,\"fPrimitives\":[{\"_typename\":\"TWebSnapshot\",\"fUniqueID\":0,\"fBits\":0,\"fObjectID\":\"\",\"fOption\":\"\",\"fKind\":4,\"fSnapshot\":{\"_typename\":\"TWebPainting\",\"fUniqueID\":0,\"fBits\":0,\"fClassName\":\"\",\"fObjectName\":\"\",\"fOper\":\"0:255,255,255;1:0,0,0;2:255,0,0;3:0,255,0;4:0,0,255;5:255,255,0;6:255,0,255;7:0,255,255;8:89,211,84;9:89,84,216;10:254,254,254;11:192,182,172;12:76,76,76;13:102,102,102;14:127,127,127;15:153,153,153;16:178,178,178;17:204,204,204;18:229,229,229;19:242,242,242;20:204,198,170;21:204,198,170;22:193,191,168;23:186,181,163;24:178,165,150;25:183,163,155;26:173,153,140;27:155,142,130;28:135,102,86;29:175,206,198;30:132,193,163;31:137,168,160;32:130,158,140;33:173,188,198;34:122,142,153;35:117,137,145;36:104,130,150;37:109,122,132;38:124,153,209;39:127,127,155;40:170,165,191;41:211,206,135;42:221,186,135;43:188,158,130;44:198,153,124;45:191,130,119;46:206,94,96;47:170,142,147;48:165,119,122;49:147,104,112;50:211,89,84;51:146,0,255;52:122,0,255;53:98,0,255;54:74,0,255;55:51,0,255;56:27,0,255;57:3,0,255;58:0,20,255;59:0,44,255;60:0,68,255;61:0,91,255;62:0,115,255;63:0,139,255;64:0,163,255;65:0,187,255;66:0,210,255;67:0,234,255;68:0,255,251;69:0,255,227;70:0,255,204;71:0,255,180;72:0,255,156;73:0,255,132;74:0,255,108;75:0,255,85;76:0,255,61;77:0,255,37;78:0,255,13;79:10,255,0;80:34,255,0;81:57,255,0;82:81,255,0;83:105,255,0;84:129,255,0;85:153,255,0;86:176,255,0;87:200,255,0;88:224,255,0;89:248,255,0;90:255,238,0;91:255,214,0;92:255,190,0;93:255,166,0;94:255,142,0;95:255,119,0;96:255,95,0;97:255,71,0;98:255,47,0;99:255,23,0;100:111,45,168;101:165,42,42;102:178,190,181;103:87,144,252;104:248,156,32;105:228,37,54;106:150,74,139;107:156,156,161;108:122,33,221;109:24,69,251;110:255,94,2;111:201,31,22;112:200,73,169;113:173,173,125;114:134,200,221;115:87,141,255;116:101,99,100;117:63,144,218;118:255,169,14;119:189,31,1;120:148,164,162;121:131,45,182;122:169,107,89;123:231,99,0;124:185,172,112;125:113,117,129;126:146,218,221;127:178,178,178;201:91,91,91;202:122,122,122;203:183,183,183;204:214,214,214;205:137,15,15;206:183,20,20;207:234,71,71;208:239,117,117;209:15,137,15;210:20,183,20;211:71,234,71;212:117,239,117;213:15,15,137;214:20,20,183;215:71,71,234;216:117,117,239;217:137,137,15;218:183,183,20;219:234,234,71;220:239,239,117;221:137,15,137;222:183,20,183;223:234,71,234;224:239,117,239;225:15,137,137;226:20,183,183;227:71,234,234;228:117,239,239;390:255,255,204;391:255,255,153;392:204,204,153;393:255,255,102;394:204,204,102;395:153,153,102;396:255,255,51;397:204,204,51;398:153,153,51;399:102,102,51;400:255,255,0;401:204,204,0;402:153,153,0;403:102,102,0;404:51,51,0;406:204,255,204;407:153,255,153;408:153,204,153;409:102,255,102;410:102,204,102;411:102,153,102;412:51,255,51;413:51,204,51;414:51,153,51;415:51,102,51;416:0,255,0;417:0,204,0;418:0,153,0;419:0,102,0;420:0,51,0;422:204,255,255;423:153,255,255;424:153,204,204;425:102,255,255;426:102,204,204;427:102,153,153;428:51,255,255;429:51,204,204;430:51,153,153;431:51,102,102;432:0,255,255;433:0,204,204;434:0,153,153;435:0,102,102;436:0,51,51;590:204,204,255;591:153,153,255;592:153,153,204;593:102,102,255;594:102,102,204;595:102,102,153;596:51,51,255;597:51,51,204;598:51,51,153;599:51,51,102;600:0,0,255;601:0,0,204;602:0,0,153;603:0,0,102;604:0,0,51;606:255,204,255;607:255,153,255;608:204,153,204;609:255,102,255;610:204,102,204;611:153,102,153;612:255,51,255;613:204,51,204;614:153,51,153;615:102,51,102;616:255,0,255;617:204,0,204;618:153,0,153;619:102,0,102;620:51,0,51;622:255,204,204;623:255,153,153;624:204,153,153;625:255,102,102;626:204,102,102;627:153,102,102;628:255,51,51;629:204,51,51;630:153,51,51;631:102,51,51;632:255,0,0;633:204,0,0;634:153,0,0;635:102,0,0;636:51,0,0;791:255,204,153;792:204,153,102;793:153,102,51;794:153,102,0;795:204,153,51;796:255,204,102;797:255,153,0;798:255,204,51;799:204,153,0;800:255,204,0;801:255,153,51;802:204,102,0;803:102,51,0;804:153,51,0;805:204,102,51;806:255,153,102;807:255,102,0;808:255,102,51;809:204,51,0;810:255,51,0;811:153,255,51;812:102,204,0;813:51,102,0;814:51,153,0;815:102,204,51;816:153,255,102;817:102,255,0;818:102,255,51;819:51,204,0;820:51,255,0;821:204,255,153;822:153,204,102;823:102,153,51;824:102,153,0;825:153,204,51;826:204,255,102;827:153,255,0;828:204,255,51;829:153,204,0;830:204,255,0;831:153,255,204;832:102,204,153;833:51,153,102;834:0,153,102;835:51,204,153;836:102,255,204;837:0,255,102;838:51,255,204;839:0,204,153;840:0,255,204;841:51,255,153;842:0,204,102;843:0,102,51;844:0,153,51;845:51,204,102;846:102,255,153;847:0,255,153;848:51,255,102;849:0,204,51;850:0,255,51;851:153,204,255;852:102,153,204;853:51,102,153;854:0,51,153;855:51,102,204;856:102,153,255;857:0,102,255;858:51,102,255;859:0,51,204;860:0,51,255;861:51,153,255;862:0,102,204;863:0,51,102;864:0,102,153;865:51,153,204;866:102,204,255;867:0,153,255;868:51,204,255;869:0,153,204;870:0,204,255;871:204,153,255;872:153,102,204;873:102,51,153;874:102,0,153;875:153,51,204;876:204,102,255;877:153,0,255;878:204,51,255;879:153,0,204;880:204,0,255;881:153,51,255;882:102,0,204;883:51,0,102;884:51,0,153;885:102,51,204;886:153,102,255;887:102,0,255;888:102,51,255;889:51,0,204;890:51,0,255;891:255,51,153;892:204,0,102;893:102,0,51;894:153,0,51;895:204,51,102;896:255,102,153;897:255,0,102;898:255,51,102;899:204,0,51;900:255,0,51;901:255,153,204;902:204,102,153;903:153,51,102;904:153,0,102;905:204,51,153;906:255,102,204;907:255,0,153;908:204,0,153;909:255,51,204;910:255,0,153;920:204,204,204;921:153,153,153;922:102,102,102;923:51,51,51;924:53,42,134;925:51,44,137;926:50,45,140;927:49,47,143;928:48,48,146;929:46,50,148;930:45,51,151;931:44,53,154;932:43,55,157;933:42,56,160;934:40,58,162;935:39,59,165;936:38,61,168;937:37,63,171;938:35,64,174;939:34,66,176;940:33,67,179;941:32,69,182;942:31,71,185;943:29,72,187;944:28,74,190;945:27,75,193;946:26,77,196;947:24,79,199;948:23,80,201;949:22,82,204;950:21,83,207;951:19,85,210;952:18,86,213;953:17,88,215;954:16,90,218;955:15,91,221;956:15,92,221;957:15,94,220;958:15,95,220;959:15,96,220;960:15,97,220;961:15,98,220;962:16,99,219;963:16,100,219;964:16,102,219;965:16,103,219;966:16,104,218;967:16,105,218;968:17,106,218;969:17,107,218;970:17,109,217;971:17,110,217;972:17,111,217;973:17,112,217;974:17,113,216;975:18,114,216;976:18,115,216;977:18,117,216;978:18,118,215;979:18,119,215;980:18,120,215;981:18,121,215;982:19,122,215;983:19,123,214;984:19,125,214;985:19,126,214;986:19,127,214;987:19,128,213;988:19,129,213;989:19,130,213;990:18,131,212;991:18,132,212;992:17,134,211;993:17,135,211;994:16,136,211;995:16,137,210;996:15,138,210;997:15,139,210;998:15,140,209;999:14,141,209;1000:14,142,208;1001:13,143,208;1002:13,145,208;1003:12,146,207;1004:12,147,207;1005:12,148,207;1006:11,149,206;1007:11,150,206;1008:10,151,205;1009:10,152,205;1010:9,153,205;1011:9,154,204;1012:8,155,204;1013:8,157,204;1014:8,158,203;1015:7,159,203;1016:7,160,202;1017:6,161,202;1018:6,162,202;1019:5,163,201;1020:7,164,200;1021:8,164,199;1022:9,165,198;1023:10,166,197;1024:12,166,195;1025:13,167,194;1026:14,167,193;1027:15,168,192;1028:17,169,191;1029:18,169,189;1030:19,170,188;1031:20,170,187;1032:22,171,186;1033:23,172,185;1034:24,172,184;1035:25,173,182;1036:27,173,181;1037:28,174,180;1038:29,175,179;1039:30,175,178;1040:32,176,176;1041:33,176,175;1042:34,177,174;1043:35,178,173;1044:37,178,172;1045:38,179,170;1046:39,180,169;1047:40,180,168;1048:42,181,167;1049:43,181,166;1050:44,182,165;1051:45,183,163;1052:48,183,162;1053:51,183,161;1054:54,183,159;1055:57,184,158;1056:59,184,156;1057:62,184,155;1058:65,184,154;1059:68,185,152;1060:71,185,151;1061:73,185,149;1062:76,185,148;1063:79,186,146;1064:82,186,145;1065:84,186,144;1066:87,186,142;1067:90,187,141;1068:93,187,139;1069:96,187,138;1070:98,187,137;1071:101,188,135;1072:104,188,134;1073:107,188,132;1074:110,188,131;1075:112,189,130;1076:115,189,128;1077:118,189,127;1078:121,189,125;1079:124,190,124;1080:126,190,123;1081:129,190,121;1082:132,190,120;1083:135,191,118;1084:137,190,117;1085:139,190,117;1086:142,190,116;1087:144,190,115;1088:146,190,114;1089:148,190,113;1090:151,190,112;1091:153,190,111;1092:155,189,110;1093:158,189,109;1094:160,189,108;1095:162,189,107;1096:165,189,106;1097:167,189,105;1098:169,189,104;1099:171,188,104;1100:174,188,103;1101:176,188,102;1102:178,188,101;1103:181,188,100;1104:183,188,99;1105:185,188,98;1106:188,188,97;1107:190,187,96;1108:192,187,95;1109:194,187,94;1110:197,187,93;1111:199,187,92;1112:201,187,92;1113:204,187,91;1114:206,186,90;1115:208,186,89;1116:210,187,88;1117:211,187,86;1118:212,188,85;1119:214,188,84;1120:215,188,83;1121:217,189,81;1122:218,189,80;1123:220,190,79;1124:221,190,78;1125:222,191,77;1126:224,191,75;1127:225,191,74;1128:227,192,73;1129:228,192,72;1130:229,193,70;1131:231,193,69;1132:232,194,68;1133:234,194,67;1134:235,194,66;1135:236,195,64;1136:238,195,63;1137:239,196,62;1138:241,196,61;1139:242,197,59;1140:244,197,58;1141:245,197,57;1142:246,198,56;1143:248,198,55;1144:249,199,53;1145:251,199,52;1146:252,200,51;1147:253,200,50;1148:253,202,49;1149:253,203,47;1150:253,205,46;1151:253,206,45;1152:253,208,44;1153:252,209,43;1154:252,211,42;1155:252,213,41;1156:252,214,39;1157:252,216,38;1158:252,217,37;1159:252,219,36;1160:251,220,35;1161:251,222,34;1162:251,224,33;1163:251,225,31;1164:251,227,30;1165:251,228,29;1166:250,230,28;1167:250,231,27;1168:250,233,26;1169:250,235,25;1170:250,236,23;1171:250,238,22;1172:250,239,21;1173:249,241,20;1174:249,242,19;1175:249,244,18;1176:249,246,17;1177:249,247,16;1178:249,249,14\",\"fBuf\":{\"$arr\":\"Float32\",\"len\":50,\"v\":[51,52,53,54,55,56,57,58,59,60,61,62,63,64,65,66,67,68,69,70,71,72,73,74,75,76,77,78,79,80,81,82,83,84,85,86,87,88,89,90,91,92,93,94,95,96,97,98,99,632]}}},{\"_typename\":\"TWebSnapshot\",\"fUniqueID\":0,\"fBits\":0,\"fObjectID\":\"\",\"fOption\":\"\",\"fKind\":5,\"fSnapshot\":{\"_typename\":\"TStyle\",\"fUniqueID\":0,\"fBits\":0,\"fName\":\"ildStyle\",\"fTitle\":\"ILD Style\",\"fLineColor\":1,\"fLineStyle\":1,\"fLineWidth\":2,\"fFillColor\":10,\"fFillStyle\":1001,\"fMarkerColor\":1,\"fMarkerStyle\":20,\"fMarkerSize\":0.7,\"fTextAngle\":0,\"fTextSize\":0.05,\"fTextAlign\":11,\"fTextColor\":1,\"fTextFont\":42,\"fXaxis\":{\"_typename\":\"TAttAxis\",\"fNdivisions\":506,\"fAxisColor\":1,\"fLabelColor\":1,\"fLabelFont\":42,\"fLabelOffset\":0.015,\"fLabelSize\":0.06,\"fTickLength\":0.03,\"fTitleOffset\":1,\"fTitleSize\":0.07,\"fTitleColor\":1,\"fTitleFont\":42},\"fYaxis\":{\"_typename\":\"TAttAxis\",\"fNdivisions\":506,\"fAxisColor\":1,\"fLabelColor\":1,\"fLabelFont\":42,\"fLabelOffset\":0.015,\"fLabelSize\":0.06,\"fTickLength\":0.03,\"fTitleOffset\":1.1,\"fTitleSize\":0.07,\"fTitleColor\":1,\"fTitleFont\":42},\"fZaxis\":{\"_typename\":\"TAttAxis\",\"fNdivisions\":510,\"fAxisColor\":1,\"fLabelColor\":1,\"fLabelFont\":42,\"fLabelOffset\":0.015,\"fLabelSize\":0.06,\"fTickLength\":0.03,\"fTitleOffset\":1.1,\"fTitleSize\":0.07,\"fTitleColor\":1,\"fTitleFont\":42},\"fBarWidth\":1,\"fBarOffset\":0,\"fColorModelPS\":0,\"fDrawBorder\":0,\"fOptLogx\":0,\"fOptLogy\":0,\"fOptLogz\":0,\"fOptDate\":0,\"fOptStat\":0,\"fOptTitle\":1,\"fOptFile\":0,\"fOptFit\":0,\"fShowEventStatus\":0,\"fShowEditor\":0,\"fShowToolBar\":0,\"fNumberContours\":20,\"fAttDate\":{\"_typename\":\"TAttText\",\"fTextAngle\":0,\"fTextSize\":0.025,\"fTextAlign\":11,\"fTextColor\":1,\"fTextFont\":62},\"fDateX\":0.01,\"fDateY\":0.01,\"fEndErrorSize\":2,\"fErrorX\":0.5,\"fFuncColor\":632,\"fFuncStyle\":1,\"fFuncWidth\":2,\"fGridColor\":0,\"fGridStyle\":3,\"fGridWidth\":1,\"fLegendBorderSize\":0,\"fLegendFillColor\":0,\"fLegendFillStyle\":1001,\"fLegendFont\":62,\"fLegendTextSize\":0,\"fHatchesLineWidth\":1,\"fHatchesSpacing\":1,\"fFrameFillColor\":10,\"fFrameLineColor\":1,\"fFrameFillStyle\":1001,\"fFrameLineStyle\":1,\"fFrameLineWidth\":2,\"fFrameBorderSize\":1,\"fFrameBorderMode\":0,\"fHistFillColor\":0,\"fHistLineColor\":1,\"fHistFillStyle\":1001,\"fHistLineStyle\":1,\"fHistLineWidth\":2,\"fHistMinimumZero\":false,\"fHistTopMargin\":0.05,\"fCanvasPreferGL\":false,\"fCanvasColor\":10,\"fCanvasBorderSize\":2,\"fCanvasBorderMode\":0,\"fCanvasDefH\":500,\"fCanvasDefW\":700,\"fCanvasDefX\":10,\"fCanvasDefY\":10,\"fPadColor\":10,\"fPadBorderSize\":2,\"fPadBorderMode\":0,\"fPadBottomMargin\":0.17,\"fPadTopMargin\":0.08,\"fPadLeftMargin\":0.15,\"fPadRightMargin\":0.16,\"fPadGridX\":false,\"fPadGridY\":false,\"fPadTickX\":1,\"fPadTickY\":1,\"fPaperSizeX\":20,\"fPaperSizeY\":26,\"fScreenFactor\":1,\"fStatColor\":10,\"fStatTextColor\":1,\"fStatBorderSize\":0,\"fStatFont\":42,\"fStatFontSize\":0.07,\"fStatStyle\":1001,\"fStatFormat\":\"6.4g\",\"fStatX\":0.98,\"fStatY\":0.995,\"fStatW\":0.2,\"fStatH\":0.16,\"fStripDecimals\":true,\"fTitleAlign\":13,\"fTitleColor\":0,\"fTitleTextColor\":1,\"fTitleBorderSize\":0,\"fTitleFont\":62,\"fTitleFontSize\":0,\"fTitleStyle\":1001,\"fTitleX\":0.01,\"fTitleY\":0.995,\"fTitleW\":0,\"fTitleH\":0,\"fLegoInnerR\":0.5,\"fLineStyles\":[\"\",\"  \",\" 12 12\",\" 4 8\",\" 12 16 4 16\",\" 20 12 4 12\",\" 20 12 4 12 4 12 4 12\",\" 20 20\",\" 20 12 4 12 4 12\",\" 80 20\",\" 80 40 4 40\",\"  \",\"  \",\"  \",\"  \",\"  \",\"  \",\"  \",\"  \",\"  \",\"  \",\"  \",\"  \",\"  \",\"  \",\"  \",\"  \",\"  \",\"  \",\"  \"],\"fHeaderPS\":\"\",\"fTitlePS\":\"\",\"fFitFormat\":\"5.4g\",\"fPaintTextFormat\":\"g\",\"fLineScalePS\":3,\"fJoinLinePS\":0,\"fCapLinePS\":0,\"fTimeOffset\":788918400,\"fImageScaling\":1,\"fCandleWhiskerRange\":1,\"fCandleBoxRange\":0.5,\"fCandleScaled\":false,\"fViolinScaled\":true,\"fCandleCircleLineWidth\":1,\"fCandleCrossLineWidth\":1,\"fXAxisExpXOffset\":0,\"fXAxisExpYOffset\":0,\"fYAxisExpXOffset\":0,\"fYAxisExpYOffset\":0,\"fAxisMaxDigits\":5,\"fOrthoCamera\":false}},{\"_typename\":\"TWebSnapshot\",\"fUniqueID\":0,\"fBits\":0,\"fObjectID\":\"\",\"fOption\":\"\",\"fKind\":1,\"fSnapshot\":{\"_typename\":\"TFrame\",\"fUniqueID\":0,\"fBits\":8,\"fLineColor\":1,\"fLineStyle\":1,\"fLineWidth\":2,\"fFillColor\":10,\"fFillStyle\":1001,\"fX1\":0.75,\"fY1\":-22.8631307842244,\"fX2\":1.25,\"fY2\":23.4342551898017,\"fBorderSize\":1,\"fBorderMode\":0}},{\"_typename\":\"TWebSnapshot\",\"fUniqueID\":0,\"fBits\":0,\"fObjectID\":\"\",\"fOption\":\"\",\"fKind\":1,\"fSnapshot\":{\"_typename\":\"TH1F\",\"fUniqueID\":0,\"fBits\":520,\"fName\":\"O_hist_rw__O_obs\",\"fTitle\":\"Histogram of O_hist_rw__O_obs\",\"fLineColor\":1,\"fLineStyle\":1,\"fLineWidth\":2,\"fFillColor\":0,\"fFillStyle\":1001,\"fMarkerColor\":1,\"fMarkerStyle\":20,\"fMarkerSize\":0.7,\"fNcells\":51,\"fXaxis\":{\"_typename\":\"TAxis\",\"fUniqueID\":0,\"fBits\":0,\"fName\":\"xaxis\",\"fTitle\":\"O_obs\",\"fNdivisions\":506,\"fAxisColor\":1,\"fLabelColor\":1,\"fLabelFont\":42,\"fLabelOffset\":0.015,\"fLabelSize\":0.06,\"fTickLength\":0.03,\"fTitleOffset\":1,\"fTitleSize\":0.07,\"fTitleColor\":1,\"fTitleFont\":42,\"fNbins\":49,\"fXmin\":0.75,\"fXmax\":1.25,\"fXbins\":[],\"fFirst\":0,\"fLast\":0,\"fBits2\":0,\"fTimeDisplay\":false,\"fTimeFormat\":\"\",\"fLabels\":null,\"fModLabs\":null},\"fYaxis\":{\"_typename\":\"TAxis\",\"fUniqueID\":0,\"fBits\":0,\"fName\":\"yaxis\",\"fTitle\":\"Events \\/ ( 0.0102041 )\",\"fNdivisions\":506,\"fAxisColor\":1,\"fLabelColor\":1,\"fLabelFont\":42,\"fLabelOffset\":0.015,\"fLabelSize\":0.06,\"fTickLength\":0.03,\"fTitleOffset\":1.1,\"fTitleSize\":0.07,\"fTitleColor\":1,\"fTitleFont\":42,\"fNbins\":1,\"fXmin\":0,\"fXmax\":1,\"fXbins\":[],\"fFirst\":0,\"fLast\":0,\"fBits2\":0,\"fTimeDisplay\":false,\"fTimeFormat\":\"\",\"fLabels\":null,\"fModLabs\":null},\"fZaxis\":{\"_typename\":\"TAxis\",\"fUniqueID\":0,\"fBits\":0,\"fName\":\"zaxis\",\"fTitle\":\"\",\"fNdivisions\":510,\"fAxisColor\":1,\"fLabelColor\":1,\"fLabelFont\":42,\"fLabelOffset\":0.015,\"fLabelSize\":0.06,\"fTickLength\":0.03,\"fTitleOffset\":1.1,\"fTitleSize\":0.07,\"fTitleColor\":1,\"fTitleFont\":42,\"fNbins\":1,\"fXmin\":0,\"fXmax\":1,\"fXbins\":[],\"fFirst\":0,\"fLast\":0,\"fBits2\":0,\"fTimeDisplay\":false,\"fTimeFormat\":\"\",\"fLabels\":null,\"fModLabs\":null},\"fBarOffset\":0,\"fBarWidth\":1000,\"fEntries\":7.80168047498364e-6,\"fTsumw\":-0.0156033609499673,\"fTsumw2\":7974.82768851154,\"fTsumwx\":-0.363110437229796,\"fTsumwx2\":-0.708453298141573,\"fMaximum\":-1111,\"fMinimum\":-1111,\"fNormFactor\":0,\"fContour\":[],\"fSumw2\":{\"$arr\":\"Float64\",\"len\":51,\"p\":1,\"v\":[440.854982857543,395.11539223979,353.202183837208,307.793729400971,278.802509944934,245.574388526963,217.254103562341,192.207043074334,171.396556318602,148.918158658971,132.125795005268,114.97924194493,100.310657325121,86.5935436949843,74.3611654103953,62.9567572401744,52.5884689267771,43.2797784431001,33.6720874458613,23.0033512439735,17.301044208255,28.6068428214207,36.3886990510086,43.2954107095253,50.1989189425481,57.4088197861992,64.4992136727673,71.7100301752735,79.6558143970393,87.8284676821646,95.9922108599475,105.68673798004,114.643252776493,124.24885760456,135.574799150859,145.38535926865,157.812080094416,169.756778446319,183.291874645527,196.767019260646,212.251413864491,227.744451091662,240.196131275686,257.632205994007,279.223878532237,298.23208737055,318.602806751318,339.825084029571,360.077502966111]},\"fOption\":\"\",\"fFunctions\":{\"_typename\":\"TList\",\"name\":\"TList\",\"arr\":[],\"opt\":[]},\"fBufferSize\":0,\"fBuffer\":[],\"fBinStatErrOpt\":0,\"fStatOverflows\":2,\"fArray\":{\"$arr\":\"Float32\",\"len\":51,\"p\":1,\"v\":[0.2330708,0.0985628,0.08724619,0.07482835,0.06628376,0.05778512,0.04772773,0.03903529,0.03430719,0.02922654,0.02528609,0.02178029,0.01273319,0.00541149,0.004501877,0.003442632,0.002670291,0.002197645,0.001052188,3.594092e-4,2.703176e-4,4.469681e-4,1.421404e-4,1.691209e-4,0,-2.242555e-4,-2.519552e-4,-5.602517e-4,-0.001089089,-0.00137239,-0.00299994,-0.005160854,-0.005822203,-0.006795483,-0.008077057,-0.009087604,-0.02019132,-0.03199942,-0.03508822,-0.03862913,-0.04249867,-0.04626862,-0.05302177,-0.0606459,-0.06641102,-0.07253487,-0.07873496,-0.08481023,-0.1918656]}}},{\"_typename\":\"TWebSnapshot\",\"fUniqueID\":0,\"fBits\":0,\"fObjectID\":\"\",\"fOption\":\"blNDC\",\"fKind\":1,\"fSnapshot\":{\"_typename\":\"TPaveText\",\"fUniqueID\":0,\"fBits\":9,\"fLineColor\":1,\"fLineStyle\":1,\"fLineWidth\":2,\"fFillColor\":0,\"fFillStyle\":1001,\"fX1\":0.648550729001458,\"fY1\":24.6113075595513,\"fX2\":0.995169078405009,\"fY2\":28.0639939711736,\"fX1NDC\":0.00999999977648258,\"fY1NDC\":0.939067801378541,\"fX2NDC\":0.488333333109816,\"fY2NDC\":0.995000004768372,\"fBorderSize\":0,\"fInit\":1,\"fShadowColor\":1,\"fCornerRadius\":0,\"fOption\":\"blNDC\",\"fName\":\"title\",\"fTextAngle\":0,\"fTextSize\":0,\"fTextAlign\":22,\"fTextColor\":1,\"fTextFont\":62,\"fLabel\":\"\",\"fLongest\":29,\"fMargin\":0.05,\"fLines\":{\"_typename\":\"TList\",\"name\":\"TList\",\"arr\":[{\"_typename\":\"TLatex\",\"fUniqueID\":0,\"fBits\":0,\"fName\":\"\",\"fTitle\":\"Histogram of O_hist_rw__O_obs\",\"fTextAngle\":0,\"fTextSize\":0,\"fTextAlign\":0,\"fTextColor\":0,\"fTextFont\":0,\"fX\":0,\"fY\":0,\"fLineColor\":1,\"fLineStyle\":1,\"fLineWidth\":2,\"fLimitFactorSize\":3,\"fOriginSize\":0.0475423745810986}],\"opt\":[null]}}}],\"fScripts\":\"\",\"fHighlightConnect\":false,\"fFixedSize\":false});\n",
       "   Core.settings.HandleKeys = false;\n",
       "   Core.draw(\"root_plot_1755257940390\", obj, \"\");\n",
       "}\n",
       "\n",
       "function script_load_root_plot_1755257940390(src, on_error) {\n",
       "    let script = document.createElement('script');\n",
       "    script.src = src;\n",
       "    script.onload = function() { display_root_plot_1755257940390(JSROOT); };\n",
       "    script.onerror = function() { script.remove(); on_error(); };\n",
       "    document.head.appendChild(script);\n",
       "}\n",
       "\n",
       "if (typeof requirejs !== 'undefined') {\n",
       "\n",
       "    // We are in jupyter notebooks, use require.js which should be configured already\n",
       "    requirejs.config({\n",
       "       paths: { 'JSRootCore' : [ 'build/jsroot', 'https://root.cern/js/7.9.0/build/jsroot', 'https://jsroot.gsi.de/7.9.0/build/jsroot' ] }\n",
       "    })(['JSRootCore'],  function(Core) {\n",
       "       display_root_plot_1755257940390(Core);\n",
       "    });\n",
       "\n",
       "} else if (typeof JSROOT !== 'undefined') {\n",
       "\n",
       "   // JSROOT already loaded, just use it\n",
       "   display_root_plot_1755257940390(JSROOT);\n",
       "\n",
       "} else {\n",
       "\n",
       "    // We are in jupyterlab without require.js, directly loading jsroot\n",
       "    // Jupyterlab might be installed in a different base_url so we need to know it.\n",
       "    try {\n",
       "        var base_url = JSON.parse(document.getElementById('jupyter-config-data').innerHTML).baseUrl;\n",
       "    } catch(_) {\n",
       "        var base_url = '/';\n",
       "    }\n",
       "\n",
       "    // Try loading a local version of requirejs and fallback to cdn if not possible.\n",
       "    script_load_root_plot_1755257940390(base_url + 'static/build/jsroot.js', function(){\n",
       "        console.error('Fail to load JSROOT locally, please check your jupyter_notebook_config.py file');\n",
       "        script_load_root_plot_1755257940390('https://root.cern/js/7.9.0/build/jsroot.js', function(){\n",
       "            document.getElementById(\"root_plot_1755257940390\").innerHTML = \"Failed to load JSROOT\";\n",
       "        });\n",
       "    });\n",
       "}\n",
       "\n",
       "</script>\n"
      ],
      "text/plain": [
       "<IPython.core.display.HTML object>"
      ]
     },
     "metadata": {},
     "output_type": "display_data"
    }
   ],
   "source": [
    "O_hist = obs_ds.createHistogram(\"O_hist\", O_obs)\n",
    "O_hist_rw = obs_rw_ds.createHistogram(\"O_hist_rw\", O_obs)\n",
    "slope_hist = O_hist_rw.Clone()\n",
    "slope_hist.Add(O_hist, -1.0)\n",
    "slope_hist.Divide(O_hist)\n",
    "slope_hist.Scale(1 / delta_theta)\n",
    "c_slope_hist = ROOT.TCanvas()\n",
    "slope_hist.Draw()\n",
    "c_slope_hist.Draw()"
   ]
  },
  {
   "cell_type": "code",
   "execution_count": 25,
   "id": "8680daee",
   "metadata": {},
   "outputs": [],
   "source": [
    "# what one would probably do for the classical approach/fit\n",
    "# OO = obs_ds.mean(O_obs) * obs_ds.numEntries()\n",
    "# C = obs_ds.sigma(O_obs)"
   ]
  },
  {
   "cell_type": "code",
   "execution_count": 26,
   "id": "e02ecda7",
   "metadata": {},
   "outputs": [],
   "source": [
    "O_hist_dh = ROOT.RooDataHist(\"O_hist_dh\", \"O_hist_dh\", [O_obs], O_hist)\n",
    "slope_hist_dh = ROOT.RooDataHist(\"slope_hist_dh\", \"slope_hist_dh\", [O_obs], slope_hist)"
   ]
  },
  {
   "cell_type": "code",
   "execution_count": 27,
   "id": "5ca209ae",
   "metadata": {},
   "outputs": [],
   "source": [
    "# prepare dataset to fit\n",
    "O.attachDataSet(data_unbinned)\n",
    "tmp_O_fit_ds = []\n",
    "for i in range(data_unbinned.numEntries()):\n",
    "    data_unbinned.get(i)\n",
    "    tmp_O_fit_ds.append(O.getVal(x_arg_set))"
   ]
  },
  {
   "cell_type": "code",
   "execution_count": 28,
   "id": "73453820",
   "metadata": {},
   "outputs": [
    {
     "name": "stdout",
     "output_type": "stream",
     "text": [
      "0.0941663060632058\n",
      "0.015018254633710003\n",
      "[#0] WARNING:DataHandling -- RooDataSet.from_numpy() Ignored 48851 out-of-range events\n"
     ]
    }
   ],
   "source": [
    "O_fit_ds = ROOT.RooDataSet.from_numpy({\"O_obs\": np.asarray(tmp_O_fit_ds)}, [O_obs])\n",
    "O_fit_dh = O_fit_ds.binnedClone()\n",
    "\n",
    "# C = np.cov(np.asarray(tmp_O_fit_ds).T)\n",
    "C = O_fit_ds.sigma(O_obs)\n",
    "print(C)\n",
    "print(1 /(C * np.sqrt(n_events_data)))"
   ]
  },
  {
   "cell_type": "code",
   "execution_count": 29,
   "id": "552778ae",
   "metadata": {},
   "outputs": [
    {
     "name": "stdout",
     "output_type": "stream",
     "text": [
      "0xfa8e580 RooRealSumPdf::fit_model2 = 159366 [Auto,Dirty] \n",
      "  0xfa11d30/V- RooProduct::proto_model2 = 159366 [Auto,Clean] \n",
      "    0xfba62d0/V- RooHistFunc::sm_template = 159366 [Auto,Clean] \n",
      "      0xc2d9140/V- RooRealVar::O_obs = 1\n",
      "    0xfa95530/V- RooAddition::abs_change = 1 [Auto,Clean] \n",
      "      0xfa8ab00/V- RooConstVar::1 = 1\n",
      "      0xfa4de30/V- RooProduct::rel_change = 0 [Auto,Clean] \n",
      "        0xfafcc90/V- RooRealVar::dt_fit = 0\n",
      "        0xfbaf440/V- RooHistFunc::theta_param = 0 [Auto,Clean] \n",
      "          0xc2d9140/V- RooRealVar::O_obs = 1\n"
     ]
    }
   ],
   "source": [
    "# do a simple ML template fit\n",
    "sm_template = ROOT.RooHistFunc(\"sm_template\", \"sm_template\", O_obs, O_hist_dh)\n",
    "theta_param = ROOT.RooHistFunc(\"theta_param\", \"theta_param\", O_obs, slope_hist_dh)\n",
    "delta_theta_fit = ROOT.RooRealVar(\"dt_fit\", \"dt_fit\", 0., -0.5, 0.5)\n",
    "rel_change = ROOT.RooProduct(\"rel_change\", \"rel_change\", [delta_theta_fit, theta_param])\n",
    "abs_change = ROOT.RooAddition(\"abs_change\", \"abs_change\", [ROOT.RooFit.RooConst(1.0), rel_change])\n",
    "some_factor = ROOT.RooRealVar(\"some_factor\", \"some_factor\", n_events_data, 0., 2* n_events_data)\n",
    "proto_model2 = ROOT.RooProduct(\"proto_model2\", \"proto_model2\", [sm_template, abs_change])\n",
    "# fit_model2 = ROOT.RooRealSumPdf(\"fit_model2\", \"fit_model2\", [proto_model2], [some_factor], True)\n",
    "fit_model2 = ROOT.RooRealSumPdf(\"fit_model2\", \"fit_model2\", [proto_model2], [])\n",
    "# fit_model2 = ROOT.RooRealSumPdf(\"fit_model2\", \"fit_model2\", [proto_model2], [])\n",
    "fit_model2.Print(\"t\")"
   ]
  },
  {
   "cell_type": "code",
   "execution_count": 30,
   "id": "0543eb51",
   "metadata": {},
   "outputs": [
    {
     "name": "stdout",
     "output_type": "stream",
     "text": [
      "[#1] INFO:Fitting -- RooAbsPdf::fitTo(fit_model2_over_fit_model2_Int[O_obs]) fixing normalization set for coefficient determination to observables in data\n",
      "[#1] INFO:Fitting -- Creation of NLL object took 215.221 μs\n",
      "0x100459a0 RooAbsReal::RooEvaluatorWrapper = [#1] INFO:NumericIntegration -- RooRealIntegral::init(proto_model2_Int[O_obs]) using numeric integrator RooBinIntegrator to calculate Int(O_obs)\n",
      "-473768 [Auto,Dirty] \n",
      "  0xfa12280/-- RooAddition::nll_fit_model2_over_fit_model2_Int[O_obs]__binned = 0 [Auto,Clean] \n",
      "    0x1003c2b0/V- RooFit::Detail::RooNLLVarNew::RooNLLVarNew = 0 [Auto,Clean] \n",
      "      0xfa7c750/V- RooFit::Detail::RooNormalizedPdf::fit_model2_over_fit_model2_Int[O_obs] = 3.46151 [ADIRTY] \n",
      "        0xfa0c7f0/V- RooRealSumPdf::fit_model2 = 159366 [ADIRTY] \n",
      "          0xfa731e0/V- RooProduct::proto_model2 = 159366 [ADIRTY] \n",
      "            0xfa6d130/V- RooHistFunc::sm_template = 159366 [ADIRTY] \n",
      "              0x10045560/V- RooRealVar::O_obs = 1\n",
      "            0xf9fb150/V- RooAddition::abs_change = 1 [ADIRTY] \n",
      "              0x1008e2d0/V- RooConstVar::1 = 1\n",
      "              0xfa7f440/V- RooProduct::rel_change = 0 [ADIRTY] \n",
      "                0xfafcc90/V- RooRealVar::dt_fit = 0\n",
      "                0x10051ba0/V- RooHistFunc::theta_param = 0 [ADIRTY] \n",
      "                  0x10045560/V- RooRealVar::O_obs = 1\n",
      "        0xfa78d20/V- RooRealIntegral::fit_model2_Int[O_obs] = 46039.5 [Auto,Clean] \n",
      "          0x10045560/-S RooRealVar::O_obs = 1\n",
      "          0xfa0c7f0/-- RooRealSumPdf::fit_model2 = 159366 [ADIRTY] \n",
      "            0xfa731e0/V- RooProduct::proto_model2 = 159366 [ADIRTY] \n",
      "              0xfa6d130/V- RooHistFunc::sm_template = 159366 [ADIRTY] \n",
      "                0x10045560/V- RooRealVar::O_obs = 1\n",
      "              0xf9fb150/V- RooAddition::abs_change = 1 [ADIRTY] \n",
      "                0x1008e2d0/V- RooConstVar::1 = 1\n",
      "                0xfa7f440/V- RooProduct::rel_change = 0 [ADIRTY] \n",
      "                  0xfafcc90/V- RooRealVar::dt_fit = 0\n",
      "                  0x10051ba0/V- RooHistFunc::theta_param = 0 [ADIRTY] \n",
      "                    0x10045560/V- RooRealVar::O_obs = 1\n",
      "          0xfafcc90/V- RooRealVar::dt_fit = 0\n",
      "          0x1008e2d0/V- RooConstVar::1 = 1\n",
      "      0x100999c0/V- RooConstVar::_weight = 1\n",
      "      0x1009c190/V- RooConstVar::_weight_sumW2 = 1\n",
      "  0xfafcc90/V- RooRealVar::dt_fit = 0\n"
     ]
    }
   ],
   "source": [
    "# fit_model2.fitTo(O_fit_dh)\n",
    "nll2 = fit_model2.createNLL(O_fit_dh)\n",
    "nll2.Print(\"t\")"
   ]
  },
  {
   "cell_type": "code",
   "execution_count": 31,
   "id": "7ec29adc",
   "metadata": {},
   "outputs": [
    {
     "data": {
      "text/html": [
       "\n",
       "\n",
       "<div id=\"root_plot_1755257942017\" style=\"width: 700px; height: 500px; position: relative\">\n",
       "</div>\n",
       "\n",
       "<script>\n",
       "\n",
       "function display_root_plot_1755257942017(Core) {\n",
       "   let obj = Core.parse({\"_typename\":\"TCanvasWebSnapshot\",\"fUniqueID\":0,\"fBits\":0,\"fObjectID\":\"\",\"fOption\":\"\",\"fKind\":3,\"fSnapshot\":{\"_typename\":\"TCanvas\",\"fUniqueID\":0,\"fBits\":3342344,\"fLineColor\":1,\"fLineStyle\":1,\"fLineWidth\":2,\"fFillColor\":10,\"fFillStyle\":1001,\"fLeftMargin\":0.15,\"fRightMargin\":0.16,\"fBottomMargin\":0.17,\"fTopMargin\":0.08,\"fXfile\":2,\"fYfile\":2,\"fAfile\":1,\"fXstat\":0.99,\"fYstat\":0.99,\"fAstat\":2,\"fFrameFillColor\":10,\"fFrameLineColor\":1,\"fFrameFillStyle\":1001,\"fFrameLineStyle\":1,\"fFrameLineWidth\":2,\"fFrameBorderSize\":1,\"fFrameBorderMode\":0,\"fX1\":-0.717391294958311,\"fY1\":-15.8217942373827,\"fX2\":0.731884033558276,\"fY2\":77.2475826506271,\"fXtoAbsPixelk\":344.520003526211,\"fXtoPixelk\":344.520003526211,\"fXtoPixel\":480.240011200904,\"fYtoAbsPixelk\":391.759999155998,\"fYtoPixelk\":391.759999155998,\"fYtoPixel\":-5.07148554962345,\"fUtoAbsPixelk\":0,\"fUtoPixelk\":0,\"fUtoPixel\":696,\"fVtoAbsPixelk\":472,\"fVtoPixelk\":472,\"fVtoPixel\":-472,\"fAbsPixeltoXk\":-0.717391294958311,\"fPixeltoXk\":-0.717391294958311,\"fPixeltoX\":0.00208229213867326,\"fAbsPixeltoYk\":77.247582650627,\"fPixeltoYk\":-15.8217942373827,\"fPixeltoY\":-0.197180883237309,\"fXlowNDC\":0,\"fYlowNDC\":0,\"fXUpNDC\":1,\"fYUpNDC\":1,\"fWNDC\":1,\"fHNDC\":1,\"fAbsXlowNDC\":0,\"fAbsYlowNDC\":0,\"fAbsWNDC\":1,\"fAbsHNDC\":1,\"fUxmin\":-0.5,\"fUymin\":0,\"fUxmax\":0.5,\"fUymax\":69.8020326660073,\"fTheta\":30,\"fPhi\":30,\"fAspectRatio\":0,\"fNumber\":0,\"fTickx\":1,\"fTicky\":1,\"fLogx\":0,\"fLogy\":0,\"fLogz\":0,\"fPadPaint\":0,\"fCrosshair\":0,\"fCrosshairPos\":0,\"fBorderSize\":2,\"fBorderMode\":0,\"fModified\":false,\"fGridx\":false,\"fGridy\":false,\"fAbsCoord\":false,\"fEditable\":true,\"fFixedAspectRatio\":false,\"fPrimitives\":{\"_typename\":\"TList\",\"name\":\"TList\",\"arr\":[],\"opt\":[]},\"fExecs\":null,\"fName\":\"c1_n5\",\"fTitle\":\"c1_n5\",\"fNumPaletteColor\":0,\"fNextPaletteColor\":0,\"fDISPLAY\":\"$DISPLAY\",\"fDoubleBuffer\":0,\"fRetained\":true,\"fXsizeUser\":0,\"fYsizeUser\":0,\"fXsizeReal\":20,\"fYsizeReal\":14.28571,\"fWindowTopX\":0,\"fWindowTopY\":0,\"fWindowWidth\":0,\"fWindowHeight\":0,\"fCw\":696,\"fCh\":472,\"fCatt\":{\"_typename\":\"TAttCanvas\",\"fXBetween\":2,\"fYBetween\":2,\"fTitleFromTop\":1.2,\"fXdate\":0.2,\"fYdate\":0.3,\"fAdate\":1},\"kMoveOpaque\":true,\"kResizeOpaque\":true,\"fHighLightColor\":2,\"fBatch\":true,\"kShowEventStatus\":false,\"kAutoExec\":true,\"kMenuBar\":true},\"fActive\":false,\"fReadOnly\":true,\"fWithoutPrimitives\":false,\"fHasExecs\":false,\"fPrimitives\":[{\"_typename\":\"TWebSnapshot\",\"fUniqueID\":0,\"fBits\":0,\"fObjectID\":\"\",\"fOption\":\"\",\"fKind\":4,\"fSnapshot\":{\"_typename\":\"TWebPainting\",\"fUniqueID\":0,\"fBits\":0,\"fClassName\":\"\",\"fObjectName\":\"\",\"fOper\":\"0:255,255,255;1:0,0,0;2:255,0,0;3:0,255,0;4:0,0,255;5:255,255,0;6:255,0,255;7:0,255,255;8:89,211,84;9:89,84,216;10:254,254,254;11:192,182,172;12:76,76,76;13:102,102,102;14:127,127,127;15:153,153,153;16:178,178,178;17:204,204,204;18:229,229,229;19:242,242,242;20:204,198,170;21:204,198,170;22:193,191,168;23:186,181,163;24:178,165,150;25:183,163,155;26:173,153,140;27:155,142,130;28:135,102,86;29:175,206,198;30:132,193,163;31:137,168,160;32:130,158,140;33:173,188,198;34:122,142,153;35:117,137,145;36:104,130,150;37:109,122,132;38:124,153,209;39:127,127,155;40:170,165,191;41:211,206,135;42:221,186,135;43:188,158,130;44:198,153,124;45:191,130,119;46:206,94,96;47:170,142,147;48:165,119,122;49:147,104,112;50:211,89,84;51:146,0,255;52:122,0,255;53:98,0,255;54:74,0,255;55:51,0,255;56:27,0,255;57:3,0,255;58:0,20,255;59:0,44,255;60:0,68,255;61:0,91,255;62:0,115,255;63:0,139,255;64:0,163,255;65:0,187,255;66:0,210,255;67:0,234,255;68:0,255,251;69:0,255,227;70:0,255,204;71:0,255,180;72:0,255,156;73:0,255,132;74:0,255,108;75:0,255,85;76:0,255,61;77:0,255,37;78:0,255,13;79:10,255,0;80:34,255,0;81:57,255,0;82:81,255,0;83:105,255,0;84:129,255,0;85:153,255,0;86:176,255,0;87:200,255,0;88:224,255,0;89:248,255,0;90:255,238,0;91:255,214,0;92:255,190,0;93:255,166,0;94:255,142,0;95:255,119,0;96:255,95,0;97:255,71,0;98:255,47,0;99:255,23,0;100:111,45,168;101:165,42,42;102:178,190,181;103:87,144,252;104:248,156,32;105:228,37,54;106:150,74,139;107:156,156,161;108:122,33,221;109:24,69,251;110:255,94,2;111:201,31,22;112:200,73,169;113:173,173,125;114:134,200,221;115:87,141,255;116:101,99,100;117:63,144,218;118:255,169,14;119:189,31,1;120:148,164,162;121:131,45,182;122:169,107,89;123:231,99,0;124:185,172,112;125:113,117,129;126:146,218,221;127:178,178,178;201:91,91,91;202:122,122,122;203:183,183,183;204:214,214,214;205:137,15,15;206:183,20,20;207:234,71,71;208:239,117,117;209:15,137,15;210:20,183,20;211:71,234,71;212:117,239,117;213:15,15,137;214:20,20,183;215:71,71,234;216:117,117,239;217:137,137,15;218:183,183,20;219:234,234,71;220:239,239,117;221:137,15,137;222:183,20,183;223:234,71,234;224:239,117,239;225:15,137,137;226:20,183,183;227:71,234,234;228:117,239,239;390:255,255,204;391:255,255,153;392:204,204,153;393:255,255,102;394:204,204,102;395:153,153,102;396:255,255,51;397:204,204,51;398:153,153,51;399:102,102,51;400:255,255,0;401:204,204,0;402:153,153,0;403:102,102,0;404:51,51,0;406:204,255,204;407:153,255,153;408:153,204,153;409:102,255,102;410:102,204,102;411:102,153,102;412:51,255,51;413:51,204,51;414:51,153,51;415:51,102,51;416:0,255,0;417:0,204,0;418:0,153,0;419:0,102,0;420:0,51,0;422:204,255,255;423:153,255,255;424:153,204,204;425:102,255,255;426:102,204,204;427:102,153,153;428:51,255,255;429:51,204,204;430:51,153,153;431:51,102,102;432:0,255,255;433:0,204,204;434:0,153,153;435:0,102,102;436:0,51,51;590:204,204,255;591:153,153,255;592:153,153,204;593:102,102,255;594:102,102,204;595:102,102,153;596:51,51,255;597:51,51,204;598:51,51,153;599:51,51,102;600:0,0,255;601:0,0,204;602:0,0,153;603:0,0,102;604:0,0,51;606:255,204,255;607:255,153,255;608:204,153,204;609:255,102,255;610:204,102,204;611:153,102,153;612:255,51,255;613:204,51,204;614:153,51,153;615:102,51,102;616:255,0,255;617:204,0,204;618:153,0,153;619:102,0,102;620:51,0,51;622:255,204,204;623:255,153,153;624:204,153,153;625:255,102,102;626:204,102,102;627:153,102,102;628:255,51,51;629:204,51,51;630:153,51,51;631:102,51,51;632:255,0,0;633:204,0,0;634:153,0,0;635:102,0,0;636:51,0,0;791:255,204,153;792:204,153,102;793:153,102,51;794:153,102,0;795:204,153,51;796:255,204,102;797:255,153,0;798:255,204,51;799:204,153,0;800:255,204,0;801:255,153,51;802:204,102,0;803:102,51,0;804:153,51,0;805:204,102,51;806:255,153,102;807:255,102,0;808:255,102,51;809:204,51,0;810:255,51,0;811:153,255,51;812:102,204,0;813:51,102,0;814:51,153,0;815:102,204,51;816:153,255,102;817:102,255,0;818:102,255,51;819:51,204,0;820:51,255,0;821:204,255,153;822:153,204,102;823:102,153,51;824:102,153,0;825:153,204,51;826:204,255,102;827:153,255,0;828:204,255,51;829:153,204,0;830:204,255,0;831:153,255,204;832:102,204,153;833:51,153,102;834:0,153,102;835:51,204,153;836:102,255,204;837:0,255,102;838:51,255,204;839:0,204,153;840:0,255,204;841:51,255,153;842:0,204,102;843:0,102,51;844:0,153,51;845:51,204,102;846:102,255,153;847:0,255,153;848:51,255,102;849:0,204,51;850:0,255,51;851:153,204,255;852:102,153,204;853:51,102,153;854:0,51,153;855:51,102,204;856:102,153,255;857:0,102,255;858:51,102,255;859:0,51,204;860:0,51,255;861:51,153,255;862:0,102,204;863:0,51,102;864:0,102,153;865:51,153,204;866:102,204,255;867:0,153,255;868:51,204,255;869:0,153,204;870:0,204,255;871:204,153,255;872:153,102,204;873:102,51,153;874:102,0,153;875:153,51,204;876:204,102,255;877:153,0,255;878:204,51,255;879:153,0,204;880:204,0,255;881:153,51,255;882:102,0,204;883:51,0,102;884:51,0,153;885:102,51,204;886:153,102,255;887:102,0,255;888:102,51,255;889:51,0,204;890:51,0,255;891:255,51,153;892:204,0,102;893:102,0,51;894:153,0,51;895:204,51,102;896:255,102,153;897:255,0,102;898:255,51,102;899:204,0,51;900:255,0,51;901:255,153,204;902:204,102,153;903:153,51,102;904:153,0,102;905:204,51,153;906:255,102,204;907:255,0,153;908:204,0,153;909:255,51,204;910:255,0,153;920:204,204,204;921:153,153,153;922:102,102,102;923:51,51,51;924:53,42,134;925:51,44,137;926:50,45,140;927:49,47,143;928:48,48,146;929:46,50,148;930:45,51,151;931:44,53,154;932:43,55,157;933:42,56,160;934:40,58,162;935:39,59,165;936:38,61,168;937:37,63,171;938:35,64,174;939:34,66,176;940:33,67,179;941:32,69,182;942:31,71,185;943:29,72,187;944:28,74,190;945:27,75,193;946:26,77,196;947:24,79,199;948:23,80,201;949:22,82,204;950:21,83,207;951:19,85,210;952:18,86,213;953:17,88,215;954:16,90,218;955:15,91,221;956:15,92,221;957:15,94,220;958:15,95,220;959:15,96,220;960:15,97,220;961:15,98,220;962:16,99,219;963:16,100,219;964:16,102,219;965:16,103,219;966:16,104,218;967:16,105,218;968:17,106,218;969:17,107,218;970:17,109,217;971:17,110,217;972:17,111,217;973:17,112,217;974:17,113,216;975:18,114,216;976:18,115,216;977:18,117,216;978:18,118,215;979:18,119,215;980:18,120,215;981:18,121,215;982:19,122,215;983:19,123,214;984:19,125,214;985:19,126,214;986:19,127,214;987:19,128,213;988:19,129,213;989:19,130,213;990:18,131,212;991:18,132,212;992:17,134,211;993:17,135,211;994:16,136,211;995:16,137,210;996:15,138,210;997:15,139,210;998:15,140,209;999:14,141,209;1000:14,142,208;1001:13,143,208;1002:13,145,208;1003:12,146,207;1004:12,147,207;1005:12,148,207;1006:11,149,206;1007:11,150,206;1008:10,151,205;1009:10,152,205;1010:9,153,205;1011:9,154,204;1012:8,155,204;1013:8,157,204;1014:8,158,203;1015:7,159,203;1016:7,160,202;1017:6,161,202;1018:6,162,202;1019:5,163,201;1020:7,164,200;1021:8,164,199;1022:9,165,198;1023:10,166,197;1024:12,166,195;1025:13,167,194;1026:14,167,193;1027:15,168,192;1028:17,169,191;1029:18,169,189;1030:19,170,188;1031:20,170,187;1032:22,171,186;1033:23,172,185;1034:24,172,184;1035:25,173,182;1036:27,173,181;1037:28,174,180;1038:29,175,179;1039:30,175,178;1040:32,176,176;1041:33,176,175;1042:34,177,174;1043:35,178,173;1044:37,178,172;1045:38,179,170;1046:39,180,169;1047:40,180,168;1048:42,181,167;1049:43,181,166;1050:44,182,165;1051:45,183,163;1052:48,183,162;1053:51,183,161;1054:54,183,159;1055:57,184,158;1056:59,184,156;1057:62,184,155;1058:65,184,154;1059:68,185,152;1060:71,185,151;1061:73,185,149;1062:76,185,148;1063:79,186,146;1064:82,186,145;1065:84,186,144;1066:87,186,142;1067:90,187,141;1068:93,187,139;1069:96,187,138;1070:98,187,137;1071:101,188,135;1072:104,188,134;1073:107,188,132;1074:110,188,131;1075:112,189,130;1076:115,189,128;1077:118,189,127;1078:121,189,125;1079:124,190,124;1080:126,190,123;1081:129,190,121;1082:132,190,120;1083:135,191,118;1084:137,190,117;1085:139,190,117;1086:142,190,116;1087:144,190,115;1088:146,190,114;1089:148,190,113;1090:151,190,112;1091:153,190,111;1092:155,189,110;1093:158,189,109;1094:160,189,108;1095:162,189,107;1096:165,189,106;1097:167,189,105;1098:169,189,104;1099:171,188,104;1100:174,188,103;1101:176,188,102;1102:178,188,101;1103:181,188,100;1104:183,188,99;1105:185,188,98;1106:188,188,97;1107:190,187,96;1108:192,187,95;1109:194,187,94;1110:197,187,93;1111:199,187,92;1112:201,187,92;1113:204,187,91;1114:206,186,90;1115:208,186,89;1116:210,187,88;1117:211,187,86;1118:212,188,85;1119:214,188,84;1120:215,188,83;1121:217,189,81;1122:218,189,80;1123:220,190,79;1124:221,190,78;1125:222,191,77;1126:224,191,75;1127:225,191,74;1128:227,192,73;1129:228,192,72;1130:229,193,70;1131:231,193,69;1132:232,194,68;1133:234,194,67;1134:235,194,66;1135:236,195,64;1136:238,195,63;1137:239,196,62;1138:241,196,61;1139:242,197,59;1140:244,197,58;1141:245,197,57;1142:246,198,56;1143:248,198,55;1144:249,199,53;1145:251,199,52;1146:252,200,51;1147:253,200,50;1148:253,202,49;1149:253,203,47;1150:253,205,46;1151:253,206,45;1152:253,208,44;1153:252,209,43;1154:252,211,42;1155:252,213,41;1156:252,214,39;1157:252,216,38;1158:252,217,37;1159:252,219,36;1160:251,220,35;1161:251,222,34;1162:251,224,33;1163:251,225,31;1164:251,227,30;1165:251,228,29;1166:250,230,28;1167:250,231,27;1168:250,233,26;1169:250,235,25;1170:250,236,23;1171:250,238,22;1172:250,239,21;1173:249,241,20;1174:249,242,19;1175:249,244,18;1176:249,246,17;1177:249,247,16;1178:249,249,14\",\"fBuf\":{\"$arr\":\"Float32\",\"len\":50,\"v\":[51,52,53,54,55,56,57,58,59,60,61,62,63,64,65,66,67,68,69,70,71,72,73,74,75,76,77,78,79,80,81,82,83,84,85,86,87,88,89,90,91,92,93,94,95,96,97,98,99,632]}}},{\"_typename\":\"TWebSnapshot\",\"fUniqueID\":0,\"fBits\":0,\"fObjectID\":\"\",\"fOption\":\"\",\"fKind\":5,\"fSnapshot\":{\"_typename\":\"TStyle\",\"fUniqueID\":0,\"fBits\":0,\"fName\":\"ildStyle\",\"fTitle\":\"ILD Style\",\"fLineColor\":1,\"fLineStyle\":1,\"fLineWidth\":2,\"fFillColor\":10,\"fFillStyle\":1001,\"fMarkerColor\":1,\"fMarkerStyle\":20,\"fMarkerSize\":0.7,\"fTextAngle\":0,\"fTextSize\":0.05,\"fTextAlign\":11,\"fTextColor\":1,\"fTextFont\":42,\"fXaxis\":{\"_typename\":\"TAttAxis\",\"fNdivisions\":506,\"fAxisColor\":1,\"fLabelColor\":1,\"fLabelFont\":42,\"fLabelOffset\":0.015,\"fLabelSize\":0.06,\"fTickLength\":0.03,\"fTitleOffset\":1,\"fTitleSize\":0.07,\"fTitleColor\":1,\"fTitleFont\":42},\"fYaxis\":{\"_typename\":\"TAttAxis\",\"fNdivisions\":506,\"fAxisColor\":1,\"fLabelColor\":1,\"fLabelFont\":42,\"fLabelOffset\":0.015,\"fLabelSize\":0.06,\"fTickLength\":0.03,\"fTitleOffset\":1.1,\"fTitleSize\":0.07,\"fTitleColor\":1,\"fTitleFont\":42},\"fZaxis\":{\"_typename\":\"TAttAxis\",\"fNdivisions\":510,\"fAxisColor\":1,\"fLabelColor\":1,\"fLabelFont\":42,\"fLabelOffset\":0.015,\"fLabelSize\":0.06,\"fTickLength\":0.03,\"fTitleOffset\":1.1,\"fTitleSize\":0.07,\"fTitleColor\":1,\"fTitleFont\":42},\"fBarWidth\":1,\"fBarOffset\":0,\"fColorModelPS\":0,\"fDrawBorder\":0,\"fOptLogx\":0,\"fOptLogy\":0,\"fOptLogz\":0,\"fOptDate\":0,\"fOptStat\":0,\"fOptTitle\":1,\"fOptFile\":0,\"fOptFit\":0,\"fShowEventStatus\":0,\"fShowEditor\":0,\"fShowToolBar\":0,\"fNumberContours\":20,\"fAttDate\":{\"_typename\":\"TAttText\",\"fTextAngle\":0,\"fTextSize\":0.025,\"fTextAlign\":11,\"fTextColor\":1,\"fTextFont\":62},\"fDateX\":0.01,\"fDateY\":0.01,\"fEndErrorSize\":2,\"fErrorX\":0.5,\"fFuncColor\":632,\"fFuncStyle\":1,\"fFuncWidth\":2,\"fGridColor\":0,\"fGridStyle\":3,\"fGridWidth\":1,\"fLegendBorderSize\":0,\"fLegendFillColor\":0,\"fLegendFillStyle\":1001,\"fLegendFont\":62,\"fLegendTextSize\":0,\"fHatchesLineWidth\":1,\"fHatchesSpacing\":1,\"fFrameFillColor\":10,\"fFrameLineColor\":1,\"fFrameFillStyle\":1001,\"fFrameLineStyle\":1,\"fFrameLineWidth\":2,\"fFrameBorderSize\":1,\"fFrameBorderMode\":0,\"fHistFillColor\":0,\"fHistLineColor\":1,\"fHistFillStyle\":1001,\"fHistLineStyle\":1,\"fHistLineWidth\":2,\"fHistMinimumZero\":false,\"fHistTopMargin\":0.05,\"fCanvasPreferGL\":false,\"fCanvasColor\":10,\"fCanvasBorderSize\":2,\"fCanvasBorderMode\":0,\"fCanvasDefH\":500,\"fCanvasDefW\":700,\"fCanvasDefX\":10,\"fCanvasDefY\":10,\"fPadColor\":10,\"fPadBorderSize\":2,\"fPadBorderMode\":0,\"fPadBottomMargin\":0.17,\"fPadTopMargin\":0.08,\"fPadLeftMargin\":0.15,\"fPadRightMargin\":0.16,\"fPadGridX\":false,\"fPadGridY\":false,\"fPadTickX\":1,\"fPadTickY\":1,\"fPaperSizeX\":20,\"fPaperSizeY\":26,\"fScreenFactor\":1,\"fStatColor\":10,\"fStatTextColor\":1,\"fStatBorderSize\":0,\"fStatFont\":42,\"fStatFontSize\":0.07,\"fStatStyle\":1001,\"fStatFormat\":\"6.4g\",\"fStatX\":0.98,\"fStatY\":0.995,\"fStatW\":0.2,\"fStatH\":0.16,\"fStripDecimals\":true,\"fTitleAlign\":13,\"fTitleColor\":0,\"fTitleTextColor\":1,\"fTitleBorderSize\":0,\"fTitleFont\":62,\"fTitleFontSize\":0,\"fTitleStyle\":1001,\"fTitleX\":0.01,\"fTitleY\":0.995,\"fTitleW\":0,\"fTitleH\":0,\"fLegoInnerR\":0.5,\"fLineStyles\":[\"\",\"  \",\" 12 12\",\" 4 8\",\" 12 16 4 16\",\" 20 12 4 12\",\" 20 12 4 12 4 12 4 12\",\" 20 20\",\" 20 12 4 12 4 12\",\" 80 20\",\" 80 40 4 40\",\"  \",\"  \",\"  \",\"  \",\"  \",\"  \",\"  \",\"  \",\"  \",\"  \",\"  \",\"  \",\"  \",\"  \",\"  \",\"  \",\"  \",\"  \",\"  \"],\"fHeaderPS\":\"\",\"fTitlePS\":\"\",\"fFitFormat\":\"5.4g\",\"fPaintTextFormat\":\"g\",\"fLineScalePS\":3,\"fJoinLinePS\":0,\"fCapLinePS\":0,\"fTimeOffset\":788918400,\"fImageScaling\":1,\"fCandleWhiskerRange\":1,\"fCandleBoxRange\":0.5,\"fCandleScaled\":false,\"fViolinScaled\":true,\"fCandleCircleLineWidth\":1,\"fCandleCrossLineWidth\":1,\"fXAxisExpXOffset\":0,\"fXAxisExpYOffset\":0,\"fYAxisExpXOffset\":0,\"fYAxisExpYOffset\":0,\"fAxisMaxDigits\":5,\"fOrthoCamera\":false}},{\"_typename\":\"TWebSnapshot\",\"fUniqueID\":0,\"fBits\":0,\"fObjectID\":\"\",\"fOption\":\"\",\"fKind\":1,\"fSnapshot\":{\"_typename\":\"TFrame\",\"fUniqueID\":0,\"fBits\":8,\"fLineColor\":1,\"fLineStyle\":1,\"fLineWidth\":2,\"fFillColor\":10,\"fFillStyle\":1001,\"fX1\":-0.5,\"fY1\":0,\"fX2\":0.5,\"fY2\":69.8020326660073,\"fBorderSize\":1,\"fBorderMode\":0}},{\"_typename\":\"TWebSnapshot\",\"fUniqueID\":0,\"fBits\":0,\"fObjectID\":\"\",\"fOption\":\"FUNC\",\"fKind\":1,\"fSnapshot\":{\"_typename\":\"TH1D\",\"fUniqueID\":0,\"fBits\":520,\"fName\":\"frame_dt_fit_fb95a50\",\"fTitle\":\"A RooPlot of \\\"dt_fit\\\"\",\"fLineColor\":1,\"fLineStyle\":1,\"fLineWidth\":2,\"fFillColor\":0,\"fFillStyle\":1001,\"fMarkerColor\":1,\"fMarkerStyle\":20,\"fMarkerSize\":0.7,\"fNcells\":102,\"fXaxis\":{\"_typename\":\"TAxis\",\"fUniqueID\":0,\"fBits\":0,\"fName\":\"xaxis\",\"fTitle\":\"dt_fit\",\"fNdivisions\":506,\"fAxisColor\":1,\"fLabelColor\":1,\"fLabelFont\":42,\"fLabelOffset\":0.015,\"fLabelSize\":0.06,\"fTickLength\":0.03,\"fTitleOffset\":1,\"fTitleSize\":0.07,\"fTitleColor\":1,\"fTitleFont\":42,\"fNbins\":100,\"fXmin\":-0.5,\"fXmax\":0.5,\"fXbins\":[],\"fFirst\":0,\"fLast\":0,\"fBits2\":0,\"fTimeDisplay\":false,\"fTimeFormat\":\"\",\"fLabels\":null,\"fModLabs\":null},\"fYaxis\":{\"_typename\":\"TAxis\",\"fUniqueID\":0,\"fBits\":0,\"fName\":\"yaxis\",\"fTitle\":\"Projection of RooEvaluatorWrapper\",\"fNdivisions\":506,\"fAxisColor\":1,\"fLabelColor\":1,\"fLabelFont\":42,\"fLabelOffset\":0.015,\"fLabelSize\":0.06,\"fTickLength\":0.03,\"fTitleOffset\":1.1,\"fTitleSize\":0.07,\"fTitleColor\":1,\"fTitleFont\":42,\"fNbins\":1,\"fXmin\":0,\"fXmax\":1,\"fXbins\":[],\"fFirst\":0,\"fLast\":0,\"fBits2\":0,\"fTimeDisplay\":false,\"fTimeFormat\":\"\",\"fLabels\":null,\"fModLabs\":null},\"fZaxis\":{\"_typename\":\"TAxis\",\"fUniqueID\":0,\"fBits\":0,\"fName\":\"zaxis\",\"fTitle\":\"\",\"fNdivisions\":510,\"fAxisColor\":1,\"fLabelColor\":1,\"fLabelFont\":42,\"fLabelOffset\":0.015,\"fLabelSize\":0.06,\"fTickLength\":0.03,\"fTitleOffset\":1.1,\"fTitleSize\":0.07,\"fTitleColor\":1,\"fTitleFont\":42,\"fNbins\":1,\"fXmin\":0,\"fXmax\":1,\"fXbins\":[],\"fFirst\":0,\"fLast\":0,\"fBits2\":0,\"fTimeDisplay\":false,\"fTimeFormat\":\"\",\"fLabels\":null,\"fModLabs\":null},\"fBarOffset\":0,\"fBarWidth\":1000,\"fEntries\":1,\"fTsumw\":0,\"fTsumw2\":0,\"fTsumwx\":0,\"fTsumwx2\":0,\"fMaximum\":69.8020326660073,\"fMinimum\":-1111,\"fNormFactor\":0,\"fContour\":[],\"fSumw2\":[],\"fOption\":\"\",\"fFunctions\":{\"_typename\":\"TList\",\"name\":\"TList\",\"arr\":[],\"opt\":[]},\"fBufferSize\":0,\"fBuffer\":[],\"fBinStatErrOpt\":0,\"fStatOverflows\":2,\"fArray\":{\"$arr\":\"Float64\",\"len\":102,\"p\":1,\"v\":69.8020326660073}}},{\"_typename\":\"TWebSnapshot\",\"fUniqueID\":0,\"fBits\":0,\"fObjectID\":\"\",\"fOption\":\"l\",\"fKind\":1,\"fSnapshot\":{\"_typename\":\"RooCurve\",\"fUniqueID\":0,\"fBits\":525320,\"fName\":\"RooEvaluatorWrapper_Norm[dt_fit]\",\"fTitle\":\"Projection of RooEvaluatorWrapper\",\"fLineColor\":600,\"fLineStyle\":1,\"fLineWidth\":3,\"fFillColor\":0,\"fFillStyle\":1000,\"fMarkerColor\":1,\"fMarkerStyle\":20,\"fMarkerSize\":0.7,\"fNpoints\":106,\"fX\":{\"$arr\":\"Float64\",\"len\":106,\"v\":[-0.51001,-0.51,-0.5,-0.49,-0.48,-0.47,-0.46,-0.45,-0.44,-0.43,-0.42,-0.41,-0.4,-0.39,-0.38,-0.37,-0.36,-0.35,-0.34,-0.33,-0.32,-0.31,-0.3,-0.29,-0.28,-0.27,-0.26,-0.25,-0.24,-0.23,-0.22,-0.21,-0.2,-0.19,-0.18,-0.17,-0.16,-0.15,-0.14,-0.13,-0.12,-0.11,-0.1,-0.09,-0.08,-0.07,-0.06,-0.05,-0.04,-0.03,-0.02,-0.01,0,0.01,0.02,0.03,0.04,0.05,0.0600000000000001,0.0700000000000001,0.08,0.09,0.1,0.11,0.12,0.13,0.14,0.15,0.16,0.17,0.18,0.19,0.2,0.21,0.22,0.23,0.24,0.25,0.26,0.27,0.28,0.29,0.3,0.31,0.32,0.33,0.34,0.35,0.36,0.37,0.38,0.39,0.4,0.41,0.42,0.43,0.44,0.45,0.46,0.47,0.48,0.49,0.5,0.5,0.51,0.51001]},\"fY\":{\"$arr\":\"Float64\",\"len\":106,\"p\":1,\"v\":[37.428181897616,37.428181897616,35.6864406425157,33.9867113331566,32.3289491021424,30.7131097915699,29.1391499482561,27.6070268196054,26.1166983486037,24.668123170326,23.2612606069888,21.8960706641665,20.5725140264258,19.2905520536005,18.0501467764843,16.8512608934543,15.6938577659894,14.5779014156433,13.5033565196209,12.4701884079259,11.4783630592865,10.5278470979538,9.61860779020935,8.75061304098926,7.92383139074082,7.1382320120465,6.39378470671363,5.69045990222367,5.02822864946211,4.40706261887681,3.8269340984989,3.28781599015929,2.78968180756783,2.33250567293726,1.9162623147713,1.54092706477968,1.20647585607367,0.912885219731834,0.66013228322845,0.448194767523091,0.277050984790549,0.146679836441763,0.0570608105626889,0.00817397993523628,0,0.0325201064697467,0.1057161136996,0.219570412533358,0.374065968382638,0.56918631948065,0.804915575194173,1.08123841369525,1.39814008126268,1.75560638942989,2.15362371446099,2.59217899508076,3.07125973131042,3.59085398295429,4.15095036820276,4.75153806206072,5.3926067952998,6.07414685323602,6.79614907409996,7.5586048483965,8.36150611733319,9.20484537212178,10.088615652523,11.0128105463227,11.9774241878767,12.9824512578198,14.027886981552,15.1137271291227,16.2399680136004,17.4066064914223,18.613639960764,19.86106636154,21.1488841743558,22.4770924205659,23.8456906608772,25.2546789959888,26.7040580651374,28.1938290465623,29.723993656633,31.294554149732,32.9055133183138,34.5568744920893,36.2486415386666,37.9808188625029,39.7534114058944,41.5664246479282,43.4198646054137,45.3137378321262,47.2480514197377,49.222812997119,51.2380307313288,53.293713327148,55.3898700281279,57.5265106158913,59.7036454117624,61.9212852758355,64.1794416087214,66.4781263485784,66.4781263485784,66.4781263485784]},\"fFunctions\":{\"_typename\":\"TList\",\"name\":\"TList\",\"arr\":[],\"opt\":[]},\"fHistogram\":{\"_typename\":\"TH1F\",\"fUniqueID\":0,\"fBits\":512,\"fName\":\"RooEvaluatorWrapper_Norm[dt_fit]\",\"fTitle\":\"Projection of RooEvaluatorWrapper\",\"fLineColor\":1,\"fLineStyle\":1,\"fLineWidth\":2,\"fFillColor\":0,\"fFillStyle\":1001,\"fMarkerColor\":1,\"fMarkerStyle\":20,\"fMarkerSize\":0.7,\"fNcells\":108,\"fXaxis\":{\"_typename\":\"TAxis\",\"fUniqueID\":0,\"fBits\":0,\"fName\":\"xaxis\",\"fTitle\":\"\",\"fNdivisions\":506,\"fAxisColor\":1,\"fLabelColor\":1,\"fLabelFont\":42,\"fLabelOffset\":0.015,\"fLabelSize\":0.06,\"fTickLength\":0.03,\"fTitleOffset\":1,\"fTitleSize\":0.07,\"fTitleColor\":1,\"fTitleFont\":42,\"fNbins\":106,\"fXmin\":-0.612012,\"fXmax\":0.612012,\"fXbins\":[],\"fFirst\":0,\"fLast\":0,\"fBits2\":0,\"fTimeDisplay\":false,\"fTimeFormat\":\"\",\"fLabels\":null,\"fModLabs\":null},\"fYaxis\":{\"_typename\":\"TAxis\",\"fUniqueID\":0,\"fBits\":0,\"fName\":\"yaxis\",\"fTitle\":\"\",\"fNdivisions\":506,\"fAxisColor\":1,\"fLabelColor\":1,\"fLabelFont\":42,\"fLabelOffset\":0.015,\"fLabelSize\":0.06,\"fTickLength\":0.03,\"fTitleOffset\":1.1,\"fTitleSize\":0.07,\"fTitleColor\":1,\"fTitleFont\":42,\"fNbins\":1,\"fXmin\":0,\"fXmax\":73.1259389834362,\"fXbins\":[],\"fFirst\":0,\"fLast\":0,\"fBits2\":0,\"fTimeDisplay\":false,\"fTimeFormat\":\"\",\"fLabels\":null,\"fModLabs\":null},\"fZaxis\":{\"_typename\":\"TAxis\",\"fUniqueID\":0,\"fBits\":0,\"fName\":\"zaxis\",\"fTitle\":\"\",\"fNdivisions\":510,\"fAxisColor\":1,\"fLabelColor\":1,\"fLabelFont\":42,\"fLabelOffset\":0.015,\"fLabelSize\":0.06,\"fTickLength\":0.03,\"fTitleOffset\":1.1,\"fTitleSize\":0.07,\"fTitleColor\":1,\"fTitleFont\":42,\"fNbins\":1,\"fXmin\":0,\"fXmax\":1,\"fXbins\":[],\"fFirst\":0,\"fLast\":0,\"fBits2\":0,\"fTimeDisplay\":false,\"fTimeFormat\":\"\",\"fLabels\":null,\"fModLabs\":null},\"fBarOffset\":0,\"fBarWidth\":1000,\"fEntries\":0,\"fTsumw\":0,\"fTsumw2\":0,\"fTsumwx\":0,\"fTsumwx2\":0,\"fMaximum\":73.1259389834362,\"fMinimum\":0,\"fNormFactor\":0,\"fContour\":[],\"fSumw2\":[],\"fOption\":\"\",\"fFunctions\":{\"_typename\":\"TList\",\"name\":\"TList\",\"arr\":[],\"opt\":[]},\"fBufferSize\":0,\"fBuffer\":[],\"fBinStatErrOpt\":0,\"fStatOverflows\":2,\"fArray\":{\"$arr\":\"Float32\",\"len\":108}},\"fMinimum\":-1111,\"fMaximum\":-1111,\"fOption\":\"\",\"_yAxisLabel\":\"Projection of RooEvaluatorWrapper\",\"_ymin\":0,\"_ymax\":66.4781263485784,\"_normValue\":0}},{\"_typename\":\"TWebSnapshot\",\"fUniqueID\":0,\"fBits\":0,\"fObjectID\":\"\",\"fOption\":\"AXISSAME\",\"fKind\":1,\"fSnapshot\":{\"$ref\":15}},{\"_typename\":\"TWebSnapshot\",\"fUniqueID\":0,\"fBits\":0,\"fObjectID\":\"\",\"fOption\":\"blNDC\",\"fKind\":1,\"fSnapshot\":{\"_typename\":\"TPaveText\",\"fUniqueID\":0,\"fBits\":9,\"fLineColor\":1,\"fLineStyle\":1,\"fLineWidth\":2,\"fFillColor\":0,\"fFillStyle\":1001,\"fX1\":-0.702898541997084,\"fY1\":71.8132779523962,\"fX2\":-0.274112944801487,\"fY2\":76.7822362099764,\"fX1NDC\":0.00999999977648258,\"fY1NDC\":0.941610174259897,\"fX2NDC\":0.305862068742,\"fY2NDC\":0.995000004768372,\"fBorderSize\":0,\"fInit\":1,\"fShadowColor\":1,\"fCornerRadius\":0,\"fOption\":\"blNDC\",\"fName\":\"title\",\"fTextAngle\":0,\"fTextSize\":0,\"fTextAlign\":22,\"fTextColor\":1,\"fTextFont\":62,\"fLabel\":\"\",\"fLongest\":21,\"fMargin\":0.05,\"fLines\":{\"_typename\":\"TList\",\"name\":\"TList\",\"arr\":[{\"_typename\":\"TLatex\",\"fUniqueID\":0,\"fBits\":0,\"fName\":\"\",\"fTitle\":\"A RooPlot of \\\"dt_fit\\\"\",\"fTextAngle\":0,\"fTextSize\":0,\"fTextAlign\":0,\"fTextColor\":0,\"fTextFont\":0,\"fX\":0,\"fY\":0,\"fLineColor\":1,\"fLineStyle\":1,\"fLineWidth\":2,\"fLimitFactorSize\":3,\"fOriginSize\":0.0453813560307026}],\"opt\":[null]}}}],\"fScripts\":\"\",\"fHighlightConnect\":false,\"fFixedSize\":false});\n",
       "   Core.settings.HandleKeys = false;\n",
       "   Core.draw(\"root_plot_1755257942017\", obj, \"\");\n",
       "}\n",
       "\n",
       "function script_load_root_plot_1755257942017(src, on_error) {\n",
       "    let script = document.createElement('script');\n",
       "    script.src = src;\n",
       "    script.onload = function() { display_root_plot_1755257942017(JSROOT); };\n",
       "    script.onerror = function() { script.remove(); on_error(); };\n",
       "    document.head.appendChild(script);\n",
       "}\n",
       "\n",
       "if (typeof requirejs !== 'undefined') {\n",
       "\n",
       "    // We are in jupyter notebooks, use require.js which should be configured already\n",
       "    requirejs.config({\n",
       "       paths: { 'JSRootCore' : [ 'build/jsroot', 'https://root.cern/js/7.9.0/build/jsroot', 'https://jsroot.gsi.de/7.9.0/build/jsroot' ] }\n",
       "    })(['JSRootCore'],  function(Core) {\n",
       "       display_root_plot_1755257942017(Core);\n",
       "    });\n",
       "\n",
       "} else if (typeof JSROOT !== 'undefined') {\n",
       "\n",
       "   // JSROOT already loaded, just use it\n",
       "   display_root_plot_1755257942017(JSROOT);\n",
       "\n",
       "} else {\n",
       "\n",
       "    // We are in jupyterlab without require.js, directly loading jsroot\n",
       "    // Jupyterlab might be installed in a different base_url so we need to know it.\n",
       "    try {\n",
       "        var base_url = JSON.parse(document.getElementById('jupyter-config-data').innerHTML).baseUrl;\n",
       "    } catch(_) {\n",
       "        var base_url = '/';\n",
       "    }\n",
       "\n",
       "    // Try loading a local version of requirejs and fallback to cdn if not possible.\n",
       "    script_load_root_plot_1755257942017(base_url + 'static/build/jsroot.js', function(){\n",
       "        console.error('Fail to load JSROOT locally, please check your jupyter_notebook_config.py file');\n",
       "        script_load_root_plot_1755257942017('https://root.cern/js/7.9.0/build/jsroot.js', function(){\n",
       "            document.getElementById(\"root_plot_1755257942017\").innerHTML = \"Failed to load JSROOT\";\n",
       "        });\n",
       "    });\n",
       "}\n",
       "\n",
       "</script>\n"
      ],
      "text/plain": [
       "<IPython.core.display.HTML object>"
      ]
     },
     "metadata": {},
     "output_type": "display_data"
    }
   ],
   "source": [
    "frame = delta_theta_fit.frame()\n",
    "nll2.plotOn(frame, ShiftToZero=True)\n",
    "c = ROOT.TCanvas()\n",
    "frame.Draw()\n",
    "c.Draw()"
   ]
  },
  {
   "cell_type": "code",
   "execution_count": null,
   "id": "6f9d9cc9",
   "metadata": {},
   "outputs": [],
   "source": []
  }
 ],
 "metadata": {
  "kernelspec": {
   "display_name": "Python 3",
   "language": "python",
   "name": "python3"
  },
  "language_info": {
   "codemirror_mode": {
    "name": "ipython",
    "version": 3
   },
   "file_extension": ".py",
   "mimetype": "text/x-python",
   "name": "python",
   "nbconvert_exporter": "python",
   "pygments_lexer": "ipython3",
   "version": "3.13.2"
  }
 },
 "nbformat": 4,
 "nbformat_minor": 5
}
