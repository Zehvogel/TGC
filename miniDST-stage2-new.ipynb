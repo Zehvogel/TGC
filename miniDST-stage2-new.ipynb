{
 "cells": [
  {
   "cell_type": "code",
   "execution_count": null,
   "metadata": {},
   "outputs": [
    {
     "name": "stdout",
     "output_type": "stream",
     "text": [
      "OBJ: TStyle\tildStyle\tILD Style : 0 at: 0x75ef080\n"
     ]
    }
   ],
   "source": [
    "import json\n",
    "import ROOT\n",
    "from analysis_framework import Dataset\n",
    "from WWAnalysis import WWAnalysis\n",
    "import os\n",
    "from alt_setup_creator import AltSetupHandler"
   ]
  },
  {
   "cell_type": "code",
   "execution_count": 2,
   "metadata": {},
   "outputs": [],
   "source": [
    "# ROOT.EnableImplicitMT(12)\n",
    "os.environ[\"OMP_NUM_THREADS\"] = \"6\""
   ]
  },
  {
   "cell_type": "code",
   "execution_count": 3,
   "metadata": {},
   "outputs": [],
   "source": [
    "# CLD\n",
    "# x_angle = 0.030 # rad\n",
    "# ILD\n",
    "x_angle = 0.014 # rad"
   ]
  },
  {
   "cell_type": "code",
   "execution_count": 4,
   "metadata": {},
   "outputs": [],
   "source": [
    "prod = False\n",
    "no_rvec = False\n",
    "output_collections = r\"(\\w*sqme\\w*)|(weight\\w*)\"\n",
    "dataset_path = \"checked-test.json\"\n",
    "output_path = \"data/snapshots/stage2-test\"\n",
    "output_meta = \"stage2-test.json\"\n",
    "if prod:\n",
    "    dataset_path = \"checked-full.json\"\n",
    "    output_path = \"data/snapshots/stage2\"\n",
    "    output_meta = \"stage2-full.json\""
   ]
  },
  {
   "cell_type": "code",
   "execution_count": 5,
   "metadata": {},
   "outputs": [],
   "source": [
    "# dataset = Dataset.from_json(\"checked-full.json\")\n",
    "# dataset = Dataset.from_json(\"checked-full-local.json\")\n",
    "dataset = Dataset.from_json(dataset_path)"
   ]
  },
  {
   "cell_type": "code",
   "execution_count": 6,
   "metadata": {},
   "outputs": [
    {
     "name": "stderr",
     "output_type": "stream",
     "text": [
      "Warning in <TClass::Init>: no dictionary for class edm4hep::Vector2i is available\n"
     ]
    }
   ],
   "source": [
    "analysis = WWAnalysis(dataset)\n",
    "analysis.init_parameters([\n",
    "    # (\"WWCategorisation.RecoCatBasic\", \"int\", \"8\"),\n",
    "    # (\"WWCategorisation.RecoCatAdvanced\", \"int\", \"8\"),\n",
    "    # (\"WWCategorisation.missE\", \"float\", \"-42\"),\n",
    "    # (\"WWCategorisation.misspT\", \"float\", \"-42\"),\n",
    "    # (\"WWCategorisation.mInv\", \"float\", \"-42\"),\n",
    "    (\"Energy\", \"float\", \"-42\"),\n",
    "    (\"sqme\", \"float\", \"-42.0\"),\n",
    "])\n",
    "analysis.init_categories()"
   ]
  },
  {
   "cell_type": "code",
   "execution_count": null,
   "metadata": {},
   "outputs": [],
   "source": [
    "# alt_configs = {\n",
    "#     \"alt1\": {\n",
    "#         \"g1z\": 1.001,\n",
    "#         \"ka\": 1.000,\n",
    "#         \"la\": 0.000,\n",
    "#     },\n",
    "#     \"alt2\": {\n",
    "#         \"g1z\": 1.000,\n",
    "#         \"ka\": 1.001,\n",
    "#         \"la\": 0.000,\n",
    "#     },\n",
    "#     \"alt3\": {\n",
    "#         \"g1z\": 1.000,\n",
    "#         \"ka\": 1.000,\n",
    "#         \"la\": 0.001,\n",
    "#     },\n",
    "# }\n",
    "alt_setup_handler = AltSetupHandler(\"alt-configs.json\", mirror=True)\n",
    "alt_configs = alt_setup_handler.get_alt_setup()\n",
    "analysis.initialise_omega_wrappers(alt_configs)"
   ]
  },
  {
   "cell_type": "code",
   "execution_count": 8,
   "metadata": {},
   "outputs": [],
   "source": [
    "mc_indices = {\n",
    "    \"beam_e_nominal\": 0,\n",
    "    \"beam_p_nominal\": 1,\n",
    "    \"beam_e_BES\": 2,\n",
    "    \"beam_p_BES\": 3,\n",
    "    \"beam_e_ISR\": 4,\n",
    "    \"beam_p_ISR\": 5,\n",
    "    \"up_type_q\": 10,\n",
    "    \"down_type_q\": 11,\n",
    "    \"charged_lep\": 12,\n",
    "    \"neutrino\": 13,\n",
    "}\n",
    "analysis.set_mc_indices(mc_indices)"
   ]
  },
  {
   "cell_type": "code",
   "execution_count": 9,
   "metadata": {},
   "outputs": [],
   "source": [
    "# signal cut goes here:\n",
    "# In this case, we want to require the charged lepton in the final state to be inside of the detector acceptance\n",
    "# just take the first gen status 1 particle with a fitting pdg value and cut on theta\n",
    "lep_pdg = 11\n",
    "# CLD 150 mrad\n",
    "# ILD ~84 mrad (IDR: 4.8 deg)\n",
    "# acceptance_theta = 0.084\n",
    "# signal_cut = f\"\"\"\n",
    "# std::invoke([](auto& genStat, auto& pdg, auto& px, auto& py, auto& pz, auto& m) -> bool {{\n",
    "# auto lepton_mask = genStat == 1 && abs(pdg) == {lep_pdg};\n",
    "# // abuse ArgMax to get the first set position\n",
    "# auto lepton_idx = ArgMax(lepton_mask);\n",
    "# auto lepton_lvec = ROOT::Math::PxPyPzMVector(px[lepton_idx], py[lepton_idx],\n",
    "#                                              pz[lepton_idx], m[lepton_idx]);\n",
    "# double lepton_theta = lepton_lvec.Theta();\n",
    "# return abs(cos(lepton_theta)) < cos({acceptance_theta});\n",
    "# }}, MCParticlesSkimmed.generatorStatus, MCParticlesSkimmed.PDG, MCParticlesSkimmed.momentum.x, MCParticlesSkimmed.momentum.y, MCParticlesSkimmed.momentum.z, MCParticlesSkimmed.mass)\n",
    "# \"\"\""
   ]
  },
  {
   "cell_type": "code",
   "execution_count": 10,
   "metadata": {},
   "outputs": [
    {
     "name": "stdout",
     "output_type": "stream",
     "text": [
      "True\n"
     ]
    }
   ],
   "source": [
    "# analysis.set_categories({\n",
    "#     # TODO: actually implement the cut, but I might notice when refactoring the cut-flow...\n",
    "#     # \"4f_sw_sl_signal\": {\"pattern\": \"4f_sw_sl\", \"cut\": \"1 == 1\"},\n",
    "#     # TODO: in principle I would not need to define them like this again if I would use the information from the pre-selection but did not manage that on first try :(\n",
    "#     \"4f_sw_sl_signal\": {\"pattern\": \"4f_sw_sl\", \"cut\": signal_cut},\n",
    "#     \"4f_sl_bkg\": {\"pattern\": r\"4f\\w+sl\", \"cut\": None }, # inverse signal cut will be applied automatically\n",
    "#     \"4f_not_sl\": {\"pattern\": r\"4f\\w+_(?:h|l)\", \"cut\": None },\n",
    "#     # separate out aa_4f? super low lumi anyway\n",
    "#     \"aa2f\": {\"pattern\": \"aa_2f\", \"cut\": None},\n",
    "#     # 2f but not aa_2f\n",
    "#     \"2f\": {\"pattern\": \"(?<!aa_)2f\", \"cut\": None},\n",
    "#     \"3f\": {\"pattern\": \"ea_3f|ae_3f\", \"cut\": None},\n",
    "#     \"5f\": {\"pattern\": \"ea_5f|ae_5f\", \"cut\": None},\n",
    "#     \"6f\": {\"pattern\": \"6f\", \"cut\": None},\n",
    "#     # need to filter out anything ending in _h and 2f_z_eehiq\n",
    "#     \"higgs\": {\"pattern\": \"[^_e]h\", \"cut\": None},\n",
    "# })\n",
    "# check if we missed any processes\n",
    "print(analysis.is_complete_categorisation())\n",
    "analysis.set_signal_categories([\"4f_sw_sl_signal\"])"
   ]
  },
  {
   "cell_type": "code",
   "execution_count": 11,
   "metadata": {},
   "outputs": [
    {
     "name": "stdout",
     "output_type": "stream",
     "text": [
      "{\n",
      "  \"4f_sw_sl_signal\": [\n",
      "    \"4f_sw_sl_eLpR_signal\",\n",
      "    \"4f_sw_sl_eRpL_signal\"\n",
      "  ],\n",
      "  \"4f_sl_bkg\": [\n",
      "    \"4f_zz_sl_eLpR\",\n",
      "    \"4f_sze_sl_eRpL\",\n",
      "    \"4f_sze_sl_eLpR\",\n",
      "    \"4f_sznu_sl_eLpR\",\n",
      "    \"4f_sw_sl_eLpR_bkg\"\n",
      "  ],\n",
      "  \"4f_not_sl\": [\n",
      "    \"4f_sw_l_eLpR\",\n",
      "    \"4f_zz_h_eLpR\",\n",
      "    \"4f_zz_l_eLpR\",\n",
      "    \"4f_sznu_l_eLpR\"\n",
      "  ],\n",
      "  \"2f\": [\n",
      "    \"2f_z_h_eLpR\"\n",
      "  ],\n",
      "  \"3f\": [\n",
      "    \"ae_3f_z_l_eBpL\"\n",
      "  ],\n",
      "  \"6f\": [\n",
      "    \"6f_llxyyx_eLpR\",\n",
      "    \"6f_vvyyyy_eRpL\",\n",
      "    \"6f_llyyyy_eRpL\"\n",
      "  ],\n",
      "  \"higgs\": [\n",
      "    \"e1e1h_eLpR\",\n",
      "    \"n1n1h_eLpR\",\n",
      "    \"qqh_eLpR\",\n",
      "    \"e2e2h_eLpR\",\n",
      "    \"qqh_eRpL\",\n",
      "    \"n1n1h_eRpL\",\n",
      "    \"e1e1h_eRpR\",\n",
      "    \"n23n23h_eRpL\",\n",
      "    \"e1e1h_eLpL\"\n",
      "  ]\n",
      "}\n"
     ]
    }
   ],
   "source": [
    "# FIXME: get rid of all the double signal_signal etc. :(\n",
    "print(json.dumps(analysis._categories, indent=2))"
   ]
  },
  {
   "cell_type": "code",
   "execution_count": 12,
   "metadata": {},
   "outputs": [],
   "source": [
    "# needed for the .size() calls... alternative would probably be to .Alias the @size columns\n",
    "ROOT.gInterpreter.Declare(\"#include <podio/ObjectID.h>\")\n",
    "ROOT.gInterpreter.Declare(\"#include <edm4hep/ReconstructedParticleData.h>\")\n",
    "make_lvec = lambda coll_name: f\"ROOT::VecOps::Construct<ROOT::Math::PxPyPzEVector>({coll_name}.momentum.x, {coll_name}.momentum.y, {coll_name}.momentum.z, {coll_name}.energy)\"\n",
    "analysis.Define(\"R2jet_lvecs\", make_lvec(\"Refined2Jets\"))"
   ]
  },
  {
   "cell_type": "code",
   "execution_count": 13,
   "metadata": {},
   "outputs": [],
   "source": [
    "signal_category = [\"4f_sw_sl_signal\"]\n",
    "# analysis.define_truth_objects(signal_category)\n",
    "analysis.book_weights()\n",
    "# now already happens in pre-selection\n",
    "# analysis.define_reco_objects(x_angle)\n",
    "# analysis.remove_x_angle(x_angle)\n",
    "# analysis.define_hagiwara_angles()\n",
    "analysis.calc_reco_sqme()"
   ]
  },
  {
   "cell_type": "code",
   "execution_count": 14,
   "metadata": {},
   "outputs": [],
   "source": [
    "# filter on missing energy > 0\n",
    "analysis.Define(\"nu_E\", \"ub_nu_lvec.energy()\")\n",
    "# analysis.Define(\"M_Wlep\", \"ub_leptonic_W_lvec.M()\")\n",
    "analysis.Define(\"M_Whad\", \"ub_hadronic_W_lvec.M()\")\n",
    "# analysis.add_filter(\"M_Wlep > 0.\", \"Wlep real\")"
   ]
  },
  {
   "cell_type": "code",
   "execution_count": 15,
   "metadata": {},
   "outputs": [],
   "source": [
    "# analysis.book_reports()"
   ]
  },
  {
   "cell_type": "code",
   "execution_count": 16,
   "metadata": {},
   "outputs": [],
   "source": [
    "sample_conf = list(alt_configs.keys())[0]\n",
    "sample_weight = f\"weight_{sample_conf}\"\n",
    "analysis.book_histogram_1D(sample_weight, sample_weight, (\"\", f\";{sample_weight}\", 50, 0.8, 1.2), categories=signal_category)"
   ]
  },
  {
   "cell_type": "code",
   "execution_count": 17,
   "metadata": {},
   "outputs": [
    {
     "name": "stdout",
     "output_type": "stream",
     "text": [
      "OBJ: TStyle\tildStyle\tILD Style : 0 at: 0x19a832b0\n"
     ]
    }
   ],
   "source": [
    "analysis.book_snapshots(\"events\", output_path, output_meta, output_collections, no_rvec=no_rvec)"
   ]
  },
  {
   "cell_type": "code",
   "execution_count": 18,
   "metadata": {},
   "outputs": [
    {
     "name": "stdout",
     "output_type": "stream",
     "text": [
      "CPU times: user 3h 13min 30s, sys: 2min 19s, total: 3h 15min 49s\n",
      "Wall time: 33min 25s\n"
     ]
    }
   ],
   "source": [
    "%%time\n",
    "analysis.run()"
   ]
  },
  {
   "cell_type": "code",
   "execution_count": 19,
   "metadata": {},
   "outputs": [
    {
     "data": {
      "text/plain": [
       "(<cppyy.gbl.THStack object at 0x22224560>,\n",
       " <cppyy.gbl.TLegend object at 0x2134f280>,\n",
       " <cppyy.gbl.TCanvas object at 0x2025bae0>)"
      ]
     },
     "execution_count": 19,
     "metadata": {},
     "output_type": "execute_result"
    },
    {
     "data": {
      "image/png": "[encoded data removed]",
      "text/plain": [
       "<IPython.core.display.Image object>"
      ]
     },
     "metadata": {},
     "output_type": "display_data"
    }
   ],
   "source": [
    "analysis.draw_histogram(sample_weight, categories=signal_category)"
   ]
  },
  {
   "cell_type": "code",
   "execution_count": null,
   "metadata": {},
   "outputs": [],
   "source": []
  }
 ],
 "metadata": {
  "kernelspec": {
   "display_name": "Python 3",
   "language": "python",
   "name": "python3"
  },
  "language_info": {
   "codemirror_mode": {
    "name": "ipython",
    "version": 3
   },
   "file_extension": ".py",
   "mimetype": "text/x-python",
   "name": "python",
   "nbconvert_exporter": "python",
   "pygments_lexer": "ipython3",
   "version": "3.11.9"
  }
 },
 "nbformat": 4,
 "nbformat_minor": 2
}
