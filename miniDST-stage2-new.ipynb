{
 "cells": [
  {
   "cell_type": "code",
   "execution_count": 1,
   "metadata": {},
   "outputs": [
    {
     "name": "stdout",
     "output_type": "stream",
     "text": [
      "OBJ: TStyle\tildStyle\tILD Style : 0 at: 0x8336950\n"
     ]
    }
   ],
   "source": [
    "import json\n",
    "import ROOT\n",
    "from analysis_framework import Dataset\n",
    "from WWAnalysis import WWAnalysis\n",
    "import os\n",
    "from alt_setup_creator_new import AltSetupHandler"
   ]
  },
  {
   "cell_type": "code",
   "execution_count": null,
   "metadata": {},
   "outputs": [],
   "source": [
    "# ROOT.EnableImplicitMT(12)\n",
    "os.environ[\"OMP_NUM_THREADS\"] = \"10\""
   ]
  },
  {
   "cell_type": "code",
   "execution_count": 3,
   "metadata": {},
   "outputs": [],
   "source": [
    "# CLD\n",
    "# x_angle = 0.030 # rad\n",
    "# ILD\n",
    "x_angle = 0.014 # rad"
   ]
  },
  {
   "cell_type": "code",
   "execution_count": 4,
   "metadata": {},
   "outputs": [],
   "source": [
    "prod = False\n",
    "no_rvec = False\n",
    "output_collections = r\"(\\w*sqme\\w*)|(weight\\w*)\"\n",
    "dataset_path = \"checked-test.json\"\n",
    "output_path = \"data/snapshots/stage2-test\"\n",
    "output_meta = \"stage2-test.json\"\n",
    "if prod:\n",
    "    dataset_path = \"checked-full.json\"\n",
    "    output_path = \"data/snapshots/stage2\"\n",
    "    output_meta = \"stage2-full.json\""
   ]
  },
  {
   "cell_type": "code",
   "execution_count": 5,
   "metadata": {},
   "outputs": [],
   "source": [
    "# dataset = Dataset.from_json(\"checked-full.json\")\n",
    "# dataset = Dataset.from_json(\"checked-full-local.json\")\n",
    "dataset = Dataset.from_json(dataset_path)"
   ]
  },
  {
   "cell_type": "code",
   "execution_count": 6,
   "metadata": {},
   "outputs": [
    {
     "name": "stdout",
     "output_type": "stream",
     "text": [
      "OBJ: TStyle\tildStyle\tILD Style : 0 at: 0xbf3e890\n"
     ]
    },
    {
     "name": "stderr",
     "output_type": "stream",
     "text": [
      "Warning in <TClass::Init>: no dictionary for class edm4hep::Vector2i is available\n"
     ]
    }
   ],
   "source": [
    "analysis = WWAnalysis(dataset)\n",
    "analysis.init_parameters([\n",
    "    # (\"WWCategorisation.RecoCatBasic\", \"int\", \"8\"),\n",
    "    # (\"WWCategorisation.RecoCatAdvanced\", \"int\", \"8\"),\n",
    "    # (\"WWCategorisation.missE\", \"float\", \"-42\"),\n",
    "    # (\"WWCategorisation.misspT\", \"float\", \"-42\"),\n",
    "    # (\"WWCategorisation.mInv\", \"float\", \"-42\"),\n",
    "    (\"Energy\", \"float\", \"-42\"),\n",
    "    (\"sqme\", \"float\", \"-42.0\"),\n",
    "])\n",
    "analysis.init_categories()"
   ]
  },
  {
   "cell_type": "code",
   "execution_count": 7,
   "metadata": {},
   "outputs": [],
   "source": [
    "# alt_configs = {\n",
    "#     \"alt1\": {\n",
    "#         \"g1z\": 1.001,\n",
    "#         \"ka\": 1.000,\n",
    "#         \"la\": 0.000,\n",
    "#     },\n",
    "#     \"alt2\": {\n",
    "#         \"g1z\": 1.000,\n",
    "#         \"ka\": 1.001,\n",
    "#         \"la\": 0.000,\n",
    "#     },\n",
    "#     \"alt3\": {\n",
    "#         \"g1z\": 1.000,\n",
    "#         \"ka\": 1.000,\n",
    "#         \"la\": 0.001,\n",
    "#     },\n",
    "# }\n",
    "alt_setup_handler = AltSetupHandler(\"alt-configs-new.json\", mirror=True)\n",
    "alt_configs = alt_setup_handler.get_alt_setup()\n",
    "analysis.initialise_omega_wrappers(alt_configs)"
   ]
  },
  {
   "cell_type": "code",
   "execution_count": 8,
   "metadata": {},
   "outputs": [],
   "source": [
    "mc_indices = {\n",
    "    \"beam_e_nominal\": 0,\n",
    "    \"beam_p_nominal\": 1,\n",
    "    \"beam_e_BES\": 2,\n",
    "    \"beam_p_BES\": 3,\n",
    "    \"beam_e_ISR\": 4,\n",
    "    \"beam_p_ISR\": 5,\n",
    "    \"up_type_q\": 10,\n",
    "    \"down_type_q\": 11,\n",
    "    \"charged_lep\": 12,\n",
    "    \"neutrino\": 13,\n",
    "}\n",
    "analysis.set_mc_indices(mc_indices)"
   ]
  },
  {
   "cell_type": "code",
   "execution_count": 9,
   "metadata": {},
   "outputs": [],
   "source": [
    "# signal cut goes here:\n",
    "# In this case, we want to require the charged lepton in the final state to be inside of the detector acceptance\n",
    "# just take the first gen status 1 particle with a fitting pdg value and cut on theta\n",
    "lep_pdg = 11\n",
    "# CLD 150 mrad\n",
    "# ILD ~84 mrad (IDR: 4.8 deg)\n",
    "# acceptance_theta = 0.084\n",
    "# signal_cut = f\"\"\"\n",
    "# std::invoke([](auto& genStat, auto& pdg, auto& px, auto& py, auto& pz, auto& m) -> bool {{\n",
    "# auto lepton_mask = genStat == 1 && abs(pdg) == {lep_pdg};\n",
    "# // abuse ArgMax to get the first set position\n",
    "# auto lepton_idx = ArgMax(lepton_mask);\n",
    "# auto lepton_lvec = ROOT::Math::PxPyPzMVector(px[lepton_idx], py[lepton_idx],\n",
    "#                                              pz[lepton_idx], m[lepton_idx]);\n",
    "# double lepton_theta = lepton_lvec.Theta();\n",
    "# return abs(cos(lepton_theta)) < cos({acceptance_theta});\n",
    "# }}, MCParticlesSkimmed.generatorStatus, MCParticlesSkimmed.PDG, MCParticlesSkimmed.momentum.x, MCParticlesSkimmed.momentum.y, MCParticlesSkimmed.momentum.z, MCParticlesSkimmed.mass)\n",
    "# \"\"\""
   ]
  },
  {
   "cell_type": "code",
   "execution_count": 10,
   "metadata": {},
   "outputs": [
    {
     "name": "stdout",
     "output_type": "stream",
     "text": [
      "True\n"
     ]
    }
   ],
   "source": [
    "# analysis.set_categories({\n",
    "#     # TODO: actually implement the cut, but I might notice when refactoring the cut-flow...\n",
    "#     # \"4f_sw_sl_signal\": {\"pattern\": \"4f_sw_sl\", \"cut\": \"1 == 1\"},\n",
    "#     # TODO: in principle I would not need to define them like this again if I would use the information from the pre-selection but did not manage that on first try :(\n",
    "#     \"4f_sw_sl_signal\": {\"pattern\": \"4f_sw_sl\", \"cut\": signal_cut},\n",
    "#     \"4f_sl_bkg\": {\"pattern\": r\"4f\\w+sl\", \"cut\": None }, # inverse signal cut will be applied automatically\n",
    "#     \"4f_not_sl\": {\"pattern\": r\"4f\\w+_(?:h|l)\", \"cut\": None },\n",
    "#     # separate out aa_4f? super low lumi anyway\n",
    "#     \"aa2f\": {\"pattern\": \"aa_2f\", \"cut\": None},\n",
    "#     # 2f but not aa_2f\n",
    "#     \"2f\": {\"pattern\": \"(?<!aa_)2f\", \"cut\": None},\n",
    "#     \"3f\": {\"pattern\": \"ea_3f|ae_3f\", \"cut\": None},\n",
    "#     \"5f\": {\"pattern\": \"ea_5f|ae_5f\", \"cut\": None},\n",
    "#     \"6f\": {\"pattern\": \"6f\", \"cut\": None},\n",
    "#     # need to filter out anything ending in _h and 2f_z_eehiq\n",
    "#     \"higgs\": {\"pattern\": \"[^_e]h\", \"cut\": None},\n",
    "# })\n",
    "# check if we missed any processes\n",
    "print(analysis.is_complete_categorisation())\n",
    "analysis.set_signal_categories([\"4f_sw_sl_signal\"])"
   ]
  },
  {
   "cell_type": "code",
   "execution_count": 11,
   "metadata": {},
   "outputs": [
    {
     "name": "stdout",
     "output_type": "stream",
     "text": [
      "{\n",
      "  \"4f_sw_sl_signal\": [\n",
      "    \"4f_sw_sl_eLpR_signal\",\n",
      "    \"4f_sw_sl_eRpL_signal\"\n",
      "  ],\n",
      "  \"4f_sl_bkg\": [\n",
      "    \"4f_zz_sl_eLpR\",\n",
      "    \"4f_sze_sl_eRpL\",\n",
      "    \"4f_sze_sl_eLpR\",\n",
      "    \"4f_sznu_sl_eLpR\",\n",
      "    \"4f_sw_sl_eLpR_bkg\"\n",
      "  ],\n",
      "  \"4f_not_sl\": [\n",
      "    \"4f_sw_l_eLpR\",\n",
      "    \"4f_zz_h_eLpR\",\n",
      "    \"4f_zz_l_eLpR\",\n",
      "    \"4f_sznu_l_eLpR\"\n",
      "  ],\n",
      "  \"2f\": [\n",
      "    \"2f_z_h_eLpR\"\n",
      "  ],\n",
      "  \"3f\": [\n",
      "    \"ae_3f_z_l_eBpL\"\n",
      "  ],\n",
      "  \"6f\": [\n",
      "    \"6f_llxyyx_eLpR\",\n",
      "    \"6f_vvyyyy_eRpL\",\n",
      "    \"6f_llyyyy_eRpL\"\n",
      "  ],\n",
      "  \"higgs\": [\n",
      "    \"e1e1h_eLpR\",\n",
      "    \"n1n1h_eLpR\",\n",
      "    \"qqh_eLpR\",\n",
      "    \"e2e2h_eLpR\",\n",
      "    \"qqh_eRpL\",\n",
      "    \"n1n1h_eRpL\",\n",
      "    \"e1e1h_eRpR\",\n",
      "    \"n23n23h_eRpL\",\n",
      "    \"e1e1h_eLpL\"\n",
      "  ]\n",
      "}\n"
     ]
    }
   ],
   "source": [
    "# FIXME: get rid of all the double signal_signal etc. :(\n",
    "print(json.dumps(analysis._categories, indent=2))"
   ]
  },
  {
   "cell_type": "code",
   "execution_count": 12,
   "metadata": {},
   "outputs": [],
   "source": [
    "# needed for the .size() calls... alternative would probably be to .Alias the @size columns\n",
    "ROOT.gInterpreter.Declare(\"#include <podio/ObjectID.h>\")\n",
    "ROOT.gInterpreter.Declare(\"#include <edm4hep/ReconstructedParticleData.h>\")\n",
    "make_lvec = lambda coll_name: f\"ROOT::VecOps::Construct<ROOT::Math::PxPyPzEVector>({coll_name}.momentum.x, {coll_name}.momentum.y, {coll_name}.momentum.z, {coll_name}.energy)\"\n",
    "analysis.Define(\"R2jet_lvecs\", make_lvec(\"Refined2Jets\"))"
   ]
  },
  {
   "cell_type": "code",
   "execution_count": 13,
   "metadata": {},
   "outputs": [],
   "source": [
    "signal_category = [\"4f_sw_sl_signal\"]\n",
    "# analysis.define_truth_objects(signal_category)\n",
    "analysis.book_weights()\n",
    "# now already happens in pre-selection\n",
    "# analysis.define_reco_objects(x_angle)\n",
    "# analysis.remove_x_angle(x_angle)\n",
    "# analysis.define_hagiwara_angles()\n",
    "analysis.calc_reco_sqme()"
   ]
  },
  {
   "cell_type": "code",
   "execution_count": 14,
   "metadata": {},
   "outputs": [],
   "source": [
    "# filter on missing energy > 0\n",
    "analysis.Define(\"nu_E\", \"ub_nu_lvec.energy()\")\n",
    "# analysis.Define(\"M_Wlep\", \"ub_leptonic_W_lvec.M()\")\n",
    "analysis.Define(\"M_Whad\", \"ub_hadronic_W_lvec.M()\")\n",
    "# analysis.add_filter(\"M_Wlep > 0.\", \"Wlep real\")"
   ]
  },
  {
   "cell_type": "code",
   "execution_count": 15,
   "metadata": {},
   "outputs": [],
   "source": [
    "# analysis.book_reports()"
   ]
  },
  {
   "cell_type": "code",
   "execution_count": 16,
   "metadata": {},
   "outputs": [],
   "source": [
    "sample_conf = list(alt_configs.keys())[0]\n",
    "sample_weight = f\"weight_{sample_conf}\"\n",
    "analysis.book_histogram_1D(sample_weight, sample_weight, (\"\", f\";{sample_weight}\", 50, 0.8, 1.2), categories=signal_category)"
   ]
  },
  {
   "cell_type": "code",
   "execution_count": 17,
   "metadata": {},
   "outputs": [],
   "source": [
    "analysis.book_snapshots(\"events\", output_path, output_meta, output_collections, no_rvec=no_rvec)"
   ]
  },
  {
   "cell_type": "code",
   "execution_count": 18,
   "metadata": {},
   "outputs": [
    {
     "name": "stdout",
     "output_type": "stream",
     "text": [
      "CPU times: user 3h 43min 49s, sys: 3min 6s, total: 3h 46min 56s\n",
      "Wall time: 38min 34s\n"
     ]
    }
   ],
   "source": [
    "%%time\n",
    "analysis.run()"
   ]
  },
  {
   "cell_type": "code",
   "execution_count": 19,
   "metadata": {},
   "outputs": [
    {
     "data": {
      "text/plain": [
       "(<cppyy.gbl.THStack object at 0x17ebb9e0>,\n",
       " <cppyy.gbl.TLegend object at 0x1ff2bb40>,\n",
       " <cppyy.gbl.TCanvas object at 0x1eba27c0>)"
      ]
     },
     "execution_count": 19,
     "metadata": {},
     "output_type": "execute_result"
    },
    {
     "data": {
      "text/html": [
       "\n",
       "\n",
       "<div id=\"root_plot_1753277804415\" style=\"width: 700px; height: 500px; position: relative\">\n",
       "</div>\n",
       "\n",
       "<script>\n",
       "\n",
       "function display_root_plot_1753277804415(Core) {\n",
       "   let obj = Core.parse({\"_typename\":\"TCanvasWebSnapshot\",\"fUniqueID\":0,\"fBits\":0,\"fObjectID\":\"\",\"fOption\":\"\",\"fKind\":3,\"fSnapshot\":{\"_typename\":\"TCanvas\",\"fUniqueID\":0,\"fBits\":3342344,\"fLineColor\":1,\"fLineStyle\":1,\"fLineWidth\":2,\"fFillColor\":10,\"fFillStyle\":1001,\"fLeftMargin\":0.15,\"fRightMargin\":0.16,\"fBottomMargin\":0.17,\"fTopMargin\":0.08,\"fXfile\":2,\"fYfile\":2,\"fAfile\":1,\"fXstat\":0.99,\"fYstat\":0.99,\"fAstat\":2,\"fFrameFillColor\":10,\"fFrameLineColor\":1,\"fFrameFillStyle\":1001,\"fFrameLineStyle\":1,\"fFrameLineWidth\":2,\"fFrameBorderSize\":1,\"fFrameBorderMode\":0,\"fX1\":0.713043482016676,\"fY1\":-156301.67792797,\"fX2\":1.29275361342331,\"fY2\":763119.947271536,\"fXtoAbsPixelk\":-856.08002447605,\"fXtoPixelk\":-856.08002447605,\"fXtoPixel\":1200.60002800226,\"fYtoAbsPixelk\":391.759999155998,\"fYtoPixelk\":391.759999155998,\"fYtoPixel\":-5.13366215306912e-4,\"fUtoAbsPixelk\":0,\"fUtoPixelk\":0,\"fUtoPixel\":696,\"fVtoAbsPixelk\":472,\"fVtoPixelk\":472,\"fVtoPixel\":-472,\"fAbsPixeltoXk\":0.713043482016676,\"fPixeltoXk\":0.713043482016676,\"fPixeltoX\":8.32916855469303e-4,\"fAbsPixeltoYk\":763119.947271536,\"fPixeltoYk\":-156301.67792797,\"fPixeltoY\":-1947.92717203285,\"fXlowNDC\":0,\"fYlowNDC\":0,\"fXUpNDC\":1,\"fYUpNDC\":1,\"fWNDC\":1,\"fHNDC\":1,\"fAbsXlowNDC\":0,\"fAbsYlowNDC\":0,\"fAbsWNDC\":1,\"fAbsHNDC\":1,\"fUxmin\":0.8,\"fUymin\":0,\"fUxmax\":1.2,\"fUymax\":689566.218899629,\"fTheta\":30,\"fPhi\":30,\"fAspectRatio\":0,\"fNumber\":0,\"fTickx\":1,\"fTicky\":1,\"fLogx\":0,\"fLogy\":0,\"fLogz\":0,\"fPadPaint\":0,\"fCrosshair\":0,\"fCrosshairPos\":0,\"fBorderSize\":2,\"fBorderMode\":0,\"fModified\":false,\"fGridx\":false,\"fGridy\":false,\"fAbsCoord\":false,\"fEditable\":true,\"fFixedAspectRatio\":false,\"fPrimitives\":{\"_typename\":\"TList\",\"name\":\"TList\",\"arr\":[],\"opt\":[]},\"fExecs\":null,\"fName\":\"c1\",\"fTitle\":\"c1\",\"fNumPaletteColor\":0,\"fNextPaletteColor\":0,\"fDISPLAY\":\"$DISPLAY\",\"fDoubleBuffer\":0,\"fRetained\":true,\"fXsizeUser\":0,\"fYsizeUser\":0,\"fXsizeReal\":20,\"fYsizeReal\":14.28571,\"fWindowTopX\":0,\"fWindowTopY\":0,\"fWindowWidth\":0,\"fWindowHeight\":0,\"fCw\":696,\"fCh\":472,\"fCatt\":{\"_typename\":\"TAttCanvas\",\"fXBetween\":2,\"fYBetween\":2,\"fTitleFromTop\":1.2,\"fXdate\":0.2,\"fYdate\":0.3,\"fAdate\":1},\"kMoveOpaque\":true,\"kResizeOpaque\":true,\"fHighLightColor\":2,\"fBatch\":true,\"kShowEventStatus\":false,\"kAutoExec\":true,\"kMenuBar\":true},\"fActive\":false,\"fReadOnly\":true,\"fWithoutPrimitives\":false,\"fHasExecs\":false,\"fPrimitives\":[{\"_typename\":\"TWebSnapshot\",\"fUniqueID\":0,\"fBits\":0,\"fObjectID\":\"\",\"fOption\":\"\",\"fKind\":4,\"fSnapshot\":{\"_typename\":\"TWebPainting\",\"fUniqueID\":0,\"fBits\":0,\"fClassName\":\"\",\"fObjectName\":\"\",\"fOper\":\"0:255,255,255;1:0,0,0;2:255,0,0;3:0,255,0;4:0,0,255;5:255,255,0;6:255,0,255;7:0,255,255;8:89,211,84;9:89,84,216;10:254,254,254;11:192,182,172;12:76,76,76;13:102,102,102;14:127,127,127;15:153,153,153;16:178,178,178;17:204,204,204;18:229,229,229;19:242,242,242;20:204,198,170;21:204,198,170;22:193,191,168;23:186,181,163;24:178,165,150;25:183,163,155;26:173,153,140;27:155,142,130;28:135,102,86;29:175,206,198;30:132,193,163;31:137,168,160;32:130,158,140;33:173,188,198;34:122,142,153;35:117,137,145;36:104,130,150;37:109,122,132;38:124,153,209;39:127,127,155;40:170,165,191;41:211,206,135;42:221,186,135;43:188,158,130;44:198,153,124;45:191,130,119;46:206,94,96;47:170,142,147;48:165,119,122;49:147,104,112;50:211,89,84;51:146,0,255;52:122,0,255;53:98,0,255;54:74,0,255;55:51,0,255;56:27,0,255;57:3,0,255;58:0,20,255;59:0,44,255;60:0,68,255;61:0,91,255;62:0,115,255;63:0,139,255;64:0,163,255;65:0,187,255;66:0,210,255;67:0,234,255;68:0,255,251;69:0,255,227;70:0,255,204;71:0,255,180;72:0,255,156;73:0,255,132;74:0,255,108;75:0,255,85;76:0,255,61;77:0,255,37;78:0,255,13;79:10,255,0;80:34,255,0;81:57,255,0;82:81,255,0;83:105,255,0;84:129,255,0;85:153,255,0;86:176,255,0;87:200,255,0;88:224,255,0;89:248,255,0;90:255,238,0;91:255,214,0;92:255,190,0;93:255,166,0;94:255,142,0;95:255,119,0;96:255,95,0;97:255,71,0;98:255,47,0;99:255,23,0;100:111,45,168;101:165,42,42;102:178,190,181;103:87,144,252;104:248,156,32;105:228,37,54;106:150,74,139;107:156,156,161;108:122,33,221;109:24,69,251;110:255,94,2;111:201,31,22;112:200,73,169;113:173,173,125;114:134,200,221;115:87,141,255;116:101,99,100;117:63,144,218;118:255,169,14;119:189,31,1;120:148,164,162;121:131,45,182;122:169,107,89;123:231,99,0;124:185,172,112;125:113,117,129;126:146,218,221;127:178,178,178;201:91,91,91;202:122,122,122;203:183,183,183;204:214,214,214;205:137,15,15;206:183,20,20;207:234,71,71;208:239,117,117;209:15,137,15;210:20,183,20;211:71,234,71;212:117,239,117;213:15,15,137;214:20,20,183;215:71,71,234;216:117,117,239;217:137,137,15;218:183,183,20;219:234,234,71;220:239,239,117;221:137,15,137;222:183,20,183;223:234,71,234;224:239,117,239;225:15,137,137;226:20,183,183;227:71,234,234;228:117,239,239;390:255,255,204;391:255,255,153;392:204,204,153;393:255,255,102;394:204,204,102;395:153,153,102;396:255,255,51;397:204,204,51;398:153,153,51;399:102,102,51;400:255,255,0;401:204,204,0;402:153,153,0;403:102,102,0;404:51,51,0;406:204,255,204;407:153,255,153;408:153,204,153;409:102,255,102;410:102,204,102;411:102,153,102;412:51,255,51;413:51,204,51;414:51,153,51;415:51,102,51;416:0,255,0;417:0,204,0;418:0,153,0;419:0,102,0;420:0,51,0;422:204,255,255;423:153,255,255;424:153,204,204;425:102,255,255;426:102,204,204;427:102,153,153;428:51,255,255;429:51,204,204;430:51,153,153;431:51,102,102;432:0,255,255;433:0,204,204;434:0,153,153;435:0,102,102;436:0,51,51;590:204,204,255;591:153,153,255;592:153,153,204;593:102,102,255;594:102,102,204;595:102,102,153;596:51,51,255;597:51,51,204;598:51,51,153;599:51,51,102;600:0,0,255;601:0,0,204;602:0,0,153;603:0,0,102;604:0,0,51;606:255,204,255;607:255,153,255;608:204,153,204;609:255,102,255;610:204,102,204;611:153,102,153;612:255,51,255;613:204,51,204;614:153,51,153;615:102,51,102;616:255,0,255;617:204,0,204;618:153,0,153;619:102,0,102;620:51,0,51;622:255,204,204;623:255,153,153;624:204,153,153;625:255,102,102;626:204,102,102;627:153,102,102;628:255,51,51;629:204,51,51;630:153,51,51;631:102,51,51;632:255,0,0;633:204,0,0;634:153,0,0;635:102,0,0;636:51,0,0;791:255,204,153;792:204,153,102;793:153,102,51;794:153,102,0;795:204,153,51;796:255,204,102;797:255,153,0;798:255,204,51;799:204,153,0;800:255,204,0;801:255,153,51;802:204,102,0;803:102,51,0;804:153,51,0;805:204,102,51;806:255,153,102;807:255,102,0;808:255,102,51;809:204,51,0;810:255,51,0;811:153,255,51;812:102,204,0;813:51,102,0;814:51,153,0;815:102,204,51;816:153,255,102;817:102,255,0;818:102,255,51;819:51,204,0;820:51,255,0;821:204,255,153;822:153,204,102;823:102,153,51;824:102,153,0;825:153,204,51;826:204,255,102;827:153,255,0;828:204,255,51;829:153,204,0;830:204,255,0;831:153,255,204;832:102,204,153;833:51,153,102;834:0,153,102;835:51,204,153;836:102,255,204;837:0,255,102;838:51,255,204;839:0,204,153;840:0,255,204;841:51,255,153;842:0,204,102;843:0,102,51;844:0,153,51;845:51,204,102;846:102,255,153;847:0,255,153;848:51,255,102;849:0,204,51;850:0,255,51;851:153,204,255;852:102,153,204;853:51,102,153;854:0,51,153;855:51,102,204;856:102,153,255;857:0,102,255;858:51,102,255;859:0,51,204;860:0,51,255;861:51,153,255;862:0,102,204;863:0,51,102;864:0,102,153;865:51,153,204;866:102,204,255;867:0,153,255;868:51,204,255;869:0,153,204;870:0,204,255;871:204,153,255;872:153,102,204;873:102,51,153;874:102,0,153;875:153,51,204;876:204,102,255;877:153,0,255;878:204,51,255;879:153,0,204;880:204,0,255;881:153,51,255;882:102,0,204;883:51,0,102;884:51,0,153;885:102,51,204;886:153,102,255;887:102,0,255;888:102,51,255;889:51,0,204;890:51,0,255;891:255,51,153;892:204,0,102;893:102,0,51;894:153,0,51;895:204,51,102;896:255,102,153;897:255,0,102;898:255,51,102;899:204,0,51;900:255,0,51;901:255,153,204;902:204,102,153;903:153,51,102;904:153,0,102;905:204,51,153;906:255,102,204;907:255,0,153;908:204,0,153;909:255,51,204;910:255,0,153;920:204,204,204;921:153,153,153;922:102,102,102;923:51,51,51;924:53,42,134;925:51,44,137;926:50,45,140;927:49,47,143;928:48,48,146;929:46,50,148;930:45,51,151;931:44,53,154;932:43,55,157;933:42,56,160;934:40,58,162;935:39,59,165;936:38,61,168;937:37,63,171;938:35,64,174;939:34,66,176;940:33,67,179;941:32,69,182;942:31,71,185;943:29,72,187;944:28,74,190;945:27,75,193;946:26,77,196;947:24,79,199;948:23,80,201;949:22,82,204;950:21,83,207;951:19,85,210;952:18,86,213;953:17,88,215;954:16,90,218;955:15,91,221;956:15,92,221;957:15,94,220;958:15,95,220;959:15,96,220;960:15,97,220;961:15,98,220;962:16,99,219;963:16,100,219;964:16,102,219;965:16,103,219;966:16,104,218;967:16,105,218;968:17,106,218;969:17,107,218;970:17,109,217;971:17,110,217;972:17,111,217;973:17,112,217;974:17,113,216;975:18,114,216;976:18,115,216;977:18,117,216;978:18,118,215;979:18,119,215;980:18,120,215;981:18,121,215;982:19,122,215;983:19,123,214;984:19,125,214;985:19,126,214;986:19,127,214;987:19,128,213;988:19,129,213;989:19,130,213;990:18,131,212;991:18,132,212;992:17,134,211;993:17,135,211;994:16,136,211;995:16,137,210;996:15,138,210;997:15,139,210;998:15,140,209;999:14,141,209;1000:14,142,208;1001:13,143,208;1002:13,145,208;1003:12,146,207;1004:12,147,207;1005:12,148,207;1006:11,149,206;1007:11,150,206;1008:10,151,205;1009:10,152,205;1010:9,153,205;1011:9,154,204;1012:8,155,204;1013:8,157,204;1014:8,158,203;1015:7,159,203;1016:7,160,202;1017:6,161,202;1018:6,162,202;1019:5,163,201;1020:7,164,200;1021:8,164,199;1022:9,165,198;1023:10,166,197;1024:12,166,195;1025:13,167,194;1026:14,167,193;1027:15,168,192;1028:17,169,191;1029:18,169,189;1030:19,170,188;1031:20,170,187;1032:22,171,186;1033:23,172,185;1034:24,172,184;1035:25,173,182;1036:27,173,181;1037:28,174,180;1038:29,175,179;1039:30,175,178;1040:32,176,176;1041:33,176,175;1042:34,177,174;1043:35,178,173;1044:37,178,172;1045:38,179,170;1046:39,180,169;1047:40,180,168;1048:42,181,167;1049:43,181,166;1050:44,182,165;1051:45,183,163;1052:48,183,162;1053:51,183,161;1054:54,183,159;1055:57,184,158;1056:59,184,156;1057:62,184,155;1058:65,184,154;1059:68,185,152;1060:71,185,151;1061:73,185,149;1062:76,185,148;1063:79,186,146;1064:82,186,145;1065:84,186,144;1066:87,186,142;1067:90,187,141;1068:93,187,139;1069:96,187,138;1070:98,187,137;1071:101,188,135;1072:104,188,134;1073:107,188,132;1074:110,188,131;1075:112,189,130;1076:115,189,128;1077:118,189,127;1078:121,189,125;1079:124,190,124;1080:126,190,123;1081:129,190,121;1082:132,190,120;1083:135,191,118;1084:137,190,117;1085:139,190,117;1086:142,190,116;1087:144,190,115;1088:146,190,114;1089:148,190,113;1090:151,190,112;1091:153,190,111;1092:155,189,110;1093:158,189,109;1094:160,189,108;1095:162,189,107;1096:165,189,106;1097:167,189,105;1098:169,189,104;1099:171,188,104;1100:174,188,103;1101:176,188,102;1102:178,188,101;1103:181,188,100;1104:183,188,99;1105:185,188,98;1106:188,188,97;1107:190,187,96;1108:192,187,95;1109:194,187,94;1110:197,187,93;1111:199,187,92;1112:201,187,92;1113:204,187,91;1114:206,186,90;1115:208,186,89;1116:210,187,88;1117:211,187,86;1118:212,188,85;1119:214,188,84;1120:215,188,83;1121:217,189,81;1122:218,189,80;1123:220,190,79;1124:221,190,78;1125:222,191,77;1126:224,191,75;1127:225,191,74;1128:227,192,73;1129:228,192,72;1130:229,193,70;1131:231,193,69;1132:232,194,68;1133:234,194,67;1134:235,194,66;1135:236,195,64;1136:238,195,63;1137:239,196,62;1138:241,196,61;1139:242,197,59;1140:244,197,58;1141:245,197,57;1142:246,198,56;1143:248,198,55;1144:249,199,53;1145:251,199,52;1146:252,200,51;1147:253,200,50;1148:253,202,49;1149:253,203,47;1150:253,205,46;1151:253,206,45;1152:253,208,44;1153:252,209,43;1154:252,211,42;1155:252,213,41;1156:252,214,39;1157:252,216,38;1158:252,217,37;1159:252,219,36;1160:251,220,35;1161:251,222,34;1162:251,224,33;1163:251,225,31;1164:251,227,30;1165:251,228,29;1166:250,230,28;1167:250,231,27;1168:250,233,26;1169:250,235,25;1170:250,236,23;1171:250,238,22;1172:250,239,21;1173:249,241,20;1174:249,242,19;1175:249,244,18;1176:249,246,17;1177:249,247,16;1178:249,249,14;1179:63,144,218;1180:255,169,14;1181:189,31,1;1182:131,45,182;1183:169,107,89;1184:231,99,0;1185:185,172,112;1186:113,117,129;1187:148,164,162;1188:146,218,221\",\"fBuf\":{\"$arr\":\"Float32\",\"len\":50,\"v\":[51,52,53,54,55,56,57,58,59,60,61,62,63,64,65,66,67,68,69,70,71,72,73,74,75,76,77,78,79,80,81,82,83,84,85,86,87,88,89,90,91,92,93,94,95,96,97,98,99,632]}}},{\"_typename\":\"TWebSnapshot\",\"fUniqueID\":0,\"fBits\":0,\"fObjectID\":\"\",\"fOption\":\"\",\"fKind\":5,\"fSnapshot\":{\"_typename\":\"TStyle\",\"fUniqueID\":0,\"fBits\":0,\"fName\":\"ildStyle\",\"fTitle\":\"ILD Style\",\"fLineColor\":1,\"fLineStyle\":1,\"fLineWidth\":2,\"fFillColor\":10,\"fFillStyle\":1001,\"fMarkerColor\":1,\"fMarkerStyle\":20,\"fMarkerSize\":0.7,\"fTextAngle\":0,\"fTextSize\":0.05,\"fTextAlign\":11,\"fTextColor\":1,\"fTextFont\":42,\"fXaxis\":{\"_typename\":\"TAttAxis\",\"fNdivisions\":506,\"fAxisColor\":1,\"fLabelColor\":1,\"fLabelFont\":42,\"fLabelOffset\":0.015,\"fLabelSize\":0.06,\"fTickLength\":0.03,\"fTitleOffset\":1,\"fTitleSize\":0.07,\"fTitleColor\":1,\"fTitleFont\":42},\"fYaxis\":{\"_typename\":\"TAttAxis\",\"fNdivisions\":506,\"fAxisColor\":1,\"fLabelColor\":1,\"fLabelFont\":42,\"fLabelOffset\":0.015,\"fLabelSize\":0.06,\"fTickLength\":0.02,\"fTitleOffset\":1.1,\"fTitleSize\":0.07,\"fTitleColor\":1,\"fTitleFont\":42},\"fZaxis\":{\"_typename\":\"TAttAxis\",\"fNdivisions\":510,\"fAxisColor\":1,\"fLabelColor\":1,\"fLabelFont\":42,\"fLabelOffset\":0.015,\"fLabelSize\":0.06,\"fTickLength\":0.03,\"fTitleOffset\":1.1,\"fTitleSize\":0.07,\"fTitleColor\":1,\"fTitleFont\":42},\"fBarWidth\":1,\"fBarOffset\":0,\"fColorModelPS\":0,\"fDrawBorder\":0,\"fOptLogx\":0,\"fOptLogy\":0,\"fOptLogz\":0,\"fOptDate\":0,\"fOptStat\":0,\"fOptTitle\":1,\"fOptFile\":0,\"fOptFit\":0,\"fShowEventStatus\":0,\"fShowEditor\":0,\"fShowToolBar\":0,\"fNumberContours\":20,\"fAttDate\":{\"_typename\":\"TAttText\",\"fTextAngle\":0,\"fTextSize\":0.025,\"fTextAlign\":11,\"fTextColor\":1,\"fTextFont\":42},\"fDateX\":0.01,\"fDateY\":0.01,\"fEndErrorSize\":2,\"fErrorX\":0.5,\"fFuncColor\":632,\"fFuncStyle\":1,\"fFuncWidth\":2,\"fGridColor\":0,\"fGridStyle\":3,\"fGridWidth\":1,\"fLegendBorderSize\":0,\"fLegendFillColor\":0,\"fLegendFillStyle\":1001,\"fLegendFont\":62,\"fLegendTextSize\":0,\"fHatchesLineWidth\":1,\"fHatchesSpacing\":1,\"fFrameFillColor\":10,\"fFrameLineColor\":1,\"fFrameFillStyle\":1001,\"fFrameLineStyle\":1,\"fFrameLineWidth\":2,\"fFrameBorderSize\":1,\"fFrameBorderMode\":0,\"fHistFillColor\":0,\"fHistLineColor\":1,\"fHistFillStyle\":1001,\"fHistLineStyle\":1,\"fHistLineWidth\":2,\"fHistMinimumZero\":false,\"fHistTopMargin\":0.05,\"fCanvasPreferGL\":false,\"fCanvasColor\":10,\"fCanvasBorderSize\":2,\"fCanvasBorderMode\":0,\"fCanvasDefH\":500,\"fCanvasDefW\":700,\"fCanvasDefX\":10,\"fCanvasDefY\":10,\"fPadColor\":10,\"fPadBorderSize\":2,\"fPadBorderMode\":0,\"fPadBottomMargin\":0.17,\"fPadTopMargin\":0.08,\"fPadLeftMargin\":0.15,\"fPadRightMargin\":0.16,\"fPadGridX\":false,\"fPadGridY\":false,\"fPadTickX\":1,\"fPadTickY\":1,\"fPaperSizeX\":20,\"fPaperSizeY\":26,\"fScreenFactor\":1,\"fStatColor\":10,\"fStatTextColor\":1,\"fStatBorderSize\":0,\"fStatFont\":42,\"fStatFontSize\":0.07,\"fStatStyle\":1001,\"fStatFormat\":\"6.4g\",\"fStatX\":0.98,\"fStatY\":0.995,\"fStatW\":0.2,\"fStatH\":0.16,\"fStripDecimals\":true,\"fTitleAlign\":13,\"fTitleColor\":0,\"fTitleTextColor\":1,\"fTitleBorderSize\":0,\"fTitleFont\":62,\"fTitleFontSize\":0,\"fTitleStyle\":1001,\"fTitleX\":0.01,\"fTitleY\":0.995,\"fTitleW\":0,\"fTitleH\":0,\"fLegoInnerR\":0.5,\"fLineStyles\":[\"\",\"  \",\" 12 12\",\" 4 8\",\" 12 16 4 16\",\" 20 12 4 12\",\" 20 12 4 12 4 12 4 12\",\" 20 20\",\" 20 12 4 12 4 12\",\" 80 20\",\" 80 40 4 40\",\"  \",\"  \",\"  \",\"  \",\"  \",\"  \",\"  \",\"  \",\"  \",\"  \",\"  \",\"  \",\"  \",\"  \",\"  \",\"  \",\"  \",\"  \",\"  \"],\"fHeaderPS\":\"\",\"fTitlePS\":\"\",\"fFitFormat\":\"5.4g\",\"fPaintTextFormat\":\"g\",\"fLineScalePS\":1,\"fJoinLinePS\":0,\"fCapLinePS\":0,\"fTimeOffset\":788918400,\"fImageScaling\":1,\"fCandleWhiskerRange\":1,\"fCandleBoxRange\":0.5,\"fCandleScaled\":false,\"fViolinScaled\":true,\"fCandleCircleLineWidth\":1,\"fCandleCrossLineWidth\":1,\"fXAxisExpXOffset\":0,\"fXAxisExpYOffset\":0,\"fYAxisExpXOffset\":0,\"fYAxisExpYOffset\":0,\"fAxisMaxDigits\":5,\"fOrthoCamera\":false}},{\"_typename\":\"TWebSnapshot\",\"fUniqueID\":0,\"fBits\":0,\"fObjectID\":\"\",\"fOption\":\"\",\"fKind\":1,\"fSnapshot\":{\"_typename\":\"TFrame\",\"fUniqueID\":0,\"fBits\":8,\"fLineColor\":1,\"fLineStyle\":1,\"fLineWidth\":2,\"fFillColor\":10,\"fFillStyle\":1001,\"fX1\":0.8,\"fY1\":0,\"fX2\":1.2,\"fY2\":689566.218899629,\"fBorderSize\":1,\"fBorderMode\":0}},{\"_typename\":\"TWebSnapshot\",\"fUniqueID\":0,\"fBits\":0,\"fObjectID\":\"\",\"fOption\":\"__ignore_drawing__\",\"fKind\":1,\"fSnapshot\":{\"_typename\":\"TObjArray\",\"name\":\"TObjArray\",\"arr\":[{\"_typename\":\"TH1D\",\"fUniqueID\":0,\"fBits\":520,\"fName\":\"\",\"fTitle\":\"\",\"fLineColor\":1,\"fLineStyle\":1,\"fLineWidth\":2,\"fFillColor\":1179,\"fFillStyle\":1001,\"fMarkerColor\":1,\"fMarkerStyle\":20,\"fMarkerSize\":0.7,\"fNcells\":52,\"fXaxis\":{\"_typename\":\"TAxis\",\"fUniqueID\":0,\"fBits\":2048,\"fName\":\"xaxis\",\"fTitle\":\"weight_g1z_pos_1em01\",\"fNdivisions\":506,\"fAxisColor\":1,\"fLabelColor\":1,\"fLabelFont\":42,\"fLabelOffset\":0.015,\"fLabelSize\":0.06,\"fTickLength\":0.03,\"fTitleOffset\":1,\"fTitleSize\":0.07,\"fTitleColor\":1,\"fTitleFont\":42,\"fNbins\":50,\"fXmin\":0.8,\"fXmax\":1.2,\"fXbins\":[],\"fFirst\":1,\"fLast\":50,\"fBits2\":0,\"fTimeDisplay\":false,\"fTimeFormat\":\"\",\"fLabels\":null,\"fModLabs\":null},\"fYaxis\":{\"_typename\":\"TAxis\",\"fUniqueID\":0,\"fBits\":0,\"fName\":\"yaxis\",\"fTitle\":\"\",\"fNdivisions\":506,\"fAxisColor\":1,\"fLabelColor\":1,\"fLabelFont\":42,\"fLabelOffset\":0.015,\"fLabelSize\":0.06,\"fTickLength\":0.02,\"fTitleOffset\":1.1,\"fTitleSize\":0.07,\"fTitleColor\":1,\"fTitleFont\":42,\"fNbins\":1,\"fXmin\":0,\"fXmax\":1,\"fXbins\":[],\"fFirst\":0,\"fLast\":0,\"fBits2\":0,\"fTimeDisplay\":false,\"fTimeFormat\":\"\",\"fLabels\":null,\"fModLabs\":null},\"fZaxis\":{\"_typename\":\"TAxis\",\"fUniqueID\":0,\"fBits\":0,\"fName\":\"zaxis\",\"fTitle\":\"\",\"fNdivisions\":510,\"fAxisColor\":1,\"fLabelColor\":1,\"fLabelFont\":42,\"fLabelOffset\":0.015,\"fLabelSize\":0.06,\"fTickLength\":0.03,\"fTitleOffset\":1.1,\"fTitleSize\":0.07,\"fTitleColor\":1,\"fTitleFont\":42,\"fNbins\":1,\"fXmin\":0,\"fXmax\":1,\"fXbins\":[],\"fFirst\":0,\"fLast\":0,\"fBits2\":0,\"fTimeDisplay\":false,\"fTimeFormat\":\"\",\"fLabels\":null,\"fModLabs\":null},\"fBarOffset\":0,\"fBarWidth\":1000,\"fEntries\":71669,\"fTsumw\":9178031.91870999,\"fTsumw2\":1383181103.98015,\"fTsumwx\":9184782.27919963,\"fTsumwx2\":9226840.88941228,\"fMaximum\":-1111,\"fMinimum\":-1111,\"fNormFactor\":0,\"fContour\":[],\"fSumw2\":{\"$arr\":\"Float64\",\"len\":52,\"v\":[58153758.9907013,4673243.91024428,6091915.61475417,5428756.65450637,6139503.51421852,6596982.97162,8152887.22529067,8108911.50491678,8772521.98755089,10032199.0439062,11244288.2007971,12435969.8258532,13762965.0299283,14770729.2511319,17175741.7196412,18342274.8278062,20998861.4896776,23357640.6258816,25989643.1738448,30498022.6449125,33017828.2800094,39360866.5657392,45538701.7705028,55451253.7821687,65113473.2870349,82075295.2202797,85850488.449062,88944485.6782897,96590273.6959762,98625983.909025,99198595.1748037,92836842.5661876,73246743.1446667,48381802.089948,30048106.1874816,21964230.3188594,15438967.8382256,11889523.0023348,8111959.28102436,6989176.13204011,6233776.26837461,4883664.39814683,3898000.91772679,3187705.58040095,2456099.66646762,2684557.19367692,2248275.43228634,1791247.49727116,1608346.01878783,1631349.80434397,1310425.61252381,20517025.4239402]},\"fOption\":\"\",\"fFunctions\":{\"_typename\":\"TList\",\"name\":\"TList\",\"arr\":[],\"opt\":[]},\"fBufferSize\":0,\"fBuffer\":[],\"fBinStatErrOpt\":0,\"fStatOverflows\":2,\"fArray\":{\"$arr\":\"Float64\",\"len\":52,\"v\":[387320.846862752,31194.0311246925,40521.3476353172,36197.4700395486,40993.9348956576,43988.009424674,54212.4858411973,54079.8834788961,58446.2591869196,66831.3636666227,74743.8808859855,82738.8403170898,91450.3426770093,98160.5511663846,114184.897625553,121816.069089722,139483.437955027,155162.691490619,172519.395029308,202218.738663765,219031.445735426,261153.317664625,301748.628519397,367334.776866787,431394.772616741,543474.276626889,568268.356111832,589044.115302086,639598.697848779,652915.423559661,656729.732285361,614849.67048886,485764.072366126,320945.112471897,199936.507515018,146209.787474993,102962.532525021,79383.9403108976,54366.7457366167,46846.927578621,41854.1131918285,32970.0643701212,26336.7815899602,21582.8148461062,16826.2940894839,18296.7700338328,15294.6249895209,12343.0485727594,11153.9183836039,11315.840317328,9155.17852582778,174261.603077509]}}]}},{\"_typename\":\"TWebSnapshot\",\"fUniqueID\":0,\"fBits\":0,\"fObjectID\":\"\",\"fOption\":\"hist\",\"fKind\":1,\"fSnapshot\":{\"_typename\":\"THStack\",\"fUniqueID\":0,\"fBits\":8,\"fName\":\"\",\"fTitle\":\";weight_g1z_pos_1em01;events\",\"fHists\":{\"_typename\":\"TList\",\"name\":\"TList\",\"arr\":[{\"_typename\":\"TH1D\",\"fUniqueID\":0,\"fBits\":520,\"fName\":\"\",\"fTitle\":\"\",\"fLineColor\":1,\"fLineStyle\":1,\"fLineWidth\":2,\"fFillColor\":1179,\"fFillStyle\":1001,\"fMarkerColor\":1,\"fMarkerStyle\":20,\"fMarkerSize\":0.7,\"fNcells\":52,\"fXaxis\":{\"_typename\":\"TAxis\",\"fUniqueID\":0,\"fBits\":0,\"fName\":\"xaxis\",\"fTitle\":\"weight_g1z_pos_1em01\",\"fNdivisions\":506,\"fAxisColor\":1,\"fLabelColor\":1,\"fLabelFont\":42,\"fLabelOffset\":0.015,\"fLabelSize\":0.06,\"fTickLength\":0.03,\"fTitleOffset\":1,\"fTitleSize\":0.07,\"fTitleColor\":1,\"fTitleFont\":42,\"fNbins\":50,\"fXmin\":0.8,\"fXmax\":1.2,\"fXbins\":[],\"fFirst\":0,\"fLast\":0,\"fBits2\":0,\"fTimeDisplay\":false,\"fTimeFormat\":\"\",\"fLabels\":null,\"fModLabs\":null},\"fYaxis\":{\"_typename\":\"TAxis\",\"fUniqueID\":0,\"fBits\":0,\"fName\":\"yaxis\",\"fTitle\":\"\",\"fNdivisions\":506,\"fAxisColor\":1,\"fLabelColor\":1,\"fLabelFont\":42,\"fLabelOffset\":0.015,\"fLabelSize\":0.06,\"fTickLength\":0.02,\"fTitleOffset\":1.1,\"fTitleSize\":0.07,\"fTitleColor\":1,\"fTitleFont\":42,\"fNbins\":1,\"fXmin\":0,\"fXmax\":1,\"fXbins\":[],\"fFirst\":0,\"fLast\":0,\"fBits2\":0,\"fTimeDisplay\":false,\"fTimeFormat\":\"\",\"fLabels\":null,\"fModLabs\":null},\"fZaxis\":{\"_typename\":\"TAxis\",\"fUniqueID\":0,\"fBits\":0,\"fName\":\"zaxis\",\"fTitle\":\"\",\"fNdivisions\":510,\"fAxisColor\":1,\"fLabelColor\":1,\"fLabelFont\":42,\"fLabelOffset\":0.015,\"fLabelSize\":0.06,\"fTickLength\":0.03,\"fTitleOffset\":1.1,\"fTitleSize\":0.07,\"fTitleColor\":1,\"fTitleFont\":42,\"fNbins\":1,\"fXmin\":0,\"fXmax\":1,\"fXbins\":[],\"fFirst\":0,\"fLast\":0,\"fBits2\":0,\"fTimeDisplay\":false,\"fTimeFormat\":\"\",\"fLabels\":null,\"fModLabs\":null},\"fBarOffset\":0,\"fBarWidth\":1000,\"fEntries\":71669,\"fTsumw\":9178031.91870999,\"fTsumw2\":1383181103.98015,\"fTsumwx\":9184782.27919963,\"fTsumwx2\":9226840.88941228,\"fMaximum\":-1111,\"fMinimum\":-1111,\"fNormFactor\":0,\"fContour\":[],\"fSumw2\":{\"$arr\":\"Float64\",\"len\":52,\"v\":[58153758.9907013,4673243.91024428,6091915.61475417,5428756.65450637,6139503.51421852,6596982.97162,8152887.22529067,8108911.50491678,8772521.98755089,10032199.0439062,11244288.2007971,12435969.8258532,13762965.0299283,14770729.2511319,17175741.7196412,18342274.8278062,20998861.4896776,23357640.6258816,25989643.1738448,30498022.6449125,33017828.2800094,39360866.5657392,45538701.7705028,55451253.7821687,65113473.2870349,82075295.2202797,85850488.449062,88944485.6782897,96590273.6959762,98625983.909025,99198595.1748037,92836842.5661876,73246743.1446667,48381802.089948,30048106.1874816,21964230.3188594,15438967.8382256,11889523.0023348,8111959.28102436,6989176.13204011,6233776.26837461,4883664.39814683,3898000.91772679,3187705.58040095,2456099.66646762,2684557.19367692,2248275.43228634,1791247.49727116,1608346.01878783,1631349.80434397,1310425.61252381,20517025.4239402]},\"fOption\":\"\",\"fFunctions\":{\"_typename\":\"TList\",\"name\":\"TList\",\"arr\":[],\"opt\":[]},\"fBufferSize\":0,\"fBuffer\":[],\"fBinStatErrOpt\":0,\"fStatOverflows\":2,\"fArray\":{\"$arr\":\"Float64\",\"len\":52,\"v\":[387320.846862752,31194.0311246925,40521.3476353172,36197.4700395486,40993.9348956576,43988.009424674,54212.4858411973,54079.8834788961,58446.2591869196,66831.3636666227,74743.8808859855,82738.8403170898,91450.3426770093,98160.5511663846,114184.897625553,121816.069089722,139483.437955027,155162.691490619,172519.395029308,202218.738663765,219031.445735426,261153.317664625,301748.628519397,367334.776866787,431394.772616741,543474.276626889,568268.356111832,589044.115302086,639598.697848779,652915.423559661,656729.732285361,614849.67048886,485764.072366126,320945.112471897,199936.507515018,146209.787474993,102962.532525021,79383.9403108976,54366.7457366167,46846.927578621,41854.1131918285,32970.0643701212,26336.7815899602,21582.8148461062,16826.2940894839,18296.7700338328,15294.6249895209,12343.0485727594,11153.9183836039,11315.840317328,9155.17852582778,174261.603077509]}}],\"opt\":[\"\"]},\"fHistogram\":{\"_typename\":\"TH1F\",\"fUniqueID\":0,\"fBits\":512,\"fName\":\"\",\"fTitle\":\"\",\"fLineColor\":1,\"fLineStyle\":1,\"fLineWidth\":0,\"fFillColor\":0,\"fFillStyle\":1001,\"fMarkerColor\":1,\"fMarkerStyle\":20,\"fMarkerSize\":0.7,\"fNcells\":52,\"fXaxis\":{\"_typename\":\"TAxis\",\"fUniqueID\":0,\"fBits\":0,\"fName\":\"xaxis\",\"fTitle\":\"weight_g1z_pos_1em01\",\"fNdivisions\":506,\"fAxisColor\":1,\"fLabelColor\":1,\"fLabelFont\":42,\"fLabelOffset\":0.015,\"fLabelSize\":0.06,\"fTickLength\":0.03,\"fTitleOffset\":1,\"fTitleSize\":0.07,\"fTitleColor\":1,\"fTitleFont\":42,\"fNbins\":50,\"fXmin\":0.8,\"fXmax\":1.2,\"fXbins\":[],\"fFirst\":0,\"fLast\":0,\"fBits2\":0,\"fTimeDisplay\":false,\"fTimeFormat\":\"\",\"fLabels\":null,\"fModLabs\":null},\"fYaxis\":{\"_typename\":\"TAxis\",\"fUniqueID\":0,\"fBits\":0,\"fName\":\"yaxis\",\"fTitle\":\"events\",\"fNdivisions\":506,\"fAxisColor\":1,\"fLabelColor\":1,\"fLabelFont\":42,\"fLabelOffset\":0.015,\"fLabelSize\":0.06,\"fTickLength\":0.02,\"fTitleOffset\":1.1,\"fTitleSize\":0.07,\"fTitleColor\":1,\"fTitleFont\":42,\"fNbins\":1,\"fXmin\":0,\"fXmax\":1,\"fXbins\":[],\"fFirst\":0,\"fLast\":0,\"fBits2\":0,\"fTimeDisplay\":false,\"fTimeFormat\":\"\",\"fLabels\":null,\"fModLabs\":null},\"fZaxis\":{\"_typename\":\"TAxis\",\"fUniqueID\":0,\"fBits\":0,\"fName\":\"zaxis\",\"fTitle\":\"\",\"fNdivisions\":510,\"fAxisColor\":1,\"fLabelColor\":1,\"fLabelFont\":42,\"fLabelOffset\":0.015,\"fLabelSize\":0.06,\"fTickLength\":0.03,\"fTitleOffset\":1.1,\"fTitleSize\":0.07,\"fTitleColor\":1,\"fTitleFont\":42,\"fNbins\":1,\"fXmin\":0,\"fXmax\":1,\"fXbins\":[],\"fFirst\":0,\"fLast\":0,\"fBits2\":0,\"fTimeDisplay\":false,\"fTimeFormat\":\"\",\"fLabels\":null,\"fModLabs\":null},\"fBarOffset\":0,\"fBarWidth\":1000,\"fEntries\":0,\"fTsumw\":0,\"fTsumw2\":0,\"fTsumwx\":0,\"fTsumwx2\":0,\"fMaximum\":689566.218899629,\"fMinimum\":0,\"fNormFactor\":0,\"fContour\":[],\"fSumw2\":[],\"fOption\":\"\",\"fFunctions\":{\"_typename\":\"TList\",\"name\":\"TList\",\"arr\":[],\"opt\":[]},\"fBufferSize\":0,\"fBuffer\":[],\"fBinStatErrOpt\":0,\"fStatOverflows\":2,\"fArray\":{\"$arr\":\"Float32\",\"len\":52}},\"fMaximum\":-1111,\"fMinimum\":-1111}},{\"_typename\":\"TWebSnapshot\",\"fUniqueID\":0,\"fBits\":0,\"fObjectID\":\"\",\"fOption\":\"\",\"fKind\":1,\"fSnapshot\":{\"_typename\":\"TLegend\",\"fUniqueID\":0,\"fBits\":8,\"fLineColor\":1,\"fLineStyle\":1,\"fLineWidth\":2,\"fFillColor\":0,\"fFillStyle\":1001,\"fX1\":1.06086956086066,\"fY1\":487293.459711684,\"fX2\":1.29275361342331,\"fY2\":763119.947271536,\"fX1NDC\":0.6,\"fY1NDC\":0.7,\"fX2NDC\":1,\"fY2NDC\":1,\"fBorderSize\":0,\"fInit\":1,\"fShadowColor\":1,\"fCornerRadius\":0,\"fOption\":\"brNDC\",\"fName\":\"TPave\",\"fTextAngle\":0,\"fTextSize\":0,\"fTextAlign\":12,\"fTextColor\":1,\"fTextFont\":62,\"fPrimitives\":{\"_typename\":\"TList\",\"name\":\"TList\",\"arr\":[{\"_typename\":\"TLegendEntry\",\"fUniqueID\":0,\"fBits\":0,\"fTextAngle\":0,\"fTextSize\":0,\"fTextAlign\":0,\"fTextColor\":0,\"fTextFont\":62,\"fLineColor\":1,\"fLineStyle\":1,\"fLineWidth\":2,\"fFillColor\":1179,\"fFillStyle\":1001,\"fMarkerColor\":1,\"fMarkerStyle\":21,\"fMarkerSize\":1,\"fObject\":{\"$ref\":24},\"fLabel\":\"4f_sw_sl_signal\",\"fOption\":\"f\"}],\"opt\":[null]},\"fEntrySeparation\":0.1,\"fMargin\":0.25,\"fNColumns\":2,\"fColumnSeparation\":0}}],\"fScripts\":\"\",\"fHighlightConnect\":false,\"fFixedSize\":false});\n",
       "   Core.settings.HandleKeys = false;\n",
       "   Core.draw(\"root_plot_1753277804415\", obj, \"\");\n",
       "}\n",
       "\n",
       "function script_load_root_plot_1753277804415(src, on_error) {\n",
       "    let script = document.createElement('script');\n",
       "    script.src = src;\n",
       "    script.onload = function() { display_root_plot_1753277804415(JSROOT); };\n",
       "    script.onerror = function() { script.remove(); on_error(); };\n",
       "    document.head.appendChild(script);\n",
       "}\n",
       "\n",
       "if (typeof requirejs !== 'undefined') {\n",
       "\n",
       "    // We are in jupyter notebooks, use require.js which should be configured already\n",
       "    requirejs.config({\n",
       "       paths: { 'JSRootCore' : [ 'build/jsroot', 'https://root.cern/js/7.9.0/build/jsroot', 'https://jsroot.gsi.de/7.9.0/build/jsroot' ] }\n",
       "    })(['JSRootCore'],  function(Core) {\n",
       "       display_root_plot_1753277804415(Core);\n",
       "    });\n",
       "\n",
       "} else if (typeof JSROOT !== 'undefined') {\n",
       "\n",
       "   // JSROOT already loaded, just use it\n",
       "   display_root_plot_1753277804415(JSROOT);\n",
       "\n",
       "} else {\n",
       "\n",
       "    // We are in jupyterlab without require.js, directly loading jsroot\n",
       "    // Jupyterlab might be installed in a different base_url so we need to know it.\n",
       "    try {\n",
       "        var base_url = JSON.parse(document.getElementById('jupyter-config-data').innerHTML).baseUrl;\n",
       "    } catch(_) {\n",
       "        var base_url = '/';\n",
       "    }\n",
       "\n",
       "    // Try loading a local version of requirejs and fallback to cdn if not possible.\n",
       "    script_load_root_plot_1753277804415(base_url + 'static/build/jsroot.js', function(){\n",
       "        console.error('Fail to load JSROOT locally, please check your jupyter_notebook_config.py file');\n",
       "        script_load_root_plot_1753277804415('https://root.cern/js/7.9.0/build/jsroot.js', function(){\n",
       "            document.getElementById(\"root_plot_1753277804415\").innerHTML = \"Failed to load JSROOT\";\n",
       "        });\n",
       "    });\n",
       "}\n",
       "\n",
       "</script>\n"
      ],
      "text/plain": [
       "<IPython.core.display.HTML object>"
      ]
     },
     "metadata": {},
     "output_type": "display_data"
    }
   ],
   "source": [
    "analysis.draw_histogram(sample_weight, categories=signal_category)"
   ]
  },
  {
   "cell_type": "code",
   "execution_count": null,
   "metadata": {},
   "outputs": [],
   "source": []
  }
 ],
 "metadata": {
  "kernelspec": {
   "display_name": "Python 3",
   "language": "python",
   "name": "python3"
  },
  "language_info": {
   "codemirror_mode": {
    "name": "ipython",
    "version": 3
   },
   "file_extension": ".py",
   "mimetype": "text/x-python",
   "name": "python",
   "nbconvert_exporter": "python",
   "pygments_lexer": "ipython3",
   "version": "3.13.2"
  }
 },
 "nbformat": 4,
 "nbformat_minor": 2
}
