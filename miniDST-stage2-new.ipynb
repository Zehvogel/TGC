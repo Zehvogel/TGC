{
 "cells": [
  {
   "cell_type": "code",
   "execution_count": 1,
   "metadata": {},
   "outputs": [
    {
     "name": "stdout",
     "output_type": "stream",
     "text": [
      "OBJ: TStyle\tildStyle\tILD Style : 0 at: 0x8309ec0\n"
     ]
    }
   ],
   "source": [
    "import json\n",
    "import ROOT\n",
    "from analysis_framework import Dataset\n",
    "from WWAnalysis import WWAnalysis\n",
    "import os"
   ]
  },
  {
   "cell_type": "code",
   "execution_count": 2,
   "metadata": {},
   "outputs": [],
   "source": [
    "# ROOT.EnableImplicitMT(12)"
   ]
  },
  {
   "cell_type": "code",
   "execution_count": 3,
   "metadata": {},
   "outputs": [],
   "source": [
    "# CLD\n",
    "# x_angle = 0.030 # rad\n",
    "# ILD\n",
    "x_angle = 0.014 # rad"
   ]
  },
  {
   "cell_type": "code",
   "execution_count": 4,
   "metadata": {},
   "outputs": [],
   "source": [
    "# dataset = Dataset.from_json(\"data/datasets/snapshots/full.json\")\n",
    "# dataset = Dataset.from_json(\"checked-test.json\")\n",
    "# dataset = Dataset.from_json(\"checked-full.json\")\n",
    "# dataset = Dataset.from_json(\"checked-full-local.json\")\n",
    "dataset = Dataset.from_json(\"checked-test.json\")"
   ]
  },
  {
   "cell_type": "code",
   "execution_count": 5,
   "metadata": {},
   "outputs": [],
   "source": [
    "analysis = WWAnalysis(dataset)\n",
    "analysis.init_parameters([\n",
    "    # (\"WWCategorisation.RecoCatBasic\", \"int\", \"8\"),\n",
    "    # (\"WWCategorisation.RecoCatAdvanced\", \"int\", \"8\"),\n",
    "    # (\"WWCategorisation.missE\", \"float\", \"-42\"),\n",
    "    # (\"WWCategorisation.misspT\", \"float\", \"-42\"),\n",
    "    # (\"WWCategorisation.mInv\", \"float\", \"-42\"),\n",
    "    (\"Energy\", \"float\", \"-42\"),\n",
    "    (\"sqme\", \"float\", \"-42.0\"),\n",
    "])\n",
    "analysis.init_categories()"
   ]
  },
  {
   "cell_type": "code",
   "execution_count": 6,
   "metadata": {},
   "outputs": [
    {
     "ename": "FileNotFoundError",
     "evalue": "[Errno 2] No such file or directory: 'whizard-config'",
     "output_type": "error",
     "traceback": [
      "\u001b[0;31m---------------------------------------------------------------------------\u001b[0m",
      "\u001b[0;31mFileNotFoundError\u001b[0m                         Traceback (most recent call last)",
      "\u001b[0;32m/tmp/lreichen/ipykernel_1545164/1901865073.py\u001b[0m in \u001b[0;36m<module>\u001b[0;34m\u001b[0m\n\u001b[1;32m     16\u001b[0m     },\n\u001b[1;32m     17\u001b[0m }\n\u001b[0;32m---> 18\u001b[0;31m \u001b[0manalysis\u001b[0m\u001b[0;34m.\u001b[0m\u001b[0minitialise_omega_wrappers\u001b[0m\u001b[0;34m(\u001b[0m\u001b[0malt_configs\u001b[0m\u001b[0;34m)\u001b[0m\u001b[0;34m\u001b[0m\u001b[0;34m\u001b[0m\u001b[0m\n\u001b[0m",
      "\u001b[0;32m/eos/home-l/lreichen/TGC/WWAnalysis.py\u001b[0m in \u001b[0;36minitialise_omega_wrappers\u001b[0;34m(self, configurations)\u001b[0m\n\u001b[1;32m    261\u001b[0m     \u001b[0;32mdef\u001b[0m \u001b[0minitialise_omega_wrappers\u001b[0m\u001b[0;34m(\u001b[0m\u001b[0mself\u001b[0m\u001b[0;34m,\u001b[0m \u001b[0mconfigurations\u001b[0m\u001b[0;34m:\u001b[0m \u001b[0mdict\u001b[0m\u001b[0;34m[\u001b[0m\u001b[0mstr\u001b[0m\u001b[0;34m,\u001b[0m\u001b[0mdict\u001b[0m\u001b[0;34m[\u001b[0m\u001b[0mstr\u001b[0m\u001b[0;34m,\u001b[0m \u001b[0mfloat\u001b[0m\u001b[0;34m]\u001b[0m\u001b[0;34m]\u001b[0m\u001b[0;34m)\u001b[0m\u001b[0;34m:\u001b[0m\u001b[0;34m\u001b[0m\u001b[0;34m\u001b[0m\u001b[0m\n\u001b[1;32m    262\u001b[0m \u001b[0;34m\u001b[0m\u001b[0m\n\u001b[0;32m--> 263\u001b[0;31m         \u001b[0mwhizard_prefix\u001b[0m \u001b[0;34m=\u001b[0m \u001b[0msubprocess\u001b[0m\u001b[0;34m.\u001b[0m\u001b[0mrun\u001b[0m\u001b[0;34m(\u001b[0m\u001b[0;34m[\u001b[0m\u001b[0;34m'whizard-config'\u001b[0m\u001b[0;34m,\u001b[0m \u001b[0;34m'--prefix'\u001b[0m\u001b[0;34m]\u001b[0m\u001b[0;34m,\u001b[0m \u001b[0mcapture_output\u001b[0m\u001b[0;34m=\u001b[0m\u001b[0;32mTrue\u001b[0m\u001b[0;34m,\u001b[0m \u001b[0mencoding\u001b[0m\u001b[0;34m=\u001b[0m\u001b[0;34m'ascii'\u001b[0m\u001b[0;34m)\u001b[0m\u001b[0;34m.\u001b[0m\u001b[0mstdout\u001b[0m\u001b[0;34m.\u001b[0m\u001b[0mstrip\u001b[0m\u001b[0;34m(\u001b[0m\u001b[0;34m)\u001b[0m\u001b[0;34m\u001b[0m\u001b[0;34m\u001b[0m\u001b[0m\n\u001b[0m\u001b[1;32m    264\u001b[0m         \u001b[0mwhizard_libs\u001b[0m \u001b[0;34m=\u001b[0m \u001b[0;34mf\"{whizard_prefix}/lib/\"\u001b[0m\u001b[0;34m\u001b[0m\u001b[0;34m\u001b[0m\u001b[0m\n\u001b[1;32m    265\u001b[0m         \u001b[0;31m# print(whizard_libs)\u001b[0m\u001b[0;34m\u001b[0m\u001b[0;34m\u001b[0m\u001b[0m\n",
      "\u001b[0;32m/cvmfs/sft.cern.ch/lcg/releases/Python/3.11.9-2924c/x86_64-el9-gcc13-opt/lib/python3.11/subprocess.py\u001b[0m in \u001b[0;36mrun\u001b[0;34m(input, capture_output, timeout, check, *popenargs, **kwargs)\u001b[0m\n\u001b[1;32m    546\u001b[0m         \u001b[0mkwargs\u001b[0m\u001b[0;34m[\u001b[0m\u001b[0;34m'stderr'\u001b[0m\u001b[0;34m]\u001b[0m \u001b[0;34m=\u001b[0m \u001b[0mPIPE\u001b[0m\u001b[0;34m\u001b[0m\u001b[0;34m\u001b[0m\u001b[0m\n\u001b[1;32m    547\u001b[0m \u001b[0;34m\u001b[0m\u001b[0m\n\u001b[0;32m--> 548\u001b[0;31m     \u001b[0;32mwith\u001b[0m \u001b[0mPopen\u001b[0m\u001b[0;34m(\u001b[0m\u001b[0;34m*\u001b[0m\u001b[0mpopenargs\u001b[0m\u001b[0;34m,\u001b[0m \u001b[0;34m**\u001b[0m\u001b[0mkwargs\u001b[0m\u001b[0;34m)\u001b[0m \u001b[0;32mas\u001b[0m \u001b[0mprocess\u001b[0m\u001b[0;34m:\u001b[0m\u001b[0;34m\u001b[0m\u001b[0;34m\u001b[0m\u001b[0m\n\u001b[0m\u001b[1;32m    549\u001b[0m         \u001b[0;32mtry\u001b[0m\u001b[0;34m:\u001b[0m\u001b[0;34m\u001b[0m\u001b[0;34m\u001b[0m\u001b[0m\n\u001b[1;32m    550\u001b[0m             \u001b[0mstdout\u001b[0m\u001b[0;34m,\u001b[0m \u001b[0mstderr\u001b[0m \u001b[0;34m=\u001b[0m \u001b[0mprocess\u001b[0m\u001b[0;34m.\u001b[0m\u001b[0mcommunicate\u001b[0m\u001b[0;34m(\u001b[0m\u001b[0minput\u001b[0m\u001b[0;34m,\u001b[0m \u001b[0mtimeout\u001b[0m\u001b[0;34m=\u001b[0m\u001b[0mtimeout\u001b[0m\u001b[0;34m)\u001b[0m\u001b[0;34m\u001b[0m\u001b[0;34m\u001b[0m\u001b[0m\n",
      "\u001b[0;32m/cvmfs/sft.cern.ch/lcg/releases/Python/3.11.9-2924c/x86_64-el9-gcc13-opt/lib/python3.11/subprocess.py\u001b[0m in \u001b[0;36m__init__\u001b[0;34m(self, args, bufsize, executable, stdin, stdout, stderr, preexec_fn, close_fds, shell, cwd, env, universal_newlines, startupinfo, creationflags, restore_signals, start_new_session, pass_fds, user, group, extra_groups, encoding, errors, text, umask, pipesize, process_group)\u001b[0m\n\u001b[1;32m   1024\u001b[0m                             encoding=encoding, errors=errors)\n\u001b[1;32m   1025\u001b[0m \u001b[0;34m\u001b[0m\u001b[0m\n\u001b[0;32m-> 1026\u001b[0;31m             self._execute_child(args, executable, preexec_fn, close_fds,\n\u001b[0m\u001b[1;32m   1027\u001b[0m                                 \u001b[0mpass_fds\u001b[0m\u001b[0;34m,\u001b[0m \u001b[0mcwd\u001b[0m\u001b[0;34m,\u001b[0m \u001b[0menv\u001b[0m\u001b[0;34m,\u001b[0m\u001b[0;34m\u001b[0m\u001b[0;34m\u001b[0m\u001b[0m\n\u001b[1;32m   1028\u001b[0m                                 \u001b[0mstartupinfo\u001b[0m\u001b[0;34m,\u001b[0m \u001b[0mcreationflags\u001b[0m\u001b[0;34m,\u001b[0m \u001b[0mshell\u001b[0m\u001b[0;34m,\u001b[0m\u001b[0;34m\u001b[0m\u001b[0;34m\u001b[0m\u001b[0m\n",
      "\u001b[0;32m/cvmfs/sft.cern.ch/lcg/releases/Python/3.11.9-2924c/x86_64-el9-gcc13-opt/lib/python3.11/subprocess.py\u001b[0m in \u001b[0;36m_execute_child\u001b[0;34m(self, args, executable, preexec_fn, close_fds, pass_fds, cwd, env, startupinfo, creationflags, shell, p2cread, p2cwrite, c2pread, c2pwrite, errread, errwrite, restore_signals, gid, gids, uid, umask, start_new_session, process_group)\u001b[0m\n\u001b[1;32m   1953\u001b[0m                         \u001b[0merr_msg\u001b[0m \u001b[0;34m=\u001b[0m \u001b[0mos\u001b[0m\u001b[0;34m.\u001b[0m\u001b[0mstrerror\u001b[0m\u001b[0;34m(\u001b[0m\u001b[0merrno_num\u001b[0m\u001b[0;34m)\u001b[0m\u001b[0;34m\u001b[0m\u001b[0;34m\u001b[0m\u001b[0m\n\u001b[1;32m   1954\u001b[0m                     \u001b[0;32mif\u001b[0m \u001b[0merr_filename\u001b[0m \u001b[0;32mis\u001b[0m \u001b[0;32mnot\u001b[0m \u001b[0;32mNone\u001b[0m\u001b[0;34m:\u001b[0m\u001b[0;34m\u001b[0m\u001b[0;34m\u001b[0m\u001b[0m\n\u001b[0;32m-> 1955\u001b[0;31m                         \u001b[0;32mraise\u001b[0m \u001b[0mchild_exception_type\u001b[0m\u001b[0;34m(\u001b[0m\u001b[0merrno_num\u001b[0m\u001b[0;34m,\u001b[0m \u001b[0merr_msg\u001b[0m\u001b[0;34m,\u001b[0m \u001b[0merr_filename\u001b[0m\u001b[0;34m)\u001b[0m\u001b[0;34m\u001b[0m\u001b[0;34m\u001b[0m\u001b[0m\n\u001b[0m\u001b[1;32m   1956\u001b[0m                     \u001b[0;32melse\u001b[0m\u001b[0;34m:\u001b[0m\u001b[0;34m\u001b[0m\u001b[0;34m\u001b[0m\u001b[0m\n\u001b[1;32m   1957\u001b[0m                         \u001b[0;32mraise\u001b[0m \u001b[0mchild_exception_type\u001b[0m\u001b[0;34m(\u001b[0m\u001b[0merrno_num\u001b[0m\u001b[0;34m,\u001b[0m \u001b[0merr_msg\u001b[0m\u001b[0;34m)\u001b[0m\u001b[0;34m\u001b[0m\u001b[0;34m\u001b[0m\u001b[0m\n",
      "\u001b[0;31mFileNotFoundError\u001b[0m: [Errno 2] No such file or directory: 'whizard-config'"
     ]
    }
   ],
   "source": [
    "alt_configs = {\n",
    "    \"alt1\": {\n",
    "        \"g1z\": 1.001,\n",
    "        \"ka\": 1.000,\n",
    "        \"la\": 0.000,\n",
    "    },\n",
    "    \"alt2\": {\n",
    "        \"g1z\": 1.000,\n",
    "        \"ka\": 1.001,\n",
    "        \"la\": 0.000,\n",
    "    },\n",
    "    \"alt3\": {\n",
    "        \"g1z\": 1.000,\n",
    "        \"ka\": 1.000,\n",
    "        \"la\": 0.001,\n",
    "    },\n",
    "}\n",
    "analysis.initialise_omega_wrappers(alt_configs)"
   ]
  },
  {
   "cell_type": "code",
   "execution_count": null,
   "metadata": {},
   "outputs": [],
   "source": [
    "mc_indices = {\n",
    "    \"beam_e_nominal\": 0,\n",
    "    \"beam_p_nominal\": 1,\n",
    "    \"beam_e_BES\": 2,\n",
    "    \"beam_p_BES\": 3,\n",
    "    \"beam_e_ISR\": 4,\n",
    "    \"beam_p_ISR\": 5,\n",
    "    \"up_type_q\": 10,\n",
    "    \"down_type_q\": 11,\n",
    "    \"charged_lep\": 12,\n",
    "    \"neutrino\": 13,\n",
    "}\n",
    "analysis.set_mc_indices(mc_indices)"
   ]
  },
  {
   "cell_type": "code",
   "execution_count": null,
   "metadata": {},
   "outputs": [],
   "source": [
    "# signal cut goes here:\n",
    "# In this case, we want to require the charged lepton in the final state to be inside of the detector acceptance\n",
    "# just take the first gen status 1 particle with a fitting pdg value and cut on theta\n",
    "lep_pdg = 11\n",
    "# CLD 150 mrad\n",
    "# ILD ~84 mrad (IDR: 4.8 deg)\n",
    "# acceptance_theta = 0.084\n",
    "# signal_cut = f\"\"\"\n",
    "# std::invoke([](auto& genStat, auto& pdg, auto& px, auto& py, auto& pz, auto& m) -> bool {{\n",
    "# auto lepton_mask = genStat == 1 && abs(pdg) == {lep_pdg};\n",
    "# // abuse ArgMax to get the first set position\n",
    "# auto lepton_idx = ArgMax(lepton_mask);\n",
    "# auto lepton_lvec = ROOT::Math::PxPyPzMVector(px[lepton_idx], py[lepton_idx],\n",
    "#                                              pz[lepton_idx], m[lepton_idx]);\n",
    "# double lepton_theta = lepton_lvec.Theta();\n",
    "# return abs(cos(lepton_theta)) < cos({acceptance_theta});\n",
    "# }}, MCParticlesSkimmed.generatorStatus, MCParticlesSkimmed.PDG, MCParticlesSkimmed.momentum.x, MCParticlesSkimmed.momentum.y, MCParticlesSkimmed.momentum.z, MCParticlesSkimmed.mass)\n",
    "# \"\"\""
   ]
  },
  {
   "cell_type": "code",
   "execution_count": null,
   "metadata": {},
   "outputs": [
    {
     "name": "stdout",
     "output_type": "stream",
     "text": [
      "True\n"
     ]
    }
   ],
   "source": [
    "# analysis.set_categories({\n",
    "#     # TODO: actually implement the cut, but I might notice when refactoring the cut-flow...\n",
    "#     # \"4f_sw_sl_signal\": {\"pattern\": \"4f_sw_sl\", \"cut\": \"1 == 1\"},\n",
    "#     # TODO: in principle I would not need to define them like this again if I would use the information from the pre-selection but did not manage that on first try :(\n",
    "#     \"4f_sw_sl_signal\": {\"pattern\": \"4f_sw_sl\", \"cut\": signal_cut},\n",
    "#     \"4f_sl_bkg\": {\"pattern\": r\"4f\\w+sl\", \"cut\": None }, # inverse signal cut will be applied automatically\n",
    "#     \"4f_not_sl\": {\"pattern\": r\"4f\\w+_(?:h|l)\", \"cut\": None },\n",
    "#     # separate out aa_4f? super low lumi anyway\n",
    "#     \"aa2f\": {\"pattern\": \"aa_2f\", \"cut\": None},\n",
    "#     # 2f but not aa_2f\n",
    "#     \"2f\": {\"pattern\": \"(?<!aa_)2f\", \"cut\": None},\n",
    "#     \"3f\": {\"pattern\": \"ea_3f|ae_3f\", \"cut\": None},\n",
    "#     \"5f\": {\"pattern\": \"ea_5f|ae_5f\", \"cut\": None},\n",
    "#     \"6f\": {\"pattern\": \"6f\", \"cut\": None},\n",
    "#     # need to filter out anything ending in _h and 2f_z_eehiq\n",
    "#     \"higgs\": {\"pattern\": \"[^_e]h\", \"cut\": None},\n",
    "# })\n",
    "# check if we missed any processes\n",
    "print(analysis.is_complete_categorisation())\n",
    "analysis.set_signal_categories([\"4f_sw_sl_signal\"])"
   ]
  },
  {
   "cell_type": "code",
   "execution_count": null,
   "metadata": {},
   "outputs": [
    {
     "name": "stdout",
     "output_type": "stream",
     "text": [
      "{\n",
      "  \"4f_sw_sl_signal\": [\n",
      "    \"4f_sw_sl_eLpR_signal\",\n",
      "    \"4f_sw_sl_eRpL_signal\"\n",
      "  ],\n",
      "  \"4f_sl_bkg\": [\n",
      "    \"4f_zz_sl_eLpR\",\n",
      "    \"4f_sze_sl_eRpL\",\n",
      "    \"4f_sze_sl_eLpR\",\n",
      "    \"4f_sznu_sl_eLpR\",\n",
      "    \"4f_sw_sl_eLpR_bkg\"\n",
      "  ],\n",
      "  \"4f_not_sl\": [\n",
      "    \"4f_sw_l_eLpR\",\n",
      "    \"4f_zz_h_eLpR\",\n",
      "    \"4f_zz_l_eLpR\",\n",
      "    \"4f_sznu_l_eLpR\"\n",
      "  ],\n",
      "  \"2f\": [\n",
      "    \"2f_z_h_eLpR\"\n",
      "  ],\n",
      "  \"3f\": [\n",
      "    \"ae_3f_z_l_eBpL\"\n",
      "  ],\n",
      "  \"6f\": [\n",
      "    \"6f_llxyyx_eLpR\",\n",
      "    \"6f_vvyyyy_eRpL\",\n",
      "    \"6f_llyyyy_eRpL\"\n",
      "  ],\n",
      "  \"higgs\": [\n",
      "    \"e1e1h_eLpR\",\n",
      "    \"n1n1h_eLpR\",\n",
      "    \"qqh_eLpR\",\n",
      "    \"e2e2h_eLpR\",\n",
      "    \"qqh_eRpL\",\n",
      "    \"n1n1h_eRpL\",\n",
      "    \"e1e1h_eRpR\",\n",
      "    \"n23n23h_eRpL\",\n",
      "    \"e1e1h_eLpL\"\n",
      "  ]\n",
      "}\n"
     ]
    }
   ],
   "source": [
    "# FIXME: get rid of all the double signal_signal etc. :(\n",
    "print(json.dumps(analysis._categories, indent=2))"
   ]
  },
  {
   "cell_type": "code",
   "execution_count": null,
   "metadata": {},
   "outputs": [],
   "source": [
    "# needed for the .size() calls... alternative would probably be to .Alias the @size columns\n",
    "ROOT.gInterpreter.Declare(\"#include <podio/ObjectID.h>\")\n",
    "ROOT.gInterpreter.Declare(\"#include <edm4hep/ReconstructedParticleData.h>\")\n",
    "make_lvec = lambda coll_name: f\"ROOT::VecOps::Construct<ROOT::Math::PxPyPzEVector>({coll_name}.momentum.x, {coll_name}.momentum.y, {coll_name}.momentum.z, {coll_name}.energy)\"\n",
    "analysis.Define(\"R2jet_lvecs\", make_lvec(\"Refined2Jets\"))"
   ]
  },
  {
   "cell_type": "code",
   "execution_count": null,
   "metadata": {},
   "outputs": [],
   "source": [
    "signal_category = [\"4f_sw_sl_signal\"]\n",
    "# analysis.define_truth_objects(signal_category)\n",
    "analysis.book_weights()\n",
    "# now already happens in pre-selection\n",
    "# analysis.define_reco_objects(x_angle)\n",
    "# analysis.remove_x_angle(x_angle)\n",
    "# analysis.define_hagiwara_angles()"
   ]
  },
  {
   "cell_type": "code",
   "execution_count": null,
   "metadata": {},
   "outputs": [],
   "source": [
    "# filter on missing energy > 0\n",
    "analysis.Define(\"nu_E\", \"ub_nu_lvec.energy()\")\n",
    "# analysis.Define(\"M_Wlep\", \"ub_leptonic_W_lvec.M()\")\n",
    "analysis.Define(\"M_Whad\", \"ub_hadronic_W_lvec.M()\")\n",
    "# analysis.add_filter(\"M_Wlep > 0.\", \"Wlep real\")"
   ]
  },
  {
   "cell_type": "code",
   "execution_count": null,
   "metadata": {},
   "outputs": [],
   "source": [
    "# analysis.book_reports()"
   ]
  },
  {
   "cell_type": "code",
   "execution_count": null,
   "metadata": {},
   "outputs": [],
   "source": [
    "analysis.book_histogram_1D(\"weight_alt1\", \"weight_alt1\", (\"\", \";weight_alt1\", 50, 0.8, 1.2), categories=signal_category)"
   ]
  },
  {
   "cell_type": "code",
   "execution_count": null,
   "metadata": {},
   "outputs": [
    {
     "name": "stdout",
     "output_type": "stream",
     "text": [
      "CPU times: user 7min 22s, sys: 2.31 s, total: 7min 25s\n",
      "Wall time: 53.9 s\n",
      "OBJ: TStyle\tildStyle\tILD Style : 0 at: 0x17fa0f30\n"
     ]
    }
   ],
   "source": [
    "%%time\n",
    "analysis.run()"
   ]
  },
  {
   "cell_type": "code",
   "execution_count": null,
   "metadata": {},
   "outputs": [
    {
     "ename": "KeyError",
     "evalue": "'4f_sw_sl_eLpR'",
     "output_type": "error",
     "traceback": [
      "\u001b[0;31m---------------------------------------------------------------------------\u001b[0m",
      "\u001b[0;31mKeyError\u001b[0m                                  Traceback (most recent call last)",
      "Cell \u001b[0;32mIn[17], line 1\u001b[0m\n\u001b[0;32m----> 1\u001b[0m \u001b[43manalysis\u001b[49m\u001b[38;5;241;43m.\u001b[39;49m\u001b[43mdraw_histogram\u001b[49m\u001b[43m(\u001b[49m\u001b[38;5;124;43m\"\u001b[39;49m\u001b[38;5;124;43mweight_alt1\u001b[39;49m\u001b[38;5;124;43m\"\u001b[39;49m\u001b[43m,\u001b[49m\u001b[43m \u001b[49m\u001b[43mcategories\u001b[49m\u001b[38;5;241;43m=\u001b[39;49m\u001b[43msignal_category\u001b[49m\u001b[43m)\u001b[49m\n",
      "File \u001b[0;32m/eos/home-l/lreichen/TGC/analysis_framework/Analysis.py:202\u001b[0m, in \u001b[0;36mAnalysis.draw_histogram\u001b[0;34m(self, name, int_lumi, e_pol, p_pol, draw_opt, categories, logY, plot_dir, x_arrowl, x_arrowr)\u001b[0m\n\u001b[1;32m    200\u001b[0m weight_key \u001b[38;5;241m=\u001b[39m k\u001b[38;5;241m.\u001b[39mremovesuffix(\u001b[38;5;124m\"\u001b[39m\u001b[38;5;124m_signal\u001b[39m\u001b[38;5;124m\"\u001b[39m)\u001b[38;5;241m.\u001b[39mremovesuffix(\u001b[38;5;124m\"\u001b[39m\u001b[38;5;124m_bkg\u001b[39m\u001b[38;5;124m\"\u001b[39m)\n\u001b[1;32m    201\u001b[0m \u001b[38;5;66;03m# FIXME, is now a method of the Dataset\u001b[39;00m\n\u001b[0;32m--> 202\u001b[0m weight \u001b[38;5;241m=\u001b[39m \u001b[38;5;28;43mself\u001b[39;49m\u001b[38;5;241;43m.\u001b[39;49m\u001b[43m_dataset\u001b[49m\u001b[38;5;241;43m.\u001b[39;49m\u001b[43mget_weight\u001b[49m\u001b[43m(\u001b[49m\u001b[43mweight_key\u001b[49m\u001b[43m,\u001b[49m\u001b[43m \u001b[49m\u001b[43mint_lumi\u001b[49m\u001b[43m,\u001b[49m\u001b[43m \u001b[49m\u001b[43me_pol\u001b[49m\u001b[43m,\u001b[49m\u001b[43m \u001b[49m\u001b[43mp_pol\u001b[49m\u001b[43m)\u001b[49m\n\u001b[1;32m    203\u001b[0m h\u001b[38;5;241m.\u001b[39mScale(weight)\n\u001b[1;32m    204\u001b[0m scaled_cat_histograms\u001b[38;5;241m.\u001b[39mappend(h)\n",
      "File \u001b[0;32m/eos/home-l/lreichen/TGC/analysis_framework/Dataset.py:80\u001b[0m, in \u001b[0;36mDataset.get_weight\u001b[0;34m(self, process_name, int_lumi, e_pol, p_pol)\u001b[0m\n\u001b[1;32m     79\u001b[0m \u001b[38;5;28;01mdef\u001b[39;00m \u001b[38;5;21mget_weight\u001b[39m(\u001b[38;5;28mself\u001b[39m, process_name: \u001b[38;5;28mstr\u001b[39m, int_lumi: \u001b[38;5;28mfloat\u001b[39m, e_pol: \u001b[38;5;28mfloat\u001b[39m \u001b[38;5;241m=\u001b[39m \u001b[38;5;241m0.\u001b[39m, p_pol: \u001b[38;5;28mfloat\u001b[39m \u001b[38;5;241m=\u001b[39m \u001b[38;5;241m0.\u001b[39m) \u001b[38;5;241m-\u001b[39m\u001b[38;5;241m>\u001b[39m \u001b[38;5;28mfloat\u001b[39m:\n\u001b[0;32m---> 80\u001b[0m     meta \u001b[38;5;241m=\u001b[39m \u001b[38;5;28;43mself\u001b[39;49m\u001b[38;5;241;43m.\u001b[39;49m\u001b[43m_dataset\u001b[49m\u001b[43m[\u001b[49m\u001b[43mprocess_name\u001b[49m\u001b[43m]\u001b[49m\u001b[38;5;241m.\u001b[39mmetadata\n\u001b[1;32m     81\u001b[0m     process_e_pol \u001b[38;5;241m=\u001b[39m meta\u001b[38;5;241m.\u001b[39mget(\u001b[38;5;124m\"\u001b[39m\u001b[38;5;124me_pol\u001b[39m\u001b[38;5;124m\"\u001b[39m, \u001b[38;5;241m0.\u001b[39m)\n\u001b[1;32m     82\u001b[0m     process_p_pol \u001b[38;5;241m=\u001b[39m meta\u001b[38;5;241m.\u001b[39mget(\u001b[38;5;124m\"\u001b[39m\u001b[38;5;124mp_pol\u001b[39m\u001b[38;5;124m\"\u001b[39m, \u001b[38;5;241m0.\u001b[39m)\n",
      "\u001b[0;31mKeyError\u001b[0m: '4f_sw_sl_eLpR'"
     ]
    }
   ],
   "source": [
    "analysis.draw_histogram(\"weight_alt1\", categories=signal_category)"
   ]
  },
  {
   "cell_type": "code",
   "execution_count": null,
   "metadata": {},
   "outputs": [],
   "source": []
  }
 ],
 "metadata": {
  "kernelspec": {
   "display_name": "Python 3",
   "language": "python",
   "name": "python3"
  },
  "language_info": {
   "codemirror_mode": {
    "name": "ipython",
    "version": 3
   },
   "file_extension": ".py",
   "mimetype": "text/x-python",
   "name": "python",
   "nbconvert_exporter": "python",
   "pygments_lexer": "ipython3",
   "version": "3.11.9"
  }
 },
 "nbformat": 4,
 "nbformat_minor": 2
}
